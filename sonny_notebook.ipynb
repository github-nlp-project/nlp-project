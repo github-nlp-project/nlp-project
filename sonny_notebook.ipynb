{
 "cells": [
  {
   "cell_type": "code",
   "execution_count": 1,
   "metadata": {},
   "outputs": [],
   "source": [
    "import pandas as pd\n",
    "import numpy as np\n",
    "import sonny_acquire\n",
    "import prepare\n",
    "import acquire"
   ]
  },
  {
   "cell_type": "code",
   "execution_count": 2,
   "metadata": {},
   "outputs": [],
   "source": [
    "df = pd.read_csv('all_repos_dict.csv')\n",
    "df['category'] = 'unknown'\n",
    "df.loc[:100, 'category'] = 'solar_energy'\n",
    "df.loc[100:200, 'category'] = 'petroleum'\n",
    "df.loc[200:, 'category'] = 'natural_gas'\n",
    "df = df[['language','category','repo','readme_contents']]"
   ]
  },
  {
   "cell_type": "code",
   "execution_count": 3,
   "metadata": {},
   "outputs": [],
   "source": [
    "df = prepare.prep_repo_data(df)"
   ]
  },
  {
   "cell_type": "code",
   "execution_count": 4,
   "metadata": {},
   "outputs": [
    {
     "data": {
      "text/html": [
       "<div>\n",
       "<style scoped>\n",
       "    .dataframe tbody tr th:only-of-type {\n",
       "        vertical-align: middle;\n",
       "    }\n",
       "\n",
       "    .dataframe tbody tr th {\n",
       "        vertical-align: top;\n",
       "    }\n",
       "\n",
       "    .dataframe thead th {\n",
       "        text-align: right;\n",
       "    }\n",
       "</style>\n",
       "<table border=\"1\" class=\"dataframe\">\n",
       "  <thead>\n",
       "    <tr style=\"text-align: right;\">\n",
       "      <th></th>\n",
       "      <th>language</th>\n",
       "      <th>category</th>\n",
       "      <th>repo</th>\n",
       "      <th>readme_contents</th>\n",
       "      <th>clean_tokes</th>\n",
       "      <th>clean_stemmed</th>\n",
       "      <th>clean_lemmatized</th>\n",
       "    </tr>\n",
       "  </thead>\n",
       "  <tbody>\n",
       "    <tr>\n",
       "      <td>0</td>\n",
       "      <td>Python</td>\n",
       "      <td>solar_energy</td>\n",
       "      <td>ColasGael/Machine-Learning-for-Solar-Energy-Pr...</td>\n",
       "      <td># Machine-Learning-for-Solar-Energy-Prediction...</td>\n",
       "      <td>[machinelearningforsolarenergyprediction, by, ...</td>\n",
       "      <td>machinelearningforsolarenergypredict adel kuzm...</td>\n",
       "      <td>machinelearningforsolarenergyprediction adele ...</td>\n",
       "    </tr>\n",
       "    <tr>\n",
       "      <td>1</td>\n",
       "      <td>Python</td>\n",
       "      <td>solar_energy</td>\n",
       "      <td>meltaxa/solariot</td>\n",
       "      <td># Solariot\\n\\nLeverage your IoT enabled Solar ...</td>\n",
       "      <td>[solariot, leverage, your, iot, enabled, solar...</td>\n",
       "      <td>solariot leverag iot enabl solar pv invert str...</td>\n",
       "      <td>solariot leverage iot enabled solar pv inverte...</td>\n",
       "    </tr>\n",
       "    <tr>\n",
       "      <td>2</td>\n",
       "      <td>Python</td>\n",
       "      <td>solar_energy</td>\n",
       "      <td>renewables-ninja/gsee</td>\n",
       "      <td>[![Master branch build status](https://img.shi...</td>\n",
       "      <td>[master, branch, build, statushttpsimgshieldsi...</td>\n",
       "      <td>master branch build statushttpsimgshieldsioazu...</td>\n",
       "      <td>master branch build statushttpsimgshieldsioazu...</td>\n",
       "    </tr>\n",
       "    <tr>\n",
       "      <td>3</td>\n",
       "      <td>C++</td>\n",
       "      <td>solar_energy</td>\n",
       "      <td>3KUdelta/Solar_WiFi_Weather_Station</td>\n",
       "      <td># Zambretti Forecaster on Solar WiFi Weather S...</td>\n",
       "      <td>[zambretti, forecaster, on, solar, wifi, weath...</td>\n",
       "      <td>zambretti forecast solar wifi weather station ...</td>\n",
       "      <td>zambretti forecaster solar wifi weather statio...</td>\n",
       "    </tr>\n",
       "    <tr>\n",
       "      <td>4</td>\n",
       "      <td>R</td>\n",
       "      <td>solar_energy</td>\n",
       "      <td>ropensci/nasapower</td>\n",
       "      <td>\\n[![R build status](https://github.com/ropens...</td>\n",
       "      <td>[r, build, statushttpsgithubcomropenscinasapow...</td>\n",
       "      <td>r build statushttpsgithubcomropenscinasapowerw...</td>\n",
       "      <td>r build statushttpsgithubcomropenscinasapowerw...</td>\n",
       "    </tr>\n",
       "    <tr>\n",
       "      <td>...</td>\n",
       "      <td>...</td>\n",
       "      <td>...</td>\n",
       "      <td>...</td>\n",
       "      <td>...</td>\n",
       "      <td>...</td>\n",
       "      <td>...</td>\n",
       "      <td>...</td>\n",
       "    </tr>\n",
       "    <tr>\n",
       "      <td>294</td>\n",
       "      <td>Python</td>\n",
       "      <td>natural_gas</td>\n",
       "      <td>fernandessfae/Evolucao-da-producao-de-gas-natu...</td>\n",
       "      <td># Projeto DataScience - Evolução da produção d...</td>\n",
       "      <td>[projeto, datascience, evoluo, da, produo, de,...</td>\n",
       "      <td>projeto datasci evoluo da produo de gs natur p...</td>\n",
       "      <td>projeto datascience evoluo da produo de g natu...</td>\n",
       "    </tr>\n",
       "    <tr>\n",
       "      <td>296</td>\n",
       "      <td>NaN</td>\n",
       "      <td>natural_gas</td>\n",
       "      <td>chrord/Data_driven_Distributed_Operation_of_El...</td>\n",
       "      <td># Data-driven Distributed Operation of Electri...</td>\n",
       "      <td>[datadriven, distributed, operation, of, elect...</td>\n",
       "      <td>datadriven distribut oper electr natur ga syst...</td>\n",
       "      <td>datadriven distributed operation electricity n...</td>\n",
       "    </tr>\n",
       "    <tr>\n",
       "      <td>297</td>\n",
       "      <td>MATLAB</td>\n",
       "      <td>natural_gas</td>\n",
       "      <td>chaiitanyasangani88/OperationalFlowRateVariation</td>\n",
       "      <td># OperationalFlowCaseStudy\\nA detailed study a...</td>\n",
       "      <td>[operationalflowcasestudy, a, detailed, study,...</td>\n",
       "      <td>operationalflowcasestudi detail studi oper flo...</td>\n",
       "      <td>operationalflowcasestudy detailed study operat...</td>\n",
       "    </tr>\n",
       "    <tr>\n",
       "      <td>298</td>\n",
       "      <td>R</td>\n",
       "      <td>natural_gas</td>\n",
       "      <td>jaburney/naturalgastransition</td>\n",
       "      <td>## Coal-to-Natural Gas Transition Impacts Anal...</td>\n",
       "      <td>[coaltonatural, gas, transition, impacts, anal...</td>\n",
       "      <td>coaltonatur ga transit impact analysi thi repo...</td>\n",
       "      <td>coaltonatural gas transition impact analysis r...</td>\n",
       "    </tr>\n",
       "    <tr>\n",
       "      <td>299</td>\n",
       "      <td>JavaScript</td>\n",
       "      <td>natural_gas</td>\n",
       "      <td>leytzher/oil-price</td>\n",
       "      <td># oil-price\\nGet latest oil (WTI and Brent) an...</td>\n",
       "      <td>[oilprice, get, latest, oil, wti, and, brent, ...</td>\n",
       "      <td>oilpric get latest oil wti brent natur ga price</td>\n",
       "      <td>oilprice get latest oil wti brent natural gas ...</td>\n",
       "    </tr>\n",
       "  </tbody>\n",
       "</table>\n",
       "<p>241 rows × 7 columns</p>\n",
       "</div>"
      ],
      "text/plain": [
       "       language      category  \\\n",
       "0        Python  solar_energy   \n",
       "1        Python  solar_energy   \n",
       "2        Python  solar_energy   \n",
       "3           C++  solar_energy   \n",
       "4             R  solar_energy   \n",
       "..          ...           ...   \n",
       "294      Python   natural_gas   \n",
       "296         NaN   natural_gas   \n",
       "297      MATLAB   natural_gas   \n",
       "298           R   natural_gas   \n",
       "299  JavaScript   natural_gas   \n",
       "\n",
       "                                                  repo  \\\n",
       "0    ColasGael/Machine-Learning-for-Solar-Energy-Pr...   \n",
       "1                                     meltaxa/solariot   \n",
       "2                                renewables-ninja/gsee   \n",
       "3                  3KUdelta/Solar_WiFi_Weather_Station   \n",
       "4                                   ropensci/nasapower   \n",
       "..                                                 ...   \n",
       "294  fernandessfae/Evolucao-da-producao-de-gas-natu...   \n",
       "296  chrord/Data_driven_Distributed_Operation_of_El...   \n",
       "297   chaiitanyasangani88/OperationalFlowRateVariation   \n",
       "298                      jaburney/naturalgastransition   \n",
       "299                                 leytzher/oil-price   \n",
       "\n",
       "                                       readme_contents  \\\n",
       "0    # Machine-Learning-for-Solar-Energy-Prediction...   \n",
       "1    # Solariot\\n\\nLeverage your IoT enabled Solar ...   \n",
       "2    [![Master branch build status](https://img.shi...   \n",
       "3    # Zambretti Forecaster on Solar WiFi Weather S...   \n",
       "4    \\n[![R build status](https://github.com/ropens...   \n",
       "..                                                 ...   \n",
       "294  # Projeto DataScience - Evolução da produção d...   \n",
       "296  # Data-driven Distributed Operation of Electri...   \n",
       "297  # OperationalFlowCaseStudy\\nA detailed study a...   \n",
       "298  ## Coal-to-Natural Gas Transition Impacts Anal...   \n",
       "299  # oil-price\\nGet latest oil (WTI and Brent) an...   \n",
       "\n",
       "                                           clean_tokes  \\\n",
       "0    [machinelearningforsolarenergyprediction, by, ...   \n",
       "1    [solariot, leverage, your, iot, enabled, solar...   \n",
       "2    [master, branch, build, statushttpsimgshieldsi...   \n",
       "3    [zambretti, forecaster, on, solar, wifi, weath...   \n",
       "4    [r, build, statushttpsgithubcomropenscinasapow...   \n",
       "..                                                 ...   \n",
       "294  [projeto, datascience, evoluo, da, produo, de,...   \n",
       "296  [datadriven, distributed, operation, of, elect...   \n",
       "297  [operationalflowcasestudy, a, detailed, study,...   \n",
       "298  [coaltonatural, gas, transition, impacts, anal...   \n",
       "299  [oilprice, get, latest, oil, wti, and, brent, ...   \n",
       "\n",
       "                                         clean_stemmed  \\\n",
       "0    machinelearningforsolarenergypredict adel kuzm...   \n",
       "1    solariot leverag iot enabl solar pv invert str...   \n",
       "2    master branch build statushttpsimgshieldsioazu...   \n",
       "3    zambretti forecast solar wifi weather station ...   \n",
       "4    r build statushttpsgithubcomropenscinasapowerw...   \n",
       "..                                                 ...   \n",
       "294  projeto datasci evoluo da produo de gs natur p...   \n",
       "296  datadriven distribut oper electr natur ga syst...   \n",
       "297  operationalflowcasestudi detail studi oper flo...   \n",
       "298  coaltonatur ga transit impact analysi thi repo...   \n",
       "299    oilpric get latest oil wti brent natur ga price   \n",
       "\n",
       "                                      clean_lemmatized  \n",
       "0    machinelearningforsolarenergyprediction adele ...  \n",
       "1    solariot leverage iot enabled solar pv inverte...  \n",
       "2    master branch build statushttpsimgshieldsioazu...  \n",
       "3    zambretti forecaster solar wifi weather statio...  \n",
       "4    r build statushttpsgithubcomropenscinasapowerw...  \n",
       "..                                                 ...  \n",
       "294  projeto datascience evoluo da produo de g natu...  \n",
       "296  datadriven distributed operation electricity n...  \n",
       "297  operationalflowcasestudy detailed study operat...  \n",
       "298  coaltonatural gas transition impact analysis r...  \n",
       "299  oilprice get latest oil wti brent natural gas ...  \n",
       "\n",
       "[241 rows x 7 columns]"
      ]
     },
     "execution_count": 4,
     "metadata": {},
     "output_type": "execute_result"
    }
   ],
   "source": [
    "df"
   ]
  },
  {
   "cell_type": "code",
   "execution_count": 5,
   "metadata": {},
   "outputs": [],
   "source": [
    "df.dropna(inplace=True)\n",
    "df.drop(df.index[15], inplace=True)"
   ]
  },
  {
   "cell_type": "code",
   "execution_count": 6,
   "metadata": {},
   "outputs": [
    {
     "data": {
      "text/html": [
       "<div>\n",
       "<style scoped>\n",
       "    .dataframe tbody tr th:only-of-type {\n",
       "        vertical-align: middle;\n",
       "    }\n",
       "\n",
       "    .dataframe tbody tr th {\n",
       "        vertical-align: top;\n",
       "    }\n",
       "\n",
       "    .dataframe thead th {\n",
       "        text-align: right;\n",
       "    }\n",
       "</style>\n",
       "<table border=\"1\" class=\"dataframe\">\n",
       "  <thead>\n",
       "    <tr style=\"text-align: right;\">\n",
       "      <th></th>\n",
       "      <th>language</th>\n",
       "      <th>category</th>\n",
       "      <th>repo</th>\n",
       "      <th>readme_contents</th>\n",
       "      <th>clean_tokes</th>\n",
       "      <th>clean_stemmed</th>\n",
       "      <th>clean_lemmatized</th>\n",
       "    </tr>\n",
       "  </thead>\n",
       "  <tbody>\n",
       "    <tr>\n",
       "      <td>0</td>\n",
       "      <td>Python</td>\n",
       "      <td>solar_energy</td>\n",
       "      <td>ColasGael/Machine-Learning-for-Solar-Energy-Pr...</td>\n",
       "      <td># Machine-Learning-for-Solar-Energy-Prediction...</td>\n",
       "      <td>[machinelearningforsolarenergyprediction, by, ...</td>\n",
       "      <td>machinelearningforsolarenergypredict adel kuzm...</td>\n",
       "      <td>machinelearningforsolarenergyprediction adele ...</td>\n",
       "    </tr>\n",
       "    <tr>\n",
       "      <td>1</td>\n",
       "      <td>Python</td>\n",
       "      <td>solar_energy</td>\n",
       "      <td>meltaxa/solariot</td>\n",
       "      <td># Solariot\\n\\nLeverage your IoT enabled Solar ...</td>\n",
       "      <td>[solariot, leverage, your, iot, enabled, solar...</td>\n",
       "      <td>solariot leverag iot enabl solar pv invert str...</td>\n",
       "      <td>solariot leverage iot enabled solar pv inverte...</td>\n",
       "    </tr>\n",
       "    <tr>\n",
       "      <td>2</td>\n",
       "      <td>Python</td>\n",
       "      <td>solar_energy</td>\n",
       "      <td>renewables-ninja/gsee</td>\n",
       "      <td>[![Master branch build status](https://img.shi...</td>\n",
       "      <td>[master, branch, build, statushttpsimgshieldsi...</td>\n",
       "      <td>master branch build statushttpsimgshieldsioazu...</td>\n",
       "      <td>master branch build statushttpsimgshieldsioazu...</td>\n",
       "    </tr>\n",
       "    <tr>\n",
       "      <td>3</td>\n",
       "      <td>C++</td>\n",
       "      <td>solar_energy</td>\n",
       "      <td>3KUdelta/Solar_WiFi_Weather_Station</td>\n",
       "      <td># Zambretti Forecaster on Solar WiFi Weather S...</td>\n",
       "      <td>[zambretti, forecaster, on, solar, wifi, weath...</td>\n",
       "      <td>zambretti forecast solar wifi weather station ...</td>\n",
       "      <td>zambretti forecaster solar wifi weather statio...</td>\n",
       "    </tr>\n",
       "    <tr>\n",
       "      <td>4</td>\n",
       "      <td>R</td>\n",
       "      <td>solar_energy</td>\n",
       "      <td>ropensci/nasapower</td>\n",
       "      <td>\\n[![R build status](https://github.com/ropens...</td>\n",
       "      <td>[r, build, statushttpsgithubcomropenscinasapow...</td>\n",
       "      <td>r build statushttpsgithubcomropenscinasapowerw...</td>\n",
       "      <td>r build statushttpsgithubcomropenscinasapowerw...</td>\n",
       "    </tr>\n",
       "    <tr>\n",
       "      <td>...</td>\n",
       "      <td>...</td>\n",
       "      <td>...</td>\n",
       "      <td>...</td>\n",
       "      <td>...</td>\n",
       "      <td>...</td>\n",
       "      <td>...</td>\n",
       "      <td>...</td>\n",
       "    </tr>\n",
       "    <tr>\n",
       "      <td>293</td>\n",
       "      <td>C++</td>\n",
       "      <td>natural_gas</td>\n",
       "      <td>reyhancaba/Natural-Gas-Detector-Circuit-Using-...</td>\n",
       "      <td># Natural-Gas-Detector-Circuit-Using-An-Arduin...</td>\n",
       "      <td>[naturalgasdetectorcircuitusinganarduinouno, b...</td>\n",
       "      <td>naturalgasdetectorcircuitusinganarduinouno bu ...</td>\n",
       "      <td>naturalgasdetectorcircuitusinganarduinouno bu ...</td>\n",
       "    </tr>\n",
       "    <tr>\n",
       "      <td>294</td>\n",
       "      <td>Python</td>\n",
       "      <td>natural_gas</td>\n",
       "      <td>fernandessfae/Evolucao-da-producao-de-gas-natu...</td>\n",
       "      <td># Projeto DataScience - Evolução da produção d...</td>\n",
       "      <td>[projeto, datascience, evoluo, da, produo, de,...</td>\n",
       "      <td>projeto datasci evoluo da produo de gs natur p...</td>\n",
       "      <td>projeto datascience evoluo da produo de g natu...</td>\n",
       "    </tr>\n",
       "    <tr>\n",
       "      <td>297</td>\n",
       "      <td>MATLAB</td>\n",
       "      <td>natural_gas</td>\n",
       "      <td>chaiitanyasangani88/OperationalFlowRateVariation</td>\n",
       "      <td># OperationalFlowCaseStudy\\nA detailed study a...</td>\n",
       "      <td>[operationalflowcasestudy, a, detailed, study,...</td>\n",
       "      <td>operationalflowcasestudi detail studi oper flo...</td>\n",
       "      <td>operationalflowcasestudy detailed study operat...</td>\n",
       "    </tr>\n",
       "    <tr>\n",
       "      <td>298</td>\n",
       "      <td>R</td>\n",
       "      <td>natural_gas</td>\n",
       "      <td>jaburney/naturalgastransition</td>\n",
       "      <td>## Coal-to-Natural Gas Transition Impacts Anal...</td>\n",
       "      <td>[coaltonatural, gas, transition, impacts, anal...</td>\n",
       "      <td>coaltonatur ga transit impact analysi thi repo...</td>\n",
       "      <td>coaltonatural gas transition impact analysis r...</td>\n",
       "    </tr>\n",
       "    <tr>\n",
       "      <td>299</td>\n",
       "      <td>JavaScript</td>\n",
       "      <td>natural_gas</td>\n",
       "      <td>leytzher/oil-price</td>\n",
       "      <td># oil-price\\nGet latest oil (WTI and Brent) an...</td>\n",
       "      <td>[oilprice, get, latest, oil, wti, and, brent, ...</td>\n",
       "      <td>oilpric get latest oil wti brent natur ga price</td>\n",
       "      <td>oilprice get latest oil wti brent natural gas ...</td>\n",
       "    </tr>\n",
       "  </tbody>\n",
       "</table>\n",
       "<p>213 rows × 7 columns</p>\n",
       "</div>"
      ],
      "text/plain": [
       "       language      category  \\\n",
       "0        Python  solar_energy   \n",
       "1        Python  solar_energy   \n",
       "2        Python  solar_energy   \n",
       "3           C++  solar_energy   \n",
       "4             R  solar_energy   \n",
       "..          ...           ...   \n",
       "293         C++   natural_gas   \n",
       "294      Python   natural_gas   \n",
       "297      MATLAB   natural_gas   \n",
       "298           R   natural_gas   \n",
       "299  JavaScript   natural_gas   \n",
       "\n",
       "                                                  repo  \\\n",
       "0    ColasGael/Machine-Learning-for-Solar-Energy-Pr...   \n",
       "1                                     meltaxa/solariot   \n",
       "2                                renewables-ninja/gsee   \n",
       "3                  3KUdelta/Solar_WiFi_Weather_Station   \n",
       "4                                   ropensci/nasapower   \n",
       "..                                                 ...   \n",
       "293  reyhancaba/Natural-Gas-Detector-Circuit-Using-...   \n",
       "294  fernandessfae/Evolucao-da-producao-de-gas-natu...   \n",
       "297   chaiitanyasangani88/OperationalFlowRateVariation   \n",
       "298                      jaburney/naturalgastransition   \n",
       "299                                 leytzher/oil-price   \n",
       "\n",
       "                                       readme_contents  \\\n",
       "0    # Machine-Learning-for-Solar-Energy-Prediction...   \n",
       "1    # Solariot\\n\\nLeverage your IoT enabled Solar ...   \n",
       "2    [![Master branch build status](https://img.shi...   \n",
       "3    # Zambretti Forecaster on Solar WiFi Weather S...   \n",
       "4    \\n[![R build status](https://github.com/ropens...   \n",
       "..                                                 ...   \n",
       "293  # Natural-Gas-Detector-Circuit-Using-An-Arduin...   \n",
       "294  # Projeto DataScience - Evolução da produção d...   \n",
       "297  # OperationalFlowCaseStudy\\nA detailed study a...   \n",
       "298  ## Coal-to-Natural Gas Transition Impacts Anal...   \n",
       "299  # oil-price\\nGet latest oil (WTI and Brent) an...   \n",
       "\n",
       "                                           clean_tokes  \\\n",
       "0    [machinelearningforsolarenergyprediction, by, ...   \n",
       "1    [solariot, leverage, your, iot, enabled, solar...   \n",
       "2    [master, branch, build, statushttpsimgshieldsi...   \n",
       "3    [zambretti, forecaster, on, solar, wifi, weath...   \n",
       "4    [r, build, statushttpsgithubcomropenscinasapow...   \n",
       "..                                                 ...   \n",
       "293  [naturalgasdetectorcircuitusinganarduinouno, b...   \n",
       "294  [projeto, datascience, evoluo, da, produo, de,...   \n",
       "297  [operationalflowcasestudy, a, detailed, study,...   \n",
       "298  [coaltonatural, gas, transition, impacts, anal...   \n",
       "299  [oilprice, get, latest, oil, wti, and, brent, ...   \n",
       "\n",
       "                                         clean_stemmed  \\\n",
       "0    machinelearningforsolarenergypredict adel kuzm...   \n",
       "1    solariot leverag iot enabl solar pv invert str...   \n",
       "2    master branch build statushttpsimgshieldsioazu...   \n",
       "3    zambretti forecast solar wifi weather station ...   \n",
       "4    r build statushttpsgithubcomropenscinasapowerw...   \n",
       "..                                                 ...   \n",
       "293  naturalgasdetectorcircuitusinganarduinouno bu ...   \n",
       "294  projeto datasci evoluo da produo de gs natur p...   \n",
       "297  operationalflowcasestudi detail studi oper flo...   \n",
       "298  coaltonatur ga transit impact analysi thi repo...   \n",
       "299    oilpric get latest oil wti brent natur ga price   \n",
       "\n",
       "                                      clean_lemmatized  \n",
       "0    machinelearningforsolarenergyprediction adele ...  \n",
       "1    solariot leverage iot enabled solar pv inverte...  \n",
       "2    master branch build statushttpsimgshieldsioazu...  \n",
       "3    zambretti forecaster solar wifi weather statio...  \n",
       "4    r build statushttpsgithubcomropenscinasapowerw...  \n",
       "..                                                 ...  \n",
       "293  naturalgasdetectorcircuitusinganarduinouno bu ...  \n",
       "294  projeto datascience evoluo da produo de g natu...  \n",
       "297  operationalflowcasestudy detailed study operat...  \n",
       "298  coaltonatural gas transition impact analysis r...  \n",
       "299  oilprice get latest oil wti brent natural gas ...  \n",
       "\n",
       "[213 rows x 7 columns]"
      ]
     },
     "execution_count": 6,
     "metadata": {},
     "output_type": "execute_result"
    }
   ],
   "source": [
    "df"
   ]
  },
  {
   "cell_type": "code",
   "execution_count": 7,
   "metadata": {},
   "outputs": [
    {
     "data": {
      "text/plain": [
       "solar_energy    84\n",
       "natural_gas     65\n",
       "petroleum       64\n",
       "Name: category, dtype: int64"
      ]
     },
     "execution_count": 7,
     "metadata": {},
     "output_type": "execute_result"
    }
   ],
   "source": [
    "df.category.value_counts()"
   ]
  },
  {
   "cell_type": "code",
   "execution_count": 8,
   "metadata": {},
   "outputs": [],
   "source": [
    "#df = acquire.scrape_github_data()"
   ]
  },
  {
   "cell_type": "code",
   "execution_count": 9,
   "metadata": {},
   "outputs": [],
   "source": [
    "#df"
   ]
  },
  {
   "cell_type": "code",
   "execution_count": 10,
   "metadata": {},
   "outputs": [],
   "source": [
    "#df = pd.DataFrame(df)"
   ]
  },
  {
   "cell_type": "code",
   "execution_count": 11,
   "metadata": {},
   "outputs": [],
   "source": [
    "#df"
   ]
  },
  {
   "cell_type": "code",
   "execution_count": 12,
   "metadata": {
    "scrolled": true
   },
   "outputs": [],
   "source": [
    "#df.dtypes"
   ]
  },
  {
   "cell_type": "code",
   "execution_count": 13,
   "metadata": {},
   "outputs": [],
   "source": [
    "#df.head()"
   ]
  },
  {
   "cell_type": "code",
   "execution_count": 14,
   "metadata": {},
   "outputs": [],
   "source": [
    "# prepare data\n",
    "#df = prepare.prep_repo_data(df)"
   ]
  },
  {
   "cell_type": "code",
   "execution_count": 15,
   "metadata": {},
   "outputs": [],
   "source": [
    "#df"
   ]
  },
  {
   "cell_type": "code",
   "execution_count": 16,
   "metadata": {
    "scrolled": true
   },
   "outputs": [],
   "source": [
    "#df.dtypes"
   ]
  },
  {
   "cell_type": "code",
   "execution_count": 17,
   "metadata": {},
   "outputs": [],
   "source": [
    "#df.info()"
   ]
  },
  {
   "cell_type": "code",
   "execution_count": 18,
   "metadata": {},
   "outputs": [],
   "source": [
    "#df.language.value_counts()"
   ]
  },
  {
   "cell_type": "code",
   "execution_count": 19,
   "metadata": {},
   "outputs": [],
   "source": [
    "# plt.figure(figsize=(16,8))\n",
    "# df.language.value_counts().head(15).plot.barh(width=.9, ec='black', title='15 most popular language  repos')\n",
    "# plt.xlabel('Number of occurances')"
   ]
  },
  {
   "cell_type": "markdown",
   "metadata": {},
   "source": [
    "## Exploration"
   ]
  },
  {
   "cell_type": "markdown",
   "metadata": {},
   "source": [
    "- What are the most common words in READMEs?\n",
    "- What does the distribution of IDFs look like for the most common words?\n",
    "- Does the length of the README vary by programming language?\n",
    "- Do different programming languages use a different number of unique words?"
   ]
  },
  {
   "cell_type": "code",
   "execution_count": 20,
   "metadata": {},
   "outputs": [],
   "source": [
    "import matplotlib.pyplot as plt\n",
    "import seaborn as sns\n",
    "import nltk\n",
    "import nltk.sentiment\n",
    "import re"
   ]
  },
  {
   "cell_type": "code",
   "execution_count": 21,
   "metadata": {},
   "outputs": [
    {
     "data": {
      "text/plain": [
       "Text(0.5, 0, 'Number of occurances')"
      ]
     },
     "execution_count": 21,
     "metadata": {},
     "output_type": "execute_result"
    },
    {
     "data": {
      "image/png": "[encoded data removed]",
      "text/plain": [
       "<Figure size 864x432 with 1 Axes>"
      ]
     },
     "metadata": {
      "needs_background": "light"
     },
     "output_type": "display_data"
    }
   ],
   "source": [
    "# What are the most common words in READMEs?\n",
    "all_words = ' '.join(df.clean_lemmatized).split()\n",
    "plt.figure(figsize=(12,6))\n",
    "pd.Series(all_words).value_counts().head(15).plot.barh(width=.9, ec='black', title='15 most common words in READMEs')\n",
    "plt.xlabel('Number of occurances')"
   ]
  },
  {
   "cell_type": "code",
   "execution_count": 22,
   "metadata": {},
   "outputs": [
    {
     "data": {
      "image/png": "[encoded data removed]",
      "text/plain": [
       "<Figure size 1008x576 with 1 Axes>"
      ]
     },
     "metadata": {
      "needs_background": "light"
     },
     "output_type": "display_data"
    }
   ],
   "source": [
    "plt.figure(figsize=(14,8))\n",
    "df.language.value_counts().sort_values(ascending=True).tail(10).plot.barh(width=.8)\n",
    "plt.title('10 most popular languages used in the repos')\n",
    "plt.xlabel('Number of occurances')\n",
    "plt.show()"
   ]
  },
  {
   "cell_type": "code",
   "execution_count": 23,
   "metadata": {},
   "outputs": [],
   "source": [
    "# We will use this function to calculate the IDF of each word\n",
    "def idf(word):\n",
    "    n_occurrences = sum([1 for doc in df.cleaned if word in doc])\n",
    "    n_docs = len(df.cleaned)\n",
    "    idf = np.log(n_docs/n_occurrences)\n",
    "    return idf"
   ]
  },
  {
   "cell_type": "code",
   "execution_count": 24,
   "metadata": {},
   "outputs": [],
   "source": [
    "# Find the unique words in the entire df to calculate the IDF\n",
    "unique_words = pd.Series(' '.join(df.clean_lemmatized).split()).unique()"
   ]
  },
  {
   "cell_type": "code",
   "execution_count": 25,
   "metadata": {},
   "outputs": [
    {
     "data": {
      "text/plain": [
       "array(['machinelearningforsolarenergyprediction', 'adele', 'kuzmiakova',\n",
       "       ..., 'oilprice', 'wti', 'brent'], dtype=object)"
      ]
     },
     "execution_count": 25,
     "metadata": {},
     "output_type": "execute_result"
    }
   ],
   "source": [
    "unique_words"
   ]
  },
  {
   "cell_type": "code",
   "execution_count": 26,
   "metadata": {},
   "outputs": [
    {
     "data": {
      "text/html": [
       "<div>\n",
       "<style scoped>\n",
       "    .dataframe tbody tr th:only-of-type {\n",
       "        vertical-align: middle;\n",
       "    }\n",
       "\n",
       "    .dataframe tbody tr th {\n",
       "        vertical-align: top;\n",
       "    }\n",
       "\n",
       "    .dataframe thead th {\n",
       "        text-align: right;\n",
       "    }\n",
       "</style>\n",
       "<table border=\"1\" class=\"dataframe\">\n",
       "  <thead>\n",
       "    <tr style=\"text-align: right;\">\n",
       "      <th></th>\n",
       "      <th>language</th>\n",
       "      <th>category</th>\n",
       "      <th>repo</th>\n",
       "      <th>readme_contents</th>\n",
       "      <th>clean_tokes</th>\n",
       "      <th>clean_stemmed</th>\n",
       "      <th>clean_lemmatized</th>\n",
       "    </tr>\n",
       "  </thead>\n",
       "  <tbody>\n",
       "    <tr>\n",
       "      <td>0</td>\n",
       "      <td>Python</td>\n",
       "      <td>solar_energy</td>\n",
       "      <td>ColasGael/Machine-Learning-for-Solar-Energy-Pr...</td>\n",
       "      <td># Machine-Learning-for-Solar-Energy-Prediction...</td>\n",
       "      <td>[machinelearningforsolarenergyprediction, by, ...</td>\n",
       "      <td>machinelearningforsolarenergypredict adel kuzm...</td>\n",
       "      <td>machinelearningforsolarenergyprediction adele ...</td>\n",
       "    </tr>\n",
       "    <tr>\n",
       "      <td>1</td>\n",
       "      <td>Python</td>\n",
       "      <td>solar_energy</td>\n",
       "      <td>meltaxa/solariot</td>\n",
       "      <td># Solariot\\n\\nLeverage your IoT enabled Solar ...</td>\n",
       "      <td>[solariot, leverage, your, iot, enabled, solar...</td>\n",
       "      <td>solariot leverag iot enabl solar pv invert str...</td>\n",
       "      <td>solariot leverage iot enabled solar pv inverte...</td>\n",
       "    </tr>\n",
       "    <tr>\n",
       "      <td>2</td>\n",
       "      <td>Python</td>\n",
       "      <td>solar_energy</td>\n",
       "      <td>renewables-ninja/gsee</td>\n",
       "      <td>[![Master branch build status](https://img.shi...</td>\n",
       "      <td>[master, branch, build, statushttpsimgshieldsi...</td>\n",
       "      <td>master branch build statushttpsimgshieldsioazu...</td>\n",
       "      <td>master branch build statushttpsimgshieldsioazu...</td>\n",
       "    </tr>\n",
       "    <tr>\n",
       "      <td>3</td>\n",
       "      <td>C++</td>\n",
       "      <td>solar_energy</td>\n",
       "      <td>3KUdelta/Solar_WiFi_Weather_Station</td>\n",
       "      <td># Zambretti Forecaster on Solar WiFi Weather S...</td>\n",
       "      <td>[zambretti, forecaster, on, solar, wifi, weath...</td>\n",
       "      <td>zambretti forecast solar wifi weather station ...</td>\n",
       "      <td>zambretti forecaster solar wifi weather statio...</td>\n",
       "    </tr>\n",
       "    <tr>\n",
       "      <td>4</td>\n",
       "      <td>R</td>\n",
       "      <td>solar_energy</td>\n",
       "      <td>ropensci/nasapower</td>\n",
       "      <td>\\n[![R build status](https://github.com/ropens...</td>\n",
       "      <td>[r, build, statushttpsgithubcomropenscinasapow...</td>\n",
       "      <td>r build statushttpsgithubcomropenscinasapowerw...</td>\n",
       "      <td>r build statushttpsgithubcomropenscinasapowerw...</td>\n",
       "    </tr>\n",
       "  </tbody>\n",
       "</table>\n",
       "</div>"
      ],
      "text/plain": [
       "  language      category                                               repo  \\\n",
       "0   Python  solar_energy  ColasGael/Machine-Learning-for-Solar-Energy-Pr...   \n",
       "1   Python  solar_energy                                   meltaxa/solariot   \n",
       "2   Python  solar_energy                              renewables-ninja/gsee   \n",
       "3      C++  solar_energy                3KUdelta/Solar_WiFi_Weather_Station   \n",
       "4        R  solar_energy                                 ropensci/nasapower   \n",
       "\n",
       "                                     readme_contents  \\\n",
       "0  # Machine-Learning-for-Solar-Energy-Prediction...   \n",
       "1  # Solariot\\n\\nLeverage your IoT enabled Solar ...   \n",
       "2  [![Master branch build status](https://img.shi...   \n",
       "3  # Zambretti Forecaster on Solar WiFi Weather S...   \n",
       "4  \\n[![R build status](https://github.com/ropens...   \n",
       "\n",
       "                                         clean_tokes  \\\n",
       "0  [machinelearningforsolarenergyprediction, by, ...   \n",
       "1  [solariot, leverage, your, iot, enabled, solar...   \n",
       "2  [master, branch, build, statushttpsimgshieldsi...   \n",
       "3  [zambretti, forecaster, on, solar, wifi, weath...   \n",
       "4  [r, build, statushttpsgithubcomropenscinasapow...   \n",
       "\n",
       "                                       clean_stemmed  \\\n",
       "0  machinelearningforsolarenergypredict adel kuzm...   \n",
       "1  solariot leverag iot enabl solar pv invert str...   \n",
       "2  master branch build statushttpsimgshieldsioazu...   \n",
       "3  zambretti forecast solar wifi weather station ...   \n",
       "4  r build statushttpsgithubcomropenscinasapowerw...   \n",
       "\n",
       "                                    clean_lemmatized  \n",
       "0  machinelearningforsolarenergyprediction adele ...  \n",
       "1  solariot leverage iot enabled solar pv inverte...  \n",
       "2  master branch build statushttpsimgshieldsioazu...  \n",
       "3  zambretti forecaster solar wifi weather statio...  \n",
       "4  r build statushttpsgithubcomropenscinasapowerw...  "
      ]
     },
     "execution_count": 26,
     "metadata": {},
     "output_type": "execute_result"
    }
   ],
   "source": [
    "df.head()"
   ]
  },
  {
   "cell_type": "markdown",
   "metadata": {},
   "source": [
    "- Does the length of the README vary by programming language?"
   ]
  },
  {
   "cell_type": "code",
   "execution_count": 27,
   "metadata": {},
   "outputs": [],
   "source": [
    "#feature engineering, add a new feature as clean_lemmatized_length\n",
    "df[\"clean_lemmatized_length\"] = df.clean_lemmatized.apply(len)"
   ]
  },
  {
   "cell_type": "code",
   "execution_count": 28,
   "metadata": {},
   "outputs": [
    {
     "data": {
      "text/html": [
       "<div>\n",
       "<style scoped>\n",
       "    .dataframe tbody tr th:only-of-type {\n",
       "        vertical-align: middle;\n",
       "    }\n",
       "\n",
       "    .dataframe tbody tr th {\n",
       "        vertical-align: top;\n",
       "    }\n",
       "\n",
       "    .dataframe thead th {\n",
       "        text-align: right;\n",
       "    }\n",
       "</style>\n",
       "<table border=\"1\" class=\"dataframe\">\n",
       "  <thead>\n",
       "    <tr style=\"text-align: right;\">\n",
       "      <th></th>\n",
       "      <th>language</th>\n",
       "      <th>category</th>\n",
       "      <th>repo</th>\n",
       "      <th>readme_contents</th>\n",
       "      <th>clean_tokes</th>\n",
       "      <th>clean_stemmed</th>\n",
       "      <th>clean_lemmatized</th>\n",
       "      <th>clean_lemmatized_length</th>\n",
       "    </tr>\n",
       "  </thead>\n",
       "  <tbody>\n",
       "    <tr>\n",
       "      <td>0</td>\n",
       "      <td>Python</td>\n",
       "      <td>solar_energy</td>\n",
       "      <td>ColasGael/Machine-Learning-for-Solar-Energy-Pr...</td>\n",
       "      <td># Machine-Learning-for-Solar-Energy-Prediction...</td>\n",
       "      <td>[machinelearningforsolarenergyprediction, by, ...</td>\n",
       "      <td>machinelearningforsolarenergypredict adel kuzm...</td>\n",
       "      <td>machinelearningforsolarenergyprediction adele ...</td>\n",
       "      <td>993</td>\n",
       "    </tr>\n",
       "    <tr>\n",
       "      <td>1</td>\n",
       "      <td>Python</td>\n",
       "      <td>solar_energy</td>\n",
       "      <td>meltaxa/solariot</td>\n",
       "      <td># Solariot\\n\\nLeverage your IoT enabled Solar ...</td>\n",
       "      <td>[solariot, leverage, your, iot, enabled, solar...</td>\n",
       "      <td>solariot leverag iot enabl solar pv invert str...</td>\n",
       "      <td>solariot leverage iot enabled solar pv inverte...</td>\n",
       "      <td>3246</td>\n",
       "    </tr>\n",
       "    <tr>\n",
       "      <td>2</td>\n",
       "      <td>Python</td>\n",
       "      <td>solar_energy</td>\n",
       "      <td>renewables-ninja/gsee</td>\n",
       "      <td>[![Master branch build status](https://img.shi...</td>\n",
       "      <td>[master, branch, build, statushttpsimgshieldsi...</td>\n",
       "      <td>master branch build statushttpsimgshieldsioazu...</td>\n",
       "      <td>master branch build statushttpsimgshieldsioazu...</td>\n",
       "      <td>1613</td>\n",
       "    </tr>\n",
       "    <tr>\n",
       "      <td>3</td>\n",
       "      <td>C++</td>\n",
       "      <td>solar_energy</td>\n",
       "      <td>3KUdelta/Solar_WiFi_Weather_Station</td>\n",
       "      <td># Zambretti Forecaster on Solar WiFi Weather S...</td>\n",
       "      <td>[zambretti, forecaster, on, solar, wifi, weath...</td>\n",
       "      <td>zambretti forecast solar wifi weather station ...</td>\n",
       "      <td>zambretti forecaster solar wifi weather statio...</td>\n",
       "      <td>2501</td>\n",
       "    </tr>\n",
       "    <tr>\n",
       "      <td>4</td>\n",
       "      <td>R</td>\n",
       "      <td>solar_energy</td>\n",
       "      <td>ropensci/nasapower</td>\n",
       "      <td>\\n[![R build status](https://github.com/ropens...</td>\n",
       "      <td>[r, build, statushttpsgithubcomropenscinasapow...</td>\n",
       "      <td>r build statushttpsgithubcomropenscinasapowerw...</td>\n",
       "      <td>r build statushttpsgithubcomropenscinasapowerw...</td>\n",
       "      <td>3866</td>\n",
       "    </tr>\n",
       "    <tr>\n",
       "      <td>...</td>\n",
       "      <td>...</td>\n",
       "      <td>...</td>\n",
       "      <td>...</td>\n",
       "      <td>...</td>\n",
       "      <td>...</td>\n",
       "      <td>...</td>\n",
       "      <td>...</td>\n",
       "      <td>...</td>\n",
       "    </tr>\n",
       "    <tr>\n",
       "      <td>293</td>\n",
       "      <td>C++</td>\n",
       "      <td>natural_gas</td>\n",
       "      <td>reyhancaba/Natural-Gas-Detector-Circuit-Using-...</td>\n",
       "      <td># Natural-Gas-Detector-Circuit-Using-An-Arduin...</td>\n",
       "      <td>[naturalgasdetectorcircuitusinganarduinouno, b...</td>\n",
       "      <td>naturalgasdetectorcircuitusinganarduinouno bu ...</td>\n",
       "      <td>naturalgasdetectorcircuitusinganarduinouno bu ...</td>\n",
       "      <td>420</td>\n",
       "    </tr>\n",
       "    <tr>\n",
       "      <td>294</td>\n",
       "      <td>Python</td>\n",
       "      <td>natural_gas</td>\n",
       "      <td>fernandessfae/Evolucao-da-producao-de-gas-natu...</td>\n",
       "      <td># Projeto DataScience - Evolução da produção d...</td>\n",
       "      <td>[projeto, datascience, evoluo, da, produo, de,...</td>\n",
       "      <td>projeto datasci evoluo da produo de gs natur p...</td>\n",
       "      <td>projeto datascience evoluo da produo de g natu...</td>\n",
       "      <td>3532</td>\n",
       "    </tr>\n",
       "    <tr>\n",
       "      <td>297</td>\n",
       "      <td>MATLAB</td>\n",
       "      <td>natural_gas</td>\n",
       "      <td>chaiitanyasangani88/OperationalFlowRateVariation</td>\n",
       "      <td># OperationalFlowCaseStudy\\nA detailed study a...</td>\n",
       "      <td>[operationalflowcasestudy, a, detailed, study,...</td>\n",
       "      <td>operationalflowcasestudi detail studi oper flo...</td>\n",
       "      <td>operationalflowcasestudy detailed study operat...</td>\n",
       "      <td>793</td>\n",
       "    </tr>\n",
       "    <tr>\n",
       "      <td>298</td>\n",
       "      <td>R</td>\n",
       "      <td>natural_gas</td>\n",
       "      <td>jaburney/naturalgastransition</td>\n",
       "      <td>## Coal-to-Natural Gas Transition Impacts Anal...</td>\n",
       "      <td>[coaltonatural, gas, transition, impacts, anal...</td>\n",
       "      <td>coaltonatur ga transit impact analysi thi repo...</td>\n",
       "      <td>coaltonatural gas transition impact analysis r...</td>\n",
       "      <td>2065</td>\n",
       "    </tr>\n",
       "    <tr>\n",
       "      <td>299</td>\n",
       "      <td>JavaScript</td>\n",
       "      <td>natural_gas</td>\n",
       "      <td>leytzher/oil-price</td>\n",
       "      <td># oil-price\\nGet latest oil (WTI and Brent) an...</td>\n",
       "      <td>[oilprice, get, latest, oil, wti, and, brent, ...</td>\n",
       "      <td>oilpric get latest oil wti brent natur ga price</td>\n",
       "      <td>oilprice get latest oil wti brent natural gas ...</td>\n",
       "      <td>51</td>\n",
       "    </tr>\n",
       "  </tbody>\n",
       "</table>\n",
       "<p>213 rows × 8 columns</p>\n",
       "</div>"
      ],
      "text/plain": [
       "       language      category  \\\n",
       "0        Python  solar_energy   \n",
       "1        Python  solar_energy   \n",
       "2        Python  solar_energy   \n",
       "3           C++  solar_energy   \n",
       "4             R  solar_energy   \n",
       "..          ...           ...   \n",
       "293         C++   natural_gas   \n",
       "294      Python   natural_gas   \n",
       "297      MATLAB   natural_gas   \n",
       "298           R   natural_gas   \n",
       "299  JavaScript   natural_gas   \n",
       "\n",
       "                                                  repo  \\\n",
       "0    ColasGael/Machine-Learning-for-Solar-Energy-Pr...   \n",
       "1                                     meltaxa/solariot   \n",
       "2                                renewables-ninja/gsee   \n",
       "3                  3KUdelta/Solar_WiFi_Weather_Station   \n",
       "4                                   ropensci/nasapower   \n",
       "..                                                 ...   \n",
       "293  reyhancaba/Natural-Gas-Detector-Circuit-Using-...   \n",
       "294  fernandessfae/Evolucao-da-producao-de-gas-natu...   \n",
       "297   chaiitanyasangani88/OperationalFlowRateVariation   \n",
       "298                      jaburney/naturalgastransition   \n",
       "299                                 leytzher/oil-price   \n",
       "\n",
       "                                       readme_contents  \\\n",
       "0    # Machine-Learning-for-Solar-Energy-Prediction...   \n",
       "1    # Solariot\\n\\nLeverage your IoT enabled Solar ...   \n",
       "2    [![Master branch build status](https://img.shi...   \n",
       "3    # Zambretti Forecaster on Solar WiFi Weather S...   \n",
       "4    \\n[![R build status](https://github.com/ropens...   \n",
       "..                                                 ...   \n",
       "293  # Natural-Gas-Detector-Circuit-Using-An-Arduin...   \n",
       "294  # Projeto DataScience - Evolução da produção d...   \n",
       "297  # OperationalFlowCaseStudy\\nA detailed study a...   \n",
       "298  ## Coal-to-Natural Gas Transition Impacts Anal...   \n",
       "299  # oil-price\\nGet latest oil (WTI and Brent) an...   \n",
       "\n",
       "                                           clean_tokes  \\\n",
       "0    [machinelearningforsolarenergyprediction, by, ...   \n",
       "1    [solariot, leverage, your, iot, enabled, solar...   \n",
       "2    [master, branch, build, statushttpsimgshieldsi...   \n",
       "3    [zambretti, forecaster, on, solar, wifi, weath...   \n",
       "4    [r, build, statushttpsgithubcomropenscinasapow...   \n",
       "..                                                 ...   \n",
       "293  [naturalgasdetectorcircuitusinganarduinouno, b...   \n",
       "294  [projeto, datascience, evoluo, da, produo, de,...   \n",
       "297  [operationalflowcasestudy, a, detailed, study,...   \n",
       "298  [coaltonatural, gas, transition, impacts, anal...   \n",
       "299  [oilprice, get, latest, oil, wti, and, brent, ...   \n",
       "\n",
       "                                         clean_stemmed  \\\n",
       "0    machinelearningforsolarenergypredict adel kuzm...   \n",
       "1    solariot leverag iot enabl solar pv invert str...   \n",
       "2    master branch build statushttpsimgshieldsioazu...   \n",
       "3    zambretti forecast solar wifi weather station ...   \n",
       "4    r build statushttpsgithubcomropenscinasapowerw...   \n",
       "..                                                 ...   \n",
       "293  naturalgasdetectorcircuitusinganarduinouno bu ...   \n",
       "294  projeto datasci evoluo da produo de gs natur p...   \n",
       "297  operationalflowcasestudi detail studi oper flo...   \n",
       "298  coaltonatur ga transit impact analysi thi repo...   \n",
       "299    oilpric get latest oil wti brent natur ga price   \n",
       "\n",
       "                                      clean_lemmatized  \\\n",
       "0    machinelearningforsolarenergyprediction adele ...   \n",
       "1    solariot leverage iot enabled solar pv inverte...   \n",
       "2    master branch build statushttpsimgshieldsioazu...   \n",
       "3    zambretti forecaster solar wifi weather statio...   \n",
       "4    r build statushttpsgithubcomropenscinasapowerw...   \n",
       "..                                                 ...   \n",
       "293  naturalgasdetectorcircuitusinganarduinouno bu ...   \n",
       "294  projeto datascience evoluo da produo de g natu...   \n",
       "297  operationalflowcasestudy detailed study operat...   \n",
       "298  coaltonatural gas transition impact analysis r...   \n",
       "299  oilprice get latest oil wti brent natural gas ...   \n",
       "\n",
       "     clean_lemmatized_length  \n",
       "0                        993  \n",
       "1                       3246  \n",
       "2                       1613  \n",
       "3                       2501  \n",
       "4                       3866  \n",
       "..                       ...  \n",
       "293                      420  \n",
       "294                     3532  \n",
       "297                      793  \n",
       "298                     2065  \n",
       "299                       51  \n",
       "\n",
       "[213 rows x 8 columns]"
      ]
     },
     "execution_count": 28,
     "metadata": {},
     "output_type": "execute_result"
    }
   ],
   "source": [
    "df"
   ]
  },
  {
   "cell_type": "code",
   "execution_count": 32,
   "metadata": {},
   "outputs": [
    {
     "data": {
      "text/plain": [
       "<matplotlib.axes._subplots.AxesSubplot at 0x1a2cc239d0>"
      ]
     },
     "execution_count": 32,
     "metadata": {},
     "output_type": "execute_result"
    },
    {
     "data": {
      "image/png": "[encoded data removed]",
      "text/plain": [
       "<Figure size 432x288 with 1 Axes>"
      ]
     },
     "metadata": {
      "needs_background": "light"
     },
     "output_type": "display_data"
    }
   ],
   "source": [
    "df.clean_lemmatized_length.hist()"
   ]
  },
  {
   "cell_type": "code",
   "execution_count": 70,
   "metadata": {
    "scrolled": true
   },
   "outputs": [
    {
     "data": {
      "text/plain": [
       "0          Python\n",
       "1          Python\n",
       "2          Python\n",
       "3             C++\n",
       "4               R\n",
       "          ...    \n",
       "293           C++\n",
       "294        Python\n",
       "297        MATLAB\n",
       "298             R\n",
       "299    JavaScript\n",
       "Name: language, Length: 179, dtype: object"
      ]
     },
     "execution_count": 70,
     "metadata": {},
     "output_type": "execute_result"
    }
   ],
   "source": [
    "# get top 10 popular languages\n",
    "top_language = list(df.language.value_counts().head(10).index)\n",
    "top_language\n",
    "df[df.language.isin(top_lang)].language"
   ]
  },
  {
   "cell_type": "code",
   "execution_count": 72,
   "metadata": {
    "scrolled": false
   },
   "outputs": [
    {
     "data": {
      "image/png": "[encoded data removed]",
      "text/plain": [
       "<Figure size 1296x648 with 1 Axes>"
      ]
     },
     "metadata": {
      "needs_background": "light"
     },
     "output_type": "display_data"
    }
   ],
   "source": [
    "plt.figure(figsize=(18,9))\n",
    "sns.boxplot(y=df[df.clean_lemmatized_length < 5000].clean_lemmatized_length, x=df[df.language.isin(top_language)].language)\n",
    "plt.title(\"READMEs length by 10 most popular programing languages\")\n",
    "plt.xlabel('Programming Language')\n",
    "plt.ylabel('README Length')\n",
    "plt.show()"
   ]
  },
  {
   "cell_type": "code",
   "execution_count": 74,
   "metadata": {},
   "outputs": [
    {
     "data": {
      "text/plain": [
       "Text(0.5, 0, 'Number of occurances')"
      ]
     },
     "execution_count": 74,
     "metadata": {},
     "output_type": "execute_result"
    },
    {
     "data": {
      "image/png": "[encoded data removed]",
      "text/plain": [
       "<Figure size 864x432 with 1 Axes>"
      ]
     },
     "metadata": {
      "needs_background": "light"
     },
     "output_type": "display_data"
    }
   ],
   "source": [
    "# What are the most common words in READMEs?\n",
    "all_words = ' '.join(df.clean_lemmatized).split()\n",
    "plt.figure(figsize=(12,6))\n",
    "pd.Series(all_words).value_counts().head(15).plot.barh(width=.9, ec='black', title='15 most common words in READMEs')\n",
    "plt.xlabel('Number of occurances')"
   ]
  },
  {
   "cell_type": "code",
   "execution_count": null,
   "metadata": {},
   "outputs": [],
   "source": []
  }
 ],
 "metadata": {
  "kernelspec": {
   "display_name": "Python 3",
   "language": "python",
   "name": "python3"
  },
  "language_info": {
   "codemirror_mode": {
    "name": "ipython",
    "version": 3
   },
   "file_extension": ".py",
   "mimetype": "text/x-python",
   "name": "python",
   "nbconvert_exporter": "python",
   "pygments_lexer": "ipython3",
   "version": "3.7.4"
  }
 },
 "nbformat": 4,
 "nbformat_minor": 2
}
