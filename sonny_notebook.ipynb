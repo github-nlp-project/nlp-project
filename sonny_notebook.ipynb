{
 "cells": [
  {
   "cell_type": "code",
   "execution_count": 1,
   "metadata": {},
   "outputs": [],
   "source": [
    "import pandas as pd\n",
    "import numpy as np\n",
    "import sonny_acquire\n",
    "import prepare\n",
    "import acquire"
   ]
  },
  {
   "cell_type": "code",
   "execution_count": 2,
   "metadata": {},
   "outputs": [],
   "source": [
    "df = pd.read_csv('new_repos_dict.csv')\n",
    "df['category'] = 'unknown'\n",
    "df.loc[:100, 'category'] = 'solar_energy'\n",
    "df.loc[100:200, 'category'] = 'petroleum'\n",
    "df.loc[200:, 'category'] = 'natural_gas'\n",
    "df = df[['language','category','repo','readme_contents']]"
   ]
  },
  {
   "cell_type": "code",
   "execution_count": 3,
   "metadata": {},
   "outputs": [],
   "source": [
    "df = prepare.prep_repo_data(df)"
   ]
  },
  {
   "cell_type": "code",
   "execution_count": 4,
   "metadata": {},
   "outputs": [],
   "source": [
    "df = df[df.index!=135]\n",
    "df = df[df.index!=269]"
   ]
  },
  {
   "cell_type": "code",
   "execution_count": 5,
   "metadata": {},
   "outputs": [
    {
     "data": {
      "text/html": [
       "<div>\n",
       "<style scoped>\n",
       "    .dataframe tbody tr th:only-of-type {\n",
       "        vertical-align: middle;\n",
       "    }\n",
       "\n",
       "    .dataframe tbody tr th {\n",
       "        vertical-align: top;\n",
       "    }\n",
       "\n",
       "    .dataframe thead th {\n",
       "        text-align: right;\n",
       "    }\n",
       "</style>\n",
       "<table border=\"1\" class=\"dataframe\">\n",
       "  <thead>\n",
       "    <tr style=\"text-align: right;\">\n",
       "      <th></th>\n",
       "      <th>language</th>\n",
       "      <th>category</th>\n",
       "      <th>repo</th>\n",
       "      <th>readme_contents</th>\n",
       "      <th>clean_tokes</th>\n",
       "      <th>clean_stemmed</th>\n",
       "      <th>clean_lemmatized</th>\n",
       "    </tr>\n",
       "  </thead>\n",
       "  <tbody>\n",
       "    <tr>\n",
       "      <td>0</td>\n",
       "      <td>C</td>\n",
       "      <td>solar_energy</td>\n",
       "      <td>N-BodyShop/gasoline</td>\n",
       "      <td>```\\n \\t  ▄████  ▄▄▄        ██████  ▒█████   █...</td>\n",
       "      <td>[&amp;#9;, &amp;#9;, &amp;#9;, &amp;#9;, &amp;#9;, &amp;#9;, &amp;#9;, &amp;#9...</td>\n",
       "      <td>&amp;#9; &amp;#9; &amp;#9; &amp;#9; &amp;#9; &amp;#9; &amp;#9; &amp;#9; &amp;#9; g...</td>\n",
       "      <td>&amp;#9; &amp;#9; &amp;#9; &amp;#9; &amp;#9; &amp;#9; &amp;#9; &amp;#9; &amp;#9; g...</td>\n",
       "    </tr>\n",
       "    <tr>\n",
       "      <td>1</td>\n",
       "      <td>OCaml</td>\n",
       "      <td>solar_energy</td>\n",
       "      <td>michipili/gasoline</td>\n",
       "      <td># Gasoline\\n\\nThe Gasoline project aims at imp...</td>\n",
       "      <td>[gasoline, the, gasoline, project, aims, at, i...</td>\n",
       "      <td>gasolin gasolin project aim implement unixish ...</td>\n",
       "      <td>gasoline gasoline project aim implementing uni...</td>\n",
       "    </tr>\n",
       "    <tr>\n",
       "      <td>2</td>\n",
       "      <td>TypeScript</td>\n",
       "      <td>solar_energy</td>\n",
       "      <td>rvikmanis/gasoline</td>\n",
       "      <td># Gasoline\\n\\nConvenient state container for R...</td>\n",
       "      <td>[gasoline, convenient, state, container, for, ...</td>\n",
       "      <td>gasolin conveni state contain react instal npm...</td>\n",
       "      <td>gasoline convenient state container react inst...</td>\n",
       "    </tr>\n",
       "    <tr>\n",
       "      <td>3</td>\n",
       "      <td>Python</td>\n",
       "      <td>solar_energy</td>\n",
       "      <td>iggisv9t/benzin_gif</td>\n",
       "      <td># benzin_gif\\nCreate animated gifs that looks ...</td>\n",
       "      <td>[benzin_gif, create, animated, gifs, that, loo...</td>\n",
       "      <td>benzin_gif creat anim gif look like gasolin pu...</td>\n",
       "      <td>benzin_gif create animated gifs look like gaso...</td>\n",
       "    </tr>\n",
       "    <tr>\n",
       "      <td>4</td>\n",
       "      <td>Go</td>\n",
       "      <td>solar_energy</td>\n",
       "      <td>daneharrigan/gasoline</td>\n",
       "      <td># gasoline\\n\\n![Gasoline Dashboard](http://cl....</td>\n",
       "      <td>[gasoline, gasoline, dashboardhttpcllyimage3l1...</td>\n",
       "      <td>gasolin gasolin dashboardhttpcllyimage3l190u3q...</td>\n",
       "      <td>gasoline gasoline dashboardhttpcllyimage3l190u...</td>\n",
       "    </tr>\n",
       "    <tr>\n",
       "      <td>...</td>\n",
       "      <td>...</td>\n",
       "      <td>...</td>\n",
       "      <td>...</td>\n",
       "      <td>...</td>\n",
       "      <td>...</td>\n",
       "      <td>...</td>\n",
       "      <td>...</td>\n",
       "    </tr>\n",
       "    <tr>\n",
       "      <td>595</td>\n",
       "      <td>Jupyter Notebook</td>\n",
       "      <td>natural_gas</td>\n",
       "      <td>souvikb07/solar-energy-cost-calculator-models</td>\n",
       "      <td># solar-energy-cost-calculator-models\\n\\n### W...</td>\n",
       "      <td>[solarenergycostcalculatormodels, work, in, pr...</td>\n",
       "      <td>solarenergycostcalculatormodel work progress</td>\n",
       "      <td>solarenergycostcalculatormodels work progress</td>\n",
       "    </tr>\n",
       "    <tr>\n",
       "      <td>596</td>\n",
       "      <td>CSS</td>\n",
       "      <td>natural_gas</td>\n",
       "      <td>suwalka/ushasolarpower</td>\n",
       "      <td># usp\\nClient site based on solar energy produ...</td>\n",
       "      <td>[usp, client, site, based, on, solar, energy, ...</td>\n",
       "      <td>usp client site base solar energi product</td>\n",
       "      <td>usp client site based solar energy product</td>\n",
       "    </tr>\n",
       "    <tr>\n",
       "      <td>597</td>\n",
       "      <td>NaN</td>\n",
       "      <td>natural_gas</td>\n",
       "      <td>sahirnadeem/Solar-Energy-Engineering-TUDelft-M...</td>\n",
       "      <td># Solar-Energy-Engineering-TUDelft-MicroMaster...</td>\n",
       "      <td>[solarenergyengineeringtudelftmicromastersprog...</td>\n",
       "      <td>solarenergyengineeringtudelftmicromastersprogr...</td>\n",
       "      <td>solarenergyengineeringtudelftmicromastersprogr...</td>\n",
       "    </tr>\n",
       "    <tr>\n",
       "      <td>598</td>\n",
       "      <td>HTML</td>\n",
       "      <td>natural_gas</td>\n",
       "      <td>kerrongordon/gsetri</td>\n",
       "      <td># Generator-jekyllrb \\n\\n[![Build Status](http...</td>\n",
       "      <td>[generatorjekyllrb, build, statushttpstravisci...</td>\n",
       "      <td>generatorjekyllrb build statushttpstravisciorg...</td>\n",
       "      <td>generatorjekyllrb build statushttpstravisciorg...</td>\n",
       "    </tr>\n",
       "    <tr>\n",
       "      <td>599</td>\n",
       "      <td>PHP</td>\n",
       "      <td>natural_gas</td>\n",
       "      <td>lsg2550/Mobile-Solar-Energy-Environmental-Cont...</td>\n",
       "      <td># Mobile Solar Energy Environmental Control Sy...</td>\n",
       "      <td>[mobile, solar, energy, environmental, control...</td>\n",
       "      <td>mobil solar energi environment control system ...</td>\n",
       "      <td>mobile solar energy environmental control syst...</td>\n",
       "    </tr>\n",
       "  </tbody>\n",
       "</table>\n",
       "<p>444 rows × 7 columns</p>\n",
       "</div>"
      ],
      "text/plain": [
       "             language      category  \\\n",
       "0                   C  solar_energy   \n",
       "1               OCaml  solar_energy   \n",
       "2          TypeScript  solar_energy   \n",
       "3              Python  solar_energy   \n",
       "4                  Go  solar_energy   \n",
       "..                ...           ...   \n",
       "595  Jupyter Notebook   natural_gas   \n",
       "596               CSS   natural_gas   \n",
       "597               NaN   natural_gas   \n",
       "598              HTML   natural_gas   \n",
       "599               PHP   natural_gas   \n",
       "\n",
       "                                                  repo  \\\n",
       "0                                  N-BodyShop/gasoline   \n",
       "1                                   michipili/gasoline   \n",
       "2                                   rvikmanis/gasoline   \n",
       "3                                  iggisv9t/benzin_gif   \n",
       "4                                daneharrigan/gasoline   \n",
       "..                                                 ...   \n",
       "595      souvikb07/solar-energy-cost-calculator-models   \n",
       "596                             suwalka/ushasolarpower   \n",
       "597  sahirnadeem/Solar-Energy-Engineering-TUDelft-M...   \n",
       "598                                kerrongordon/gsetri   \n",
       "599  lsg2550/Mobile-Solar-Energy-Environmental-Cont...   \n",
       "\n",
       "                                       readme_contents  \\\n",
       "0    ```\\n \\t  ▄████  ▄▄▄        ██████  ▒█████   █...   \n",
       "1    # Gasoline\\n\\nThe Gasoline project aims at imp...   \n",
       "2    # Gasoline\\n\\nConvenient state container for R...   \n",
       "3    # benzin_gif\\nCreate animated gifs that looks ...   \n",
       "4    # gasoline\\n\\n![Gasoline Dashboard](http://cl....   \n",
       "..                                                 ...   \n",
       "595  # solar-energy-cost-calculator-models\\n\\n### W...   \n",
       "596  # usp\\nClient site based on solar energy produ...   \n",
       "597  # Solar-Energy-Engineering-TUDelft-MicroMaster...   \n",
       "598  # Generator-jekyllrb \\n\\n[![Build Status](http...   \n",
       "599  # Mobile Solar Energy Environmental Control Sy...   \n",
       "\n",
       "                                           clean_tokes  \\\n",
       "0    [&#9;, &#9;, &#9;, &#9;, &#9;, &#9;, &#9;, &#9...   \n",
       "1    [gasoline, the, gasoline, project, aims, at, i...   \n",
       "2    [gasoline, convenient, state, container, for, ...   \n",
       "3    [benzin_gif, create, animated, gifs, that, loo...   \n",
       "4    [gasoline, gasoline, dashboardhttpcllyimage3l1...   \n",
       "..                                                 ...   \n",
       "595  [solarenergycostcalculatormodels, work, in, pr...   \n",
       "596  [usp, client, site, based, on, solar, energy, ...   \n",
       "597  [solarenergyengineeringtudelftmicromastersprog...   \n",
       "598  [generatorjekyllrb, build, statushttpstravisci...   \n",
       "599  [mobile, solar, energy, environmental, control...   \n",
       "\n",
       "                                         clean_stemmed  \\\n",
       "0    &#9; &#9; &#9; &#9; &#9; &#9; &#9; &#9; &#9; g...   \n",
       "1    gasolin gasolin project aim implement unixish ...   \n",
       "2    gasolin conveni state contain react instal npm...   \n",
       "3    benzin_gif creat anim gif look like gasolin pu...   \n",
       "4    gasolin gasolin dashboardhttpcllyimage3l190u3q...   \n",
       "..                                                 ...   \n",
       "595       solarenergycostcalculatormodel work progress   \n",
       "596          usp client site base solar energi product   \n",
       "597  solarenergyengineeringtudelftmicromastersprogr...   \n",
       "598  generatorjekyllrb build statushttpstravisciorg...   \n",
       "599  mobil solar energi environment control system ...   \n",
       "\n",
       "                                      clean_lemmatized  \n",
       "0    &#9; &#9; &#9; &#9; &#9; &#9; &#9; &#9; &#9; g...  \n",
       "1    gasoline gasoline project aim implementing uni...  \n",
       "2    gasoline convenient state container react inst...  \n",
       "3    benzin_gif create animated gifs look like gaso...  \n",
       "4    gasoline gasoline dashboardhttpcllyimage3l190u...  \n",
       "..                                                 ...  \n",
       "595      solarenergycostcalculatormodels work progress  \n",
       "596         usp client site based solar energy product  \n",
       "597  solarenergyengineeringtudelftmicromastersprogr...  \n",
       "598  generatorjekyllrb build statushttpstravisciorg...  \n",
       "599  mobile solar energy environmental control syst...  \n",
       "\n",
       "[444 rows x 7 columns]"
      ]
     },
     "execution_count": 5,
     "metadata": {},
     "output_type": "execute_result"
    }
   ],
   "source": [
    "df"
   ]
  },
  {
   "cell_type": "code",
   "execution_count": 6,
   "metadata": {},
   "outputs": [],
   "source": [
    "df.dropna(inplace=True)\n",
    "df.drop(df.index[15], inplace=True)"
   ]
  },
  {
   "cell_type": "code",
   "execution_count": 7,
   "metadata": {},
   "outputs": [
    {
     "data": {
      "text/html": [
       "<div>\n",
       "<style scoped>\n",
       "    .dataframe tbody tr th:only-of-type {\n",
       "        vertical-align: middle;\n",
       "    }\n",
       "\n",
       "    .dataframe tbody tr th {\n",
       "        vertical-align: top;\n",
       "    }\n",
       "\n",
       "    .dataframe thead th {\n",
       "        text-align: right;\n",
       "    }\n",
       "</style>\n",
       "<table border=\"1\" class=\"dataframe\">\n",
       "  <thead>\n",
       "    <tr style=\"text-align: right;\">\n",
       "      <th></th>\n",
       "      <th>language</th>\n",
       "      <th>category</th>\n",
       "      <th>repo</th>\n",
       "      <th>readme_contents</th>\n",
       "      <th>clean_tokes</th>\n",
       "      <th>clean_stemmed</th>\n",
       "      <th>clean_lemmatized</th>\n",
       "    </tr>\n",
       "  </thead>\n",
       "  <tbody>\n",
       "    <tr>\n",
       "      <td>0</td>\n",
       "      <td>C</td>\n",
       "      <td>solar_energy</td>\n",
       "      <td>N-BodyShop/gasoline</td>\n",
       "      <td>```\\n \\t  ▄████  ▄▄▄        ██████  ▒█████   █...</td>\n",
       "      <td>[&amp;#9;, &amp;#9;, &amp;#9;, &amp;#9;, &amp;#9;, &amp;#9;, &amp;#9;, &amp;#9...</td>\n",
       "      <td>&amp;#9; &amp;#9; &amp;#9; &amp;#9; &amp;#9; &amp;#9; &amp;#9; &amp;#9; &amp;#9; g...</td>\n",
       "      <td>&amp;#9; &amp;#9; &amp;#9; &amp;#9; &amp;#9; &amp;#9; &amp;#9; &amp;#9; &amp;#9; g...</td>\n",
       "    </tr>\n",
       "    <tr>\n",
       "      <td>1</td>\n",
       "      <td>OCaml</td>\n",
       "      <td>solar_energy</td>\n",
       "      <td>michipili/gasoline</td>\n",
       "      <td># Gasoline\\n\\nThe Gasoline project aims at imp...</td>\n",
       "      <td>[gasoline, the, gasoline, project, aims, at, i...</td>\n",
       "      <td>gasolin gasolin project aim implement unixish ...</td>\n",
       "      <td>gasoline gasoline project aim implementing uni...</td>\n",
       "    </tr>\n",
       "    <tr>\n",
       "      <td>2</td>\n",
       "      <td>TypeScript</td>\n",
       "      <td>solar_energy</td>\n",
       "      <td>rvikmanis/gasoline</td>\n",
       "      <td># Gasoline\\n\\nConvenient state container for R...</td>\n",
       "      <td>[gasoline, convenient, state, container, for, ...</td>\n",
       "      <td>gasolin conveni state contain react instal npm...</td>\n",
       "      <td>gasoline convenient state container react inst...</td>\n",
       "    </tr>\n",
       "    <tr>\n",
       "      <td>3</td>\n",
       "      <td>Python</td>\n",
       "      <td>solar_energy</td>\n",
       "      <td>iggisv9t/benzin_gif</td>\n",
       "      <td># benzin_gif\\nCreate animated gifs that looks ...</td>\n",
       "      <td>[benzin_gif, create, animated, gifs, that, loo...</td>\n",
       "      <td>benzin_gif creat anim gif look like gasolin pu...</td>\n",
       "      <td>benzin_gif create animated gifs look like gaso...</td>\n",
       "    </tr>\n",
       "    <tr>\n",
       "      <td>4</td>\n",
       "      <td>Go</td>\n",
       "      <td>solar_energy</td>\n",
       "      <td>daneharrigan/gasoline</td>\n",
       "      <td># gasoline\\n\\n![Gasoline Dashboard](http://cl....</td>\n",
       "      <td>[gasoline, gasoline, dashboardhttpcllyimage3l1...</td>\n",
       "      <td>gasolin gasolin dashboardhttpcllyimage3l190u3q...</td>\n",
       "      <td>gasoline gasoline dashboardhttpcllyimage3l190u...</td>\n",
       "    </tr>\n",
       "    <tr>\n",
       "      <td>...</td>\n",
       "      <td>...</td>\n",
       "      <td>...</td>\n",
       "      <td>...</td>\n",
       "      <td>...</td>\n",
       "      <td>...</td>\n",
       "      <td>...</td>\n",
       "      <td>...</td>\n",
       "    </tr>\n",
       "    <tr>\n",
       "      <td>594</td>\n",
       "      <td>JavaScript</td>\n",
       "      <td>natural_gas</td>\n",
       "      <td>sukanyavenkataraman/enerhack</td>\n",
       "      <td># Enerhack\\n\\nCode for communicating between t...</td>\n",
       "      <td>[enerhack, code, for, communicating, between, ...</td>\n",
       "      <td>enerhack code commun energyan dahsboard</td>\n",
       "      <td>enerhack code communicating energyan dahsboard</td>\n",
       "    </tr>\n",
       "    <tr>\n",
       "      <td>595</td>\n",
       "      <td>Jupyter Notebook</td>\n",
       "      <td>natural_gas</td>\n",
       "      <td>souvikb07/solar-energy-cost-calculator-models</td>\n",
       "      <td># solar-energy-cost-calculator-models\\n\\n### W...</td>\n",
       "      <td>[solarenergycostcalculatormodels, work, in, pr...</td>\n",
       "      <td>solarenergycostcalculatormodel work progress</td>\n",
       "      <td>solarenergycostcalculatormodels work progress</td>\n",
       "    </tr>\n",
       "    <tr>\n",
       "      <td>596</td>\n",
       "      <td>CSS</td>\n",
       "      <td>natural_gas</td>\n",
       "      <td>suwalka/ushasolarpower</td>\n",
       "      <td># usp\\nClient site based on solar energy produ...</td>\n",
       "      <td>[usp, client, site, based, on, solar, energy, ...</td>\n",
       "      <td>usp client site base solar energi product</td>\n",
       "      <td>usp client site based solar energy product</td>\n",
       "    </tr>\n",
       "    <tr>\n",
       "      <td>598</td>\n",
       "      <td>HTML</td>\n",
       "      <td>natural_gas</td>\n",
       "      <td>kerrongordon/gsetri</td>\n",
       "      <td># Generator-jekyllrb \\n\\n[![Build Status](http...</td>\n",
       "      <td>[generatorjekyllrb, build, statushttpstravisci...</td>\n",
       "      <td>generatorjekyllrb build statushttpstravisciorg...</td>\n",
       "      <td>generatorjekyllrb build statushttpstravisciorg...</td>\n",
       "    </tr>\n",
       "    <tr>\n",
       "      <td>599</td>\n",
       "      <td>PHP</td>\n",
       "      <td>natural_gas</td>\n",
       "      <td>lsg2550/Mobile-Solar-Energy-Environmental-Cont...</td>\n",
       "      <td># Mobile Solar Energy Environmental Control Sy...</td>\n",
       "      <td>[mobile, solar, energy, environmental, control...</td>\n",
       "      <td>mobil solar energi environment control system ...</td>\n",
       "      <td>mobile solar energy environmental control syst...</td>\n",
       "    </tr>\n",
       "  </tbody>\n",
       "</table>\n",
       "<p>408 rows × 7 columns</p>\n",
       "</div>"
      ],
      "text/plain": [
       "             language      category  \\\n",
       "0                   C  solar_energy   \n",
       "1               OCaml  solar_energy   \n",
       "2          TypeScript  solar_energy   \n",
       "3              Python  solar_energy   \n",
       "4                  Go  solar_energy   \n",
       "..                ...           ...   \n",
       "594        JavaScript   natural_gas   \n",
       "595  Jupyter Notebook   natural_gas   \n",
       "596               CSS   natural_gas   \n",
       "598              HTML   natural_gas   \n",
       "599               PHP   natural_gas   \n",
       "\n",
       "                                                  repo  \\\n",
       "0                                  N-BodyShop/gasoline   \n",
       "1                                   michipili/gasoline   \n",
       "2                                   rvikmanis/gasoline   \n",
       "3                                  iggisv9t/benzin_gif   \n",
       "4                                daneharrigan/gasoline   \n",
       "..                                                 ...   \n",
       "594                       sukanyavenkataraman/enerhack   \n",
       "595      souvikb07/solar-energy-cost-calculator-models   \n",
       "596                             suwalka/ushasolarpower   \n",
       "598                                kerrongordon/gsetri   \n",
       "599  lsg2550/Mobile-Solar-Energy-Environmental-Cont...   \n",
       "\n",
       "                                       readme_contents  \\\n",
       "0    ```\\n \\t  ▄████  ▄▄▄        ██████  ▒█████   █...   \n",
       "1    # Gasoline\\n\\nThe Gasoline project aims at imp...   \n",
       "2    # Gasoline\\n\\nConvenient state container for R...   \n",
       "3    # benzin_gif\\nCreate animated gifs that looks ...   \n",
       "4    # gasoline\\n\\n![Gasoline Dashboard](http://cl....   \n",
       "..                                                 ...   \n",
       "594  # Enerhack\\n\\nCode for communicating between t...   \n",
       "595  # solar-energy-cost-calculator-models\\n\\n### W...   \n",
       "596  # usp\\nClient site based on solar energy produ...   \n",
       "598  # Generator-jekyllrb \\n\\n[![Build Status](http...   \n",
       "599  # Mobile Solar Energy Environmental Control Sy...   \n",
       "\n",
       "                                           clean_tokes  \\\n",
       "0    [&#9;, &#9;, &#9;, &#9;, &#9;, &#9;, &#9;, &#9...   \n",
       "1    [gasoline, the, gasoline, project, aims, at, i...   \n",
       "2    [gasoline, convenient, state, container, for, ...   \n",
       "3    [benzin_gif, create, animated, gifs, that, loo...   \n",
       "4    [gasoline, gasoline, dashboardhttpcllyimage3l1...   \n",
       "..                                                 ...   \n",
       "594  [enerhack, code, for, communicating, between, ...   \n",
       "595  [solarenergycostcalculatormodels, work, in, pr...   \n",
       "596  [usp, client, site, based, on, solar, energy, ...   \n",
       "598  [generatorjekyllrb, build, statushttpstravisci...   \n",
       "599  [mobile, solar, energy, environmental, control...   \n",
       "\n",
       "                                         clean_stemmed  \\\n",
       "0    &#9; &#9; &#9; &#9; &#9; &#9; &#9; &#9; &#9; g...   \n",
       "1    gasolin gasolin project aim implement unixish ...   \n",
       "2    gasolin conveni state contain react instal npm...   \n",
       "3    benzin_gif creat anim gif look like gasolin pu...   \n",
       "4    gasolin gasolin dashboardhttpcllyimage3l190u3q...   \n",
       "..                                                 ...   \n",
       "594            enerhack code commun energyan dahsboard   \n",
       "595       solarenergycostcalculatormodel work progress   \n",
       "596          usp client site base solar energi product   \n",
       "598  generatorjekyllrb build statushttpstravisciorg...   \n",
       "599  mobil solar energi environment control system ...   \n",
       "\n",
       "                                      clean_lemmatized  \n",
       "0    &#9; &#9; &#9; &#9; &#9; &#9; &#9; &#9; &#9; g...  \n",
       "1    gasoline gasoline project aim implementing uni...  \n",
       "2    gasoline convenient state container react inst...  \n",
       "3    benzin_gif create animated gifs look like gaso...  \n",
       "4    gasoline gasoline dashboardhttpcllyimage3l190u...  \n",
       "..                                                 ...  \n",
       "594     enerhack code communicating energyan dahsboard  \n",
       "595      solarenergycostcalculatormodels work progress  \n",
       "596         usp client site based solar energy product  \n",
       "598  generatorjekyllrb build statushttpstravisciorg...  \n",
       "599  mobile solar energy environmental control syst...  \n",
       "\n",
       "[408 rows x 7 columns]"
      ]
     },
     "execution_count": 7,
     "metadata": {},
     "output_type": "execute_result"
    }
   ],
   "source": [
    "df"
   ]
  },
  {
   "cell_type": "code",
   "execution_count": 8,
   "metadata": {},
   "outputs": [
    {
     "data": {
      "text/plain": [
       "natural_gas     287\n",
       "solar_energy     62\n",
       "petroleum        59\n",
       "Name: category, dtype: int64"
      ]
     },
     "execution_count": 8,
     "metadata": {},
     "output_type": "execute_result"
    }
   ],
   "source": [
    "df.category.value_counts()"
   ]
  },
  {
   "cell_type": "code",
   "execution_count": 9,
   "metadata": {},
   "outputs": [],
   "source": [
    "#df = acquire.scrape_github_data()"
   ]
  },
  {
   "cell_type": "code",
   "execution_count": 10,
   "metadata": {},
   "outputs": [],
   "source": [
    "#df"
   ]
  },
  {
   "cell_type": "code",
   "execution_count": 11,
   "metadata": {},
   "outputs": [],
   "source": [
    "#df = pd.DataFrame(df)"
   ]
  },
  {
   "cell_type": "code",
   "execution_count": 12,
   "metadata": {},
   "outputs": [],
   "source": [
    "#df"
   ]
  },
  {
   "cell_type": "code",
   "execution_count": 13,
   "metadata": {
    "scrolled": true
   },
   "outputs": [],
   "source": [
    "#df.dtypes"
   ]
  },
  {
   "cell_type": "code",
   "execution_count": 14,
   "metadata": {},
   "outputs": [],
   "source": [
    "#df.head()"
   ]
  },
  {
   "cell_type": "code",
   "execution_count": 15,
   "metadata": {},
   "outputs": [],
   "source": [
    "# prepare data\n",
    "#df = prepare.prep_repo_data(df)"
   ]
  },
  {
   "cell_type": "code",
   "execution_count": 16,
   "metadata": {},
   "outputs": [],
   "source": [
    "#df"
   ]
  },
  {
   "cell_type": "code",
   "execution_count": 17,
   "metadata": {
    "scrolled": true
   },
   "outputs": [],
   "source": [
    "#df.dtypes"
   ]
  },
  {
   "cell_type": "code",
   "execution_count": 18,
   "metadata": {},
   "outputs": [],
   "source": [
    "#df.info()"
   ]
  },
  {
   "cell_type": "code",
   "execution_count": 19,
   "metadata": {},
   "outputs": [],
   "source": [
    "#df.language.value_counts()"
   ]
  },
  {
   "cell_type": "code",
   "execution_count": 20,
   "metadata": {},
   "outputs": [],
   "source": [
    "# plt.figure(figsize=(16,8))\n",
    "# df.language.value_counts().head(15).plot.barh(width=.9, ec='black', title='15 most popular language  repos')\n",
    "# plt.xlabel('Number of occurances')"
   ]
  },
  {
   "cell_type": "markdown",
   "metadata": {},
   "source": [
    "## Exploration"
   ]
  },
  {
   "cell_type": "markdown",
   "metadata": {},
   "source": [
    "- What are the most common words in READMEs?\n",
    "- What does the distribution of IDFs look like for the most common words?\n",
    "- Does the length of the README vary by programming language?\n",
    "- Do different programming languages use a different number of unique words?"
   ]
  },
  {
   "cell_type": "code",
   "execution_count": 21,
   "metadata": {},
   "outputs": [],
   "source": [
    "import matplotlib.pyplot as plt\n",
    "import seaborn as sns\n",
    "import nltk\n",
    "import nltk.sentiment\n",
    "import re"
   ]
  },
  {
   "cell_type": "code",
   "execution_count": 22,
   "metadata": {},
   "outputs": [
    {
     "data": {
      "text/plain": [
       "Text(0.5, 0, 'Number of occurances')"
      ]
     },
     "execution_count": 22,
     "metadata": {},
     "output_type": "execute_result"
    },
    {
     "data": {
      "image/png": "[encoded data removed]",
      "text/plain": [
       "<Figure size 864x432 with 1 Axes>"
      ]
     },
     "metadata": {
      "needs_background": "light"
     },
     "output_type": "display_data"
    }
   ],
   "source": [
    "# What are the most common words in READMEs?\n",
    "all_words = ' '.join(df.clean_lemmatized).split()\n",
    "plt.figure(figsize=(12,6))\n",
    "pd.Series(all_words).value_counts().head(15).plot.barh(width=.9, ec='black', title='15 most common words in READMEs')\n",
    "plt.xlabel('Number of occurances')"
   ]
  },
  {
   "cell_type": "code",
   "execution_count": 23,
   "metadata": {},
   "outputs": [
    {
     "data": {
      "image/png": "[encoded data removed]",
      "text/plain": [
       "<Figure size 1008x576 with 1 Axes>"
      ]
     },
     "metadata": {
      "needs_background": "light"
     },
     "output_type": "display_data"
    }
   ],
   "source": [
    "plt.figure(figsize=(14,8))\n",
    "df.language.value_counts().sort_values(ascending=True).tail(10).plot.barh(width=.8)\n",
    "plt.title('10 most popular languages used in the repos')\n",
    "plt.xlabel('Number of occurances')\n",
    "plt.show()"
   ]
  },
  {
   "cell_type": "markdown",
   "metadata": {},
   "source": [
    "- Does the length of the README vary by programming language?"
   ]
  },
  {
   "cell_type": "code",
   "execution_count": 24,
   "metadata": {},
   "outputs": [],
   "source": [
    "#feature engineering, add a new feature as clean_lemmatized_length\n",
    "df[\"clean_lemmatized_length\"] = df.clean_lemmatized.apply(len)"
   ]
  },
  {
   "cell_type": "code",
   "execution_count": 25,
   "metadata": {},
   "outputs": [
    {
     "data": {
      "text/html": [
       "<div>\n",
       "<style scoped>\n",
       "    .dataframe tbody tr th:only-of-type {\n",
       "        vertical-align: middle;\n",
       "    }\n",
       "\n",
       "    .dataframe tbody tr th {\n",
       "        vertical-align: top;\n",
       "    }\n",
       "\n",
       "    .dataframe thead th {\n",
       "        text-align: right;\n",
       "    }\n",
       "</style>\n",
       "<table border=\"1\" class=\"dataframe\">\n",
       "  <thead>\n",
       "    <tr style=\"text-align: right;\">\n",
       "      <th></th>\n",
       "      <th>language</th>\n",
       "      <th>category</th>\n",
       "      <th>repo</th>\n",
       "      <th>readme_contents</th>\n",
       "      <th>clean_tokes</th>\n",
       "      <th>clean_stemmed</th>\n",
       "      <th>clean_lemmatized</th>\n",
       "      <th>clean_lemmatized_length</th>\n",
       "    </tr>\n",
       "  </thead>\n",
       "  <tbody>\n",
       "    <tr>\n",
       "      <td>0</td>\n",
       "      <td>C</td>\n",
       "      <td>solar_energy</td>\n",
       "      <td>N-BodyShop/gasoline</td>\n",
       "      <td>```\\n \\t  ▄████  ▄▄▄        ██████  ▒█████   █...</td>\n",
       "      <td>[&amp;#9;, &amp;#9;, &amp;#9;, &amp;#9;, &amp;#9;, &amp;#9;, &amp;#9;, &amp;#9...</td>\n",
       "      <td>&amp;#9; &amp;#9; &amp;#9; &amp;#9; &amp;#9; &amp;#9; &amp;#9; &amp;#9; &amp;#9; g...</td>\n",
       "      <td>&amp;#9; &amp;#9; &amp;#9; &amp;#9; &amp;#9; &amp;#9; &amp;#9; &amp;#9; &amp;#9; g...</td>\n",
       "      <td>1015</td>\n",
       "    </tr>\n",
       "    <tr>\n",
       "      <td>1</td>\n",
       "      <td>OCaml</td>\n",
       "      <td>solar_energy</td>\n",
       "      <td>michipili/gasoline</td>\n",
       "      <td># Gasoline\\n\\nThe Gasoline project aims at imp...</td>\n",
       "      <td>[gasoline, the, gasoline, project, aims, at, i...</td>\n",
       "      <td>gasolin gasolin project aim implement unixish ...</td>\n",
       "      <td>gasoline gasoline project aim implementing uni...</td>\n",
       "      <td>3544</td>\n",
       "    </tr>\n",
       "    <tr>\n",
       "      <td>2</td>\n",
       "      <td>TypeScript</td>\n",
       "      <td>solar_energy</td>\n",
       "      <td>rvikmanis/gasoline</td>\n",
       "      <td># Gasoline\\n\\nConvenient state container for R...</td>\n",
       "      <td>[gasoline, convenient, state, container, for, ...</td>\n",
       "      <td>gasolin conveni state contain react instal npm...</td>\n",
       "      <td>gasoline convenient state container react inst...</td>\n",
       "      <td>269</td>\n",
       "    </tr>\n",
       "    <tr>\n",
       "      <td>3</td>\n",
       "      <td>Python</td>\n",
       "      <td>solar_energy</td>\n",
       "      <td>iggisv9t/benzin_gif</td>\n",
       "      <td># benzin_gif\\nCreate animated gifs that looks ...</td>\n",
       "      <td>[benzin_gif, create, animated, gifs, that, loo...</td>\n",
       "      <td>benzin_gif creat anim gif look like gasolin pu...</td>\n",
       "      <td>benzin_gif create animated gifs look like gaso...</td>\n",
       "      <td>586</td>\n",
       "    </tr>\n",
       "    <tr>\n",
       "      <td>4</td>\n",
       "      <td>Go</td>\n",
       "      <td>solar_energy</td>\n",
       "      <td>daneharrigan/gasoline</td>\n",
       "      <td># gasoline\\n\\n![Gasoline Dashboard](http://cl....</td>\n",
       "      <td>[gasoline, gasoline, dashboardhttpcllyimage3l1...</td>\n",
       "      <td>gasolin gasolin dashboardhttpcllyimage3l190u3q...</td>\n",
       "      <td>gasoline gasoline dashboardhttpcllyimage3l190u...</td>\n",
       "      <td>1760</td>\n",
       "    </tr>\n",
       "    <tr>\n",
       "      <td>...</td>\n",
       "      <td>...</td>\n",
       "      <td>...</td>\n",
       "      <td>...</td>\n",
       "      <td>...</td>\n",
       "      <td>...</td>\n",
       "      <td>...</td>\n",
       "      <td>...</td>\n",
       "      <td>...</td>\n",
       "    </tr>\n",
       "    <tr>\n",
       "      <td>594</td>\n",
       "      <td>JavaScript</td>\n",
       "      <td>natural_gas</td>\n",
       "      <td>sukanyavenkataraman/enerhack</td>\n",
       "      <td># Enerhack\\n\\nCode for communicating between t...</td>\n",
       "      <td>[enerhack, code, for, communicating, between, ...</td>\n",
       "      <td>enerhack code commun energyan dahsboard</td>\n",
       "      <td>enerhack code communicating energyan dahsboard</td>\n",
       "      <td>46</td>\n",
       "    </tr>\n",
       "    <tr>\n",
       "      <td>595</td>\n",
       "      <td>Jupyter Notebook</td>\n",
       "      <td>natural_gas</td>\n",
       "      <td>souvikb07/solar-energy-cost-calculator-models</td>\n",
       "      <td># solar-energy-cost-calculator-models\\n\\n### W...</td>\n",
       "      <td>[solarenergycostcalculatormodels, work, in, pr...</td>\n",
       "      <td>solarenergycostcalculatormodel work progress</td>\n",
       "      <td>solarenergycostcalculatormodels work progress</td>\n",
       "      <td>45</td>\n",
       "    </tr>\n",
       "    <tr>\n",
       "      <td>596</td>\n",
       "      <td>CSS</td>\n",
       "      <td>natural_gas</td>\n",
       "      <td>suwalka/ushasolarpower</td>\n",
       "      <td># usp\\nClient site based on solar energy produ...</td>\n",
       "      <td>[usp, client, site, based, on, solar, energy, ...</td>\n",
       "      <td>usp client site base solar energi product</td>\n",
       "      <td>usp client site based solar energy product</td>\n",
       "      <td>42</td>\n",
       "    </tr>\n",
       "    <tr>\n",
       "      <td>598</td>\n",
       "      <td>HTML</td>\n",
       "      <td>natural_gas</td>\n",
       "      <td>kerrongordon/gsetri</td>\n",
       "      <td># Generator-jekyllrb \\n\\n[![Build Status](http...</td>\n",
       "      <td>[generatorjekyllrb, build, statushttpstravisci...</td>\n",
       "      <td>generatorjekyllrb build statushttpstravisciorg...</td>\n",
       "      <td>generatorjekyllrb build statushttpstravisciorg...</td>\n",
       "      <td>172</td>\n",
       "    </tr>\n",
       "    <tr>\n",
       "      <td>599</td>\n",
       "      <td>PHP</td>\n",
       "      <td>natural_gas</td>\n",
       "      <td>lsg2550/Mobile-Solar-Energy-Environmental-Cont...</td>\n",
       "      <td># Mobile Solar Energy Environmental Control Sy...</td>\n",
       "      <td>[mobile, solar, energy, environmental, control...</td>\n",
       "      <td>mobil solar energi environment control system ...</td>\n",
       "      <td>mobile solar energy environmental control syst...</td>\n",
       "      <td>1139</td>\n",
       "    </tr>\n",
       "  </tbody>\n",
       "</table>\n",
       "<p>408 rows × 8 columns</p>\n",
       "</div>"
      ],
      "text/plain": [
       "             language      category  \\\n",
       "0                   C  solar_energy   \n",
       "1               OCaml  solar_energy   \n",
       "2          TypeScript  solar_energy   \n",
       "3              Python  solar_energy   \n",
       "4                  Go  solar_energy   \n",
       "..                ...           ...   \n",
       "594        JavaScript   natural_gas   \n",
       "595  Jupyter Notebook   natural_gas   \n",
       "596               CSS   natural_gas   \n",
       "598              HTML   natural_gas   \n",
       "599               PHP   natural_gas   \n",
       "\n",
       "                                                  repo  \\\n",
       "0                                  N-BodyShop/gasoline   \n",
       "1                                   michipili/gasoline   \n",
       "2                                   rvikmanis/gasoline   \n",
       "3                                  iggisv9t/benzin_gif   \n",
       "4                                daneharrigan/gasoline   \n",
       "..                                                 ...   \n",
       "594                       sukanyavenkataraman/enerhack   \n",
       "595      souvikb07/solar-energy-cost-calculator-models   \n",
       "596                             suwalka/ushasolarpower   \n",
       "598                                kerrongordon/gsetri   \n",
       "599  lsg2550/Mobile-Solar-Energy-Environmental-Cont...   \n",
       "\n",
       "                                       readme_contents  \\\n",
       "0    ```\\n \\t  ▄████  ▄▄▄        ██████  ▒█████   █...   \n",
       "1    # Gasoline\\n\\nThe Gasoline project aims at imp...   \n",
       "2    # Gasoline\\n\\nConvenient state container for R...   \n",
       "3    # benzin_gif\\nCreate animated gifs that looks ...   \n",
       "4    # gasoline\\n\\n![Gasoline Dashboard](http://cl....   \n",
       "..                                                 ...   \n",
       "594  # Enerhack\\n\\nCode for communicating between t...   \n",
       "595  # solar-energy-cost-calculator-models\\n\\n### W...   \n",
       "596  # usp\\nClient site based on solar energy produ...   \n",
       "598  # Generator-jekyllrb \\n\\n[![Build Status](http...   \n",
       "599  # Mobile Solar Energy Environmental Control Sy...   \n",
       "\n",
       "                                           clean_tokes  \\\n",
       "0    [&#9;, &#9;, &#9;, &#9;, &#9;, &#9;, &#9;, &#9...   \n",
       "1    [gasoline, the, gasoline, project, aims, at, i...   \n",
       "2    [gasoline, convenient, state, container, for, ...   \n",
       "3    [benzin_gif, create, animated, gifs, that, loo...   \n",
       "4    [gasoline, gasoline, dashboardhttpcllyimage3l1...   \n",
       "..                                                 ...   \n",
       "594  [enerhack, code, for, communicating, between, ...   \n",
       "595  [solarenergycostcalculatormodels, work, in, pr...   \n",
       "596  [usp, client, site, based, on, solar, energy, ...   \n",
       "598  [generatorjekyllrb, build, statushttpstravisci...   \n",
       "599  [mobile, solar, energy, environmental, control...   \n",
       "\n",
       "                                         clean_stemmed  \\\n",
       "0    &#9; &#9; &#9; &#9; &#9; &#9; &#9; &#9; &#9; g...   \n",
       "1    gasolin gasolin project aim implement unixish ...   \n",
       "2    gasolin conveni state contain react instal npm...   \n",
       "3    benzin_gif creat anim gif look like gasolin pu...   \n",
       "4    gasolin gasolin dashboardhttpcllyimage3l190u3q...   \n",
       "..                                                 ...   \n",
       "594            enerhack code commun energyan dahsboard   \n",
       "595       solarenergycostcalculatormodel work progress   \n",
       "596          usp client site base solar energi product   \n",
       "598  generatorjekyllrb build statushttpstravisciorg...   \n",
       "599  mobil solar energi environment control system ...   \n",
       "\n",
       "                                      clean_lemmatized  \\\n",
       "0    &#9; &#9; &#9; &#9; &#9; &#9; &#9; &#9; &#9; g...   \n",
       "1    gasoline gasoline project aim implementing uni...   \n",
       "2    gasoline convenient state container react inst...   \n",
       "3    benzin_gif create animated gifs look like gaso...   \n",
       "4    gasoline gasoline dashboardhttpcllyimage3l190u...   \n",
       "..                                                 ...   \n",
       "594     enerhack code communicating energyan dahsboard   \n",
       "595      solarenergycostcalculatormodels work progress   \n",
       "596         usp client site based solar energy product   \n",
       "598  generatorjekyllrb build statushttpstravisciorg...   \n",
       "599  mobile solar energy environmental control syst...   \n",
       "\n",
       "     clean_lemmatized_length  \n",
       "0                       1015  \n",
       "1                       3544  \n",
       "2                        269  \n",
       "3                        586  \n",
       "4                       1760  \n",
       "..                       ...  \n",
       "594                       46  \n",
       "595                       45  \n",
       "596                       42  \n",
       "598                      172  \n",
       "599                     1139  \n",
       "\n",
       "[408 rows x 8 columns]"
      ]
     },
     "execution_count": 25,
     "metadata": {},
     "output_type": "execute_result"
    }
   ],
   "source": [
    "df"
   ]
  },
  {
   "cell_type": "code",
   "execution_count": 26,
   "metadata": {},
   "outputs": [
    {
     "data": {
      "text/plain": [
       "<matplotlib.axes._subplots.AxesSubplot at 0x1a27960b50>"
      ]
     },
     "execution_count": 26,
     "metadata": {},
     "output_type": "execute_result"
    },
    {
     "data": {
      "image/png": "[encoded data removed]",
      "text/plain": [
       "<Figure size 432x288 with 1 Axes>"
      ]
     },
     "metadata": {
      "needs_background": "light"
     },
     "output_type": "display_data"
    }
   ],
   "source": [
    "df.clean_lemmatized_length.hist()"
   ]
  },
  {
   "cell_type": "code",
   "execution_count": 27,
   "metadata": {
    "scrolled": true
   },
   "outputs": [
    {
     "data": {
      "text/plain": [
       "0                     C\n",
       "3                Python\n",
       "5                     C\n",
       "8      Jupyter Notebook\n",
       "9                Python\n",
       "             ...       \n",
       "591              Python\n",
       "594          JavaScript\n",
       "595    Jupyter Notebook\n",
       "598                HTML\n",
       "599                 PHP\n",
       "Name: language, Length: 329, dtype: object"
      ]
     },
     "execution_count": 27,
     "metadata": {},
     "output_type": "execute_result"
    }
   ],
   "source": [
    "# get top 10 popular languages\n",
    "top_language = list(df.language.value_counts().head(10).index)\n",
    "top_language\n",
    "df[df.language.isin(top_language)].language"
   ]
  },
  {
   "cell_type": "code",
   "execution_count": 28,
   "metadata": {
    "scrolled": false
   },
   "outputs": [
    {
     "data": {
      "image/png": "[encoded data removed]",
      "text/plain": [
       "<Figure size 1296x648 with 1 Axes>"
      ]
     },
     "metadata": {
      "needs_background": "light"
     },
     "output_type": "display_data"
    }
   ],
   "source": [
    "plt.figure(figsize=(18,9))\n",
    "sns.boxplot(y=df[df.clean_lemmatized_length < 5000].clean_lemmatized_length, x=df[df.language.isin(top_language)].language)\n",
    "plt.title(\"READMEs length by 10 most popular programing languages\")\n",
    "plt.xlabel('Programming Language')\n",
    "plt.ylabel('README Length')\n",
    "plt.show()"
   ]
  },
  {
   "cell_type": "code",
   "execution_count": 29,
   "metadata": {},
   "outputs": [],
   "source": [
    "# # What are the most common words in READMEs?\n",
    "# all_words = ' '.join(df.clean_lemmatized).split()\n",
    "# plt.figure(figsize=(12,6))\n",
    "# pd.Series(all_words).value_counts().head(15).plot.barh(width=.9, ec='black', title='15 most common words in READMEs')\n",
    "# plt.xlabel('Number of occurances')"
   ]
  },
  {
   "cell_type": "markdown",
   "metadata": {},
   "source": [
    "## Hypothesis Testing \n",
    "\n",
    "### Chi Square test"
   ]
  },
  {
   "cell_type": "code",
   "execution_count": 30,
   "metadata": {},
   "outputs": [],
   "source": [
    "from scipy import stats"
   ]
  },
  {
   "cell_type": "code",
   "execution_count": 31,
   "metadata": {
    "scrolled": false
   },
   "outputs": [
    {
     "data": {
      "text/html": [
       "<div>\n",
       "<style scoped>\n",
       "    .dataframe tbody tr th:only-of-type {\n",
       "        vertical-align: middle;\n",
       "    }\n",
       "\n",
       "    .dataframe tbody tr th {\n",
       "        vertical-align: top;\n",
       "    }\n",
       "\n",
       "    .dataframe thead th {\n",
       "        text-align: right;\n",
       "    }\n",
       "</style>\n",
       "<table border=\"1\" class=\"dataframe\">\n",
       "  <thead>\n",
       "    <tr style=\"text-align: right;\">\n",
       "      <th></th>\n",
       "      <th>language</th>\n",
       "      <th>category</th>\n",
       "      <th>repo</th>\n",
       "      <th>readme_contents</th>\n",
       "      <th>clean_tokes</th>\n",
       "      <th>clean_stemmed</th>\n",
       "      <th>clean_lemmatized</th>\n",
       "      <th>clean_lemmatized_length</th>\n",
       "    </tr>\n",
       "  </thead>\n",
       "  <tbody>\n",
       "    <tr>\n",
       "      <td>0</td>\n",
       "      <td>C</td>\n",
       "      <td>solar_energy</td>\n",
       "      <td>N-BodyShop/gasoline</td>\n",
       "      <td>```\\n \\t  ▄████  ▄▄▄        ██████  ▒█████   █...</td>\n",
       "      <td>[&amp;#9;, &amp;#9;, &amp;#9;, &amp;#9;, &amp;#9;, &amp;#9;, &amp;#9;, &amp;#9...</td>\n",
       "      <td>&amp;#9; &amp;#9; &amp;#9; &amp;#9; &amp;#9; &amp;#9; &amp;#9; &amp;#9; &amp;#9; g...</td>\n",
       "      <td>&amp;#9; &amp;#9; &amp;#9; &amp;#9; &amp;#9; &amp;#9; &amp;#9; &amp;#9; &amp;#9; g...</td>\n",
       "      <td>1015</td>\n",
       "    </tr>\n",
       "    <tr>\n",
       "      <td>1</td>\n",
       "      <td>OCaml</td>\n",
       "      <td>solar_energy</td>\n",
       "      <td>michipili/gasoline</td>\n",
       "      <td># Gasoline\\n\\nThe Gasoline project aims at imp...</td>\n",
       "      <td>[gasoline, the, gasoline, project, aims, at, i...</td>\n",
       "      <td>gasolin gasolin project aim implement unixish ...</td>\n",
       "      <td>gasoline gasoline project aim implementing uni...</td>\n",
       "      <td>3544</td>\n",
       "    </tr>\n",
       "    <tr>\n",
       "      <td>2</td>\n",
       "      <td>TypeScript</td>\n",
       "      <td>solar_energy</td>\n",
       "      <td>rvikmanis/gasoline</td>\n",
       "      <td># Gasoline\\n\\nConvenient state container for R...</td>\n",
       "      <td>[gasoline, convenient, state, container, for, ...</td>\n",
       "      <td>gasolin conveni state contain react instal npm...</td>\n",
       "      <td>gasoline convenient state container react inst...</td>\n",
       "      <td>269</td>\n",
       "    </tr>\n",
       "    <tr>\n",
       "      <td>3</td>\n",
       "      <td>Python</td>\n",
       "      <td>solar_energy</td>\n",
       "      <td>iggisv9t/benzin_gif</td>\n",
       "      <td># benzin_gif\\nCreate animated gifs that looks ...</td>\n",
       "      <td>[benzin_gif, create, animated, gifs, that, loo...</td>\n",
       "      <td>benzin_gif creat anim gif look like gasolin pu...</td>\n",
       "      <td>benzin_gif create animated gifs look like gaso...</td>\n",
       "      <td>586</td>\n",
       "    </tr>\n",
       "    <tr>\n",
       "      <td>4</td>\n",
       "      <td>Go</td>\n",
       "      <td>solar_energy</td>\n",
       "      <td>daneharrigan/gasoline</td>\n",
       "      <td># gasoline\\n\\n![Gasoline Dashboard](http://cl....</td>\n",
       "      <td>[gasoline, gasoline, dashboardhttpcllyimage3l1...</td>\n",
       "      <td>gasolin gasolin dashboardhttpcllyimage3l190u3q...</td>\n",
       "      <td>gasoline gasoline dashboardhttpcllyimage3l190u...</td>\n",
       "      <td>1760</td>\n",
       "    </tr>\n",
       "  </tbody>\n",
       "</table>\n",
       "</div>"
      ],
      "text/plain": [
       "     language      category                   repo  \\\n",
       "0           C  solar_energy    N-BodyShop/gasoline   \n",
       "1       OCaml  solar_energy     michipili/gasoline   \n",
       "2  TypeScript  solar_energy     rvikmanis/gasoline   \n",
       "3      Python  solar_energy    iggisv9t/benzin_gif   \n",
       "4          Go  solar_energy  daneharrigan/gasoline   \n",
       "\n",
       "                                     readme_contents  \\\n",
       "0  ```\\n \\t  ▄████  ▄▄▄        ██████  ▒█████   █...   \n",
       "1  # Gasoline\\n\\nThe Gasoline project aims at imp...   \n",
       "2  # Gasoline\\n\\nConvenient state container for R...   \n",
       "3  # benzin_gif\\nCreate animated gifs that looks ...   \n",
       "4  # gasoline\\n\\n![Gasoline Dashboard](http://cl....   \n",
       "\n",
       "                                         clean_tokes  \\\n",
       "0  [&#9;, &#9;, &#9;, &#9;, &#9;, &#9;, &#9;, &#9...   \n",
       "1  [gasoline, the, gasoline, project, aims, at, i...   \n",
       "2  [gasoline, convenient, state, container, for, ...   \n",
       "3  [benzin_gif, create, animated, gifs, that, loo...   \n",
       "4  [gasoline, gasoline, dashboardhttpcllyimage3l1...   \n",
       "\n",
       "                                       clean_stemmed  \\\n",
       "0  &#9; &#9; &#9; &#9; &#9; &#9; &#9; &#9; &#9; g...   \n",
       "1  gasolin gasolin project aim implement unixish ...   \n",
       "2  gasolin conveni state contain react instal npm...   \n",
       "3  benzin_gif creat anim gif look like gasolin pu...   \n",
       "4  gasolin gasolin dashboardhttpcllyimage3l190u3q...   \n",
       "\n",
       "                                    clean_lemmatized  clean_lemmatized_length  \n",
       "0  &#9; &#9; &#9; &#9; &#9; &#9; &#9; &#9; &#9; g...                     1015  \n",
       "1  gasoline gasoline project aim implementing uni...                     3544  \n",
       "2  gasoline convenient state container react inst...                      269  \n",
       "3  benzin_gif create animated gifs look like gaso...                      586  \n",
       "4  gasoline gasoline dashboardhttpcllyimage3l190u...                     1760  "
      ]
     },
     "execution_count": 31,
     "metadata": {},
     "output_type": "execute_result"
    }
   ],
   "source": [
    "df.head()"
   ]
  },
  {
   "cell_type": "markdown",
   "metadata": {},
   "source": [
    "$H_0$:  Using a programming language and being in a energy category are independent of each other.\n",
    "\n",
    "$H_a$:  Using a programming language and being in a energy category are dependent of each other."
   ]
  },
  {
   "cell_type": "code",
   "execution_count": 32,
   "metadata": {},
   "outputs": [
    {
     "data": {
      "text/html": [
       "<div>\n",
       "<style scoped>\n",
       "    .dataframe tbody tr th:only-of-type {\n",
       "        vertical-align: middle;\n",
       "    }\n",
       "\n",
       "    .dataframe tbody tr th {\n",
       "        vertical-align: top;\n",
       "    }\n",
       "\n",
       "    .dataframe thead th {\n",
       "        text-align: right;\n",
       "    }\n",
       "</style>\n",
       "<table border=\"1\" class=\"dataframe\">\n",
       "  <thead>\n",
       "    <tr style=\"text-align: right;\">\n",
       "      <th>language</th>\n",
       "      <th>ActionScript</th>\n",
       "      <th>Arduino</th>\n",
       "      <th>Batchfile</th>\n",
       "      <th>C</th>\n",
       "      <th>C#</th>\n",
       "      <th>C++</th>\n",
       "      <th>CMake</th>\n",
       "      <th>CSS</th>\n",
       "      <th>Cuda</th>\n",
       "      <th>Dart</th>\n",
       "      <th>...</th>\n",
       "      <th>R</th>\n",
       "      <th>Ruby</th>\n",
       "      <th>Scala</th>\n",
       "      <th>Swift</th>\n",
       "      <th>TSQL</th>\n",
       "      <th>TeX</th>\n",
       "      <th>TypeScript</th>\n",
       "      <th>Visual Basic</th>\n",
       "      <th>Visual Basic .NET</th>\n",
       "      <th>Vue</th>\n",
       "    </tr>\n",
       "    <tr>\n",
       "      <th>category</th>\n",
       "      <th></th>\n",
       "      <th></th>\n",
       "      <th></th>\n",
       "      <th></th>\n",
       "      <th></th>\n",
       "      <th></th>\n",
       "      <th></th>\n",
       "      <th></th>\n",
       "      <th></th>\n",
       "      <th></th>\n",
       "      <th></th>\n",
       "      <th></th>\n",
       "      <th></th>\n",
       "      <th></th>\n",
       "      <th></th>\n",
       "      <th></th>\n",
       "      <th></th>\n",
       "      <th></th>\n",
       "      <th></th>\n",
       "      <th></th>\n",
       "      <th></th>\n",
       "    </tr>\n",
       "  </thead>\n",
       "  <tbody>\n",
       "    <tr>\n",
       "      <td>natural_gas</td>\n",
       "      <td>1</td>\n",
       "      <td>3</td>\n",
       "      <td>2</td>\n",
       "      <td>12</td>\n",
       "      <td>7</td>\n",
       "      <td>18</td>\n",
       "      <td>1</td>\n",
       "      <td>8</td>\n",
       "      <td>1</td>\n",
       "      <td>0</td>\n",
       "      <td>...</td>\n",
       "      <td>7</td>\n",
       "      <td>2</td>\n",
       "      <td>1</td>\n",
       "      <td>0</td>\n",
       "      <td>1</td>\n",
       "      <td>2</td>\n",
       "      <td>1</td>\n",
       "      <td>1</td>\n",
       "      <td>0</td>\n",
       "      <td>1</td>\n",
       "    </tr>\n",
       "    <tr>\n",
       "      <td>petroleum</td>\n",
       "      <td>0</td>\n",
       "      <td>0</td>\n",
       "      <td>0</td>\n",
       "      <td>3</td>\n",
       "      <td>1</td>\n",
       "      <td>1</td>\n",
       "      <td>0</td>\n",
       "      <td>0</td>\n",
       "      <td>0</td>\n",
       "      <td>2</td>\n",
       "      <td>...</td>\n",
       "      <td>5</td>\n",
       "      <td>0</td>\n",
       "      <td>0</td>\n",
       "      <td>2</td>\n",
       "      <td>0</td>\n",
       "      <td>0</td>\n",
       "      <td>4</td>\n",
       "      <td>0</td>\n",
       "      <td>0</td>\n",
       "      <td>0</td>\n",
       "    </tr>\n",
       "    <tr>\n",
       "      <td>solar_energy</td>\n",
       "      <td>0</td>\n",
       "      <td>0</td>\n",
       "      <td>0</td>\n",
       "      <td>3</td>\n",
       "      <td>1</td>\n",
       "      <td>0</td>\n",
       "      <td>0</td>\n",
       "      <td>2</td>\n",
       "      <td>0</td>\n",
       "      <td>0</td>\n",
       "      <td>...</td>\n",
       "      <td>2</td>\n",
       "      <td>3</td>\n",
       "      <td>0</td>\n",
       "      <td>1</td>\n",
       "      <td>0</td>\n",
       "      <td>0</td>\n",
       "      <td>1</td>\n",
       "      <td>0</td>\n",
       "      <td>1</td>\n",
       "      <td>0</td>\n",
       "    </tr>\n",
       "  </tbody>\n",
       "</table>\n",
       "<p>3 rows × 41 columns</p>\n",
       "</div>"
      ],
      "text/plain": [
       "language      ActionScript  Arduino  Batchfile   C  C#  C++  CMake  CSS  Cuda  \\\n",
       "category                                                                        \n",
       "natural_gas              1        3          2  12   7   18      1    8     1   \n",
       "petroleum                0        0          0   3   1    1      0    0     0   \n",
       "solar_energy             0        0          0   3   1    0      0    2     0   \n",
       "\n",
       "language      Dart  ...  R  Ruby  Scala  Swift  TSQL  TeX  TypeScript  \\\n",
       "category            ...                                                 \n",
       "natural_gas      0  ...  7     2      1      0     1    2           1   \n",
       "petroleum        2  ...  5     0      0      2     0    0           4   \n",
       "solar_energy     0  ...  2     3      0      1     0    0           1   \n",
       "\n",
       "language      Visual Basic  Visual Basic .NET  Vue  \n",
       "category                                            \n",
       "natural_gas              1                  0    1  \n",
       "petroleum                0                  0    0  \n",
       "solar_energy             0                  1    0  \n",
       "\n",
       "[3 rows x 41 columns]"
      ]
     },
     "execution_count": 32,
     "metadata": {},
     "output_type": "execute_result"
    }
   ],
   "source": [
    "observed = pd.crosstab(df.category, df.language)\n",
    "observed"
   ]
  },
  {
   "cell_type": "code",
   "execution_count": 33,
   "metadata": {},
   "outputs": [
    {
     "name": "stdout",
     "output_type": "stream",
     "text": [
      "Observed\n",
      "\n",
      "[[ 1  3  2 12  7 18  1  8  1  0  2  1  0 17 12 25 55  1  1  8  0  4  1  0\n",
      "   0  7  1  1 36  1 45  7  2  1  0  1  2  1  1  0  1]\n",
      " [ 0  0  0  3  1  1  0  0  0  2  0  0  1  7  5 12  7  0  0  0  0  1  0  0\n",
      "   2  3  0  0  0  1  2  5  0  0  2  0  0  4  0  0  0]\n",
      " [ 0  0  0  3  1  0  0  2  0  0  0  0  1  5  4 22  5  0  0  0  1  0  0  1\n",
      "   0  4  0  0  0  0  5  2  3  0  1  0  0  1  0  1  0]]\n",
      "---\n",
      "Expected\n",
      "\n",
      "[[ 0.70343137  2.11029412  1.40686275 12.66176471  6.33088235 13.36519608\n",
      "   0.70343137  7.03431373  0.70343137  1.40686275  1.40686275  0.70343137\n",
      "   1.40686275 20.3995098  14.77205882 41.50245098 47.12990196  0.70343137\n",
      "   0.70343137  5.62745098  0.70343137  3.51715686  0.70343137  0.70343137\n",
      "   1.40686275  9.84803922  0.70343137  0.70343137 25.32352941  1.40686275\n",
      "  36.57843137  9.84803922  3.51715686  0.70343137  2.11029412  0.70343137\n",
      "   1.40686275  4.22058824  0.70343137  0.70343137  0.70343137]\n",
      " [ 0.14460784  0.43382353  0.28921569  2.60294118  1.30147059  2.74754902\n",
      "   0.14460784  1.44607843  0.14460784  0.28921569  0.28921569  0.14460784\n",
      "   0.28921569  4.19362745  3.03676471  8.53186275  9.68872549  0.14460784\n",
      "   0.14460784  1.15686275  0.14460784  0.72303922  0.14460784  0.14460784\n",
      "   0.28921569  2.0245098   0.14460784  0.14460784  5.20588235  0.28921569\n",
      "   7.51960784  2.0245098   0.72303922  0.14460784  0.43382353  0.14460784\n",
      "   0.28921569  0.86764706  0.14460784  0.14460784  0.14460784]\n",
      " [ 0.15196078  0.45588235  0.30392157  2.73529412  1.36764706  2.8872549\n",
      "   0.15196078  1.51960784  0.15196078  0.30392157  0.30392157  0.15196078\n",
      "   0.30392157  4.40686275  3.19117647  8.96568627 10.18137255  0.15196078\n",
      "   0.15196078  1.21568627  0.15196078  0.75980392  0.15196078  0.15196078\n",
      "   0.30392157  2.12745098  0.15196078  0.15196078  5.47058824  0.30392157\n",
      "   7.90196078  2.12745098  0.75980392  0.15196078  0.45588235  0.15196078\n",
      "   0.30392157  0.91176471  0.15196078  0.15196078  0.15196078]]\n",
      "---\n",
      "\n",
      "chi^2 = 165.2841\n",
      "p     = 0.0000\n",
      "alpha = 0.01\n"
     ]
    }
   ],
   "source": [
    "chi2, p, degf, expected = stats.chi2_contingency(observed)\n",
    "chi2, p, degf, expected \n",
    "print('Observed\\n')\n",
    "print(observed.values)\n",
    "print('---\\nExpected\\n')\n",
    "print(expected)\n",
    "print('---\\n')\n",
    "print(f'chi^2 = {chi2:.4f}')\n",
    "print(f'p     = {p:.4f}')\n",
    "print('alpha = 0.01')"
   ]
  },
  {
   "cell_type": "code",
   "execution_count": 38,
   "metadata": {},
   "outputs": [
    {
     "name": "stdout",
     "output_type": "stream",
     "text": [
      "\n",
      "Because p (0.2628) < alpha (.05),  reject the null hypothesis, \n",
      "which indicates that using a programming language and being in a specific energy category are dependent of each other. \n",
      "\n"
     ]
    }
   ],
   "source": [
    "print(f'''\n",
    "Because p ({p:.4f}) < alpha (.05),  reject the null hypothesis, \n",
    "which indicates that using a programming language and being in a specific energy category are dependent of each other. \n",
    "''')"
   ]
  },
  {
   "cell_type": "markdown",
   "metadata": {},
   "source": [
    "## T-Test"
   ]
  },
  {
   "cell_type": "markdown",
   "metadata": {},
   "source": [
    "$H_0$: There is no difference in readme length Between Python and Java.\n",
    "\n",
    "$H_a$: There is no difference in readme length Between Python and Java."
   ]
  },
  {
   "cell_type": "code",
   "execution_count": 35,
   "metadata": {},
   "outputs": [],
   "source": [
    "x1 = df[df.language == 'Python'].clean_lemmatized_length\n",
    "x2 = df[df.language == 'CSS'].clean_lemmatized_length"
   ]
  },
  {
   "cell_type": "code",
   "execution_count": 36,
   "metadata": {},
   "outputs": [
    {
     "name": "stdout",
     "output_type": "stream",
     "text": [
      "tstat = 1.130406544038096\n",
      "p = 0.26280350859501156\n"
     ]
    }
   ],
   "source": [
    "alpha = 0.05\n",
    "tstat, p = stats.ttest_ind(x1, x2)\n",
    "tstat, p \n",
    "print('tstat =', tstat)\n",
    "print('p =', p)"
   ]
  },
  {
   "cell_type": "code",
   "execution_count": 37,
   "metadata": {},
   "outputs": [
    {
     "name": "stdout",
     "output_type": "stream",
     "text": [
      "\n",
      "Because p (0.2628) > alpha (.05) , failed to reject the null hypothesis, \n",
      "which indicate that there is no statistic significant difference in readme length Between repostories\n",
      "using Python and Java. \n",
      "\n"
     ]
    }
   ],
   "source": [
    "print(f'''\n",
    "Because p ({p:.4f}) > alpha (.05) , failed to reject the null hypothesis, \n",
    "which indicate that there is no statistic significant difference in readme length Between repostories\n",
    "using Python and Java. \n",
    "''')"
   ]
  },
  {
   "cell_type": "code",
   "execution_count": null,
   "metadata": {},
   "outputs": [],
   "source": []
  }
 ],
 "metadata": {
  "kernelspec": {
   "display_name": "Python 3",
   "language": "python",
   "name": "python3"
  },
  "language_info": {
   "codemirror_mode": {
    "name": "ipython",
    "version": 3
   },
   "file_extension": ".py",
   "mimetype": "text/x-python",
   "name": "python",
   "nbconvert_exporter": "python",
   "pygments_lexer": "ipython3",
   "version": "3.7.4"
  }
 },
 "nbformat": 4,
 "nbformat_minor": 2
}
