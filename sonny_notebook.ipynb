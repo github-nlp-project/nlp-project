{
 "cells": [
  {
   "cell_type": "code",
   "execution_count": 1,
   "metadata": {},
   "outputs": [],
   "source": [
    "import pandas as pd\n",
    "import numpy as np\n",
    "import sonny_acquire\n",
    "import prepare\n",
    "import acquire"
   ]
  },
  {
   "cell_type": "code",
   "execution_count": 2,
   "metadata": {
    "scrolled": true
   },
   "outputs": [
    {
     "data": {
      "text/html": [
       "<div>\n",
       "<style scoped>\n",
       "    .dataframe tbody tr th:only-of-type {\n",
       "        vertical-align: middle;\n",
       "    }\n",
       "\n",
       "    .dataframe tbody tr th {\n",
       "        vertical-align: top;\n",
       "    }\n",
       "\n",
       "    .dataframe thead th {\n",
       "        text-align: right;\n",
       "    }\n",
       "</style>\n",
       "<table border=\"1\" class=\"dataframe\">\n",
       "  <thead>\n",
       "    <tr style=\"text-align: right;\">\n",
       "      <th></th>\n",
       "      <th>language</th>\n",
       "      <th>category</th>\n",
       "      <th>repo</th>\n",
       "      <th>readme_contents</th>\n",
       "    </tr>\n",
       "  </thead>\n",
       "  <tbody>\n",
       "    <tr>\n",
       "      <th>0</th>\n",
       "      <td>C</td>\n",
       "      <td>gasoline</td>\n",
       "      <td>N-BodyShop/gasoline</td>\n",
       "      <td>```\\n \\t  ▄████  ▄▄▄        ██████  ▒█████   █...</td>\n",
       "    </tr>\n",
       "    <tr>\n",
       "      <th>1</th>\n",
       "      <td>OCaml</td>\n",
       "      <td>gasoline</td>\n",
       "      <td>michipili/gasoline</td>\n",
       "      <td># Gasoline\\n\\nThe Gasoline project aims at imp...</td>\n",
       "    </tr>\n",
       "    <tr>\n",
       "      <th>2</th>\n",
       "      <td>TypeScript</td>\n",
       "      <td>gasoline</td>\n",
       "      <td>rvikmanis/gasoline</td>\n",
       "      <td># Gasoline\\n\\nConvenient state container for R...</td>\n",
       "    </tr>\n",
       "    <tr>\n",
       "      <th>3</th>\n",
       "      <td>Python</td>\n",
       "      <td>gasoline</td>\n",
       "      <td>iggisv9t/benzin_gif</td>\n",
       "      <td># benzin_gif\\nCreate animated gifs that looks ...</td>\n",
       "    </tr>\n",
       "    <tr>\n",
       "      <th>4</th>\n",
       "      <td>Go</td>\n",
       "      <td>gasoline</td>\n",
       "      <td>daneharrigan/gasoline</td>\n",
       "      <td># gasoline\\n\\n![Gasoline Dashboard](http://cl....</td>\n",
       "    </tr>\n",
       "  </tbody>\n",
       "</table>\n",
       "</div>"
      ],
      "text/plain": [
       "     language  category                   repo  \\\n",
       "0           C  gasoline    N-BodyShop/gasoline   \n",
       "1       OCaml  gasoline     michipili/gasoline   \n",
       "2  TypeScript  gasoline     rvikmanis/gasoline   \n",
       "3      Python  gasoline    iggisv9t/benzin_gif   \n",
       "4          Go  gasoline  daneharrigan/gasoline   \n",
       "\n",
       "                                     readme_contents  \n",
       "0  ```\\n \\t  ▄████  ▄▄▄        ██████  ▒█████   █...  \n",
       "1  # Gasoline\\n\\nThe Gasoline project aims at imp...  \n",
       "2  # Gasoline\\n\\nConvenient state container for R...  \n",
       "3  # benzin_gif\\nCreate animated gifs that looks ...  \n",
       "4  # gasoline\\n\\n![Gasoline Dashboard](http://cl....  "
      ]
     },
     "execution_count": 2,
     "metadata": {},
     "output_type": "execute_result"
    }
   ],
   "source": [
    "df = pd.read_csv('new_repos_dict.csv')\n",
    "df['category'] = 'unknown'\n",
    "df.loc[:200, 'category'] = 'gasoline'\n",
    "df.loc[200:400, 'category'] = 'wind_energy'\n",
    "df.loc[400:, 'category'] = 'solar_power'\n",
    "df = df[['language','category','repo','readme_contents']]\n",
    "df.head()"
   ]
  },
  {
   "cell_type": "code",
   "execution_count": 3,
   "metadata": {},
   "outputs": [
    {
     "data": {
      "text/plain": [
       "wind_energy    16\n",
       "solar_power    15\n",
       "gasoline       12\n",
       "Name: category, dtype: int64"
      ]
     },
     "execution_count": 3,
     "metadata": {},
     "output_type": "execute_result"
    }
   ],
   "source": [
    "df[df.language.isna()].category.value_counts()"
   ]
  },
  {
   "cell_type": "code",
   "execution_count": 4,
   "metadata": {},
   "outputs": [],
   "source": [
    "df = prepare.prep_repo_data(df)\n",
    "df.dropna(inplace=True)\n",
    "df = df.reset_index(drop=True)"
   ]
  },
  {
   "cell_type": "code",
   "execution_count": 5,
   "metadata": {},
   "outputs": [
    {
     "data": {
      "text/html": [
       "<div>\n",
       "<style scoped>\n",
       "    .dataframe tbody tr th:only-of-type {\n",
       "        vertical-align: middle;\n",
       "    }\n",
       "\n",
       "    .dataframe tbody tr th {\n",
       "        vertical-align: top;\n",
       "    }\n",
       "\n",
       "    .dataframe thead th {\n",
       "        text-align: right;\n",
       "    }\n",
       "</style>\n",
       "<table border=\"1\" class=\"dataframe\">\n",
       "  <thead>\n",
       "    <tr style=\"text-align: right;\">\n",
       "      <th></th>\n",
       "      <th>language</th>\n",
       "      <th>category</th>\n",
       "      <th>repo</th>\n",
       "      <th>readme_contents</th>\n",
       "      <th>clean_tokes</th>\n",
       "      <th>clean_stemmed</th>\n",
       "      <th>clean_lemmatized</th>\n",
       "    </tr>\n",
       "  </thead>\n",
       "  <tbody>\n",
       "    <tr>\n",
       "      <th>0</th>\n",
       "      <td>C</td>\n",
       "      <td>gasoline</td>\n",
       "      <td>N-BodyShop/gasoline</td>\n",
       "      <td>```\\n \\t  ▄████  ▄▄▄        ██████  ▒█████   █...</td>\n",
       "      <td>[&amp;#9;, &amp;#9;, &amp;#9;, &amp;#9;, &amp;#9;, &amp;#9;, &amp;#9;, &amp;#9...</td>\n",
       "      <td>&amp;#9; &amp;#9; &amp;#9; &amp;#9; &amp;#9; &amp;#9; &amp;#9; &amp;#9; &amp;#9; g...</td>\n",
       "      <td>&amp;#9; &amp;#9; &amp;#9; &amp;#9; &amp;#9; &amp;#9; &amp;#9; &amp;#9; &amp;#9; g...</td>\n",
       "    </tr>\n",
       "    <tr>\n",
       "      <th>1</th>\n",
       "      <td>OCaml</td>\n",
       "      <td>gasoline</td>\n",
       "      <td>michipili/gasoline</td>\n",
       "      <td># Gasoline\\n\\nThe Gasoline project aims at imp...</td>\n",
       "      <td>[gasoline, the, gasoline, project, aims, at, i...</td>\n",
       "      <td>gasolin gasolin project aim implement unixish ...</td>\n",
       "      <td>gasoline gasoline project aim implementing uni...</td>\n",
       "    </tr>\n",
       "    <tr>\n",
       "      <th>2</th>\n",
       "      <td>TypeScript</td>\n",
       "      <td>gasoline</td>\n",
       "      <td>rvikmanis/gasoline</td>\n",
       "      <td># Gasoline\\n\\nConvenient state container for R...</td>\n",
       "      <td>[gasoline, convenient, state, container, for, ...</td>\n",
       "      <td>gasolin conveni state contain react instal npm...</td>\n",
       "      <td>gasoline convenient state container react inst...</td>\n",
       "    </tr>\n",
       "    <tr>\n",
       "      <th>3</th>\n",
       "      <td>Python</td>\n",
       "      <td>gasoline</td>\n",
       "      <td>iggisv9t/benzin_gif</td>\n",
       "      <td># benzin_gif\\nCreate animated gifs that looks ...</td>\n",
       "      <td>[benzin_gif, create, animated, gifs, that, loo...</td>\n",
       "      <td>benzin_gif creat anim gif look like gasolin pu...</td>\n",
       "      <td>benzin_gif create animated gifs look like gaso...</td>\n",
       "    </tr>\n",
       "    <tr>\n",
       "      <th>4</th>\n",
       "      <td>Go</td>\n",
       "      <td>gasoline</td>\n",
       "      <td>daneharrigan/gasoline</td>\n",
       "      <td># gasoline\\n\\n![Gasoline Dashboard](http://cl....</td>\n",
       "      <td>[gasoline, gasoline, dashboardhttpcllyimage3l1...</td>\n",
       "      <td>gasolin gasolin dashboardhttpcllyimage3l190u3q...</td>\n",
       "      <td>gasoline gasoline dashboardhttpcllyimage3l190u...</td>\n",
       "    </tr>\n",
       "  </tbody>\n",
       "</table>\n",
       "</div>"
      ],
      "text/plain": [
       "     language  category                   repo  \\\n",
       "0           C  gasoline    N-BodyShop/gasoline   \n",
       "1       OCaml  gasoline     michipili/gasoline   \n",
       "2  TypeScript  gasoline     rvikmanis/gasoline   \n",
       "3      Python  gasoline    iggisv9t/benzin_gif   \n",
       "4          Go  gasoline  daneharrigan/gasoline   \n",
       "\n",
       "                                     readme_contents  \\\n",
       "0  ```\\n \\t  ▄████  ▄▄▄        ██████  ▒█████   █...   \n",
       "1  # Gasoline\\n\\nThe Gasoline project aims at imp...   \n",
       "2  # Gasoline\\n\\nConvenient state container for R...   \n",
       "3  # benzin_gif\\nCreate animated gifs that looks ...   \n",
       "4  # gasoline\\n\\n![Gasoline Dashboard](http://cl....   \n",
       "\n",
       "                                         clean_tokes  \\\n",
       "0  [&#9;, &#9;, &#9;, &#9;, &#9;, &#9;, &#9;, &#9...   \n",
       "1  [gasoline, the, gasoline, project, aims, at, i...   \n",
       "2  [gasoline, convenient, state, container, for, ...   \n",
       "3  [benzin_gif, create, animated, gifs, that, loo...   \n",
       "4  [gasoline, gasoline, dashboardhttpcllyimage3l1...   \n",
       "\n",
       "                                       clean_stemmed  \\\n",
       "0  &#9; &#9; &#9; &#9; &#9; &#9; &#9; &#9; &#9; g...   \n",
       "1  gasolin gasolin project aim implement unixish ...   \n",
       "2  gasolin conveni state contain react instal npm...   \n",
       "3  benzin_gif creat anim gif look like gasolin pu...   \n",
       "4  gasolin gasolin dashboardhttpcllyimage3l190u3q...   \n",
       "\n",
       "                                    clean_lemmatized  \n",
       "0  &#9; &#9; &#9; &#9; &#9; &#9; &#9; &#9; &#9; g...  \n",
       "1  gasoline gasoline project aim implementing uni...  \n",
       "2  gasoline convenient state container react inst...  \n",
       "3  benzin_gif create animated gifs look like gaso...  \n",
       "4  gasoline gasoline dashboardhttpcllyimage3l190u...  "
      ]
     },
     "execution_count": 5,
     "metadata": {},
     "output_type": "execute_result"
    }
   ],
   "source": [
    "df.head()"
   ]
  },
  {
   "cell_type": "code",
   "execution_count": 6,
   "metadata": {},
   "outputs": [],
   "source": [
    "df = df[df.index!=135]\n",
    "df = df[df.index!=269]"
   ]
  },
  {
   "cell_type": "code",
   "execution_count": 7,
   "metadata": {},
   "outputs": [
    {
     "data": {
      "text/plain": [
       "(408, 7)"
      ]
     },
     "execution_count": 7,
     "metadata": {},
     "output_type": "execute_result"
    }
   ],
   "source": [
    "df.shape"
   ]
  },
  {
   "cell_type": "code",
   "execution_count": 8,
   "metadata": {},
   "outputs": [
    {
     "data": {
      "text/plain": [
       "solar_power    151\n",
       "wind_energy    135\n",
       "gasoline       122\n",
       "Name: category, dtype: int64"
      ]
     },
     "execution_count": 8,
     "metadata": {},
     "output_type": "execute_result"
    }
   ],
   "source": [
    "df.category.value_counts()"
   ]
  },
  {
   "cell_type": "code",
   "execution_count": 9,
   "metadata": {},
   "outputs": [],
   "source": [
    "df['word_count'] = df.clean_lemmatized.str.split().apply(len)"
   ]
  },
  {
   "cell_type": "code",
   "execution_count": 10,
   "metadata": {},
   "outputs": [],
   "source": [
    "df = df.replace('Matlab','MATLAB')"
   ]
  },
  {
   "cell_type": "markdown",
   "metadata": {},
   "source": [
    "## Exploration"
   ]
  },
  {
   "cell_type": "markdown",
   "metadata": {},
   "source": [
    "- What are the most common words in READMEs?\n",
    "- What does the distribution of IDFs look like for the most common words?\n",
    "- Does the length of the README vary by programming language?\n",
    "- Do different programming languages use a different number of unique words?"
   ]
  },
  {
   "cell_type": "code",
   "execution_count": 11,
   "metadata": {},
   "outputs": [],
   "source": [
    "import matplotlib.pyplot as plt\n",
    "import seaborn as sns\n",
    "import nltk\n",
    "import nltk.sentiment\n",
    "import re"
   ]
  },
  {
   "cell_type": "code",
   "execution_count": 12,
   "metadata": {},
   "outputs": [],
   "source": [
    "plt.rc('figure', figsize=(14,8))\n",
    "plt.rc('font', size=13)"
   ]
  },
  {
   "cell_type": "code",
   "execution_count": 13,
   "metadata": {},
   "outputs": [
    {
     "data": {
      "text/plain": [
       "Text(0.5, 0, 'Number of occurances')"
      ]
     },
     "execution_count": 13,
     "metadata": {},
     "output_type": "execute_result"
    },
    {
     "data": {
      "image/png": "[encoded data removed]",
      "text/plain": [
       "<Figure size 864x432 with 1 Axes>"
      ]
     },
     "metadata": {
      "needs_background": "light"
     },
     "output_type": "display_data"
    }
   ],
   "source": [
    "# What are the most common words in READMEs?\n",
    "all_words = ' '.join(df.clean_lemmatized).split()\n",
    "plt.figure(figsize=(12,6))\n",
    "pd.Series(all_words).value_counts().head(15).plot.barh(width=.9, ec='black', title='15 most common words in READMEs')\n",
    "plt.xlabel('Number of occurances')"
   ]
  },
  {
   "cell_type": "code",
   "execution_count": 14,
   "metadata": {},
   "outputs": [
    {
     "data": {
      "image/png": "[encoded data removed]",
      "text/plain": [
       "<Figure size 1008x576 with 1 Axes>"
      ]
     },
     "metadata": {
      "needs_background": "light"
     },
     "output_type": "display_data"
    }
   ],
   "source": [
    "plt.figure(figsize=(14,8))\n",
    "df.language.value_counts().sort_values(ascending=True).tail(10).plot.barh(width=.8)\n",
    "plt.title('10 most popular languages used in the repos')\n",
    "plt.xlabel('Number of occurances')\n",
    "plt.show()"
   ]
  },
  {
   "cell_type": "markdown",
   "metadata": {},
   "source": [
    "- Does the length of the README vary by programming language?"
   ]
  },
  {
   "cell_type": "code",
   "execution_count": 15,
   "metadata": {},
   "outputs": [
    {
     "data": {
      "text/html": [
       "<div>\n",
       "<style scoped>\n",
       "    .dataframe tbody tr th:only-of-type {\n",
       "        vertical-align: middle;\n",
       "    }\n",
       "\n",
       "    .dataframe tbody tr th {\n",
       "        vertical-align: top;\n",
       "    }\n",
       "\n",
       "    .dataframe thead th {\n",
       "        text-align: right;\n",
       "    }\n",
       "</style>\n",
       "<table border=\"1\" class=\"dataframe\">\n",
       "  <thead>\n",
       "    <tr style=\"text-align: right;\">\n",
       "      <th></th>\n",
       "      <th>language</th>\n",
       "      <th>category</th>\n",
       "      <th>repo</th>\n",
       "      <th>readme_contents</th>\n",
       "      <th>clean_tokes</th>\n",
       "      <th>clean_stemmed</th>\n",
       "      <th>clean_lemmatized</th>\n",
       "      <th>word_count</th>\n",
       "    </tr>\n",
       "  </thead>\n",
       "  <tbody>\n",
       "    <tr>\n",
       "      <th>0</th>\n",
       "      <td>C</td>\n",
       "      <td>gasoline</td>\n",
       "      <td>N-BodyShop/gasoline</td>\n",
       "      <td>```\\n \\t  ▄████  ▄▄▄        ██████  ▒█████   █...</td>\n",
       "      <td>[&amp;#9;, &amp;#9;, &amp;#9;, &amp;#9;, &amp;#9;, &amp;#9;, &amp;#9;, &amp;#9...</td>\n",
       "      <td>&amp;#9; &amp;#9; &amp;#9; &amp;#9; &amp;#9; &amp;#9; &amp;#9; &amp;#9; &amp;#9; g...</td>\n",
       "      <td>&amp;#9; &amp;#9; &amp;#9; &amp;#9; &amp;#9; &amp;#9; &amp;#9; &amp;#9; &amp;#9; g...</td>\n",
       "      <td>105</td>\n",
       "    </tr>\n",
       "    <tr>\n",
       "      <th>1</th>\n",
       "      <td>OCaml</td>\n",
       "      <td>gasoline</td>\n",
       "      <td>michipili/gasoline</td>\n",
       "      <td># Gasoline\\n\\nThe Gasoline project aims at imp...</td>\n",
       "      <td>[gasoline, the, gasoline, project, aims, at, i...</td>\n",
       "      <td>gasolin gasolin project aim implement unixish ...</td>\n",
       "      <td>gasoline gasoline project aim implementing uni...</td>\n",
       "      <td>345</td>\n",
       "    </tr>\n",
       "    <tr>\n",
       "      <th>2</th>\n",
       "      <td>TypeScript</td>\n",
       "      <td>gasoline</td>\n",
       "      <td>rvikmanis/gasoline</td>\n",
       "      <td># Gasoline\\n\\nConvenient state container for R...</td>\n",
       "      <td>[gasoline, convenient, state, container, for, ...</td>\n",
       "      <td>gasolin conveni state contain react instal npm...</td>\n",
       "      <td>gasoline convenient state container react inst...</td>\n",
       "      <td>27</td>\n",
       "    </tr>\n",
       "    <tr>\n",
       "      <th>3</th>\n",
       "      <td>Python</td>\n",
       "      <td>gasoline</td>\n",
       "      <td>iggisv9t/benzin_gif</td>\n",
       "      <td># benzin_gif\\nCreate animated gifs that looks ...</td>\n",
       "      <td>[benzin_gif, create, animated, gifs, that, loo...</td>\n",
       "      <td>benzin_gif creat anim gif look like gasolin pu...</td>\n",
       "      <td>benzin_gif create animated gifs look like gaso...</td>\n",
       "      <td>61</td>\n",
       "    </tr>\n",
       "    <tr>\n",
       "      <th>4</th>\n",
       "      <td>Go</td>\n",
       "      <td>gasoline</td>\n",
       "      <td>daneharrigan/gasoline</td>\n",
       "      <td># gasoline\\n\\n![Gasoline Dashboard](http://cl....</td>\n",
       "      <td>[gasoline, gasoline, dashboardhttpcllyimage3l1...</td>\n",
       "      <td>gasolin gasolin dashboardhttpcllyimage3l190u3q...</td>\n",
       "      <td>gasoline gasoline dashboardhttpcllyimage3l190u...</td>\n",
       "      <td>244</td>\n",
       "    </tr>\n",
       "  </tbody>\n",
       "</table>\n",
       "</div>"
      ],
      "text/plain": [
       "     language  category                   repo  \\\n",
       "0           C  gasoline    N-BodyShop/gasoline   \n",
       "1       OCaml  gasoline     michipili/gasoline   \n",
       "2  TypeScript  gasoline     rvikmanis/gasoline   \n",
       "3      Python  gasoline    iggisv9t/benzin_gif   \n",
       "4          Go  gasoline  daneharrigan/gasoline   \n",
       "\n",
       "                                     readme_contents  \\\n",
       "0  ```\\n \\t  ▄████  ▄▄▄        ██████  ▒█████   █...   \n",
       "1  # Gasoline\\n\\nThe Gasoline project aims at imp...   \n",
       "2  # Gasoline\\n\\nConvenient state container for R...   \n",
       "3  # benzin_gif\\nCreate animated gifs that looks ...   \n",
       "4  # gasoline\\n\\n![Gasoline Dashboard](http://cl....   \n",
       "\n",
       "                                         clean_tokes  \\\n",
       "0  [&#9;, &#9;, &#9;, &#9;, &#9;, &#9;, &#9;, &#9...   \n",
       "1  [gasoline, the, gasoline, project, aims, at, i...   \n",
       "2  [gasoline, convenient, state, container, for, ...   \n",
       "3  [benzin_gif, create, animated, gifs, that, loo...   \n",
       "4  [gasoline, gasoline, dashboardhttpcllyimage3l1...   \n",
       "\n",
       "                                       clean_stemmed  \\\n",
       "0  &#9; &#9; &#9; &#9; &#9; &#9; &#9; &#9; &#9; g...   \n",
       "1  gasolin gasolin project aim implement unixish ...   \n",
       "2  gasolin conveni state contain react instal npm...   \n",
       "3  benzin_gif creat anim gif look like gasolin pu...   \n",
       "4  gasolin gasolin dashboardhttpcllyimage3l190u3q...   \n",
       "\n",
       "                                    clean_lemmatized  word_count  \n",
       "0  &#9; &#9; &#9; &#9; &#9; &#9; &#9; &#9; &#9; g...         105  \n",
       "1  gasoline gasoline project aim implementing uni...         345  \n",
       "2  gasoline convenient state container react inst...          27  \n",
       "3  benzin_gif create animated gifs look like gaso...          61  \n",
       "4  gasoline gasoline dashboardhttpcllyimage3l190u...         244  "
      ]
     },
     "execution_count": 15,
     "metadata": {},
     "output_type": "execute_result"
    }
   ],
   "source": [
    "df.head()"
   ]
  },
  {
   "cell_type": "code",
   "execution_count": 16,
   "metadata": {},
   "outputs": [
    {
     "data": {
      "text/plain": [
       "Jupyter Notebook    67\n",
       "JavaScript          57\n",
       "Python              52\n",
       "PowerShell          36\n",
       "HTML                30\n",
       "Java                22\n",
       "C++                 19\n",
       "C                   18\n",
       "PHP                 14\n",
       "R                   14\n",
       "Name: language, dtype: int64"
      ]
     },
     "execution_count": 16,
     "metadata": {},
     "output_type": "execute_result"
    }
   ],
   "source": [
    "df.language.value_counts().head(10)"
   ]
  },
  {
   "cell_type": "code",
   "execution_count": 17,
   "metadata": {},
   "outputs": [
    {
     "data": {
      "text/plain": [
       "language\n",
       "TSQL                 774.000000\n",
       "Objective-C          563.000000\n",
       "JavaScript           539.807018\n",
       "Visual Basic         522.000000\n",
       "OCaml                345.000000\n",
       "Ruby                 320.400000\n",
       "PostScript           264.000000\n",
       "Scala                245.000000\n",
       "Python               224.750000\n",
       "HTML                 206.766667\n",
       "R                    204.785714\n",
       "Makefile             187.000000\n",
       "Go                   147.500000\n",
       "Jupyter Notebook     140.985075\n",
       "Modelica             135.000000\n",
       "MATLAB               130.923077\n",
       "C++                  112.631579\n",
       "M                    103.000000\n",
       "CMake                101.000000\n",
       "Java                  97.363636\n",
       "C#                    96.666667\n",
       "CSS                   91.900000\n",
       "PowerShell            90.527778\n",
       "Perl                  77.000000\n",
       "Eagle                 72.000000\n",
       "PHP                   70.857143\n",
       "Arduino               66.000000\n",
       "C                     64.944444\n",
       "TypeScript            56.833333\n",
       "ActionScript          49.000000\n",
       "Processing            45.500000\n",
       "Fortran               41.000000\n",
       "Vue                   34.000000\n",
       "Dart                  32.000000\n",
       "TeX                   19.500000\n",
       "Swift                 19.000000\n",
       "Batchfile              8.500000\n",
       "Visual Basic .NET      6.000000\n",
       "Cuda                   5.000000\n",
       "Lua                    2.000000\n",
       "Name: word_count, dtype: float64"
      ]
     },
     "execution_count": 17,
     "metadata": {},
     "output_type": "execute_result"
    }
   ],
   "source": [
    "df.groupby('language').word_count.mean().sort_values(ascending=False)"
   ]
  },
  {
   "cell_type": "code",
   "execution_count": 18,
   "metadata": {
    "scrolled": false
   },
   "outputs": [
    {
     "data": {
      "text/plain": [
       "<matplotlib.axes._subplots.AxesSubplot at 0x12e3e8050>"
      ]
     },
     "execution_count": 18,
     "metadata": {},
     "output_type": "execute_result"
    },
    {
     "data": {
      "image/png": "[encoded data removed]",
      "text/plain": [
       "<Figure size 1008x576 with 1 Axes>"
      ]
     },
     "metadata": {
      "needs_background": "light"
     },
     "output_type": "display_data"
    }
   ],
   "source": [
    "df.word_count.hist()"
   ]
  },
  {
   "cell_type": "code",
   "execution_count": 19,
   "metadata": {},
   "outputs": [
    {
     "data": {
      "image/png": "[encoded data removed]",
      "text/plain": [
       "<Figure size 1008x576 with 1 Axes>"
      ]
     },
     "metadata": {
      "needs_background": "light"
     },
     "output_type": "display_data"
    }
   ],
   "source": [
    "# swarm plot for energy category and README word counts\n",
    "sns.swarmplot(x=df['category'], y=df[df.word_count < 500].word_count);"
   ]
  },
  {
   "cell_type": "code",
   "execution_count": 20,
   "metadata": {
    "scrolled": false
   },
   "outputs": [
    {
     "data": {
      "text/plain": [
       "0                     C\n",
       "3                Python\n",
       "5                     C\n",
       "7      Jupyter Notebook\n",
       "8                Python\n",
       "             ...       \n",
       "403              Python\n",
       "405          JavaScript\n",
       "406    Jupyter Notebook\n",
       "408                HTML\n",
       "409                 PHP\n",
       "Name: language, Length: 329, dtype: object"
      ]
     },
     "execution_count": 20,
     "metadata": {},
     "output_type": "execute_result"
    }
   ],
   "source": [
    "# get top 10 popular languages\n",
    "top_language = list(df.language.value_counts().head(10).index)\n",
    "top_language\n",
    "df[df.language.isin(top_language)].language"
   ]
  },
  {
   "cell_type": "code",
   "execution_count": 21,
   "metadata": {
    "scrolled": false
   },
   "outputs": [
    {
     "data": {
      "image/png": "[encoded data removed]",
      "text/plain": [
       "<Figure size 1296x648 with 1 Axes>"
      ]
     },
     "metadata": {
      "needs_background": "light"
     },
     "output_type": "display_data"
    }
   ],
   "source": [
    "plt.figure(figsize=(18,9))\n",
    "sns.boxplot(y=df[df.word_count < 500].word_count, x=df[df.language.isin(top_language)].language)\n",
    "plt.title(\"READMEs length by 10 most popular programing languages\")\n",
    "plt.xlabel('Programming Language')\n",
    "plt.ylabel('README Length')\n",
    "plt.show()"
   ]
  },
  {
   "cell_type": "markdown",
   "metadata": {},
   "source": [
    "Do different programming languages use a different number of unique words?"
   ]
  },
  {
   "cell_type": "code",
   "execution_count": 28,
   "metadata": {},
   "outputs": [
    {
     "data": {
      "text/plain": [
       "69"
      ]
     },
     "execution_count": 28,
     "metadata": {},
     "output_type": "execute_result"
    }
   ],
   "source": [
    "len(set(df.clean_lemmatized[0].split(' ')))"
   ]
  },
  {
   "cell_type": "code",
   "execution_count": 36,
   "metadata": {},
   "outputs": [
    {
     "data": {
      "text/plain": [
       "3527"
      ]
     },
     "execution_count": 36,
     "metadata": {},
     "output_type": "execute_result"
    }
   ],
   "source": [
    "len(set(df[df.language=='Python'].clean_lemmatized.str.cat(sep=' ')\\\n",
    "    .split(' ')))"
   ]
  },
  {
   "cell_type": "code",
   "execution_count": 37,
   "metadata": {},
   "outputs": [
    {
     "data": {
      "text/plain": [
       "1111"
      ]
     },
     "execution_count": 37,
     "metadata": {},
     "output_type": "execute_result"
    }
   ],
   "source": [
    "len(set(df[df.language=='Java'].clean_lemmatized.str.cat(sep=' ')\\\n",
    "    .split(' ')))"
   ]
  },
  {
   "cell_type": "code",
   "execution_count": 51,
   "metadata": {},
   "outputs": [
    {
     "data": {
      "text/plain": [
       "JavaScript          4076\n",
       "Python              3527\n",
       "Jupyter Notebook    2850\n",
       "HTML                1960\n",
       "PowerShell          1383\n",
       "R                   1263\n",
       "Java                1111\n",
       "C++                 1094\n",
       "C                    752\n",
       "PHP                  603\n",
       "dtype: int64"
      ]
     },
     "execution_count": 51,
     "metadata": {},
     "output_type": "execute_result"
    }
   ],
   "source": [
    "uniques = []\n",
    "for lang in top_language:\n",
    "    uniques.append(len(set(df[df.language==lang].clean_lemmatized\\\n",
    "                           .str.cat(sep=' ').split(' '))))\n",
    "    \n",
    "pd.Series(uniques, index=top_language).sort_values(ascending=False)"
   ]
  },
  {
   "cell_type": "code",
   "execution_count": 53,
   "metadata": {},
   "outputs": [
    {
     "data": {
      "text/plain": [
       "Jupyter Notebook    67\n",
       "JavaScript          57\n",
       "Python              52\n",
       "PowerShell          36\n",
       "HTML                30\n",
       "Java                22\n",
       "C++                 19\n",
       "C                   18\n",
       "PHP                 14\n",
       "R                   14\n",
       "Name: language, dtype: int64"
      ]
     },
     "execution_count": 53,
     "metadata": {},
     "output_type": "execute_result"
    }
   ],
   "source": [
    "df.language.value_counts().head(10)"
   ]
  },
  {
   "cell_type": "markdown",
   "metadata": {},
   "source": [
    "## Word Clouds"
   ]
  },
  {
   "cell_type": "code",
   "execution_count": null,
   "metadata": {},
   "outputs": [],
   "source": [
    "from wordcloud import WordCloud\n",
    "# Look at the programming language value counts and create a word cloud of the words\n",
    "all_cloud = WordCloud(background_color='white').generate(' '.join(df.language))\n",
    "plt.figure(figsize=(12, 6))\n",
    "plt.imshow(all_cloud)\n",
    "plt.title('Programming Languages')\n",
    "plt.axis('off')\n",
    "plt.show()"
   ]
  },
  {
   "cell_type": "code",
   "execution_count": null,
   "metadata": {},
   "outputs": [],
   "source": [
    "all_words = \" \".join(df.clean_lemmatized).split()\n",
    "text = ' '.join(all_words)\n",
    "wc = WordCloud(background_color='white', width=1200, height=900)\n",
    "img = wc.generate(text)\n",
    "plt.figure(figsize=(12, 6))\n",
    "plt.imshow(img)\n",
    "plt.title('Words in READMEs')\n",
    "plt.axis('off')"
   ]
  },
  {
   "cell_type": "markdown",
   "metadata": {},
   "source": [
    "## Hypothesis Testing \n",
    "\n",
    "### Chi Square test"
   ]
  },
  {
   "cell_type": "code",
   "execution_count": null,
   "metadata": {},
   "outputs": [],
   "source": [
    "from scipy import stats"
   ]
  },
  {
   "cell_type": "code",
   "execution_count": null,
   "metadata": {
    "scrolled": false
   },
   "outputs": [],
   "source": [
    "df.head()"
   ]
  },
  {
   "cell_type": "markdown",
   "metadata": {},
   "source": [
    "$H_0$:  Using a programming language and being in a specific energy category are independent of each other.\n",
    "\n",
    "$H_a$:  Using a programming language and being in a specific energy category are dependent on each other."
   ]
  },
  {
   "cell_type": "code",
   "execution_count": null,
   "metadata": {},
   "outputs": [],
   "source": [
    "observed = pd.crosstab(df.category, df.language)\n",
    "observed"
   ]
  },
  {
   "cell_type": "code",
   "execution_count": null,
   "metadata": {},
   "outputs": [],
   "source": [
    "chi2, p, degf, expected = stats.chi2_contingency(observed)\n",
    "chi2, p, degf, expected \n",
    "print('Observed\\n')\n",
    "print(observed.values)\n",
    "print('---\\nExpected\\n')\n",
    "print(expected)\n",
    "print('---\\n')\n",
    "print(f'chi^2 = {chi2:.4f}')\n",
    "print(f'p     = {p:.4f}')\n",
    "print('alpha = 0.01')"
   ]
  },
  {
   "cell_type": "code",
   "execution_count": null,
   "metadata": {},
   "outputs": [],
   "source": [
    "print(f'''\n",
    "Because p ({p:.4f}) < alpha (.05),  reject the null hypothesis, \n",
    "which indicates that using a programming language and being in a \\\n",
    "specific energy category are dependent on each other. \n",
    "''')"
   ]
  },
  {
   "cell_type": "markdown",
   "metadata": {},
   "source": [
    "## T-Test"
   ]
  },
  {
   "cell_type": "markdown",
   "metadata": {},
   "source": [
    "$H_0$: There is no difference in README length between Python and Java.\n",
    "\n",
    "$H_a$: There is a difference in README length between Python and Java."
   ]
  },
  {
   "cell_type": "code",
   "execution_count": null,
   "metadata": {},
   "outputs": [],
   "source": [
    "df[df.language == 'Python'].word_count.median()"
   ]
  },
  {
   "cell_type": "code",
   "execution_count": null,
   "metadata": {},
   "outputs": [],
   "source": [
    "df[df.language == 'Java'].word_count.median()"
   ]
  },
  {
   "cell_type": "code",
   "execution_count": null,
   "metadata": {},
   "outputs": [],
   "source": [
    "x1 = df[df.language == 'Python'].word_count\n",
    "x2 = df[df.language == 'Java'].word_count"
   ]
  },
  {
   "cell_type": "code",
   "execution_count": null,
   "metadata": {},
   "outputs": [],
   "source": [
    "alpha = 0.05\n",
    "tstat, p = stats.ttest_ind(x1, x2)\n",
    "tstat, p \n",
    "print('tstat =', tstat)\n",
    "print('p =', p)"
   ]
  },
  {
   "cell_type": "code",
   "execution_count": null,
   "metadata": {},
   "outputs": [],
   "source": [
    "print(f'''\n",
    "Because p ({p:.4f}) > alpha (.05) , failed to reject the null \\\n",
    "hypothesis, which indicate that there is no significant difference \\\n",
    "in readme length between repostories using Python and Java. \n",
    "''')"
   ]
  },
  {
   "cell_type": "code",
   "execution_count": null,
   "metadata": {},
   "outputs": [],
   "source": []
  }
 ],
 "metadata": {
  "kernelspec": {
   "display_name": "Python 3",
   "language": "python",
   "name": "python3"
  },
  "language_info": {
   "codemirror_mode": {
    "name": "ipython",
    "version": 3
   },
   "file_extension": ".py",
   "mimetype": "text/x-python",
   "name": "python",
   "nbconvert_exporter": "python",
   "pygments_lexer": "ipython3",
   "version": "3.7.4"
  }
 },
 "nbformat": 4,
 "nbformat_minor": 2
}
