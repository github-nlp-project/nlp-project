{
 "cells": [
  {
   "cell_type": "code",
   "execution_count": 1,
   "metadata": {},
   "outputs": [],
   "source": [
    "import pandas as pd\n",
    "import numpy as np\n",
    "\n",
    "import matplotlib.pyplot as plt\n",
    "import seaborn as sns\n",
    "\n",
    "import nltk\n",
    "import nltk.sentiment\n",
    "import re\n",
    "\n",
    "from requests import get\n",
    "from bs4 import BeautifulSoup\n",
    "import os\n",
    "\n",
    "import acquire\n",
    "import prepare"
   ]
  },
  {
   "cell_type": "code",
   "execution_count": 2,
   "metadata": {},
   "outputs": [],
   "source": [
    "#acquire.acquire_repo_list('petroleum')"
   ]
  },
  {
   "cell_type": "code",
   "execution_count": 3,
   "metadata": {},
   "outputs": [],
   "source": [
    "#acquire.acquire_repo_list('solar energy')"
   ]
  },
  {
   "cell_type": "code",
   "execution_count": 4,
   "metadata": {},
   "outputs": [],
   "source": [
    "#acquire.acquire_repo_list('natural gas')"
   ]
  },
  {
   "cell_type": "code",
   "execution_count": 5,
   "metadata": {},
   "outputs": [],
   "source": [
    "#df = acquire.scrape_github_data()"
   ]
  },
  {
   "cell_type": "code",
   "execution_count": 6,
   "metadata": {},
   "outputs": [],
   "source": [
    "df = pd.read_csv('all_repos_dict.csv')"
   ]
  },
  {
   "cell_type": "code",
   "execution_count": 7,
   "metadata": {
    "scrolled": false
   },
   "outputs": [
    {
     "data": {
      "text/html": [
       "<div>\n",
       "<style scoped>\n",
       "    .dataframe tbody tr th:only-of-type {\n",
       "        vertical-align: middle;\n",
       "    }\n",
       "\n",
       "    .dataframe tbody tr th {\n",
       "        vertical-align: top;\n",
       "    }\n",
       "\n",
       "    .dataframe thead th {\n",
       "        text-align: right;\n",
       "    }\n",
       "</style>\n",
       "<table border=\"1\" class=\"dataframe\">\n",
       "  <thead>\n",
       "    <tr style=\"text-align: right;\">\n",
       "      <th></th>\n",
       "      <th>repo</th>\n",
       "      <th>language</th>\n",
       "      <th>readme_contents</th>\n",
       "    </tr>\n",
       "  </thead>\n",
       "  <tbody>\n",
       "    <tr>\n",
       "      <th>0</th>\n",
       "      <td>ColasGael/Machine-Learning-for-Solar-Energy-Pr...</td>\n",
       "      <td>Python</td>\n",
       "      <td># Machine-Learning-for-Solar-Energy-Prediction...</td>\n",
       "    </tr>\n",
       "    <tr>\n",
       "      <th>1</th>\n",
       "      <td>meltaxa/solariot</td>\n",
       "      <td>Python</td>\n",
       "      <td># Solariot\\n\\nLeverage your IoT enabled Solar ...</td>\n",
       "    </tr>\n",
       "    <tr>\n",
       "      <th>2</th>\n",
       "      <td>renewables-ninja/gsee</td>\n",
       "      <td>Python</td>\n",
       "      <td>[![Master branch build status](https://img.shi...</td>\n",
       "    </tr>\n",
       "    <tr>\n",
       "      <th>3</th>\n",
       "      <td>3KUdelta/Solar_WiFi_Weather_Station</td>\n",
       "      <td>C++</td>\n",
       "      <td># Zambretti Forecaster on Solar WiFi Weather S...</td>\n",
       "    </tr>\n",
       "    <tr>\n",
       "      <th>4</th>\n",
       "      <td>ropensci/nasapower</td>\n",
       "      <td>R</td>\n",
       "      <td>\\n[![R build status](https://github.com/ropens...</td>\n",
       "    </tr>\n",
       "    <tr>\n",
       "      <th>...</th>\n",
       "      <td>...</td>\n",
       "      <td>...</td>\n",
       "      <td>...</td>\n",
       "    </tr>\n",
       "    <tr>\n",
       "      <th>295</th>\n",
       "      <td>agregoire/qc-drilling-timeline</td>\n",
       "      <td>JavaScript</td>\n",
       "      <td>No README</td>\n",
       "    </tr>\n",
       "    <tr>\n",
       "      <th>296</th>\n",
       "      <td>chrord/Data_driven_Distributed_Operation_of_El...</td>\n",
       "      <td>NaN</td>\n",
       "      <td># Data-driven Distributed Operation of Electri...</td>\n",
       "    </tr>\n",
       "    <tr>\n",
       "      <th>297</th>\n",
       "      <td>chaiitanyasangani88/OperationalFlowRateVariation</td>\n",
       "      <td>MATLAB</td>\n",
       "      <td># OperationalFlowCaseStudy\\nA detailed study a...</td>\n",
       "    </tr>\n",
       "    <tr>\n",
       "      <th>298</th>\n",
       "      <td>jaburney/naturalgastransition</td>\n",
       "      <td>R</td>\n",
       "      <td>## Coal-to-Natural Gas Transition Impacts Anal...</td>\n",
       "    </tr>\n",
       "    <tr>\n",
       "      <th>299</th>\n",
       "      <td>leytzher/oil-price</td>\n",
       "      <td>JavaScript</td>\n",
       "      <td># oil-price\\nGet latest oil (WTI and Brent) an...</td>\n",
       "    </tr>\n",
       "  </tbody>\n",
       "</table>\n",
       "<p>300 rows × 3 columns</p>\n",
       "</div>"
      ],
      "text/plain": [
       "                                                  repo    language  \\\n",
       "0    ColasGael/Machine-Learning-for-Solar-Energy-Pr...      Python   \n",
       "1                                     meltaxa/solariot      Python   \n",
       "2                                renewables-ninja/gsee      Python   \n",
       "3                  3KUdelta/Solar_WiFi_Weather_Station         C++   \n",
       "4                                   ropensci/nasapower           R   \n",
       "..                                                 ...         ...   \n",
       "295                     agregoire/qc-drilling-timeline  JavaScript   \n",
       "296  chrord/Data_driven_Distributed_Operation_of_El...         NaN   \n",
       "297   chaiitanyasangani88/OperationalFlowRateVariation      MATLAB   \n",
       "298                      jaburney/naturalgastransition           R   \n",
       "299                                 leytzher/oil-price  JavaScript   \n",
       "\n",
       "                                       readme_contents  \n",
       "0    # Machine-Learning-for-Solar-Energy-Prediction...  \n",
       "1    # Solariot\\n\\nLeverage your IoT enabled Solar ...  \n",
       "2    [![Master branch build status](https://img.shi...  \n",
       "3    # Zambretti Forecaster on Solar WiFi Weather S...  \n",
       "4    \\n[![R build status](https://github.com/ropens...  \n",
       "..                                                 ...  \n",
       "295                                          No README  \n",
       "296  # Data-driven Distributed Operation of Electri...  \n",
       "297  # OperationalFlowCaseStudy\\nA detailed study a...  \n",
       "298  ## Coal-to-Natural Gas Transition Impacts Anal...  \n",
       "299  # oil-price\\nGet latest oil (WTI and Brent) an...  \n",
       "\n",
       "[300 rows x 3 columns]"
      ]
     },
     "execution_count": 7,
     "metadata": {},
     "output_type": "execute_result"
    }
   ],
   "source": [
    "df"
   ]
  },
  {
   "cell_type": "code",
   "execution_count": 8,
   "metadata": {},
   "outputs": [],
   "source": [
    "df.loc[:100, 'category'] = 'solar_energy'"
   ]
  },
  {
   "cell_type": "code",
   "execution_count": 9,
   "metadata": {},
   "outputs": [],
   "source": [
    "df.loc[100:200, 'category'] = 'petroleum'"
   ]
  },
  {
   "cell_type": "code",
   "execution_count": 10,
   "metadata": {},
   "outputs": [],
   "source": [
    "df.loc[200:, 'category'] = 'natural_gas'"
   ]
  },
  {
   "cell_type": "code",
   "execution_count": 11,
   "metadata": {},
   "outputs": [],
   "source": [
    "df = prepare.prep_repo_data(df)"
   ]
  },
  {
   "cell_type": "code",
   "execution_count": 12,
   "metadata": {},
   "outputs": [
    {
     "data": {
      "text/html": [
       "<div>\n",
       "<style scoped>\n",
       "    .dataframe tbody tr th:only-of-type {\n",
       "        vertical-align: middle;\n",
       "    }\n",
       "\n",
       "    .dataframe tbody tr th {\n",
       "        vertical-align: top;\n",
       "    }\n",
       "\n",
       "    .dataframe thead th {\n",
       "        text-align: right;\n",
       "    }\n",
       "</style>\n",
       "<table border=\"1\" class=\"dataframe\">\n",
       "  <thead>\n",
       "    <tr style=\"text-align: right;\">\n",
       "      <th></th>\n",
       "      <th>language</th>\n",
       "      <th>category</th>\n",
       "      <th>repo</th>\n",
       "      <th>readme_contents</th>\n",
       "      <th>clean_tokes</th>\n",
       "      <th>clean_stemmed</th>\n",
       "      <th>clean_lemmatized</th>\n",
       "    </tr>\n",
       "  </thead>\n",
       "  <tbody>\n",
       "    <tr>\n",
       "      <th>0</th>\n",
       "      <td>Python</td>\n",
       "      <td>solar_energy</td>\n",
       "      <td>ColasGael/Machine-Learning-for-Solar-Energy-Pr...</td>\n",
       "      <td># Machine-Learning-for-Solar-Energy-Prediction...</td>\n",
       "      <td>[machinelearningforsolarenergyprediction, by, ...</td>\n",
       "      <td>machinelearningforsolarenergypredict adel kuzm...</td>\n",
       "      <td>machinelearningforsolarenergyprediction adele ...</td>\n",
       "    </tr>\n",
       "    <tr>\n",
       "      <th>1</th>\n",
       "      <td>Python</td>\n",
       "      <td>solar_energy</td>\n",
       "      <td>meltaxa/solariot</td>\n",
       "      <td># Solariot\\n\\nLeverage your IoT enabled Solar ...</td>\n",
       "      <td>[solariot, leverage, your, iot, enabled, solar...</td>\n",
       "      <td>solariot leverag iot enabl solar pv invert str...</td>\n",
       "      <td>solariot leverage iot enabled solar pv inverte...</td>\n",
       "    </tr>\n",
       "    <tr>\n",
       "      <th>2</th>\n",
       "      <td>Python</td>\n",
       "      <td>solar_energy</td>\n",
       "      <td>renewables-ninja/gsee</td>\n",
       "      <td>[![Master branch build status](https://img.shi...</td>\n",
       "      <td>[master, branch, build, statushttpsimgshieldsi...</td>\n",
       "      <td>master branch build statushttpsimgshieldsioazu...</td>\n",
       "      <td>master branch build statushttpsimgshieldsioazu...</td>\n",
       "    </tr>\n",
       "    <tr>\n",
       "      <th>3</th>\n",
       "      <td>C++</td>\n",
       "      <td>solar_energy</td>\n",
       "      <td>3KUdelta/Solar_WiFi_Weather_Station</td>\n",
       "      <td># Zambretti Forecaster on Solar WiFi Weather S...</td>\n",
       "      <td>[zambretti, forecaster, on, solar, wifi, weath...</td>\n",
       "      <td>zambretti forecast solar wifi weather station ...</td>\n",
       "      <td>zambretti forecaster solar wifi weather statio...</td>\n",
       "    </tr>\n",
       "    <tr>\n",
       "      <th>4</th>\n",
       "      <td>R</td>\n",
       "      <td>solar_energy</td>\n",
       "      <td>ropensci/nasapower</td>\n",
       "      <td>\\n[![R build status](https://github.com/ropens...</td>\n",
       "      <td>[r, build, statushttpsgithubcomropenscinasapow...</td>\n",
       "      <td>r build statushttpsgithubcomropenscinasapowerw...</td>\n",
       "      <td>r build statushttpsgithubcomropenscinasapowerw...</td>\n",
       "    </tr>\n",
       "    <tr>\n",
       "      <th>...</th>\n",
       "      <td>...</td>\n",
       "      <td>...</td>\n",
       "      <td>...</td>\n",
       "      <td>...</td>\n",
       "      <td>...</td>\n",
       "      <td>...</td>\n",
       "      <td>...</td>\n",
       "    </tr>\n",
       "    <tr>\n",
       "      <th>294</th>\n",
       "      <td>Python</td>\n",
       "      <td>natural_gas</td>\n",
       "      <td>fernandessfae/Evolucao-da-producao-de-gas-natu...</td>\n",
       "      <td># Projeto DataScience - Evolução da produção d...</td>\n",
       "      <td>[projeto, datascience, evoluo, da, produo, de,...</td>\n",
       "      <td>projeto datasci evoluo da produo de gs natur p...</td>\n",
       "      <td>projeto datascience evoluo da produo de g natu...</td>\n",
       "    </tr>\n",
       "    <tr>\n",
       "      <th>296</th>\n",
       "      <td>NaN</td>\n",
       "      <td>natural_gas</td>\n",
       "      <td>chrord/Data_driven_Distributed_Operation_of_El...</td>\n",
       "      <td># Data-driven Distributed Operation of Electri...</td>\n",
       "      <td>[datadriven, distributed, operation, of, elect...</td>\n",
       "      <td>datadriven distribut oper electr natur ga syst...</td>\n",
       "      <td>datadriven distributed operation electricity n...</td>\n",
       "    </tr>\n",
       "    <tr>\n",
       "      <th>297</th>\n",
       "      <td>MATLAB</td>\n",
       "      <td>natural_gas</td>\n",
       "      <td>chaiitanyasangani88/OperationalFlowRateVariation</td>\n",
       "      <td># OperationalFlowCaseStudy\\nA detailed study a...</td>\n",
       "      <td>[operationalflowcasestudy, a, detailed, study,...</td>\n",
       "      <td>operationalflowcasestudi detail studi oper flo...</td>\n",
       "      <td>operationalflowcasestudy detailed study operat...</td>\n",
       "    </tr>\n",
       "    <tr>\n",
       "      <th>298</th>\n",
       "      <td>R</td>\n",
       "      <td>natural_gas</td>\n",
       "      <td>jaburney/naturalgastransition</td>\n",
       "      <td>## Coal-to-Natural Gas Transition Impacts Anal...</td>\n",
       "      <td>[coaltonatural, gas, transition, impacts, anal...</td>\n",
       "      <td>coaltonatur ga transit impact analysi thi repo...</td>\n",
       "      <td>coaltonatural gas transition impact analysis r...</td>\n",
       "    </tr>\n",
       "    <tr>\n",
       "      <th>299</th>\n",
       "      <td>JavaScript</td>\n",
       "      <td>natural_gas</td>\n",
       "      <td>leytzher/oil-price</td>\n",
       "      <td># oil-price\\nGet latest oil (WTI and Brent) an...</td>\n",
       "      <td>[oilprice, get, latest, oil, wti, and, brent, ...</td>\n",
       "      <td>oilpric get latest oil wti brent natur ga price</td>\n",
       "      <td>oilprice get latest oil wti brent natural gas ...</td>\n",
       "    </tr>\n",
       "  </tbody>\n",
       "</table>\n",
       "<p>241 rows × 7 columns</p>\n",
       "</div>"
      ],
      "text/plain": [
       "       language      category  \\\n",
       "0        Python  solar_energy   \n",
       "1        Python  solar_energy   \n",
       "2        Python  solar_energy   \n",
       "3           C++  solar_energy   \n",
       "4             R  solar_energy   \n",
       "..          ...           ...   \n",
       "294      Python   natural_gas   \n",
       "296         NaN   natural_gas   \n",
       "297      MATLAB   natural_gas   \n",
       "298           R   natural_gas   \n",
       "299  JavaScript   natural_gas   \n",
       "\n",
       "                                                  repo  \\\n",
       "0    ColasGael/Machine-Learning-for-Solar-Energy-Pr...   \n",
       "1                                     meltaxa/solariot   \n",
       "2                                renewables-ninja/gsee   \n",
       "3                  3KUdelta/Solar_WiFi_Weather_Station   \n",
       "4                                   ropensci/nasapower   \n",
       "..                                                 ...   \n",
       "294  fernandessfae/Evolucao-da-producao-de-gas-natu...   \n",
       "296  chrord/Data_driven_Distributed_Operation_of_El...   \n",
       "297   chaiitanyasangani88/OperationalFlowRateVariation   \n",
       "298                      jaburney/naturalgastransition   \n",
       "299                                 leytzher/oil-price   \n",
       "\n",
       "                                       readme_contents  \\\n",
       "0    # Machine-Learning-for-Solar-Energy-Prediction...   \n",
       "1    # Solariot\\n\\nLeverage your IoT enabled Solar ...   \n",
       "2    [![Master branch build status](https://img.shi...   \n",
       "3    # Zambretti Forecaster on Solar WiFi Weather S...   \n",
       "4    \\n[![R build status](https://github.com/ropens...   \n",
       "..                                                 ...   \n",
       "294  # Projeto DataScience - Evolução da produção d...   \n",
       "296  # Data-driven Distributed Operation of Electri...   \n",
       "297  # OperationalFlowCaseStudy\\nA detailed study a...   \n",
       "298  ## Coal-to-Natural Gas Transition Impacts Anal...   \n",
       "299  # oil-price\\nGet latest oil (WTI and Brent) an...   \n",
       "\n",
       "                                           clean_tokes  \\\n",
       "0    [machinelearningforsolarenergyprediction, by, ...   \n",
       "1    [solariot, leverage, your, iot, enabled, solar...   \n",
       "2    [master, branch, build, statushttpsimgshieldsi...   \n",
       "3    [zambretti, forecaster, on, solar, wifi, weath...   \n",
       "4    [r, build, statushttpsgithubcomropenscinasapow...   \n",
       "..                                                 ...   \n",
       "294  [projeto, datascience, evoluo, da, produo, de,...   \n",
       "296  [datadriven, distributed, operation, of, elect...   \n",
       "297  [operationalflowcasestudy, a, detailed, study,...   \n",
       "298  [coaltonatural, gas, transition, impacts, anal...   \n",
       "299  [oilprice, get, latest, oil, wti, and, brent, ...   \n",
       "\n",
       "                                         clean_stemmed  \\\n",
       "0    machinelearningforsolarenergypredict adel kuzm...   \n",
       "1    solariot leverag iot enabl solar pv invert str...   \n",
       "2    master branch build statushttpsimgshieldsioazu...   \n",
       "3    zambretti forecast solar wifi weather station ...   \n",
       "4    r build statushttpsgithubcomropenscinasapowerw...   \n",
       "..                                                 ...   \n",
       "294  projeto datasci evoluo da produo de gs natur p...   \n",
       "296  datadriven distribut oper electr natur ga syst...   \n",
       "297  operationalflowcasestudi detail studi oper flo...   \n",
       "298  coaltonatur ga transit impact analysi thi repo...   \n",
       "299    oilpric get latest oil wti brent natur ga price   \n",
       "\n",
       "                                      clean_lemmatized  \n",
       "0    machinelearningforsolarenergyprediction adele ...  \n",
       "1    solariot leverage iot enabled solar pv inverte...  \n",
       "2    master branch build statushttpsimgshieldsioazu...  \n",
       "3    zambretti forecaster solar wifi weather statio...  \n",
       "4    r build statushttpsgithubcomropenscinasapowerw...  \n",
       "..                                                 ...  \n",
       "294  projeto datascience evoluo da produo de g natu...  \n",
       "296  datadriven distributed operation electricity n...  \n",
       "297  operationalflowcasestudy detailed study operat...  \n",
       "298  coaltonatural gas transition impact analysis r...  \n",
       "299  oilprice get latest oil wti brent natural gas ...  \n",
       "\n",
       "[241 rows x 7 columns]"
      ]
     },
     "execution_count": 12,
     "metadata": {},
     "output_type": "execute_result"
    }
   ],
   "source": [
    "df"
   ]
  },
  {
   "cell_type": "code",
   "execution_count": 13,
   "metadata": {},
   "outputs": [
    {
     "data": {
      "text/plain": [
       "(241, 7)"
      ]
     },
     "execution_count": 13,
     "metadata": {},
     "output_type": "execute_result"
    }
   ],
   "source": [
    "df.shape"
   ]
  },
  {
   "cell_type": "code",
   "execution_count": 14,
   "metadata": {},
   "outputs": [],
   "source": [
    "df.dropna(inplace=True)"
   ]
  },
  {
   "cell_type": "code",
   "execution_count": 15,
   "metadata": {},
   "outputs": [],
   "source": [
    "df.reset_index(drop=True, inplace=True)"
   ]
  },
  {
   "cell_type": "code",
   "execution_count": 16,
   "metadata": {
    "scrolled": false
   },
   "outputs": [
    {
     "data": {
      "text/html": [
       "<div>\n",
       "<style scoped>\n",
       "    .dataframe tbody tr th:only-of-type {\n",
       "        vertical-align: middle;\n",
       "    }\n",
       "\n",
       "    .dataframe tbody tr th {\n",
       "        vertical-align: top;\n",
       "    }\n",
       "\n",
       "    .dataframe thead th {\n",
       "        text-align: right;\n",
       "    }\n",
       "</style>\n",
       "<table border=\"1\" class=\"dataframe\">\n",
       "  <thead>\n",
       "    <tr style=\"text-align: right;\">\n",
       "      <th></th>\n",
       "      <th>language</th>\n",
       "      <th>category</th>\n",
       "      <th>repo</th>\n",
       "      <th>readme_contents</th>\n",
       "      <th>clean_tokes</th>\n",
       "      <th>clean_stemmed</th>\n",
       "      <th>clean_lemmatized</th>\n",
       "    </tr>\n",
       "  </thead>\n",
       "  <tbody>\n",
       "    <tr>\n",
       "      <th>0</th>\n",
       "      <td>Python</td>\n",
       "      <td>solar_energy</td>\n",
       "      <td>ColasGael/Machine-Learning-for-Solar-Energy-Pr...</td>\n",
       "      <td># Machine-Learning-for-Solar-Energy-Prediction...</td>\n",
       "      <td>[machinelearningforsolarenergyprediction, by, ...</td>\n",
       "      <td>machinelearningforsolarenergypredict adel kuzm...</td>\n",
       "      <td>machinelearningforsolarenergyprediction adele ...</td>\n",
       "    </tr>\n",
       "    <tr>\n",
       "      <th>1</th>\n",
       "      <td>Python</td>\n",
       "      <td>solar_energy</td>\n",
       "      <td>meltaxa/solariot</td>\n",
       "      <td># Solariot\\n\\nLeverage your IoT enabled Solar ...</td>\n",
       "      <td>[solariot, leverage, your, iot, enabled, solar...</td>\n",
       "      <td>solariot leverag iot enabl solar pv invert str...</td>\n",
       "      <td>solariot leverage iot enabled solar pv inverte...</td>\n",
       "    </tr>\n",
       "    <tr>\n",
       "      <th>2</th>\n",
       "      <td>Python</td>\n",
       "      <td>solar_energy</td>\n",
       "      <td>renewables-ninja/gsee</td>\n",
       "      <td>[![Master branch build status](https://img.shi...</td>\n",
       "      <td>[master, branch, build, statushttpsimgshieldsi...</td>\n",
       "      <td>master branch build statushttpsimgshieldsioazu...</td>\n",
       "      <td>master branch build statushttpsimgshieldsioazu...</td>\n",
       "    </tr>\n",
       "    <tr>\n",
       "      <th>3</th>\n",
       "      <td>C++</td>\n",
       "      <td>solar_energy</td>\n",
       "      <td>3KUdelta/Solar_WiFi_Weather_Station</td>\n",
       "      <td># Zambretti Forecaster on Solar WiFi Weather S...</td>\n",
       "      <td>[zambretti, forecaster, on, solar, wifi, weath...</td>\n",
       "      <td>zambretti forecast solar wifi weather station ...</td>\n",
       "      <td>zambretti forecaster solar wifi weather statio...</td>\n",
       "    </tr>\n",
       "    <tr>\n",
       "      <th>4</th>\n",
       "      <td>R</td>\n",
       "      <td>solar_energy</td>\n",
       "      <td>ropensci/nasapower</td>\n",
       "      <td>\\n[![R build status](https://github.com/ropens...</td>\n",
       "      <td>[r, build, statushttpsgithubcomropenscinasapow...</td>\n",
       "      <td>r build statushttpsgithubcomropenscinasapowerw...</td>\n",
       "      <td>r build statushttpsgithubcomropenscinasapowerw...</td>\n",
       "    </tr>\n",
       "    <tr>\n",
       "      <th>...</th>\n",
       "      <td>...</td>\n",
       "      <td>...</td>\n",
       "      <td>...</td>\n",
       "      <td>...</td>\n",
       "      <td>...</td>\n",
       "      <td>...</td>\n",
       "      <td>...</td>\n",
       "    </tr>\n",
       "    <tr>\n",
       "      <th>209</th>\n",
       "      <td>C++</td>\n",
       "      <td>natural_gas</td>\n",
       "      <td>reyhancaba/Natural-Gas-Detector-Circuit-Using-...</td>\n",
       "      <td># Natural-Gas-Detector-Circuit-Using-An-Arduin...</td>\n",
       "      <td>[naturalgasdetectorcircuitusinganarduinouno, b...</td>\n",
       "      <td>naturalgasdetectorcircuitusinganarduinouno bu ...</td>\n",
       "      <td>naturalgasdetectorcircuitusinganarduinouno bu ...</td>\n",
       "    </tr>\n",
       "    <tr>\n",
       "      <th>210</th>\n",
       "      <td>Python</td>\n",
       "      <td>natural_gas</td>\n",
       "      <td>fernandessfae/Evolucao-da-producao-de-gas-natu...</td>\n",
       "      <td># Projeto DataScience - Evolução da produção d...</td>\n",
       "      <td>[projeto, datascience, evoluo, da, produo, de,...</td>\n",
       "      <td>projeto datasci evoluo da produo de gs natur p...</td>\n",
       "      <td>projeto datascience evoluo da produo de g natu...</td>\n",
       "    </tr>\n",
       "    <tr>\n",
       "      <th>211</th>\n",
       "      <td>MATLAB</td>\n",
       "      <td>natural_gas</td>\n",
       "      <td>chaiitanyasangani88/OperationalFlowRateVariation</td>\n",
       "      <td># OperationalFlowCaseStudy\\nA detailed study a...</td>\n",
       "      <td>[operationalflowcasestudy, a, detailed, study,...</td>\n",
       "      <td>operationalflowcasestudi detail studi oper flo...</td>\n",
       "      <td>operationalflowcasestudy detailed study operat...</td>\n",
       "    </tr>\n",
       "    <tr>\n",
       "      <th>212</th>\n",
       "      <td>R</td>\n",
       "      <td>natural_gas</td>\n",
       "      <td>jaburney/naturalgastransition</td>\n",
       "      <td>## Coal-to-Natural Gas Transition Impacts Anal...</td>\n",
       "      <td>[coaltonatural, gas, transition, impacts, anal...</td>\n",
       "      <td>coaltonatur ga transit impact analysi thi repo...</td>\n",
       "      <td>coaltonatural gas transition impact analysis r...</td>\n",
       "    </tr>\n",
       "    <tr>\n",
       "      <th>213</th>\n",
       "      <td>JavaScript</td>\n",
       "      <td>natural_gas</td>\n",
       "      <td>leytzher/oil-price</td>\n",
       "      <td># oil-price\\nGet latest oil (WTI and Brent) an...</td>\n",
       "      <td>[oilprice, get, latest, oil, wti, and, brent, ...</td>\n",
       "      <td>oilpric get latest oil wti brent natur ga price</td>\n",
       "      <td>oilprice get latest oil wti brent natural gas ...</td>\n",
       "    </tr>\n",
       "  </tbody>\n",
       "</table>\n",
       "<p>214 rows × 7 columns</p>\n",
       "</div>"
      ],
      "text/plain": [
       "       language      category  \\\n",
       "0        Python  solar_energy   \n",
       "1        Python  solar_energy   \n",
       "2        Python  solar_energy   \n",
       "3           C++  solar_energy   \n",
       "4             R  solar_energy   \n",
       "..          ...           ...   \n",
       "209         C++   natural_gas   \n",
       "210      Python   natural_gas   \n",
       "211      MATLAB   natural_gas   \n",
       "212           R   natural_gas   \n",
       "213  JavaScript   natural_gas   \n",
       "\n",
       "                                                  repo  \\\n",
       "0    ColasGael/Machine-Learning-for-Solar-Energy-Pr...   \n",
       "1                                     meltaxa/solariot   \n",
       "2                                renewables-ninja/gsee   \n",
       "3                  3KUdelta/Solar_WiFi_Weather_Station   \n",
       "4                                   ropensci/nasapower   \n",
       "..                                                 ...   \n",
       "209  reyhancaba/Natural-Gas-Detector-Circuit-Using-...   \n",
       "210  fernandessfae/Evolucao-da-producao-de-gas-natu...   \n",
       "211   chaiitanyasangani88/OperationalFlowRateVariation   \n",
       "212                      jaburney/naturalgastransition   \n",
       "213                                 leytzher/oil-price   \n",
       "\n",
       "                                       readme_contents  \\\n",
       "0    # Machine-Learning-for-Solar-Energy-Prediction...   \n",
       "1    # Solariot\\n\\nLeverage your IoT enabled Solar ...   \n",
       "2    [![Master branch build status](https://img.shi...   \n",
       "3    # Zambretti Forecaster on Solar WiFi Weather S...   \n",
       "4    \\n[![R build status](https://github.com/ropens...   \n",
       "..                                                 ...   \n",
       "209  # Natural-Gas-Detector-Circuit-Using-An-Arduin...   \n",
       "210  # Projeto DataScience - Evolução da produção d...   \n",
       "211  # OperationalFlowCaseStudy\\nA detailed study a...   \n",
       "212  ## Coal-to-Natural Gas Transition Impacts Anal...   \n",
       "213  # oil-price\\nGet latest oil (WTI and Brent) an...   \n",
       "\n",
       "                                           clean_tokes  \\\n",
       "0    [machinelearningforsolarenergyprediction, by, ...   \n",
       "1    [solariot, leverage, your, iot, enabled, solar...   \n",
       "2    [master, branch, build, statushttpsimgshieldsi...   \n",
       "3    [zambretti, forecaster, on, solar, wifi, weath...   \n",
       "4    [r, build, statushttpsgithubcomropenscinasapow...   \n",
       "..                                                 ...   \n",
       "209  [naturalgasdetectorcircuitusinganarduinouno, b...   \n",
       "210  [projeto, datascience, evoluo, da, produo, de,...   \n",
       "211  [operationalflowcasestudy, a, detailed, study,...   \n",
       "212  [coaltonatural, gas, transition, impacts, anal...   \n",
       "213  [oilprice, get, latest, oil, wti, and, brent, ...   \n",
       "\n",
       "                                         clean_stemmed  \\\n",
       "0    machinelearningforsolarenergypredict adel kuzm...   \n",
       "1    solariot leverag iot enabl solar pv invert str...   \n",
       "2    master branch build statushttpsimgshieldsioazu...   \n",
       "3    zambretti forecast solar wifi weather station ...   \n",
       "4    r build statushttpsgithubcomropenscinasapowerw...   \n",
       "..                                                 ...   \n",
       "209  naturalgasdetectorcircuitusinganarduinouno bu ...   \n",
       "210  projeto datasci evoluo da produo de gs natur p...   \n",
       "211  operationalflowcasestudi detail studi oper flo...   \n",
       "212  coaltonatur ga transit impact analysi thi repo...   \n",
       "213    oilpric get latest oil wti brent natur ga price   \n",
       "\n",
       "                                      clean_lemmatized  \n",
       "0    machinelearningforsolarenergyprediction adele ...  \n",
       "1    solariot leverage iot enabled solar pv inverte...  \n",
       "2    master branch build statushttpsimgshieldsioazu...  \n",
       "3    zambretti forecaster solar wifi weather statio...  \n",
       "4    r build statushttpsgithubcomropenscinasapowerw...  \n",
       "..                                                 ...  \n",
       "209  naturalgasdetectorcircuitusinganarduinouno bu ...  \n",
       "210  projeto datascience evoluo da produo de g natu...  \n",
       "211  operationalflowcasestudy detailed study operat...  \n",
       "212  coaltonatural gas transition impact analysis r...  \n",
       "213  oilprice get latest oil wti brent natural gas ...  \n",
       "\n",
       "[214 rows x 7 columns]"
      ]
     },
     "execution_count": 16,
     "metadata": {},
     "output_type": "execute_result"
    }
   ],
   "source": [
    "df"
   ]
  },
  {
   "cell_type": "code",
   "execution_count": 17,
   "metadata": {},
   "outputs": [
    {
     "data": {
      "text/html": [
       "<div>\n",
       "<style scoped>\n",
       "    .dataframe tbody tr th:only-of-type {\n",
       "        vertical-align: middle;\n",
       "    }\n",
       "\n",
       "    .dataframe tbody tr th {\n",
       "        vertical-align: top;\n",
       "    }\n",
       "\n",
       "    .dataframe thead th {\n",
       "        text-align: right;\n",
       "    }\n",
       "</style>\n",
       "<table border=\"1\" class=\"dataframe\">\n",
       "  <thead>\n",
       "    <tr style=\"text-align: right;\">\n",
       "      <th></th>\n",
       "      <th>language</th>\n",
       "      <th>category</th>\n",
       "      <th>repo</th>\n",
       "      <th>readme_contents</th>\n",
       "      <th>clean_tokes</th>\n",
       "      <th>clean_stemmed</th>\n",
       "      <th>clean_lemmatized</th>\n",
       "    </tr>\n",
       "  </thead>\n",
       "  <tbody>\n",
       "    <tr>\n",
       "      <th>15</th>\n",
       "      <td>JavaScript</td>\n",
       "      <td>solar_energy</td>\n",
       "      <td>rprokap/pset-9</td>\n",
       "      <td># pset-9\\n      CREDITS SEQUENCE              ...</td>\n",
       "      <td>[pset9, credits, sequence, newspaper, headline...</td>\n",
       "      <td>pset9 credit sequenc newspap headlin montag he...</td>\n",
       "      <td>pset9 credit sequence newspaper headline monta...</td>\n",
       "    </tr>\n",
       "  </tbody>\n",
       "</table>\n",
       "</div>"
      ],
      "text/plain": [
       "      language      category            repo  \\\n",
       "15  JavaScript  solar_energy  rprokap/pset-9   \n",
       "\n",
       "                                      readme_contents  \\\n",
       "15  # pset-9\\n      CREDITS SEQUENCE              ...   \n",
       "\n",
       "                                          clean_tokes  \\\n",
       "15  [pset9, credits, sequence, newspaper, headline...   \n",
       "\n",
       "                                        clean_stemmed  \\\n",
       "15  pset9 credit sequenc newspap headlin montag he...   \n",
       "\n",
       "                                     clean_lemmatized  \n",
       "15  pset9 credit sequence newspaper headline monta...  "
      ]
     },
     "execution_count": 17,
     "metadata": {},
     "output_type": "execute_result"
    }
   ],
   "source": [
    "df[df.index==15]"
   ]
  },
  {
   "cell_type": "code",
   "execution_count": null,
   "metadata": {
    "scrolled": true
   },
   "outputs": [],
   "source": [
    "df.clean_lemmatized.apply(len).nlargest(15)"
   ]
  },
  {
   "cell_type": "code",
   "execution_count": 18,
   "metadata": {},
   "outputs": [],
   "source": [
    "df = df[df.index!=15]"
   ]
  },
  {
   "cell_type": "code",
   "execution_count": null,
   "metadata": {},
   "outputs": [],
   "source": [
    "plt.figure(figsize=(16, 9))\n",
    "pd.Series(df.clean_tokes).value_counts().head(12).plot.barh(width=.9, ec='black', title='12 most common words')\n",
    "plt.xlabel('Number of occurances')"
   ]
  },
  {
   "cell_type": "code",
   "execution_count": null,
   "metadata": {},
   "outputs": [],
   "source": [
    "df.repo[16]"
   ]
  },
  {
   "cell_type": "code",
   "execution_count": null,
   "metadata": {},
   "outputs": [],
   "source": [
    "titan.to_csv('titan.csv')"
   ]
  },
  {
   "cell_type": "code",
   "execution_count": null,
   "metadata": {},
   "outputs": [],
   "source": [
    "#ADDITIONAL_STOPWORDS = ['r', 'u', '2', 'ltgt']\n",
    "\n",
    "def clean(text: str) -> list:\n",
    "    'A simple function to cleanup text data'\n",
    "    wnl = nltk.stem.WordNetLemmatizer()\n",
    "    stopwords = nltk.corpus.stopwords.words('english')\n",
    "    text = (text.encode('ascii', 'ignore')\n",
    "             .decode('utf-8', 'ignore')\n",
    "             .lower())\n",
    "    words = re.sub(r'[^\\w\\s]', '', text).split() # tokenization\n",
    "    return [wnl.lemmatize(word) for word in words if word not in stopwords]\n",
    "\n",
    "all_words = clean(' '.join(df.readme_contents))\n",
    "\n",
    "plt.figure(figsize=(16, 9))\n",
    "pd.Series(all_words).value_counts().head(12).plot.barh(width=.9, ec='black', title='12 most common words')\n",
    "plt.xlabel('Number of occurances')"
   ]
  },
  {
   "cell_type": "code",
   "execution_count": null,
   "metadata": {},
   "outputs": [],
   "source": [
    "df.clean_stemmed.str.len()"
   ]
  },
  {
   "cell_type": "code",
   "execution_count": null,
   "metadata": {},
   "outputs": [],
   "source": [
    "df.info()"
   ]
  },
  {
   "cell_type": "code",
   "execution_count": null,
   "metadata": {},
   "outputs": [],
   "source": [
    "df.describe()"
   ]
  },
  {
   "cell_type": "code",
   "execution_count": 22,
   "metadata": {
    "scrolled": false
   },
   "outputs": [
    {
     "data": {
      "text/plain": [
       "Python               42\n",
       "Jupyter Notebook     37\n",
       "JavaScript           23\n",
       "Java                 16\n",
       "HTML                 14\n",
       "C++                  13\n",
       "CSS                  10\n",
       "PHP                   8\n",
       "R                     8\n",
       "MATLAB                8\n",
       "C                     7\n",
       "Matlab                4\n",
       "Vue                   3\n",
       "Lasso                 3\n",
       "C#                    2\n",
       "Visual Basic          2\n",
       "TSQL                  2\n",
       "GAMS                  1\n",
       "ActionScript          1\n",
       "Processing            1\n",
       "Julia                 1\n",
       "TypeScript            1\n",
       "Visual Basic .NET     1\n",
       "Pascal                1\n",
       "TeX                   1\n",
       "FORTRAN               1\n",
       "Arduino               1\n",
       "Go                    1\n",
       "Name: language, dtype: int64"
      ]
     },
     "execution_count": 22,
     "metadata": {},
     "output_type": "execute_result"
    }
   ],
   "source": [
    "df.language.value_counts()"
   ]
  },
  {
   "cell_type": "code",
   "execution_count": null,
   "metadata": {},
   "outputs": [],
   "source": [
    "top_lang = list(df.language.value_counts().head(10).index)\n",
    "top_lang"
   ]
  },
  {
   "cell_type": "code",
   "execution_count": 20,
   "metadata": {},
   "outputs": [
    {
     "name": "stderr",
     "output_type": "stream",
     "text": [
      "/usr/local/anaconda3/lib/python3.7/site-packages/ipykernel_launcher.py:1: SettingWithCopyWarning: \n",
      "A value is trying to be set on a copy of a slice from a DataFrame.\n",
      "Try using .loc[row_indexer,col_indexer] = value instead\n",
      "\n",
      "See the caveats in the documentation: https://pandas.pydata.org/pandas-docs/stable/user_guide/indexing.html#returning-a-view-versus-a-copy\n",
      "  \"\"\"Entry point for launching an IPython kernel.\n"
     ]
    }
   ],
   "source": [
    "df['word_count'] = df.clean_lemmatized.str.split().apply(len)"
   ]
  },
  {
   "cell_type": "code",
   "execution_count": 21,
   "metadata": {},
   "outputs": [
    {
     "data": {
      "image/png": "[encoded data removed]",
      "text/plain": [
       "<Figure size 1296x648 with 1 Axes>"
      ]
     },
     "metadata": {
      "needs_background": "light"
     },
     "output_type": "display_data"
    }
   ],
   "source": [
    "plt.figure(figsize=(18,9))\n",
    "sns.boxplot(data=df, y=df.lan, x='language')\n",
    "plt.title(\"README Word Length by programing language\")\n",
    "plt.xlabel('Programming Language')\n",
    "plt.ylabel('README Length')\n",
    "plt.show()"
   ]
  },
  {
   "cell_type": "code",
   "execution_count": 42,
   "metadata": {},
   "outputs": [
    {
     "ename": "ValueError",
     "evalue": "The truth value of a Series is ambiguous. Use a.empty, a.bool(), a.item(), a.any() or a.all().",
     "output_type": "error",
     "traceback": [
      "\u001b[0;31m---------------------------------------------------------------------------\u001b[0m",
      "\u001b[0;31mValueError\u001b[0m                                Traceback (most recent call last)",
      "\u001b[0;32m<ipython-input-42-63fdef42385d>\u001b[0m in \u001b[0;36m<module>\u001b[0;34m\u001b[0m\n\u001b[0;32m----> 1\u001b[0;31m \u001b[0mdf\u001b[0m\u001b[0;34m[\u001b[0m\u001b[0mdf\u001b[0m\u001b[0;34m.\u001b[0m\u001b[0mlanguage\u001b[0m \u001b[0;34m==\u001b[0m \u001b[0;34m'Vue'\u001b[0m \u001b[0;32mand\u001b[0m \u001b[0mdf\u001b[0m\u001b[0;34m.\u001b[0m\u001b[0mlanguage\u001b[0m \u001b[0;34m==\u001b[0m \u001b[0;34m'Lasso'\u001b[0m \u001b[0;32mand\u001b[0m \u001b[0mdf\u001b[0m\u001b[0;34m.\u001b[0m\u001b[0mlanguage\u001b[0m \u001b[0;34m==\u001b[0m \u001b[0;34m'C#'\u001b[0m \u001b[0;32mand\u001b[0m \u001b[0mdf\u001b[0m\u001b[0;34m.\u001b[0m\u001b[0mlanguage\u001b[0m \u001b[0;34m==\u001b[0m \u001b[0;34m'Visual Basic'\u001b[0m \u001b[0;32mand\u001b[0m \u001b[0mdf\u001b[0m\u001b[0;34m.\u001b[0m\u001b[0mlanguage\u001b[0m \u001b[0;34m==\u001b[0m \u001b[0;34m'TSQL'\u001b[0m \u001b[0;32mand\u001b[0m \u001b[0mdf\u001b[0m\u001b[0;34m.\u001b[0m\u001b[0mlanguage\u001b[0m \u001b[0;34m==\u001b[0m \u001b[0;34m'GAMS'\u001b[0m \u001b[0;32mand\u001b[0m \u001b[0mdf\u001b[0m\u001b[0;34m.\u001b[0m\u001b[0mlanguage\u001b[0m \u001b[0;34m==\u001b[0m \u001b[0;34m'ActionScript'\u001b[0m \u001b[0;32mand\u001b[0m \u001b[0mdf\u001b[0m\u001b[0;34m.\u001b[0m\u001b[0mlanguage\u001b[0m \u001b[0;34m==\u001b[0m \u001b[0;34m'Processing'\u001b[0m \u001b[0;32mand\u001b[0m  \u001b[0mdf\u001b[0m\u001b[0;34m.\u001b[0m\u001b[0mlanguage\u001b[0m \u001b[0;34m==\u001b[0m \u001b[0;34m'Julia'\u001b[0m \u001b[0;32mand\u001b[0m \u001b[0mdf\u001b[0m\u001b[0;34m.\u001b[0m\u001b[0mlanguage\u001b[0m \u001b[0;34m==\u001b[0m  \u001b[0;34m'TypeScript'\u001b[0m \u001b[0;32mand\u001b[0m \u001b[0mdf\u001b[0m\u001b[0;34m.\u001b[0m\u001b[0mlanguage\u001b[0m \u001b[0;34m==\u001b[0m \u001b[0;34m'Visual Basic .NET'\u001b[0m \u001b[0;32mand\u001b[0m \u001b[0mdf\u001b[0m\u001b[0;34m.\u001b[0m\u001b[0mlanguage\u001b[0m \u001b[0;34m==\u001b[0m \u001b[0;34m'Pascal'\u001b[0m \u001b[0;32mand\u001b[0m \u001b[0mdf\u001b[0m\u001b[0;34m.\u001b[0m\u001b[0mlanguage\u001b[0m \u001b[0;34m==\u001b[0m \u001b[0;34m'TeX'\u001b[0m \u001b[0;32mand\u001b[0m \u001b[0mdf\u001b[0m\u001b[0;34m.\u001b[0m\u001b[0mlanguage\u001b[0m \u001b[0;34m==\u001b[0m \u001b[0;34m'FORTRAN'\u001b[0m \u001b[0;32mand\u001b[0m \u001b[0mdf\u001b[0m\u001b[0;34m.\u001b[0m\u001b[0mlanguage\u001b[0m \u001b[0;34m==\u001b[0m \u001b[0;34m'Arduino'\u001b[0m \u001b[0;32mand\u001b[0m \u001b[0mdf\u001b[0m\u001b[0;34m.\u001b[0m\u001b[0mlanguage\u001b[0m \u001b[0;34m==\u001b[0m \u001b[0;34m'Go'\u001b[0m\u001b[0;34m]\u001b[0m\u001b[0;34m\u001b[0m\u001b[0;34m\u001b[0m\u001b[0m\n\u001b[0m",
      "\u001b[0;32m/usr/local/anaconda3/lib/python3.7/site-packages/pandas/core/generic.py\u001b[0m in \u001b[0;36m__nonzero__\u001b[0;34m(self)\u001b[0m\n\u001b[1;32m   1477\u001b[0m     \u001b[0;32mdef\u001b[0m \u001b[0m__nonzero__\u001b[0m\u001b[0;34m(\u001b[0m\u001b[0mself\u001b[0m\u001b[0;34m)\u001b[0m\u001b[0;34m:\u001b[0m\u001b[0;34m\u001b[0m\u001b[0;34m\u001b[0m\u001b[0m\n\u001b[1;32m   1478\u001b[0m         raise ValueError(\n\u001b[0;32m-> 1479\u001b[0;31m             \u001b[0;34mf\"The truth value of a {type(self).__name__} is ambiguous. \"\u001b[0m\u001b[0;34m\u001b[0m\u001b[0;34m\u001b[0m\u001b[0m\n\u001b[0m\u001b[1;32m   1480\u001b[0m             \u001b[0;34m\"Use a.empty, a.bool(), a.item(), a.any() or a.all().\"\u001b[0m\u001b[0;34m\u001b[0m\u001b[0;34m\u001b[0m\u001b[0m\n\u001b[1;32m   1481\u001b[0m         )\n",
      "\u001b[0;31mValueError\u001b[0m: The truth value of a Series is ambiguous. Use a.empty, a.bool(), a.item(), a.any() or a.all()."
     ]
    }
   ],
   "source": [
    "df[df.language == 'Vue' and df.language == 'Lasso' and df.language == 'C#' and df.language == 'Visual Basic' and df.language == 'TSQL' and df.language == 'GAMS' and df.language == 'ActionScript' and df.language == 'Processing' and  df.language == 'Julia' and df.language ==  'TypeScript' and df.language == 'Visual Basic .NET' and df.language == 'Pascal' and df.language == 'TeX' and df.language == 'FORTRAN' and df.language == 'Arduino' and df.language == 'Go']"
   ]
  },
  {
   "cell_type": "code",
   "execution_count": 65,
   "metadata": {},
   "outputs": [],
   "source": [
    "df['language'].replace(to_replace=['Matlab', 'MATLAB'], inplace=True)"
   ]
  },
  {
   "cell_type": "code",
   "execution_count": 66,
   "metadata": {},
   "outputs": [
    {
     "data": {
      "text/plain": [
       "Python               False\n",
       "Jupyter Notebook     False\n",
       "JavaScript           False\n",
       "Java                 False\n",
       "C++                  False\n",
       "HTML                 False\n",
       "CSS                  False\n",
       "PHP                  False\n",
       "R                    False\n",
       "C                    False\n",
       "Visual Basic          True\n",
       "Vue                   True\n",
       "Lasso                 True\n",
       "C#                    True\n",
       "TSQL                  True\n",
       "Visual Basic .NET     True\n",
       "GAMS                  True\n",
       "Processing            True\n",
       "ActionScript          True\n",
       "Pascal                True\n",
       "Julia                 True\n",
       "TypeScript            True\n",
       "TeX                   True\n",
       "FORTRAN               True\n",
       "Arduino               True\n",
       "Go                    True\n",
       "Name: language, dtype: bool"
      ]
     },
     "execution_count": 66,
     "metadata": {},
     "output_type": "execute_result"
    }
   ],
   "source": [
    "df['language'].value_counts() < 7"
   ]
  },
  {
   "cell_type": "code",
   "execution_count": 60,
   "metadata": {},
   "outputs": [
    {
     "ename": "TypeError",
     "evalue": "Can only count levels on hierarchical index.",
     "output_type": "error",
     "traceback": [
      "\u001b[0;31m---------------------------------------------------------------------------\u001b[0m",
      "\u001b[0;31mTypeError\u001b[0m                                 Traceback (most recent call last)",
      "\u001b[0;32m<ipython-input-60-2fced7e07756>\u001b[0m in \u001b[0;36m<module>\u001b[0;34m\u001b[0m\n\u001b[0;32m----> 1\u001b[0;31m \u001b[0mdf\u001b[0m\u001b[0;34m.\u001b[0m\u001b[0mcount\u001b[0m\u001b[0;34m(\u001b[0m\u001b[0mlevel\u001b[0m\u001b[0;34m=\u001b[0m\u001b[0;34m'language'\u001b[0m\u001b[0;34m)\u001b[0m\u001b[0;34m\u001b[0m\u001b[0;34m\u001b[0m\u001b[0m\n\u001b[0m",
      "\u001b[0;32m/usr/local/anaconda3/lib/python3.7/site-packages/pandas/core/frame.py\u001b[0m in \u001b[0;36mcount\u001b[0;34m(self, axis, level, numeric_only)\u001b[0m\n\u001b[1;32m   7784\u001b[0m         \u001b[0maxis\u001b[0m \u001b[0;34m=\u001b[0m \u001b[0mself\u001b[0m\u001b[0;34m.\u001b[0m\u001b[0m_get_axis_number\u001b[0m\u001b[0;34m(\u001b[0m\u001b[0maxis\u001b[0m\u001b[0;34m)\u001b[0m\u001b[0;34m\u001b[0m\u001b[0;34m\u001b[0m\u001b[0m\n\u001b[1;32m   7785\u001b[0m         \u001b[0;32mif\u001b[0m \u001b[0mlevel\u001b[0m \u001b[0;32mis\u001b[0m \u001b[0;32mnot\u001b[0m \u001b[0;32mNone\u001b[0m\u001b[0;34m:\u001b[0m\u001b[0;34m\u001b[0m\u001b[0;34m\u001b[0m\u001b[0m\n\u001b[0;32m-> 7786\u001b[0;31m             \u001b[0;32mreturn\u001b[0m \u001b[0mself\u001b[0m\u001b[0;34m.\u001b[0m\u001b[0m_count_level\u001b[0m\u001b[0;34m(\u001b[0m\u001b[0mlevel\u001b[0m\u001b[0;34m,\u001b[0m \u001b[0maxis\u001b[0m\u001b[0;34m=\u001b[0m\u001b[0maxis\u001b[0m\u001b[0;34m,\u001b[0m \u001b[0mnumeric_only\u001b[0m\u001b[0;34m=\u001b[0m\u001b[0mnumeric_only\u001b[0m\u001b[0;34m)\u001b[0m\u001b[0;34m\u001b[0m\u001b[0;34m\u001b[0m\u001b[0m\n\u001b[0m\u001b[1;32m   7787\u001b[0m \u001b[0;34m\u001b[0m\u001b[0m\n\u001b[1;32m   7788\u001b[0m         \u001b[0;32mif\u001b[0m \u001b[0mnumeric_only\u001b[0m\u001b[0;34m:\u001b[0m\u001b[0;34m\u001b[0m\u001b[0;34m\u001b[0m\u001b[0m\n",
      "\u001b[0;32m/usr/local/anaconda3/lib/python3.7/site-packages/pandas/core/frame.py\u001b[0m in \u001b[0;36m_count_level\u001b[0;34m(self, level, axis, numeric_only)\u001b[0m\n\u001b[1;32m   7818\u001b[0m         \u001b[0;32mif\u001b[0m \u001b[0;32mnot\u001b[0m \u001b[0misinstance\u001b[0m\u001b[0;34m(\u001b[0m\u001b[0mcount_axis\u001b[0m\u001b[0;34m,\u001b[0m \u001b[0mABCMultiIndex\u001b[0m\u001b[0;34m)\u001b[0m\u001b[0;34m:\u001b[0m\u001b[0;34m\u001b[0m\u001b[0;34m\u001b[0m\u001b[0m\n\u001b[1;32m   7819\u001b[0m             raise TypeError(\n\u001b[0;32m-> 7820\u001b[0;31m                 \u001b[0;34mf\"Can only count levels on hierarchical {self._get_axis_name(axis)}.\"\u001b[0m\u001b[0;34m\u001b[0m\u001b[0;34m\u001b[0m\u001b[0m\n\u001b[0m\u001b[1;32m   7821\u001b[0m             )\n\u001b[1;32m   7822\u001b[0m \u001b[0;34m\u001b[0m\u001b[0m\n",
      "\u001b[0;31mTypeError\u001b[0m: Can only count levels on hierarchical index."
     ]
    }
   ],
   "source": [
    "df.count(level='language')"
   ]
  },
  {
   "cell_type": "code",
   "execution_count": 67,
   "metadata": {},
   "outputs": [],
   "source": [
    "low = df.language.value_counts() < 5"
   ]
  },
  {
   "cell_type": "code",
   "execution_count": 68,
   "metadata": {},
   "outputs": [
    {
     "data": {
      "text/plain": [
       "['Visual Basic',\n",
       " 'Vue',\n",
       " 'Lasso',\n",
       " 'C#',\n",
       " 'TSQL',\n",
       " 'Visual Basic .NET',\n",
       " 'GAMS',\n",
       " 'Processing',\n",
       " 'ActionScript',\n",
       " 'Pascal',\n",
       " 'Julia',\n",
       " 'TypeScript',\n",
       " 'TeX',\n",
       " 'FORTRAN',\n",
       " 'Arduino',\n",
       " 'Go']"
      ]
     },
     "execution_count": 68,
     "metadata": {},
     "output_type": "execute_result"
    }
   ],
   "source": [
    "[low.index[i] for i, x in enumerate(low) if x]"
   ]
  },
  {
   "cell_type": "code",
   "execution_count": null,
   "metadata": {},
   "outputs": [],
   "source": []
  }
 ],
 "metadata": {
  "kernelspec": {
   "display_name": "Python 3",
   "language": "python",
   "name": "python3"
  },
  "language_info": {
   "codemirror_mode": {
    "name": "ipython",
    "version": 3
   },
   "file_extension": ".py",
   "mimetype": "text/x-python",
   "name": "python",
   "nbconvert_exporter": "python",
   "pygments_lexer": "ipython3",
   "version": "3.7.4"
  }
 },
 "nbformat": 4,
 "nbformat_minor": 2
}
