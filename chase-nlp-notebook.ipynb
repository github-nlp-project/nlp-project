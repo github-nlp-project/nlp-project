{
 "cells": [
  {
   "cell_type": "code",
   "execution_count": 1,
   "metadata": {},
   "outputs": [],
   "source": [
    "import pandas as pd\n",
    "import numpy as np\n",
    "\n",
    "from requests import get\n",
    "from bs4 import BeautifulSoup\n",
    "import os\n",
    "\n",
    "import acquire\n",
    "import prepare"
   ]
  },
  {
   "cell_type": "code",
   "execution_count": 2,
   "metadata": {},
   "outputs": [],
   "source": [
    "df = acquire.scrape_github_data()"
   ]
  },
  {
   "cell_type": "code",
   "execution_count": 3,
   "metadata": {},
   "outputs": [],
   "source": [
    "df = pd.DataFrame(df)"
   ]
  },
  {
   "cell_type": "code",
   "execution_count": 4,
   "metadata": {},
   "outputs": [
    {
     "data": {
      "text/html": [
       "<div>\n",
       "<style scoped>\n",
       "    .dataframe tbody tr th:only-of-type {\n",
       "        vertical-align: middle;\n",
       "    }\n",
       "\n",
       "    .dataframe tbody tr th {\n",
       "        vertical-align: top;\n",
       "    }\n",
       "\n",
       "    .dataframe thead th {\n",
       "        text-align: right;\n",
       "    }\n",
       "</style>\n",
       "<table border=\"1\" class=\"dataframe\">\n",
       "  <thead>\n",
       "    <tr style=\"text-align: right;\">\n",
       "      <th></th>\n",
       "      <th>repo</th>\n",
       "      <th>language</th>\n",
       "      <th>readme_contents</th>\n",
       "    </tr>\n",
       "  </thead>\n",
       "  <tbody>\n",
       "    <tr>\n",
       "      <th>0</th>\n",
       "      <td>kinverarity1/lasio</td>\n",
       "      <td>Lasso</td>\n",
       "      <td># lasio\\n\\n[![License](http://img.shields.io/b...</td>\n",
       "    </tr>\n",
       "    <tr>\n",
       "      <th>1</th>\n",
       "      <td>agile-geoscience/welly</td>\n",
       "      <td>Lasso</td>\n",
       "      <td>welly\\n========\\n\\n**Manage subsurface well da...</td>\n",
       "    </tr>\n",
       "    <tr>\n",
       "      <th>2</th>\n",
       "      <td>akashlevy/Deep-Learn-Oil</td>\n",
       "      <td>Python</td>\n",
       "      <td># QRI Project at TRiCAM\\n\\n&lt;img src=\"logos/iac...</td>\n",
       "    </tr>\n",
       "    <tr>\n",
       "      <th>3</th>\n",
       "      <td>Flaxbeard/ImmersivePetroleum</td>\n",
       "      <td>Java</td>\n",
       "      <td>![Contribution guidelines for this project](ht...</td>\n",
       "    </tr>\n",
       "    <tr>\n",
       "      <th>4</th>\n",
       "      <td>mutolisp/kh_pplines</td>\n",
       "      <td>None</td>\n",
       "      <td>高雄市石化管路\\n==============\\n\\nPetroleum and gas p...</td>\n",
       "    </tr>\n",
       "    <tr>\n",
       "      <th>...</th>\n",
       "      <td>...</td>\n",
       "      <td>...</td>\n",
       "      <td>...</td>\n",
       "    </tr>\n",
       "    <tr>\n",
       "      <th>95</th>\n",
       "      <td>bmsingh12/yipl-challenge</td>\n",
       "      <td>Python</td>\n",
       "      <td># yipl-intern-petroleum-report\\nThis repositor...</td>\n",
       "    </tr>\n",
       "    <tr>\n",
       "      <th>96</th>\n",
       "      <td>phamthanhnghia/de</td>\n",
       "      <td>PHP</td>\n",
       "      <td># Yii-framework-1.1.13-SPC-demo\\n</td>\n",
       "    </tr>\n",
       "    <tr>\n",
       "      <th>97</th>\n",
       "      <td>nsankouakou/PscSystem</td>\n",
       "      <td>CSS</td>\n",
       "      <td>No README</td>\n",
       "    </tr>\n",
       "    <tr>\n",
       "      <th>98</th>\n",
       "      <td>osgirl/BpReports</td>\n",
       "      <td>None</td>\n",
       "      <td>No README</td>\n",
       "    </tr>\n",
       "    <tr>\n",
       "      <th>99</th>\n",
       "      <td>tehblooguy/Petroleum-Expansion</td>\n",
       "      <td>None</td>\n",
       "      <td>Petroleum-Expansion\\n===================\\n\\nWI...</td>\n",
       "    </tr>\n",
       "  </tbody>\n",
       "</table>\n",
       "<p>100 rows × 3 columns</p>\n",
       "</div>"
      ],
      "text/plain": [
       "                              repo language  \\\n",
       "0               kinverarity1/lasio    Lasso   \n",
       "1           agile-geoscience/welly    Lasso   \n",
       "2         akashlevy/Deep-Learn-Oil   Python   \n",
       "3     Flaxbeard/ImmersivePetroleum     Java   \n",
       "4              mutolisp/kh_pplines     None   \n",
       "..                             ...      ...   \n",
       "95        bmsingh12/yipl-challenge   Python   \n",
       "96               phamthanhnghia/de      PHP   \n",
       "97           nsankouakou/PscSystem      CSS   \n",
       "98                osgirl/BpReports     None   \n",
       "99  tehblooguy/Petroleum-Expansion     None   \n",
       "\n",
       "                                      readme_contents  \n",
       "0   # lasio\\n\\n[![License](http://img.shields.io/b...  \n",
       "1   welly\\n========\\n\\n**Manage subsurface well da...  \n",
       "2   # QRI Project at TRiCAM\\n\\n<img src=\"logos/iac...  \n",
       "3   ![Contribution guidelines for this project](ht...  \n",
       "4   高雄市石化管路\\n==============\\n\\nPetroleum and gas p...  \n",
       "..                                                ...  \n",
       "95  # yipl-intern-petroleum-report\\nThis repositor...  \n",
       "96                  # Yii-framework-1.1.13-SPC-demo\\n  \n",
       "97                                          No README  \n",
       "98                                          No README  \n",
       "99  Petroleum-Expansion\\n===================\\n\\nWI...  \n",
       "\n",
       "[100 rows x 3 columns]"
      ]
     },
     "execution_count": 4,
     "metadata": {},
     "output_type": "execute_result"
    }
   ],
   "source": [
    "df"
   ]
  },
  {
   "cell_type": "code",
   "execution_count": 5,
   "metadata": {},
   "outputs": [],
   "source": [
    "df = prepare.prep_repo_data(df)"
   ]
  },
  {
   "cell_type": "code",
   "execution_count": 6,
   "metadata": {},
   "outputs": [
    {
     "data": {
      "text/html": [
       "<div>\n",
       "<style scoped>\n",
       "    .dataframe tbody tr th:only-of-type {\n",
       "        vertical-align: middle;\n",
       "    }\n",
       "\n",
       "    .dataframe tbody tr th {\n",
       "        vertical-align: top;\n",
       "    }\n",
       "\n",
       "    .dataframe thead th {\n",
       "        text-align: right;\n",
       "    }\n",
       "</style>\n",
       "<table border=\"1\" class=\"dataframe\">\n",
       "  <thead>\n",
       "    <tr style=\"text-align: right;\">\n",
       "      <th></th>\n",
       "      <th>repo</th>\n",
       "      <th>language</th>\n",
       "      <th>readme_contents</th>\n",
       "      <th>clean_stemmed</th>\n",
       "      <th>clean_lemmatized</th>\n",
       "    </tr>\n",
       "  </thead>\n",
       "  <tbody>\n",
       "    <tr>\n",
       "      <th>0</th>\n",
       "      <td>kinverarity1/lasio</td>\n",
       "      <td>Lasso</td>\n",
       "      <td># lasio\\n\\n[![License](http://img.shields.io/b...</td>\n",
       "      <td>lasio licensehttpimgshieldsiobadgelicensemitbl...</td>\n",
       "      <td>lasio licensehttpimgshieldsiobadgelicensemitbl...</td>\n",
       "    </tr>\n",
       "    <tr>\n",
       "      <th>1</th>\n",
       "      <td>agile-geoscience/welly</td>\n",
       "      <td>Lasso</td>\n",
       "      <td>welly\\n========\\n\\n**Manage subsurface well da...</td>\n",
       "      <td>welli manag subsurfac well data imag httpsimgs...</td>\n",
       "      <td>welly manage subsurface well data image httpsi...</td>\n",
       "    </tr>\n",
       "    <tr>\n",
       "      <th>2</th>\n",
       "      <td>akashlevy/Deep-Learn-Oil</td>\n",
       "      <td>Python</td>\n",
       "      <td># QRI Project at TRiCAM\\n\\n&lt;img src=\"logos/iac...</td>\n",
       "      <td>qri project tricam img srclogosiacspng altiac ...</td>\n",
       "      <td>qri project tricam img srclogosiacspng altiacs...</td>\n",
       "    </tr>\n",
       "    <tr>\n",
       "      <th>3</th>\n",
       "      <td>Flaxbeard/ImmersivePetroleum</td>\n",
       "      <td>Java</td>\n",
       "      <td>![Contribution guidelines for this project](ht...</td>\n",
       "      <td>contribut guidelin thi projecthttpsiimgurcomgv...</td>\n",
       "      <td>contribution guideline projecthttpsiimgurcomgv...</td>\n",
       "    </tr>\n",
       "    <tr>\n",
       "      <th>4</th>\n",
       "      <td>mutolisp/kh_pplines</td>\n",
       "      <td>None</td>\n",
       "      <td>高雄市石化管路\\n==============\\n\\nPetroleum and gas p...</td>\n",
       "      <td>petroleum ga pipelin kaohsiung 81 src layer gi...</td>\n",
       "      <td>petroleum gas pipeline kaohsiung 81 src layer ...</td>\n",
       "    </tr>\n",
       "  </tbody>\n",
       "</table>\n",
       "</div>"
      ],
      "text/plain": [
       "                           repo language  \\\n",
       "0            kinverarity1/lasio    Lasso   \n",
       "1        agile-geoscience/welly    Lasso   \n",
       "2      akashlevy/Deep-Learn-Oil   Python   \n",
       "3  Flaxbeard/ImmersivePetroleum     Java   \n",
       "4           mutolisp/kh_pplines     None   \n",
       "\n",
       "                                     readme_contents  \\\n",
       "0  # lasio\\n\\n[![License](http://img.shields.io/b...   \n",
       "1  welly\\n========\\n\\n**Manage subsurface well da...   \n",
       "2  # QRI Project at TRiCAM\\n\\n<img src=\"logos/iac...   \n",
       "3  ![Contribution guidelines for this project](ht...   \n",
       "4  高雄市石化管路\\n==============\\n\\nPetroleum and gas p...   \n",
       "\n",
       "                                       clean_stemmed  \\\n",
       "0  lasio licensehttpimgshieldsiobadgelicensemitbl...   \n",
       "1  welli manag subsurfac well data imag httpsimgs...   \n",
       "2  qri project tricam img srclogosiacspng altiac ...   \n",
       "3  contribut guidelin thi projecthttpsiimgurcomgv...   \n",
       "4  petroleum ga pipelin kaohsiung 81 src layer gi...   \n",
       "\n",
       "                                    clean_lemmatized  \n",
       "0  lasio licensehttpimgshieldsiobadgelicensemitbl...  \n",
       "1  welly manage subsurface well data image httpsi...  \n",
       "2  qri project tricam img srclogosiacspng altiacs...  \n",
       "3  contribution guideline projecthttpsiimgurcomgv...  \n",
       "4  petroleum gas pipeline kaohsiung 81 src layer ...  "
      ]
     },
     "execution_count": 6,
     "metadata": {},
     "output_type": "execute_result"
    }
   ],
   "source": [
    "df.head()"
   ]
  },
  {
   "cell_type": "code",
   "execution_count": 7,
   "metadata": {},
   "outputs": [
    {
     "data": {
      "text/plain": [
       "(73, 5)"
      ]
     },
     "execution_count": 7,
     "metadata": {},
     "output_type": "execute_result"
    }
   ],
   "source": [
    "df.shape"
   ]
  },
  {
   "cell_type": "code",
   "execution_count": null,
   "metadata": {},
   "outputs": [],
   "source": [
    "df[df.readme_contents == 'No README']"
   ]
  },
  {
   "cell_type": "code",
   "execution_count": null,
   "metadata": {},
   "outputs": [],
   "source": [
    "df[df.readme_contents == 'No README'].shape"
   ]
  },
  {
   "cell_type": "code",
   "execution_count": null,
   "metadata": {},
   "outputs": [],
   "source": [
    "no_readme = df[df.readme_contents == 'No README'].index"
   ]
  },
  {
   "cell_type": "code",
   "execution_count": null,
   "metadata": {},
   "outputs": [],
   "source": [
    "df = df.drop(no_readme)"
   ]
  },
  {
   "cell_type": "code",
   "execution_count": null,
   "metadata": {},
   "outputs": [],
   "source": [
    "df.shape"
   ]
  },
  {
   "cell_type": "code",
   "execution_count": null,
   "metadata": {},
   "outputs": [],
   "source": [
    "test_df = df.copy()"
   ]
  },
  {
   "cell_type": "code",
   "execution_count": null,
   "metadata": {},
   "outputs": [],
   "source": [
    "test_df"
   ]
  },
  {
   "cell_type": "code",
   "execution_count": null,
   "metadata": {},
   "outputs": [],
   "source": [
    "test_df.reset_index(drop=True)"
   ]
  },
  {
   "cell_type": "code",
   "execution_count": null,
   "metadata": {},
   "outputs": [],
   "source": [
    "test_df"
   ]
  },
  {
   "cell_type": "code",
   "execution_count": null,
   "metadata": {},
   "outputs": [],
   "source": [
    "df"
   ]
  },
  {
   "cell_type": "code",
   "execution_count": null,
   "metadata": {},
   "outputs": [],
   "source": [
    "df.clean_stemmed.str.len()"
   ]
  },
  {
   "cell_type": "code",
   "execution_count": null,
   "metadata": {},
   "outputs": [],
   "source": [
    "url = 'https://github.com/search?o=desc&p=1&q=petroleum&s=stars&type=Repositories'\n",
    "headers = {'User-Agent': 'manual search'} \n",
    "response = get(url, headers=headers)\n",
    "soup = BeautifulSoup(response.content, 'html.parser')"
   ]
  },
  {
   "cell_type": "code",
   "execution_count": null,
   "metadata": {},
   "outputs": [],
   "source": [
    "def get_repo_names(url):\n",
    "    headers = {'User-Agent': 'manual search'} \n",
    "    response = get(url, headers=headers)\n",
    "    soup = BeautifulSoup(response.content, 'html.parser')\n",
    "    repos = [soup.find_all('a', class_='v-align-middle')[i].text\\\n",
    "     for i in range(10)]\n",
    "    return repos"
   ]
  },
  {
   "cell_type": "code",
   "execution_count": null,
   "metadata": {},
   "outputs": [],
   "source": [
    "# [soup.find_all('a', class_='v-align-middle')[i].text\\\n",
    "#  for i in range(10)]"
   ]
  },
  {
   "cell_type": "code",
   "execution_count": null,
   "metadata": {},
   "outputs": [],
   "source": [
    "# urls = ['https://github.com/search?o=desc&p='+str(i)\\\n",
    "#     +'&q=petroleum&s=stars&type=Repositories' for i in range(1,11)]\n",
    "# urls"
   ]
  },
  {
   "cell_type": "code",
   "execution_count": null,
   "metadata": {},
   "outputs": [],
   "source": [
    "# test = []\n",
    "# urls = ['https://github.com/search?o=desc&p=1&q=petroleum&s=stars&type=Repositories',\n",
    "#  'https://github.com/search?o=desc&p=2&q=petroleum&s=stars&type=Repositories',\n",
    "#  'https://github.com/search?o=desc&p=3&q=petroleum&s=stars&type=Repositories',\n",
    "#  'https://github.com/search?o=desc&p=4&q=petroleum&s=stars&type=Repositories',\n",
    "#  'https://github.com/search?o=desc&p=5&q=petroleum&s=stars&type=Repositories',\n",
    "#  'https://github.com/search?o=desc&p=6&q=petroleum&s=stars&type=Repositories',\n",
    "#  ]\n",
    "# for url in urls:\n",
    "#     test.append(get_repo_names(url))\n",
    "# test"
   ]
  },
  {
   "cell_type": "code",
   "execution_count": null,
   "metadata": {},
   "outputs": [],
   "source": [
    "urls = ['https://github.com/search?o=desc&p='+str(i)\\\n",
    "    +'&q=petroleum&s=stars&type=Repositories' for i in range(1,12)]\n",
    "urls"
   ]
  },
  {
   "cell_type": "code",
   "execution_count": null,
   "metadata": {},
   "outputs": [],
   "source": [
    "len(urls)"
   ]
  },
  {
   "cell_type": "code",
   "execution_count": null,
   "metadata": {},
   "outputs": [],
   "source": [
    "test = []\n",
    "type(test)"
   ]
  },
  {
   "cell_type": "code",
   "execution_count": null,
   "metadata": {},
   "outputs": [],
   "source": [
    "test = []\n",
    "for i, url in enumerate(urls):\n",
    "    try:\n",
    "        test.append(get_repo_names(url))\n",
    "    except IndexError:\n",
    "        break\n",
    "test"
   ]
  },
  {
   "cell_type": "code",
   "execution_count": null,
   "metadata": {},
   "outputs": [],
   "source": [
    "type(test[0][0])"
   ]
  },
  {
   "cell_type": "code",
   "execution_count": null,
   "metadata": {},
   "outputs": [],
   "source": [
    "df = pd.DataFrame(test)"
   ]
  },
  {
   "cell_type": "code",
   "execution_count": null,
   "metadata": {},
   "outputs": [],
   "source": [
    "df"
   ]
  },
  {
   "cell_type": "code",
   "execution_count": null,
   "metadata": {},
   "outputs": [],
   "source": [
    "sum(test, [])"
   ]
  },
  {
   "cell_type": "code",
   "execution_count": null,
   "metadata": {},
   "outputs": [],
   "source": []
  }
 ],
 "metadata": {
  "kernelspec": {
   "display_name": "Python 3",
   "language": "python",
   "name": "python3"
  },
  "language_info": {
   "codemirror_mode": {
    "name": "ipython",
    "version": 3
   },
   "file_extension": ".py",
   "mimetype": "text/x-python",
   "name": "python",
   "nbconvert_exporter": "python",
   "pygments_lexer": "ipython3",
   "version": "3.7.4"
  }
 },
 "nbformat": 4,
 "nbformat_minor": 2
}
