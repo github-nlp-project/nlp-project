{
 "cells": [
  {
   "cell_type": "markdown",
   "metadata": {},
   "source": [
    "# NLP Predicts Programming Language of a Github Repo"
   ]
  },
  {
   "cell_type": "markdown",
   "metadata": {},
   "source": [
    "## Goal\n",
    "\n",
    "The primary goal for this project was to build an NLP model that can predict the primary language of REPO using the text in the README file.\n",
    "\n",
    "As a secondary goal, we decided to pull repos from a specific sector, or topic, to see if an industry we were interested is utilizing a program language we're familiar with.\n",
    "\n",
    "Due to the first and second goals, this repo can be used as a means to research an potenial industry you might be interested in entering, and knowing what programming language you'll need to have familiarity with."
   ]
  },
  {
   "cell_type": "markdown",
   "metadata": {},
   "source": [
    "## Data Dictionary\n",
    "\n",
    "**language**: Programming language used for repositort project\n",
    "\n",
    "**category**: The category within the energy sector\n",
    "\n",
    "**repo**: The specific repo referenced with that observation\n",
    "\n",
    "**readme_contents**: Description of each repository containing keywords used to make predictions\n",
    "\n",
    "**clean_tokes**: README content normalized removing any uppercased characters, special characters, non-alpha characters, and alpha strings with 2 or less characters\n",
    "\n",
    "**clean_stemmed**: README content reducing each word to its root stem and then removes any stopwords\n",
    "\n",
    "**clean_lemmatized**: README content reducing each word to its root word and then removes any stopwords\n",
    "\n",
    "**word_count**: The total word count for that observation"
   ]
  },
  {
   "cell_type": "code",
   "execution_count": 3,
   "metadata": {},
   "outputs": [],
   "source": [
    "# Base \n",
    "import pandas as pd\n",
    "import numpy as np\n",
    "import re\n",
    "from pprint import pprint\n",
    "\n",
    "# Viz\n",
    "import seaborn as sns\n",
    "import matplotlib.pyplot as plt\n",
    "from wordcloud import WordCloud\n",
    "\n",
    "# scraping modules\n",
    "from requests import get\n",
    "from bs4 import BeautifulSoup\n",
    "\n",
    "import unicodedata\n",
    "\n",
    "# NLP\n",
    "import nltk\n",
    "from nltk.tokenize.toktok import ToktokTokenizer\n",
    "from nltk.corpus import stopwords\n",
    "from sklearn.feature_extraction.text import TfidfVectorizer\n",
    "\n",
    "# Modeling\n",
    "from sklearn.model_selection import train_test_split\n",
    "from sklearn.linear_model import LogisticRegression\n",
    "from sklearn.metrics import classification_report, accuracy_score, confusion_matrix\n",
    "from sklearn.tree import DecisionTreeClassifier\n",
    "\n",
    "# Functions, etc.\n",
    "import os\n",
    "import acquire\n",
    "import prepare\n",
    "\n",
    "# matplotlib default plotting styles\n",
    "plt.rc(\"patch\", edgecolor=\"black\", force_edgecolor=True)\n",
    "plt.rc(\"axes\", grid=True)\n",
    "plt.rc(\"grid\", linestyle=\":\", linewidth=0.8, alpha=0.7)\n",
    "plt.rc(\"axes.spines\", right=False, top=False)\n",
    "plt.rc(\"figure\", figsize=(16, 9))\n",
    "plt.rc(\"font\", size=12.0)\n",
    "plt.rc(\"hist\", bins=25)\n",
    "\n",
    "import warnings\n",
    "warnings.filterwarnings(\"ignore\")"
   ]
  },
  {
   "cell_type": "markdown",
   "metadata": {},
   "source": [
    "## Acquire our data"
   ]
  },
  {
   "cell_type": "code",
   "execution_count": 4,
   "metadata": {},
   "outputs": [
    {
     "data": {
      "text/html": [
       "<div>\n",
       "<style scoped>\n",
       "    .dataframe tbody tr th:only-of-type {\n",
       "        vertical-align: middle;\n",
       "    }\n",
       "\n",
       "    .dataframe tbody tr th {\n",
       "        vertical-align: top;\n",
       "    }\n",
       "\n",
       "    .dataframe thead th {\n",
       "        text-align: right;\n",
       "    }\n",
       "</style>\n",
       "<table border=\"1\" class=\"dataframe\">\n",
       "  <thead>\n",
       "    <tr style=\"text-align: right;\">\n",
       "      <th></th>\n",
       "      <th>repo</th>\n",
       "      <th>language</th>\n",
       "      <th>readme_contents</th>\n",
       "      <th>category</th>\n",
       "    </tr>\n",
       "  </thead>\n",
       "  <tbody>\n",
       "    <tr>\n",
       "      <th>0</th>\n",
       "      <td>N-BodyShop/gasoline</td>\n",
       "      <td>C</td>\n",
       "      <td>```\\n \\t  ▄████  ▄▄▄        ██████  ▒█████   █...</td>\n",
       "      <td>gasoline</td>\n",
       "    </tr>\n",
       "    <tr>\n",
       "      <th>1</th>\n",
       "      <td>michipili/gasoline</td>\n",
       "      <td>OCaml</td>\n",
       "      <td># Gasoline\\n\\nThe Gasoline project aims at imp...</td>\n",
       "      <td>gasoline</td>\n",
       "    </tr>\n",
       "    <tr>\n",
       "      <th>2</th>\n",
       "      <td>rvikmanis/gasoline</td>\n",
       "      <td>TypeScript</td>\n",
       "      <td># Gasoline\\n\\nConvenient state container for R...</td>\n",
       "      <td>gasoline</td>\n",
       "    </tr>\n",
       "    <tr>\n",
       "      <th>3</th>\n",
       "      <td>iggisv9t/benzin_gif</td>\n",
       "      <td>Python</td>\n",
       "      <td># benzin_gif\\nCreate animated gifs that looks ...</td>\n",
       "      <td>gasoline</td>\n",
       "    </tr>\n",
       "    <tr>\n",
       "      <th>4</th>\n",
       "      <td>daneharrigan/gasoline</td>\n",
       "      <td>Go</td>\n",
       "      <td># gasoline\\n\\n![Gasoline Dashboard](http://cl....</td>\n",
       "      <td>gasoline</td>\n",
       "    </tr>\n",
       "  </tbody>\n",
       "</table>\n",
       "</div>"
      ],
      "text/plain": [
       "                    repo    language  \\\n",
       "0    N-BodyShop/gasoline           C   \n",
       "1     michipili/gasoline       OCaml   \n",
       "2     rvikmanis/gasoline  TypeScript   \n",
       "3    iggisv9t/benzin_gif      Python   \n",
       "4  daneharrigan/gasoline          Go   \n",
       "\n",
       "                                     readme_contents  category  \n",
       "0  ```\\n \\t  ▄████  ▄▄▄        ██████  ▒█████   █...  gasoline  \n",
       "1  # Gasoline\\n\\nThe Gasoline project aims at imp...  gasoline  \n",
       "2  # Gasoline\\n\\nConvenient state container for R...  gasoline  \n",
       "3  # benzin_gif\\nCreate animated gifs that looks ...  gasoline  \n",
       "4  # gasoline\\n\\n![Gasoline Dashboard](http://cl....  gasoline  "
      ]
     },
     "execution_count": 4,
     "metadata": {},
     "output_type": "execute_result"
    }
   ],
   "source": [
    "# The code below sets the table by creating a json file per parameter in acquire_repo_list\n",
    "\n",
    "# acquire.acquire_repo_list('gasoline')\n",
    "# acquire.acquire_repo_list('solar energy')\n",
    "# acquire.acquire_repo_list('wind power')\n",
    "\n",
    "# The we take those json files and use them to scrape our data\n",
    "\n",
    "# df = acquire.scrape_github_data()\n",
    "\n",
    "# Then we make a DataFrame proper from that work, and save it as a csv.\n",
    "\n",
    "# pd.DataFrame(df).to_csv('new_repos_dict.csv', index=False)\n",
    "\n",
    "# Then we read the csv in\n",
    "\n",
    "df = pd.read_csv('new_repos_dict.csv')\n",
    "\n",
    "# Then we create a category for each observation\n",
    "\n",
    "df.loc[:200, 'category'] = 'gasoline'\n",
    "df.loc[200:400, 'category'] = 'wind_energy'\n",
    "df.loc[400:, 'category'] = 'solar_power'\n",
    "\n",
    "df.head()"
   ]
  },
  {
   "cell_type": "markdown",
   "metadata": {},
   "source": [
    "## Prepare our data"
   ]
  },
  {
   "cell_type": "code",
   "execution_count": 5,
   "metadata": {},
   "outputs": [],
   "source": [
    "# We run the prepare function from our prepare.py file\n",
    "\n",
    "df = prepare.prep_repo_data(df)"
   ]
  },
  {
   "cell_type": "code",
   "execution_count": 6,
   "metadata": {},
   "outputs": [
    {
     "data": {
      "text/html": [
       "<div>\n",
       "<style scoped>\n",
       "    .dataframe tbody tr th:only-of-type {\n",
       "        vertical-align: middle;\n",
       "    }\n",
       "\n",
       "    .dataframe tbody tr th {\n",
       "        vertical-align: top;\n",
       "    }\n",
       "\n",
       "    .dataframe thead th {\n",
       "        text-align: right;\n",
       "    }\n",
       "</style>\n",
       "<table border=\"1\" class=\"dataframe\">\n",
       "  <thead>\n",
       "    <tr style=\"text-align: right;\">\n",
       "      <th></th>\n",
       "      <th>language</th>\n",
       "      <th>category</th>\n",
       "      <th>repo</th>\n",
       "      <th>readme_contents</th>\n",
       "      <th>clean_tokes</th>\n",
       "      <th>clean_stemmed</th>\n",
       "      <th>clean_lemmatized</th>\n",
       "    </tr>\n",
       "  </thead>\n",
       "  <tbody>\n",
       "    <tr>\n",
       "      <th>0</th>\n",
       "      <td>C</td>\n",
       "      <td>gasoline</td>\n",
       "      <td>N-BodyShop/gasoline</td>\n",
       "      <td>```\\n \\t  ▄████  ▄▄▄        ██████  ▒█████   █...</td>\n",
       "      <td>[&amp;#9;, &amp;#9;, &amp;#9;, &amp;#9;, &amp;#9;, &amp;#9;, &amp;#9;, &amp;#9...</td>\n",
       "      <td>&amp;#9; &amp;#9; &amp;#9; &amp;#9; &amp;#9; &amp;#9; &amp;#9; &amp;#9; &amp;#9; g...</td>\n",
       "      <td>&amp;#9; &amp;#9; &amp;#9; &amp;#9; &amp;#9; &amp;#9; &amp;#9; &amp;#9; &amp;#9; g...</td>\n",
       "    </tr>\n",
       "    <tr>\n",
       "      <th>1</th>\n",
       "      <td>OCaml</td>\n",
       "      <td>gasoline</td>\n",
       "      <td>michipili/gasoline</td>\n",
       "      <td># Gasoline\\n\\nThe Gasoline project aims at imp...</td>\n",
       "      <td>[gasoline, the, gasoline, project, aims, at, i...</td>\n",
       "      <td>gasolin gasolin project aim implement unixish ...</td>\n",
       "      <td>gasoline gasoline project aim implementing uni...</td>\n",
       "    </tr>\n",
       "    <tr>\n",
       "      <th>2</th>\n",
       "      <td>TypeScript</td>\n",
       "      <td>gasoline</td>\n",
       "      <td>rvikmanis/gasoline</td>\n",
       "      <td># Gasoline\\n\\nConvenient state container for R...</td>\n",
       "      <td>[gasoline, convenient, state, container, for, ...</td>\n",
       "      <td>gasolin conveni state contain react instal npm...</td>\n",
       "      <td>gasoline convenient state container react inst...</td>\n",
       "    </tr>\n",
       "    <tr>\n",
       "      <th>3</th>\n",
       "      <td>Python</td>\n",
       "      <td>gasoline</td>\n",
       "      <td>iggisv9t/benzin_gif</td>\n",
       "      <td># benzin_gif\\nCreate animated gifs that looks ...</td>\n",
       "      <td>[benzin_gif, create, animated, gifs, that, loo...</td>\n",
       "      <td>benzin_gif creat anim gif look like gasolin pu...</td>\n",
       "      <td>benzin_gif create animated gifs look like gaso...</td>\n",
       "    </tr>\n",
       "    <tr>\n",
       "      <th>4</th>\n",
       "      <td>Go</td>\n",
       "      <td>gasoline</td>\n",
       "      <td>daneharrigan/gasoline</td>\n",
       "      <td># gasoline\\n\\n![Gasoline Dashboard](http://cl....</td>\n",
       "      <td>[gasoline, gasoline, dashboardhttpcllyimage3l1...</td>\n",
       "      <td>gasolin gasolin dashboardhttpcllyimage3l190u3q...</td>\n",
       "      <td>gasoline gasoline dashboardhttpcllyimage3l190u...</td>\n",
       "    </tr>\n",
       "  </tbody>\n",
       "</table>\n",
       "</div>"
      ],
      "text/plain": [
       "     language  category                   repo  \\\n",
       "0           C  gasoline    N-BodyShop/gasoline   \n",
       "1       OCaml  gasoline     michipili/gasoline   \n",
       "2  TypeScript  gasoline     rvikmanis/gasoline   \n",
       "3      Python  gasoline    iggisv9t/benzin_gif   \n",
       "4          Go  gasoline  daneharrigan/gasoline   \n",
       "\n",
       "                                     readme_contents  \\\n",
       "0  ```\\n \\t  ▄████  ▄▄▄        ██████  ▒█████   █...   \n",
       "1  # Gasoline\\n\\nThe Gasoline project aims at imp...   \n",
       "2  # Gasoline\\n\\nConvenient state container for R...   \n",
       "3  # benzin_gif\\nCreate animated gifs that looks ...   \n",
       "4  # gasoline\\n\\n![Gasoline Dashboard](http://cl....   \n",
       "\n",
       "                                         clean_tokes  \\\n",
       "0  [&#9;, &#9;, &#9;, &#9;, &#9;, &#9;, &#9;, &#9...   \n",
       "1  [gasoline, the, gasoline, project, aims, at, i...   \n",
       "2  [gasoline, convenient, state, container, for, ...   \n",
       "3  [benzin_gif, create, animated, gifs, that, loo...   \n",
       "4  [gasoline, gasoline, dashboardhttpcllyimage3l1...   \n",
       "\n",
       "                                       clean_stemmed  \\\n",
       "0  &#9; &#9; &#9; &#9; &#9; &#9; &#9; &#9; &#9; g...   \n",
       "1  gasolin gasolin project aim implement unixish ...   \n",
       "2  gasolin conveni state contain react instal npm...   \n",
       "3  benzin_gif creat anim gif look like gasolin pu...   \n",
       "4  gasolin gasolin dashboardhttpcllyimage3l190u3q...   \n",
       "\n",
       "                                    clean_lemmatized  \n",
       "0  &#9; &#9; &#9; &#9; &#9; &#9; &#9; &#9; &#9; g...  \n",
       "1  gasoline gasoline project aim implementing uni...  \n",
       "2  gasoline convenient state container react inst...  \n",
       "3  benzin_gif create animated gifs look like gaso...  \n",
       "4  gasoline gasoline dashboardhttpcllyimage3l190u...  "
      ]
     },
     "execution_count": 6,
     "metadata": {},
     "output_type": "execute_result"
    }
   ],
   "source": [
    "df.head()"
   ]
  },
  {
   "cell_type": "code",
   "execution_count": 7,
   "metadata": {},
   "outputs": [
    {
     "name": "stdout",
     "output_type": "stream",
     "text": [
      "<class 'pandas.core.frame.DataFrame'>\n",
      "Int64Index: 445 entries, 0 to 599\n",
      "Data columns (total 7 columns):\n",
      " #   Column            Non-Null Count  Dtype \n",
      "---  ------            --------------  ----- \n",
      " 0   language          411 non-null    object\n",
      " 1   category          445 non-null    object\n",
      " 2   repo              445 non-null    object\n",
      " 3   readme_contents   443 non-null    object\n",
      " 4   clean_tokes       445 non-null    object\n",
      " 5   clean_stemmed     445 non-null    object\n",
      " 6   clean_lemmatized  445 non-null    object\n",
      "dtypes: object(7)\n",
      "memory usage: 27.8+ KB\n"
     ]
    }
   ],
   "source": [
    "# We notice some nulls\n",
    "\n",
    "df.info()"
   ]
  },
  {
   "cell_type": "code",
   "execution_count": 8,
   "metadata": {},
   "outputs": [],
   "source": [
    "# Drop the nulls\n",
    "\n",
    "df.dropna(inplace=True)"
   ]
  },
  {
   "cell_type": "code",
   "execution_count": 9,
   "metadata": {},
   "outputs": [],
   "source": [
    "# Reset the index\n",
    "\n",
    "df.reset_index(drop=True, inplace=True)"
   ]
  },
  {
   "cell_type": "code",
   "execution_count": 10,
   "metadata": {},
   "outputs": [
    {
     "data": {
      "text/html": [
       "<div>\n",
       "<style scoped>\n",
       "    .dataframe tbody tr th:only-of-type {\n",
       "        vertical-align: middle;\n",
       "    }\n",
       "\n",
       "    .dataframe tbody tr th {\n",
       "        vertical-align: top;\n",
       "    }\n",
       "\n",
       "    .dataframe thead th {\n",
       "        text-align: right;\n",
       "    }\n",
       "</style>\n",
       "<table border=\"1\" class=\"dataframe\">\n",
       "  <thead>\n",
       "    <tr style=\"text-align: right;\">\n",
       "      <th></th>\n",
       "      <th>language</th>\n",
       "      <th>category</th>\n",
       "      <th>repo</th>\n",
       "      <th>readme_contents</th>\n",
       "      <th>clean_tokes</th>\n",
       "      <th>clean_stemmed</th>\n",
       "      <th>clean_lemmatized</th>\n",
       "    </tr>\n",
       "  </thead>\n",
       "  <tbody>\n",
       "    <tr>\n",
       "      <th>0</th>\n",
       "      <td>C</td>\n",
       "      <td>gasoline</td>\n",
       "      <td>N-BodyShop/gasoline</td>\n",
       "      <td>```\\n \\t  ▄████  ▄▄▄        ██████  ▒█████   █...</td>\n",
       "      <td>[&amp;#9;, &amp;#9;, &amp;#9;, &amp;#9;, &amp;#9;, &amp;#9;, &amp;#9;, &amp;#9...</td>\n",
       "      <td>&amp;#9; &amp;#9; &amp;#9; &amp;#9; &amp;#9; &amp;#9; &amp;#9; &amp;#9; &amp;#9; g...</td>\n",
       "      <td>&amp;#9; &amp;#9; &amp;#9; &amp;#9; &amp;#9; &amp;#9; &amp;#9; &amp;#9; &amp;#9; g...</td>\n",
       "    </tr>\n",
       "    <tr>\n",
       "      <th>1</th>\n",
       "      <td>OCaml</td>\n",
       "      <td>gasoline</td>\n",
       "      <td>michipili/gasoline</td>\n",
       "      <td># Gasoline\\n\\nThe Gasoline project aims at imp...</td>\n",
       "      <td>[gasoline, the, gasoline, project, aims, at, i...</td>\n",
       "      <td>gasolin gasolin project aim implement unixish ...</td>\n",
       "      <td>gasoline gasoline project aim implementing uni...</td>\n",
       "    </tr>\n",
       "    <tr>\n",
       "      <th>2</th>\n",
       "      <td>TypeScript</td>\n",
       "      <td>gasoline</td>\n",
       "      <td>rvikmanis/gasoline</td>\n",
       "      <td># Gasoline\\n\\nConvenient state container for R...</td>\n",
       "      <td>[gasoline, convenient, state, container, for, ...</td>\n",
       "      <td>gasolin conveni state contain react instal npm...</td>\n",
       "      <td>gasoline convenient state container react inst...</td>\n",
       "    </tr>\n",
       "    <tr>\n",
       "      <th>3</th>\n",
       "      <td>Python</td>\n",
       "      <td>gasoline</td>\n",
       "      <td>iggisv9t/benzin_gif</td>\n",
       "      <td># benzin_gif\\nCreate animated gifs that looks ...</td>\n",
       "      <td>[benzin_gif, create, animated, gifs, that, loo...</td>\n",
       "      <td>benzin_gif creat anim gif look like gasolin pu...</td>\n",
       "      <td>benzin_gif create animated gifs look like gaso...</td>\n",
       "    </tr>\n",
       "    <tr>\n",
       "      <th>4</th>\n",
       "      <td>Go</td>\n",
       "      <td>gasoline</td>\n",
       "      <td>daneharrigan/gasoline</td>\n",
       "      <td># gasoline\\n\\n![Gasoline Dashboard](http://cl....</td>\n",
       "      <td>[gasoline, gasoline, dashboardhttpcllyimage3l1...</td>\n",
       "      <td>gasolin gasolin dashboardhttpcllyimage3l190u3q...</td>\n",
       "      <td>gasoline gasoline dashboardhttpcllyimage3l190u...</td>\n",
       "    </tr>\n",
       "  </tbody>\n",
       "</table>\n",
       "</div>"
      ],
      "text/plain": [
       "     language  category                   repo  \\\n",
       "0           C  gasoline    N-BodyShop/gasoline   \n",
       "1       OCaml  gasoline     michipili/gasoline   \n",
       "2  TypeScript  gasoline     rvikmanis/gasoline   \n",
       "3      Python  gasoline    iggisv9t/benzin_gif   \n",
       "4          Go  gasoline  daneharrigan/gasoline   \n",
       "\n",
       "                                     readme_contents  \\\n",
       "0  ```\\n \\t  ▄████  ▄▄▄        ██████  ▒█████   █...   \n",
       "1  # Gasoline\\n\\nThe Gasoline project aims at imp...   \n",
       "2  # Gasoline\\n\\nConvenient state container for R...   \n",
       "3  # benzin_gif\\nCreate animated gifs that looks ...   \n",
       "4  # gasoline\\n\\n![Gasoline Dashboard](http://cl....   \n",
       "\n",
       "                                         clean_tokes  \\\n",
       "0  [&#9;, &#9;, &#9;, &#9;, &#9;, &#9;, &#9;, &#9...   \n",
       "1  [gasoline, the, gasoline, project, aims, at, i...   \n",
       "2  [gasoline, convenient, state, container, for, ...   \n",
       "3  [benzin_gif, create, animated, gifs, that, loo...   \n",
       "4  [gasoline, gasoline, dashboardhttpcllyimage3l1...   \n",
       "\n",
       "                                       clean_stemmed  \\\n",
       "0  &#9; &#9; &#9; &#9; &#9; &#9; &#9; &#9; &#9; g...   \n",
       "1  gasolin gasolin project aim implement unixish ...   \n",
       "2  gasolin conveni state contain react instal npm...   \n",
       "3  benzin_gif creat anim gif look like gasolin pu...   \n",
       "4  gasolin gasolin dashboardhttpcllyimage3l190u3q...   \n",
       "\n",
       "                                    clean_lemmatized  \n",
       "0  &#9; &#9; &#9; &#9; &#9; &#9; &#9; &#9; &#9; g...  \n",
       "1  gasoline gasoline project aim implementing uni...  \n",
       "2  gasoline convenient state container react inst...  \n",
       "3  benzin_gif create animated gifs look like gaso...  \n",
       "4  gasoline gasoline dashboardhttpcllyimage3l190u...  "
      ]
     },
     "execution_count": 10,
     "metadata": {},
     "output_type": "execute_result"
    }
   ],
   "source": [
    "df.head()"
   ]
  },
  {
   "cell_type": "code",
   "execution_count": 11,
   "metadata": {},
   "outputs": [
    {
     "data": {
      "text/plain": [
       "(410, 7)"
      ]
     },
     "execution_count": 11,
     "metadata": {},
     "output_type": "execute_result"
    }
   ],
   "source": [
    "df.shape"
   ]
  },
  {
   "cell_type": "code",
   "execution_count": 12,
   "metadata": {},
   "outputs": [
    {
     "data": {
      "text/plain": [
       "135    84881\n",
       "269    84881\n",
       "114    81494\n",
       "388    81123\n",
       "17     64273\n",
       "234    31806\n",
       "270    16389\n",
       "130    11005\n",
       "297    10445\n",
       "14      9942\n",
       "330     7553\n",
       "320     7272\n",
       "192     6802\n",
       "264     6776\n",
       "292     6537\n",
       "Name: clean_lemmatized, dtype: int64"
      ]
     },
     "execution_count": 12,
     "metadata": {},
     "output_type": "execute_result"
    }
   ],
   "source": [
    "# During some previous exploration we notice two outliers that needed to be removed\n",
    "\n",
    "df.clean_lemmatized.apply(len).nlargest(15)"
   ]
  },
  {
   "cell_type": "code",
   "execution_count": 13,
   "metadata": {},
   "outputs": [],
   "source": [
    "df = df[df.index!=135]\n",
    "df = df[df.index!=269]"
   ]
  },
  {
   "cell_type": "code",
   "execution_count": 15,
   "metadata": {},
   "outputs": [
    {
     "data": {
      "text/plain": [
       "(408, 7)"
      ]
     },
     "execution_count": 15,
     "metadata": {},
     "output_type": "execute_result"
    }
   ],
   "source": [
    "df.shape"
   ]
  },
  {
   "cell_type": "code",
   "execution_count": 16,
   "metadata": {},
   "outputs": [
    {
     "data": {
      "text/plain": [
       "Jupyter Notebook     67\n",
       "JavaScript           57\n",
       "Python               52\n",
       "PowerShell           36\n",
       "HTML                 30\n",
       "Java                 22\n",
       "C++                  19\n",
       "C                    18\n",
       "PHP                  14\n",
       "R                    14\n",
       "CSS                  10\n",
       "C#                    9\n",
       "MATLAB                8\n",
       "TypeScript            6\n",
       "Ruby                  5\n",
       "Matlab                5\n",
       "Arduino               3\n",
       "Swift                 3\n",
       "Go                    2\n",
       "Eagle                 2\n",
       "Batchfile             2\n",
       "Objective-C           2\n",
       "Dart                  2\n",
       "TeX                   2\n",
       "Processing            2\n",
       "Vue                   1\n",
       "Lua                   1\n",
       "Cuda                  1\n",
       "Modelica              1\n",
       "ActionScript          1\n",
       "Scala                 1\n",
       "M                     1\n",
       "TSQL                  1\n",
       "Makefile              1\n",
       "Visual Basic          1\n",
       "CMake                 1\n",
       "Perl                  1\n",
       "PostScript            1\n",
       "OCaml                 1\n",
       "Visual Basic .NET     1\n",
       "Fortran               1\n",
       "Name: language, dtype: int64"
      ]
     },
     "execution_count": 16,
     "metadata": {},
     "output_type": "execute_result"
    }
   ],
   "source": [
    "# We also notice two languauges needed to be binned together\n",
    "\n",
    "df.language.value_counts()"
   ]
  },
  {
   "cell_type": "code",
   "execution_count": 17,
   "metadata": {},
   "outputs": [],
   "source": [
    "df = df.replace('Matlab','MATLAB')"
   ]
  },
  {
   "cell_type": "code",
   "execution_count": 18,
   "metadata": {},
   "outputs": [],
   "source": [
    "# From the value_counts above we can tell that we need to cull a few languages\n",
    "\n",
    "low = df.language.value_counts() < 10\n",
    "low_lang = [low.index[i] for i, x in enumerate(low) if x]\n",
    "df = df[~df.language.isin(low_lang)]"
   ]
  },
  {
   "cell_type": "code",
   "execution_count": 19,
   "metadata": {},
   "outputs": [
    {
     "data": {
      "text/plain": [
       "Jupyter Notebook    67\n",
       "JavaScript          57\n",
       "Python              52\n",
       "PowerShell          36\n",
       "HTML                30\n",
       "Java                22\n",
       "C++                 19\n",
       "C                   18\n",
       "PHP                 14\n",
       "R                   14\n",
       "MATLAB              13\n",
       "CSS                 10\n",
       "Name: language, dtype: int64"
      ]
     },
     "execution_count": 19,
     "metadata": {},
     "output_type": "execute_result"
    }
   ],
   "source": [
    "df.language.value_counts()"
   ]
  },
  {
   "cell_type": "code",
   "execution_count": 23,
   "metadata": {},
   "outputs": [
    {
     "data": {
      "text/html": [
       "<div>\n",
       "<style scoped>\n",
       "    .dataframe tbody tr th:only-of-type {\n",
       "        vertical-align: middle;\n",
       "    }\n",
       "\n",
       "    .dataframe tbody tr th {\n",
       "        vertical-align: top;\n",
       "    }\n",
       "\n",
       "    .dataframe thead th {\n",
       "        text-align: right;\n",
       "    }\n",
       "</style>\n",
       "<table border=\"1\" class=\"dataframe\">\n",
       "  <thead>\n",
       "    <tr style=\"text-align: right;\">\n",
       "      <th></th>\n",
       "      <th>language</th>\n",
       "      <th>category</th>\n",
       "      <th>repo</th>\n",
       "      <th>readme_contents</th>\n",
       "      <th>clean_tokes</th>\n",
       "      <th>clean_stemmed</th>\n",
       "      <th>clean_lemmatized</th>\n",
       "    </tr>\n",
       "  </thead>\n",
       "  <tbody>\n",
       "    <tr>\n",
       "      <th>0</th>\n",
       "      <td>C</td>\n",
       "      <td>gasoline</td>\n",
       "      <td>N-BodyShop/gasoline</td>\n",
       "      <td>```\\n \\t  ▄████  ▄▄▄        ██████  ▒█████   █...</td>\n",
       "      <td>[&amp;#9;, &amp;#9;, &amp;#9;, &amp;#9;, &amp;#9;, &amp;#9;, &amp;#9;, &amp;#9...</td>\n",
       "      <td>&amp;#9; &amp;#9; &amp;#9; &amp;#9; &amp;#9; &amp;#9; &amp;#9; &amp;#9; &amp;#9; g...</td>\n",
       "      <td>&amp;#9; &amp;#9; &amp;#9; &amp;#9; &amp;#9; &amp;#9; &amp;#9; &amp;#9; &amp;#9; g...</td>\n",
       "    </tr>\n",
       "    <tr>\n",
       "      <th>3</th>\n",
       "      <td>Python</td>\n",
       "      <td>gasoline</td>\n",
       "      <td>iggisv9t/benzin_gif</td>\n",
       "      <td># benzin_gif\\nCreate animated gifs that looks ...</td>\n",
       "      <td>[benzin_gif, create, animated, gifs, that, loo...</td>\n",
       "      <td>benzin_gif creat anim gif look like gasolin pu...</td>\n",
       "      <td>benzin_gif create animated gifs look like gaso...</td>\n",
       "    </tr>\n",
       "    <tr>\n",
       "      <th>5</th>\n",
       "      <td>C</td>\n",
       "      <td>gasoline</td>\n",
       "      <td>vooon/miniecu</td>\n",
       "      <td>miniECU\\n=======\\n\\nminiECU - monitoring unit ...</td>\n",
       "      <td>[miniecu, miniecu, monitoring, unit, for, mode...</td>\n",
       "      <td>miniecu miniecu monitor unit model gasolin eng...</td>\n",
       "      <td>miniecu miniecu monitoring unit model gasoline...</td>\n",
       "    </tr>\n",
       "    <tr>\n",
       "      <th>6</th>\n",
       "      <td>CSS</td>\n",
       "      <td>gasoline</td>\n",
       "      <td>kbsali/gasolineras-www</td>\n",
       "      <td>Spain's petrol stations prices map\\n==========...</td>\n",
       "      <td>[spains, petrol, stations, prices, map, demo, ...</td>\n",
       "      <td>spain petrol station price map demo see action...</td>\n",
       "      <td>spain petrol station price map demo see action...</td>\n",
       "    </tr>\n",
       "    <tr>\n",
       "      <th>7</th>\n",
       "      <td>Jupyter Notebook</td>\n",
       "      <td>gasoline</td>\n",
       "      <td>madsenmj/ml-gas-price</td>\n",
       "      <td># Gas Price Prediction Model\\n\\nThis project u...</td>\n",
       "      <td>[gas, price, prediction, model, this, project,...</td>\n",
       "      <td>ga price predict model thi project use public ...</td>\n",
       "      <td>gas price prediction model project us public d...</td>\n",
       "    </tr>\n",
       "  </tbody>\n",
       "</table>\n",
       "</div>"
      ],
      "text/plain": [
       "           language  category                    repo  \\\n",
       "0                 C  gasoline     N-BodyShop/gasoline   \n",
       "3            Python  gasoline     iggisv9t/benzin_gif   \n",
       "5                 C  gasoline           vooon/miniecu   \n",
       "6               CSS  gasoline  kbsali/gasolineras-www   \n",
       "7  Jupyter Notebook  gasoline   madsenmj/ml-gas-price   \n",
       "\n",
       "                                     readme_contents  \\\n",
       "0  ```\\n \\t  ▄████  ▄▄▄        ██████  ▒█████   █...   \n",
       "3  # benzin_gif\\nCreate animated gifs that looks ...   \n",
       "5  miniECU\\n=======\\n\\nminiECU - monitoring unit ...   \n",
       "6  Spain's petrol stations prices map\\n==========...   \n",
       "7  # Gas Price Prediction Model\\n\\nThis project u...   \n",
       "\n",
       "                                         clean_tokes  \\\n",
       "0  [&#9;, &#9;, &#9;, &#9;, &#9;, &#9;, &#9;, &#9...   \n",
       "3  [benzin_gif, create, animated, gifs, that, loo...   \n",
       "5  [miniecu, miniecu, monitoring, unit, for, mode...   \n",
       "6  [spains, petrol, stations, prices, map, demo, ...   \n",
       "7  [gas, price, prediction, model, this, project,...   \n",
       "\n",
       "                                       clean_stemmed  \\\n",
       "0  &#9; &#9; &#9; &#9; &#9; &#9; &#9; &#9; &#9; g...   \n",
       "3  benzin_gif creat anim gif look like gasolin pu...   \n",
       "5  miniecu miniecu monitor unit model gasolin eng...   \n",
       "6  spain petrol station price map demo see action...   \n",
       "7  ga price predict model thi project use public ...   \n",
       "\n",
       "                                    clean_lemmatized  \n",
       "0  &#9; &#9; &#9; &#9; &#9; &#9; &#9; &#9; &#9; g...  \n",
       "3  benzin_gif create animated gifs look like gaso...  \n",
       "5  miniecu miniecu monitoring unit model gasoline...  \n",
       "6  spain petrol station price map demo see action...  \n",
       "7  gas price prediction model project us public d...  "
      ]
     },
     "execution_count": 23,
     "metadata": {},
     "output_type": "execute_result"
    }
   ],
   "source": [
    "# So we're left with this DataFrame\n",
    "\n",
    "df.head()"
   ]
  },
  {
   "cell_type": "code",
   "execution_count": 25,
   "metadata": {},
   "outputs": [
    {
     "data": {
      "text/plain": [
       "(352, 7)"
      ]
     },
     "execution_count": 25,
     "metadata": {},
     "output_type": "execute_result"
    }
   ],
   "source": [
    "df.shape"
   ]
  },
  {
   "cell_type": "code",
   "execution_count": 26,
   "metadata": {},
   "outputs": [
    {
     "name": "stdout",
     "output_type": "stream",
     "text": [
      "<class 'pandas.core.frame.DataFrame'>\n",
      "Int64Index: 352 entries, 0 to 409\n",
      "Data columns (total 7 columns):\n",
      " #   Column            Non-Null Count  Dtype \n",
      "---  ------            --------------  ----- \n",
      " 0   language          352 non-null    object\n",
      " 1   category          352 non-null    object\n",
      " 2   repo              352 non-null    object\n",
      " 3   readme_contents   352 non-null    object\n",
      " 4   clean_tokes       352 non-null    object\n",
      " 5   clean_stemmed     352 non-null    object\n",
      " 6   clean_lemmatized  352 non-null    object\n",
      "dtypes: object(7)\n",
      "memory usage: 22.0+ KB\n"
     ]
    }
   ],
   "source": [
    "df.info()"
   ]
  },
  {
   "cell_type": "code",
   "execution_count": 29,
   "metadata": {},
   "outputs": [
    {
     "data": {
      "text/html": [
       "<div>\n",
       "<style scoped>\n",
       "    .dataframe tbody tr th:only-of-type {\n",
       "        vertical-align: middle;\n",
       "    }\n",
       "\n",
       "    .dataframe tbody tr th {\n",
       "        vertical-align: top;\n",
       "    }\n",
       "\n",
       "    .dataframe thead th {\n",
       "        text-align: right;\n",
       "    }\n",
       "</style>\n",
       "<table border=\"1\" class=\"dataframe\">\n",
       "  <thead>\n",
       "    <tr style=\"text-align: right;\">\n",
       "      <th></th>\n",
       "      <th>language</th>\n",
       "      <th>category</th>\n",
       "      <th>repo</th>\n",
       "      <th>readme_contents</th>\n",
       "      <th>clean_tokes</th>\n",
       "      <th>clean_stemmed</th>\n",
       "      <th>clean_lemmatized</th>\n",
       "    </tr>\n",
       "  </thead>\n",
       "  <tbody>\n",
       "    <tr>\n",
       "      <th>0</th>\n",
       "      <td>Python</td>\n",
       "      <td>gasoline</td>\n",
       "      <td>iggisv9t/benzin_gif</td>\n",
       "      <td># benzin_gif\\nCreate animated gifs that looks ...</td>\n",
       "      <td>[benzin_gif, create, animated, gifs, that, loo...</td>\n",
       "      <td>benzin_gif creat anim gif look like gasolin pu...</td>\n",
       "      <td>benzin_gif create animated gifs look like gaso...</td>\n",
       "    </tr>\n",
       "    <tr>\n",
       "      <th>1</th>\n",
       "      <td>Jupyter Notebook</td>\n",
       "      <td>gasoline</td>\n",
       "      <td>madsenmj/ml-gas-price</td>\n",
       "      <td># Gas Price Prediction Model\\n\\nThis project u...</td>\n",
       "      <td>[gas, price, prediction, model, this, project,...</td>\n",
       "      <td>ga price predict model thi project use public ...</td>\n",
       "      <td>gas price prediction model project us public d...</td>\n",
       "    </tr>\n",
       "    <tr>\n",
       "      <th>2</th>\n",
       "      <td>Python</td>\n",
       "      <td>gasoline</td>\n",
       "      <td>tseale/charliehustle</td>\n",
       "      <td># charlie-hustle\\n\\nPython scripts for pulling...</td>\n",
       "      <td>[charliehustle, python, scripts, for, pulling,...</td>\n",
       "      <td>charliehustl python script pull mlb gameday da...</td>\n",
       "      <td>charliehustle python script pulling mlb gameda...</td>\n",
       "    </tr>\n",
       "    <tr>\n",
       "      <th>3</th>\n",
       "      <td>Jupyter Notebook</td>\n",
       "      <td>gasoline</td>\n",
       "      <td>abhinav5544/gasolineprice</td>\n",
       "      <td># gasolineprice\\nIt is a project based on mach...</td>\n",
       "      <td>[gasolineprice, it, is, a, project, based, on,...</td>\n",
       "      <td>gasolinepric project base machin learn train m...</td>\n",
       "      <td>gasolineprice project based machine learning t...</td>\n",
       "    </tr>\n",
       "    <tr>\n",
       "      <th>4</th>\n",
       "      <td>JavaScript</td>\n",
       "      <td>gasoline</td>\n",
       "      <td>abuenosvinos/gasolineras-www</td>\n",
       "      <td>\\n# Proyecto Gasolineras\\n\\n[![Author][Author]...</td>\n",
       "      <td>[proyecto, gasolineras, authorauthorhttpwwwant...</td>\n",
       "      <td>proyecto gasolinera authorauthorhttpwwwantonio...</td>\n",
       "      <td>proyecto gasolineras authorauthorhttpwwwantoni...</td>\n",
       "    </tr>\n",
       "  </tbody>\n",
       "</table>\n",
       "</div>"
      ],
      "text/plain": [
       "           language  category                          repo  \\\n",
       "0            Python  gasoline           iggisv9t/benzin_gif   \n",
       "1  Jupyter Notebook  gasoline         madsenmj/ml-gas-price   \n",
       "2            Python  gasoline          tseale/charliehustle   \n",
       "3  Jupyter Notebook  gasoline     abhinav5544/gasolineprice   \n",
       "4        JavaScript  gasoline  abuenosvinos/gasolineras-www   \n",
       "\n",
       "                                     readme_contents  \\\n",
       "0  # benzin_gif\\nCreate animated gifs that looks ...   \n",
       "1  # Gas Price Prediction Model\\n\\nThis project u...   \n",
       "2  # charlie-hustle\\n\\nPython scripts for pulling...   \n",
       "3  # gasolineprice\\nIt is a project based on mach...   \n",
       "4  \\n# Proyecto Gasolineras\\n\\n[![Author][Author]...   \n",
       "\n",
       "                                         clean_tokes  \\\n",
       "0  [benzin_gif, create, animated, gifs, that, loo...   \n",
       "1  [gas, price, prediction, model, this, project,...   \n",
       "2  [charliehustle, python, scripts, for, pulling,...   \n",
       "3  [gasolineprice, it, is, a, project, based, on,...   \n",
       "4  [proyecto, gasolineras, authorauthorhttpwwwant...   \n",
       "\n",
       "                                       clean_stemmed  \\\n",
       "0  benzin_gif creat anim gif look like gasolin pu...   \n",
       "1  ga price predict model thi project use public ...   \n",
       "2  charliehustl python script pull mlb gameday da...   \n",
       "3  gasolinepric project base machin learn train m...   \n",
       "4  proyecto gasolinera authorauthorhttpwwwantonio...   \n",
       "\n",
       "                                    clean_lemmatized  \n",
       "0  benzin_gif create animated gifs look like gaso...  \n",
       "1  gas price prediction model project us public d...  \n",
       "2  charliehustle python script pulling mlb gameda...  \n",
       "3  gasolineprice project based machine learning t...  \n",
       "4  proyecto gasolineras authorauthorhttpwwwantoni...  "
      ]
     },
     "execution_count": 29,
     "metadata": {},
     "output_type": "execute_result"
    }
   ],
   "source": [
    "# We're also going to create a DataFrame of the top 4 languages for use later\n",
    "\n",
    "top_4_lang = list(df.language.value_counts().head(4).index)\n",
    "top_4_lang_df = df[df.language.isin(top_4_lang)]\n",
    "top_4_lang_df.reset_index(drop=True, inplace=True)\n",
    "top_4_lang_df.head()"
   ]
  },
  {
   "cell_type": "markdown",
   "metadata": {},
   "source": [
    "## Explore our data"
   ]
  },
  {
   "cell_type": "code",
   "execution_count": null,
   "metadata": {},
   "outputs": [],
   "source": []
  }
 ],
 "metadata": {
  "kernelspec": {
   "display_name": "Python 3",
   "language": "python",
   "name": "python3"
  },
  "language_info": {
   "codemirror_mode": {
    "name": "ipython",
    "version": 3
   },
   "file_extension": ".py",
   "mimetype": "text/x-python",
   "name": "python",
   "nbconvert_exporter": "python",
   "pygments_lexer": "ipython3",
   "version": "3.7.4"
  }
 },
 "nbformat": 4,
 "nbformat_minor": 2
}
