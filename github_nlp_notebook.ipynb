{
 "cells": [
  {
   "cell_type": "markdown",
   "metadata": {},
   "source": [
    "# NLP Predicts Programming Language of a Github Repo"
   ]
  },
  {
   "cell_type": "markdown",
   "metadata": {},
   "source": [
    "## Goal\n",
    "\n",
    "The primary goal for this project was to build an NLP model that can predict the primary language of REPO using the text in the README file.\n",
    "\n",
    "As a secondary goal, we decided to pull repos from a specific sector, or topic, to see if an industry we were interested is utilizing a program language we're familiar with.\n",
    "\n",
    "Due to the first and second goals, this repo can be used as a means to research an potenial industry you might be interested in entering, and knowing what programming language you'll need to have familiarity with."
   ]
  },
  {
   "cell_type": "markdown",
   "metadata": {},
   "source": [
    "## Data Dictionary\n",
    "\n",
    "**language**: Programming language used for repositort project\n",
    "\n",
    "**category**: The category within the energy sector\n",
    "\n",
    "**repo**: The specific repo referenced with that observation\n",
    "\n",
    "**readme_contents**: Description of each repository containing keywords used to make predictions\n",
    "\n",
    "**clean_tokes**: README content normalized removing any uppercased characters, special characters, non-alpha characters, and alpha strings with 2 or less characters\n",
    "\n",
    "**clean_stemmed**: README content reducing each word to its root stem and then removes any stopwords\n",
    "\n",
    "**clean_lemmatized**: README content reducing each word to its root word and then removes any stopwords\n",
    "\n",
    "**word_count**: The total word count for that observation"
   ]
  },
  {
   "cell_type": "code",
   "execution_count": 1,
   "metadata": {},
   "outputs": [],
   "source": [
    "# Base \n",
    "import pandas as pd\n",
    "import numpy as np\n",
    "import re\n",
    "from pprint import pprint\n",
    "from scipy import stats\n",
    "\n",
    "# Viz\n",
    "import seaborn as sns\n",
    "import matplotlib.pyplot as plt\n",
    "from PIL import Image\n",
    "from wordcloud import WordCloud, STOPWORDS, ImageColorGenerator\n",
    "\n",
    "# scraping modules\n",
    "from requests import get\n",
    "from bs4 import BeautifulSoup\n",
    "import unicodedata\n",
    "\n",
    "# NLP\n",
    "import nltk\n",
    "from nltk.tokenize.toktok import ToktokTokenizer\n",
    "from nltk.corpus import stopwords\n",
    "from sklearn.feature_extraction.text import TfidfVectorizer, CountVectorizer\n",
    "\n",
    "# Modeling\n",
    "from sklearn.model_selection import train_test_split\n",
    "from sklearn.linear_model import LogisticRegression\n",
    "from sklearn.metrics import classification_report, accuracy_score, confusion_matrix\n",
    "from sklearn.tree import DecisionTreeClassifier\n",
    "from sklearn.ensemble import RandomForestClassifier\n",
    "from sklearn.neighbors import KNeighborsClassifier\n",
    "\n",
    "# Functions, etc.\n",
    "import os\n",
    "from os import path\n",
    "import acquire\n",
    "import prepare\n",
    "\n",
    "# matplotlib default plotting styles\n",
    "plt.rc(\"patch\", edgecolor=\"black\", force_edgecolor=True)\n",
    "plt.rc(\"axes\", grid=True)\n",
    "plt.rc(\"grid\", linestyle=\":\", linewidth=0.8, alpha=0.7)\n",
    "plt.rc(\"axes.spines\", right=False, top=False)\n",
    "plt.rc(\"figure\", figsize=(16, 9))\n",
    "plt.rc(\"font\", size=12.0)\n",
    "plt.rc(\"hist\", bins=25)\n",
    "\n",
    "import warnings\n",
    "warnings.filterwarnings(\"ignore\")"
   ]
  },
  {
   "cell_type": "markdown",
   "metadata": {},
   "source": [
    "## Acquire our data"
   ]
  },
  {
   "cell_type": "code",
   "execution_count": 2,
   "metadata": {},
   "outputs": [
    {
     "data": {
      "text/html": [
       "<div>\n",
       "<style scoped>\n",
       "    .dataframe tbody tr th:only-of-type {\n",
       "        vertical-align: middle;\n",
       "    }\n",
       "\n",
       "    .dataframe tbody tr th {\n",
       "        vertical-align: top;\n",
       "    }\n",
       "\n",
       "    .dataframe thead th {\n",
       "        text-align: right;\n",
       "    }\n",
       "</style>\n",
       "<table border=\"1\" class=\"dataframe\">\n",
       "  <thead>\n",
       "    <tr style=\"text-align: right;\">\n",
       "      <th></th>\n",
       "      <th>repo</th>\n",
       "      <th>language</th>\n",
       "      <th>readme_contents</th>\n",
       "      <th>category</th>\n",
       "    </tr>\n",
       "  </thead>\n",
       "  <tbody>\n",
       "    <tr>\n",
       "      <th>0</th>\n",
       "      <td>N-BodyShop/gasoline</td>\n",
       "      <td>C</td>\n",
       "      <td>```\\n \\t  ▄████  ▄▄▄        ██████  ▒█████   █...</td>\n",
       "      <td>Gasoline</td>\n",
       "    </tr>\n",
       "    <tr>\n",
       "      <th>1</th>\n",
       "      <td>michipili/gasoline</td>\n",
       "      <td>OCaml</td>\n",
       "      <td># Gasoline\\n\\nThe Gasoline project aims at imp...</td>\n",
       "      <td>Gasoline</td>\n",
       "    </tr>\n",
       "    <tr>\n",
       "      <th>2</th>\n",
       "      <td>rvikmanis/gasoline</td>\n",
       "      <td>TypeScript</td>\n",
       "      <td># Gasoline\\n\\nConvenient state container for R...</td>\n",
       "      <td>Gasoline</td>\n",
       "    </tr>\n",
       "    <tr>\n",
       "      <th>3</th>\n",
       "      <td>iggisv9t/benzin_gif</td>\n",
       "      <td>Python</td>\n",
       "      <td># benzin_gif\\nCreate animated gifs that looks ...</td>\n",
       "      <td>Gasoline</td>\n",
       "    </tr>\n",
       "    <tr>\n",
       "      <th>4</th>\n",
       "      <td>daneharrigan/gasoline</td>\n",
       "      <td>Go</td>\n",
       "      <td># gasoline\\n\\n![Gasoline Dashboard](http://cl....</td>\n",
       "      <td>Gasoline</td>\n",
       "    </tr>\n",
       "  </tbody>\n",
       "</table>\n",
       "</div>"
      ],
      "text/plain": [
       "                    repo    language  \\\n",
       "0    N-BodyShop/gasoline           C   \n",
       "1     michipili/gasoline       OCaml   \n",
       "2     rvikmanis/gasoline  TypeScript   \n",
       "3    iggisv9t/benzin_gif      Python   \n",
       "4  daneharrigan/gasoline          Go   \n",
       "\n",
       "                                     readme_contents  category  \n",
       "0  ```\\n \\t  ▄████  ▄▄▄        ██████  ▒█████   █...  Gasoline  \n",
       "1  # Gasoline\\n\\nThe Gasoline project aims at imp...  Gasoline  \n",
       "2  # Gasoline\\n\\nConvenient state container for R...  Gasoline  \n",
       "3  # benzin_gif\\nCreate animated gifs that looks ...  Gasoline  \n",
       "4  # gasoline\\n\\n![Gasoline Dashboard](http://cl....  Gasoline  "
      ]
     },
     "execution_count": 2,
     "metadata": {},
     "output_type": "execute_result"
    }
   ],
   "source": [
    "# The code below sets the table by creating a json file per parameter in acquire_repo_list\n",
    "\n",
    "# acquire.acquire_repo_list('gasoline')\n",
    "# acquire.acquire_repo_list('solar energy')\n",
    "# acquire.acquire_repo_list('wind power')\n",
    "\n",
    "# The we take those json files and use them to scrape our data\n",
    "\n",
    "# df = acquire.scrape_github_data()\n",
    "\n",
    "# Then we make a DataFrame proper from that work, and save it as a csv.\n",
    "\n",
    "# pd.DataFrame(df).to_csv('new_repos_dict.csv', index=False)\n",
    "\n",
    "# Then we read the csv in\n",
    "\n",
    "df = pd.read_csv('new_repos_dict.csv')\n",
    "\n",
    "# Then we create a category for each observation\n",
    "\n",
    "df.loc[:200, 'category'] = 'Gasoline'\n",
    "df.loc[200:400, 'category'] = 'Wind Energy'\n",
    "df.loc[400:, 'category'] = 'Solar Power'\n",
    "\n",
    "df.head()"
   ]
  },
  {
   "cell_type": "markdown",
   "metadata": {},
   "source": [
    "## Prepare our data"
   ]
  },
  {
   "cell_type": "code",
   "execution_count": 3,
   "metadata": {},
   "outputs": [],
   "source": [
    "# We run the prepare function from our prepare.py file\n",
    "\n",
    "df = prepare.prep_repo_data(df)"
   ]
  },
  {
   "cell_type": "code",
   "execution_count": 4,
   "metadata": {},
   "outputs": [
    {
     "data": {
      "text/html": [
       "<div>\n",
       "<style scoped>\n",
       "    .dataframe tbody tr th:only-of-type {\n",
       "        vertical-align: middle;\n",
       "    }\n",
       "\n",
       "    .dataframe tbody tr th {\n",
       "        vertical-align: top;\n",
       "    }\n",
       "\n",
       "    .dataframe thead th {\n",
       "        text-align: right;\n",
       "    }\n",
       "</style>\n",
       "<table border=\"1\" class=\"dataframe\">\n",
       "  <thead>\n",
       "    <tr style=\"text-align: right;\">\n",
       "      <th></th>\n",
       "      <th>language</th>\n",
       "      <th>category</th>\n",
       "      <th>repo</th>\n",
       "      <th>readme_contents</th>\n",
       "      <th>clean_tokes</th>\n",
       "      <th>clean_stemmed</th>\n",
       "      <th>clean_lemmatized</th>\n",
       "    </tr>\n",
       "  </thead>\n",
       "  <tbody>\n",
       "    <tr>\n",
       "      <th>0</th>\n",
       "      <td>C</td>\n",
       "      <td>Gasoline</td>\n",
       "      <td>N-BodyShop/gasoline</td>\n",
       "      <td>```\\n \\t  ▄████  ▄▄▄        ██████  ▒█████   █...</td>\n",
       "      <td>[&amp;#9;, &amp;#9;, &amp;#9;, &amp;#9;, &amp;#9;, &amp;#9;, &amp;#9;, &amp;#9...</td>\n",
       "      <td>&amp;#9; &amp;#9; &amp;#9; &amp;#9; &amp;#9; &amp;#9; &amp;#9; &amp;#9; &amp;#9; g...</td>\n",
       "      <td>&amp;#9; &amp;#9; &amp;#9; &amp;#9; &amp;#9; &amp;#9; &amp;#9; &amp;#9; &amp;#9; g...</td>\n",
       "    </tr>\n",
       "    <tr>\n",
       "      <th>1</th>\n",
       "      <td>OCaml</td>\n",
       "      <td>Gasoline</td>\n",
       "      <td>michipili/gasoline</td>\n",
       "      <td># Gasoline\\n\\nThe Gasoline project aims at imp...</td>\n",
       "      <td>[gasoline, the, gasoline, project, aims, at, i...</td>\n",
       "      <td>gasolin gasolin project aim implement unixish ...</td>\n",
       "      <td>gasoline gasoline project aim implementing uni...</td>\n",
       "    </tr>\n",
       "    <tr>\n",
       "      <th>2</th>\n",
       "      <td>TypeScript</td>\n",
       "      <td>Gasoline</td>\n",
       "      <td>rvikmanis/gasoline</td>\n",
       "      <td># Gasoline\\n\\nConvenient state container for R...</td>\n",
       "      <td>[gasoline, convenient, state, container, for, ...</td>\n",
       "      <td>gasolin conveni state contain react instal npm...</td>\n",
       "      <td>gasoline convenient state container react inst...</td>\n",
       "    </tr>\n",
       "    <tr>\n",
       "      <th>3</th>\n",
       "      <td>Python</td>\n",
       "      <td>Gasoline</td>\n",
       "      <td>iggisv9t/benzin_gif</td>\n",
       "      <td># benzin_gif\\nCreate animated gifs that looks ...</td>\n",
       "      <td>[benzin_gif, create, animated, gifs, that, loo...</td>\n",
       "      <td>benzin_gif creat anim gif look like gasolin pu...</td>\n",
       "      <td>benzin_gif create animated gifs look like gaso...</td>\n",
       "    </tr>\n",
       "    <tr>\n",
       "      <th>4</th>\n",
       "      <td>Go</td>\n",
       "      <td>Gasoline</td>\n",
       "      <td>daneharrigan/gasoline</td>\n",
       "      <td># gasoline\\n\\n![Gasoline Dashboard](http://cl....</td>\n",
       "      <td>[gasoline, gasoline, dashboardhttpcllyimage3l1...</td>\n",
       "      <td>gasolin gasolin dashboardhttpcllyimage3l190u3q...</td>\n",
       "      <td>gasoline gasoline dashboardhttpcllyimage3l190u...</td>\n",
       "    </tr>\n",
       "  </tbody>\n",
       "</table>\n",
       "</div>"
      ],
      "text/plain": [
       "     language  category                   repo  \\\n",
       "0           C  Gasoline    N-BodyShop/gasoline   \n",
       "1       OCaml  Gasoline     michipili/gasoline   \n",
       "2  TypeScript  Gasoline     rvikmanis/gasoline   \n",
       "3      Python  Gasoline    iggisv9t/benzin_gif   \n",
       "4          Go  Gasoline  daneharrigan/gasoline   \n",
       "\n",
       "                                     readme_contents  \\\n",
       "0  ```\\n \\t  ▄████  ▄▄▄        ██████  ▒█████   █...   \n",
       "1  # Gasoline\\n\\nThe Gasoline project aims at imp...   \n",
       "2  # Gasoline\\n\\nConvenient state container for R...   \n",
       "3  # benzin_gif\\nCreate animated gifs that looks ...   \n",
       "4  # gasoline\\n\\n![Gasoline Dashboard](http://cl....   \n",
       "\n",
       "                                         clean_tokes  \\\n",
       "0  [&#9;, &#9;, &#9;, &#9;, &#9;, &#9;, &#9;, &#9...   \n",
       "1  [gasoline, the, gasoline, project, aims, at, i...   \n",
       "2  [gasoline, convenient, state, container, for, ...   \n",
       "3  [benzin_gif, create, animated, gifs, that, loo...   \n",
       "4  [gasoline, gasoline, dashboardhttpcllyimage3l1...   \n",
       "\n",
       "                                       clean_stemmed  \\\n",
       "0  &#9; &#9; &#9; &#9; &#9; &#9; &#9; &#9; &#9; g...   \n",
       "1  gasolin gasolin project aim implement unixish ...   \n",
       "2  gasolin conveni state contain react instal npm...   \n",
       "3  benzin_gif creat anim gif look like gasolin pu...   \n",
       "4  gasolin gasolin dashboardhttpcllyimage3l190u3q...   \n",
       "\n",
       "                                    clean_lemmatized  \n",
       "0  &#9; &#9; &#9; &#9; &#9; &#9; &#9; &#9; &#9; g...  \n",
       "1  gasoline gasoline project aim implementing uni...  \n",
       "2  gasoline convenient state container react inst...  \n",
       "3  benzin_gif create animated gifs look like gaso...  \n",
       "4  gasoline gasoline dashboardhttpcllyimage3l190u...  "
      ]
     },
     "execution_count": 4,
     "metadata": {},
     "output_type": "execute_result"
    }
   ],
   "source": [
    "df.head()"
   ]
  },
  {
   "cell_type": "code",
   "execution_count": 5,
   "metadata": {},
   "outputs": [
    {
     "name": "stdout",
     "output_type": "stream",
     "text": [
      "<class 'pandas.core.frame.DataFrame'>\n",
      "Int64Index: 445 entries, 0 to 599\n",
      "Data columns (total 7 columns):\n",
      " #   Column            Non-Null Count  Dtype \n",
      "---  ------            --------------  ----- \n",
      " 0   language          411 non-null    object\n",
      " 1   category          445 non-null    object\n",
      " 2   repo              445 non-null    object\n",
      " 3   readme_contents   443 non-null    object\n",
      " 4   clean_tokes       445 non-null    object\n",
      " 5   clean_stemmed     445 non-null    object\n",
      " 6   clean_lemmatized  445 non-null    object\n",
      "dtypes: object(7)\n",
      "memory usage: 27.8+ KB\n"
     ]
    }
   ],
   "source": [
    "# We notice some nulls\n",
    "\n",
    "df.info()"
   ]
  },
  {
   "cell_type": "code",
   "execution_count": 6,
   "metadata": {},
   "outputs": [],
   "source": [
    "# Drop the nulls\n",
    "\n",
    "df.dropna(inplace=True)"
   ]
  },
  {
   "cell_type": "code",
   "execution_count": 7,
   "metadata": {},
   "outputs": [],
   "source": [
    "# Reset the index\n",
    "\n",
    "df.reset_index(drop=True, inplace=True)"
   ]
  },
  {
   "cell_type": "code",
   "execution_count": 8,
   "metadata": {},
   "outputs": [
    {
     "data": {
      "text/html": [
       "<div>\n",
       "<style scoped>\n",
       "    .dataframe tbody tr th:only-of-type {\n",
       "        vertical-align: middle;\n",
       "    }\n",
       "\n",
       "    .dataframe tbody tr th {\n",
       "        vertical-align: top;\n",
       "    }\n",
       "\n",
       "    .dataframe thead th {\n",
       "        text-align: right;\n",
       "    }\n",
       "</style>\n",
       "<table border=\"1\" class=\"dataframe\">\n",
       "  <thead>\n",
       "    <tr style=\"text-align: right;\">\n",
       "      <th></th>\n",
       "      <th>language</th>\n",
       "      <th>category</th>\n",
       "      <th>repo</th>\n",
       "      <th>readme_contents</th>\n",
       "      <th>clean_tokes</th>\n",
       "      <th>clean_stemmed</th>\n",
       "      <th>clean_lemmatized</th>\n",
       "    </tr>\n",
       "  </thead>\n",
       "  <tbody>\n",
       "    <tr>\n",
       "      <th>0</th>\n",
       "      <td>C</td>\n",
       "      <td>Gasoline</td>\n",
       "      <td>N-BodyShop/gasoline</td>\n",
       "      <td>```\\n \\t  ▄████  ▄▄▄        ██████  ▒█████   █...</td>\n",
       "      <td>[&amp;#9;, &amp;#9;, &amp;#9;, &amp;#9;, &amp;#9;, &amp;#9;, &amp;#9;, &amp;#9...</td>\n",
       "      <td>&amp;#9; &amp;#9; &amp;#9; &amp;#9; &amp;#9; &amp;#9; &amp;#9; &amp;#9; &amp;#9; g...</td>\n",
       "      <td>&amp;#9; &amp;#9; &amp;#9; &amp;#9; &amp;#9; &amp;#9; &amp;#9; &amp;#9; &amp;#9; g...</td>\n",
       "    </tr>\n",
       "    <tr>\n",
       "      <th>1</th>\n",
       "      <td>OCaml</td>\n",
       "      <td>Gasoline</td>\n",
       "      <td>michipili/gasoline</td>\n",
       "      <td># Gasoline\\n\\nThe Gasoline project aims at imp...</td>\n",
       "      <td>[gasoline, the, gasoline, project, aims, at, i...</td>\n",
       "      <td>gasolin gasolin project aim implement unixish ...</td>\n",
       "      <td>gasoline gasoline project aim implementing uni...</td>\n",
       "    </tr>\n",
       "    <tr>\n",
       "      <th>2</th>\n",
       "      <td>TypeScript</td>\n",
       "      <td>Gasoline</td>\n",
       "      <td>rvikmanis/gasoline</td>\n",
       "      <td># Gasoline\\n\\nConvenient state container for R...</td>\n",
       "      <td>[gasoline, convenient, state, container, for, ...</td>\n",
       "      <td>gasolin conveni state contain react instal npm...</td>\n",
       "      <td>gasoline convenient state container react inst...</td>\n",
       "    </tr>\n",
       "    <tr>\n",
       "      <th>3</th>\n",
       "      <td>Python</td>\n",
       "      <td>Gasoline</td>\n",
       "      <td>iggisv9t/benzin_gif</td>\n",
       "      <td># benzin_gif\\nCreate animated gifs that looks ...</td>\n",
       "      <td>[benzin_gif, create, animated, gifs, that, loo...</td>\n",
       "      <td>benzin_gif creat anim gif look like gasolin pu...</td>\n",
       "      <td>benzin_gif create animated gifs look like gaso...</td>\n",
       "    </tr>\n",
       "    <tr>\n",
       "      <th>4</th>\n",
       "      <td>Go</td>\n",
       "      <td>Gasoline</td>\n",
       "      <td>daneharrigan/gasoline</td>\n",
       "      <td># gasoline\\n\\n![Gasoline Dashboard](http://cl....</td>\n",
       "      <td>[gasoline, gasoline, dashboardhttpcllyimage3l1...</td>\n",
       "      <td>gasolin gasolin dashboardhttpcllyimage3l190u3q...</td>\n",
       "      <td>gasoline gasoline dashboardhttpcllyimage3l190u...</td>\n",
       "    </tr>\n",
       "  </tbody>\n",
       "</table>\n",
       "</div>"
      ],
      "text/plain": [
       "     language  category                   repo  \\\n",
       "0           C  Gasoline    N-BodyShop/gasoline   \n",
       "1       OCaml  Gasoline     michipili/gasoline   \n",
       "2  TypeScript  Gasoline     rvikmanis/gasoline   \n",
       "3      Python  Gasoline    iggisv9t/benzin_gif   \n",
       "4          Go  Gasoline  daneharrigan/gasoline   \n",
       "\n",
       "                                     readme_contents  \\\n",
       "0  ```\\n \\t  ▄████  ▄▄▄        ██████  ▒█████   █...   \n",
       "1  # Gasoline\\n\\nThe Gasoline project aims at imp...   \n",
       "2  # Gasoline\\n\\nConvenient state container for R...   \n",
       "3  # benzin_gif\\nCreate animated gifs that looks ...   \n",
       "4  # gasoline\\n\\n![Gasoline Dashboard](http://cl....   \n",
       "\n",
       "                                         clean_tokes  \\\n",
       "0  [&#9;, &#9;, &#9;, &#9;, &#9;, &#9;, &#9;, &#9...   \n",
       "1  [gasoline, the, gasoline, project, aims, at, i...   \n",
       "2  [gasoline, convenient, state, container, for, ...   \n",
       "3  [benzin_gif, create, animated, gifs, that, loo...   \n",
       "4  [gasoline, gasoline, dashboardhttpcllyimage3l1...   \n",
       "\n",
       "                                       clean_stemmed  \\\n",
       "0  &#9; &#9; &#9; &#9; &#9; &#9; &#9; &#9; &#9; g...   \n",
       "1  gasolin gasolin project aim implement unixish ...   \n",
       "2  gasolin conveni state contain react instal npm...   \n",
       "3  benzin_gif creat anim gif look like gasolin pu...   \n",
       "4  gasolin gasolin dashboardhttpcllyimage3l190u3q...   \n",
       "\n",
       "                                    clean_lemmatized  \n",
       "0  &#9; &#9; &#9; &#9; &#9; &#9; &#9; &#9; &#9; g...  \n",
       "1  gasoline gasoline project aim implementing uni...  \n",
       "2  gasoline convenient state container react inst...  \n",
       "3  benzin_gif create animated gifs look like gaso...  \n",
       "4  gasoline gasoline dashboardhttpcllyimage3l190u...  "
      ]
     },
     "execution_count": 8,
     "metadata": {},
     "output_type": "execute_result"
    }
   ],
   "source": [
    "df.head()"
   ]
  },
  {
   "cell_type": "code",
   "execution_count": 9,
   "metadata": {},
   "outputs": [
    {
     "data": {
      "text/plain": [
       "(410, 7)"
      ]
     },
     "execution_count": 9,
     "metadata": {},
     "output_type": "execute_result"
    }
   ],
   "source": [
    "df.shape"
   ]
  },
  {
   "cell_type": "code",
   "execution_count": 10,
   "metadata": {},
   "outputs": [
    {
     "data": {
      "text/plain": [
       "135    84879\n",
       "269    84879\n",
       "114    81490\n",
       "388    81121\n",
       "17     64273\n",
       "234    31806\n",
       "270    16389\n",
       "130    11005\n",
       "297    10445\n",
       "14      9940\n",
       "330     7553\n",
       "320     7272\n",
       "192     6800\n",
       "264     6774\n",
       "292     6537\n",
       "Name: clean_lemmatized, dtype: int64"
      ]
     },
     "execution_count": 10,
     "metadata": {},
     "output_type": "execute_result"
    }
   ],
   "source": [
    "# During some previous exploration we notice two outliers that needed to be removed\n",
    "df['word_count'] = df.clean_lemmatized.str.split().apply(len)\n",
    "df.clean_lemmatized.apply(len).nlargest(15)"
   ]
  },
  {
   "cell_type": "code",
   "execution_count": 11,
   "metadata": {},
   "outputs": [],
   "source": [
    "df = df[df.index!=135]\n",
    "df = df[df.index!=269]"
   ]
  },
  {
   "cell_type": "code",
   "execution_count": 12,
   "metadata": {},
   "outputs": [
    {
     "data": {
      "text/plain": [
       "(408, 8)"
      ]
     },
     "execution_count": 12,
     "metadata": {},
     "output_type": "execute_result"
    }
   ],
   "source": [
    "df.shape"
   ]
  },
  {
   "cell_type": "code",
   "execution_count": 13,
   "metadata": {},
   "outputs": [
    {
     "data": {
      "text/plain": [
       "Jupyter Notebook     67\n",
       "JavaScript           57\n",
       "Python               52\n",
       "PowerShell           36\n",
       "HTML                 30\n",
       "Java                 22\n",
       "C++                  19\n",
       "C                    18\n",
       "R                    14\n",
       "PHP                  14\n",
       "CSS                  10\n",
       "C#                    9\n",
       "MATLAB                8\n",
       "TypeScript            6\n",
       "Ruby                  5\n",
       "Matlab                5\n",
       "Arduino               3\n",
       "Swift                 3\n",
       "Batchfile             2\n",
       "Dart                  2\n",
       "Eagle                 2\n",
       "Objective-C           2\n",
       "TeX                   2\n",
       "Processing            2\n",
       "Go                    2\n",
       "Makefile              1\n",
       "CMake                 1\n",
       "Lua                   1\n",
       "Visual Basic          1\n",
       "Fortran               1\n",
       "Cuda                  1\n",
       "Modelica              1\n",
       "Scala                 1\n",
       "Perl                  1\n",
       "Visual Basic .NET     1\n",
       "PostScript            1\n",
       "TSQL                  1\n",
       "Vue                   1\n",
       "M                     1\n",
       "OCaml                 1\n",
       "ActionScript          1\n",
       "Name: language, dtype: int64"
      ]
     },
     "execution_count": 13,
     "metadata": {},
     "output_type": "execute_result"
    }
   ],
   "source": [
    "# We also notice two languauges needed to be binned together\n",
    "\n",
    "df.language.value_counts()"
   ]
  },
  {
   "cell_type": "code",
   "execution_count": 14,
   "metadata": {},
   "outputs": [],
   "source": [
    "df = df.replace('Matlab','MATLAB')"
   ]
  },
  {
   "cell_type": "code",
   "execution_count": 15,
   "metadata": {},
   "outputs": [],
   "source": [
    "# From the value_counts above we can tell that we need to cull a few languages\n",
    "\n",
    "low = df.language.value_counts() < 10\n",
    "low_lang = [low.index[i] for i, x in enumerate(low) if x]\n",
    "df = df[~df.language.isin(low_lang)]"
   ]
  },
  {
   "cell_type": "code",
   "execution_count": 16,
   "metadata": {},
   "outputs": [
    {
     "data": {
      "text/plain": [
       "Jupyter Notebook    67\n",
       "JavaScript          57\n",
       "Python              52\n",
       "PowerShell          36\n",
       "HTML                30\n",
       "Java                22\n",
       "C++                 19\n",
       "C                   18\n",
       "PHP                 14\n",
       "R                   14\n",
       "MATLAB              13\n",
       "CSS                 10\n",
       "Name: language, dtype: int64"
      ]
     },
     "execution_count": 16,
     "metadata": {},
     "output_type": "execute_result"
    }
   ],
   "source": [
    "df.language.value_counts()"
   ]
  },
  {
   "cell_type": "code",
   "execution_count": 17,
   "metadata": {},
   "outputs": [
    {
     "data": {
      "text/html": [
       "<div>\n",
       "<style scoped>\n",
       "    .dataframe tbody tr th:only-of-type {\n",
       "        vertical-align: middle;\n",
       "    }\n",
       "\n",
       "    .dataframe tbody tr th {\n",
       "        vertical-align: top;\n",
       "    }\n",
       "\n",
       "    .dataframe thead th {\n",
       "        text-align: right;\n",
       "    }\n",
       "</style>\n",
       "<table border=\"1\" class=\"dataframe\">\n",
       "  <thead>\n",
       "    <tr style=\"text-align: right;\">\n",
       "      <th></th>\n",
       "      <th>language</th>\n",
       "      <th>category</th>\n",
       "      <th>repo</th>\n",
       "      <th>readme_contents</th>\n",
       "      <th>clean_tokes</th>\n",
       "      <th>clean_stemmed</th>\n",
       "      <th>clean_lemmatized</th>\n",
       "      <th>word_count</th>\n",
       "    </tr>\n",
       "  </thead>\n",
       "  <tbody>\n",
       "    <tr>\n",
       "      <th>0</th>\n",
       "      <td>C</td>\n",
       "      <td>Gasoline</td>\n",
       "      <td>N-BodyShop/gasoline</td>\n",
       "      <td>```\\n \\t  ▄████  ▄▄▄        ██████  ▒█████   █...</td>\n",
       "      <td>[&amp;#9;, &amp;#9;, &amp;#9;, &amp;#9;, &amp;#9;, &amp;#9;, &amp;#9;, &amp;#9...</td>\n",
       "      <td>&amp;#9; &amp;#9; &amp;#9; &amp;#9; &amp;#9; &amp;#9; &amp;#9; &amp;#9; &amp;#9; g...</td>\n",
       "      <td>&amp;#9; &amp;#9; &amp;#9; &amp;#9; &amp;#9; &amp;#9; &amp;#9; &amp;#9; &amp;#9; g...</td>\n",
       "      <td>105</td>\n",
       "    </tr>\n",
       "    <tr>\n",
       "      <th>3</th>\n",
       "      <td>Python</td>\n",
       "      <td>Gasoline</td>\n",
       "      <td>iggisv9t/benzin_gif</td>\n",
       "      <td># benzin_gif\\nCreate animated gifs that looks ...</td>\n",
       "      <td>[benzin_gif, create, animated, gifs, that, loo...</td>\n",
       "      <td>benzin_gif creat anim gif look like gasolin pu...</td>\n",
       "      <td>benzin_gif create animated gifs look like gaso...</td>\n",
       "      <td>61</td>\n",
       "    </tr>\n",
       "    <tr>\n",
       "      <th>5</th>\n",
       "      <td>C</td>\n",
       "      <td>Gasoline</td>\n",
       "      <td>vooon/miniecu</td>\n",
       "      <td>miniECU\\n=======\\n\\nminiECU - monitoring unit ...</td>\n",
       "      <td>[miniecu, miniecu, monitoring, unit, for, mode...</td>\n",
       "      <td>miniecu miniecu monitor unit model gasolin eng...</td>\n",
       "      <td>miniecu miniecu monitoring unit model gasoline...</td>\n",
       "      <td>10</td>\n",
       "    </tr>\n",
       "    <tr>\n",
       "      <th>6</th>\n",
       "      <td>CSS</td>\n",
       "      <td>Gasoline</td>\n",
       "      <td>kbsali/gasolineras-www</td>\n",
       "      <td>Spain's petrol stations prices map\\n==========...</td>\n",
       "      <td>[spains, petrol, stations, prices, map, demo, ...</td>\n",
       "      <td>spain petrol station price map demo see action...</td>\n",
       "      <td>spain petrol station price map demo see action...</td>\n",
       "      <td>149</td>\n",
       "    </tr>\n",
       "    <tr>\n",
       "      <th>7</th>\n",
       "      <td>Jupyter Notebook</td>\n",
       "      <td>Gasoline</td>\n",
       "      <td>madsenmj/ml-gas-price</td>\n",
       "      <td># Gas Price Prediction Model\\n\\nThis project u...</td>\n",
       "      <td>[gas, price, prediction, model, this, project,...</td>\n",
       "      <td>ga price predict model thi project use public ...</td>\n",
       "      <td>gas price prediction model project us public d...</td>\n",
       "      <td>564</td>\n",
       "    </tr>\n",
       "  </tbody>\n",
       "</table>\n",
       "</div>"
      ],
      "text/plain": [
       "           language  category                    repo  \\\n",
       "0                 C  Gasoline     N-BodyShop/gasoline   \n",
       "3            Python  Gasoline     iggisv9t/benzin_gif   \n",
       "5                 C  Gasoline           vooon/miniecu   \n",
       "6               CSS  Gasoline  kbsali/gasolineras-www   \n",
       "7  Jupyter Notebook  Gasoline   madsenmj/ml-gas-price   \n",
       "\n",
       "                                     readme_contents  \\\n",
       "0  ```\\n \\t  ▄████  ▄▄▄        ██████  ▒█████   █...   \n",
       "3  # benzin_gif\\nCreate animated gifs that looks ...   \n",
       "5  miniECU\\n=======\\n\\nminiECU - monitoring unit ...   \n",
       "6  Spain's petrol stations prices map\\n==========...   \n",
       "7  # Gas Price Prediction Model\\n\\nThis project u...   \n",
       "\n",
       "                                         clean_tokes  \\\n",
       "0  [&#9;, &#9;, &#9;, &#9;, &#9;, &#9;, &#9;, &#9...   \n",
       "3  [benzin_gif, create, animated, gifs, that, loo...   \n",
       "5  [miniecu, miniecu, monitoring, unit, for, mode...   \n",
       "6  [spains, petrol, stations, prices, map, demo, ...   \n",
       "7  [gas, price, prediction, model, this, project,...   \n",
       "\n",
       "                                       clean_stemmed  \\\n",
       "0  &#9; &#9; &#9; &#9; &#9; &#9; &#9; &#9; &#9; g...   \n",
       "3  benzin_gif creat anim gif look like gasolin pu...   \n",
       "5  miniecu miniecu monitor unit model gasolin eng...   \n",
       "6  spain petrol station price map demo see action...   \n",
       "7  ga price predict model thi project use public ...   \n",
       "\n",
       "                                    clean_lemmatized  word_count  \n",
       "0  &#9; &#9; &#9; &#9; &#9; &#9; &#9; &#9; &#9; g...         105  \n",
       "3  benzin_gif create animated gifs look like gaso...          61  \n",
       "5  miniecu miniecu monitoring unit model gasoline...          10  \n",
       "6  spain petrol station price map demo see action...         149  \n",
       "7  gas price prediction model project us public d...         564  "
      ]
     },
     "execution_count": 17,
     "metadata": {},
     "output_type": "execute_result"
    }
   ],
   "source": [
    "# So we're left with this DataFrame\n",
    "\n",
    "df.head()"
   ]
  },
  {
   "cell_type": "code",
   "execution_count": 18,
   "metadata": {},
   "outputs": [
    {
     "data": {
      "text/plain": [
       "(352, 8)"
      ]
     },
     "execution_count": 18,
     "metadata": {},
     "output_type": "execute_result"
    }
   ],
   "source": [
    "df.shape"
   ]
  },
  {
   "cell_type": "code",
   "execution_count": 19,
   "metadata": {},
   "outputs": [
    {
     "name": "stdout",
     "output_type": "stream",
     "text": [
      "<class 'pandas.core.frame.DataFrame'>\n",
      "Int64Index: 352 entries, 0 to 409\n",
      "Data columns (total 8 columns):\n",
      " #   Column            Non-Null Count  Dtype \n",
      "---  ------            --------------  ----- \n",
      " 0   language          352 non-null    object\n",
      " 1   category          352 non-null    object\n",
      " 2   repo              352 non-null    object\n",
      " 3   readme_contents   352 non-null    object\n",
      " 4   clean_tokes       352 non-null    object\n",
      " 5   clean_stemmed     352 non-null    object\n",
      " 6   clean_lemmatized  352 non-null    object\n",
      " 7   word_count        352 non-null    int64 \n",
      "dtypes: int64(1), object(7)\n",
      "memory usage: 24.8+ KB\n"
     ]
    }
   ],
   "source": [
    "df.info()"
   ]
  },
  {
   "cell_type": "code",
   "execution_count": 20,
   "metadata": {},
   "outputs": [
    {
     "data": {
      "text/html": [
       "<div>\n",
       "<style scoped>\n",
       "    .dataframe tbody tr th:only-of-type {\n",
       "        vertical-align: middle;\n",
       "    }\n",
       "\n",
       "    .dataframe tbody tr th {\n",
       "        vertical-align: top;\n",
       "    }\n",
       "\n",
       "    .dataframe thead th {\n",
       "        text-align: right;\n",
       "    }\n",
       "</style>\n",
       "<table border=\"1\" class=\"dataframe\">\n",
       "  <thead>\n",
       "    <tr style=\"text-align: right;\">\n",
       "      <th></th>\n",
       "      <th>language</th>\n",
       "      <th>category</th>\n",
       "      <th>repo</th>\n",
       "      <th>readme_contents</th>\n",
       "      <th>clean_tokes</th>\n",
       "      <th>clean_stemmed</th>\n",
       "      <th>clean_lemmatized</th>\n",
       "      <th>word_count</th>\n",
       "    </tr>\n",
       "  </thead>\n",
       "  <tbody>\n",
       "    <tr>\n",
       "      <th>0</th>\n",
       "      <td>Python</td>\n",
       "      <td>Gasoline</td>\n",
       "      <td>iggisv9t/benzin_gif</td>\n",
       "      <td># benzin_gif\\nCreate animated gifs that looks ...</td>\n",
       "      <td>[benzin_gif, create, animated, gifs, that, loo...</td>\n",
       "      <td>benzin_gif creat anim gif look like gasolin pu...</td>\n",
       "      <td>benzin_gif create animated gifs look like gaso...</td>\n",
       "      <td>61</td>\n",
       "    </tr>\n",
       "    <tr>\n",
       "      <th>1</th>\n",
       "      <td>Jupyter Notebook</td>\n",
       "      <td>Gasoline</td>\n",
       "      <td>madsenmj/ml-gas-price</td>\n",
       "      <td># Gas Price Prediction Model\\n\\nThis project u...</td>\n",
       "      <td>[gas, price, prediction, model, this, project,...</td>\n",
       "      <td>ga price predict model thi project use public ...</td>\n",
       "      <td>gas price prediction model project us public d...</td>\n",
       "      <td>564</td>\n",
       "    </tr>\n",
       "    <tr>\n",
       "      <th>2</th>\n",
       "      <td>Python</td>\n",
       "      <td>Gasoline</td>\n",
       "      <td>tseale/charliehustle</td>\n",
       "      <td># charlie-hustle\\n\\nPython scripts for pulling...</td>\n",
       "      <td>[charliehustle, python, scripts, for, pulling,...</td>\n",
       "      <td>charliehustl python script pull mlb gameday da...</td>\n",
       "      <td>charliehustle python script pulling mlb gameda...</td>\n",
       "      <td>11</td>\n",
       "    </tr>\n",
       "    <tr>\n",
       "      <th>3</th>\n",
       "      <td>Jupyter Notebook</td>\n",
       "      <td>Gasoline</td>\n",
       "      <td>abhinav5544/gasolineprice</td>\n",
       "      <td># gasolineprice\\nIt is a project based on mach...</td>\n",
       "      <td>[gasolineprice, it, is, a, project, based, on,...</td>\n",
       "      <td>gasolinepric project base machin learn train m...</td>\n",
       "      <td>gasolineprice project based machine learning t...</td>\n",
       "      <td>16</td>\n",
       "    </tr>\n",
       "    <tr>\n",
       "      <th>4</th>\n",
       "      <td>JavaScript</td>\n",
       "      <td>Gasoline</td>\n",
       "      <td>abuenosvinos/gasolineras-www</td>\n",
       "      <td>\\n# Proyecto Gasolineras\\n\\n[![Author][Author]...</td>\n",
       "      <td>[proyecto, gasolineras, authorauthorhttpwwwant...</td>\n",
       "      <td>proyecto gasolinera authorauthorhttpwwwantonio...</td>\n",
       "      <td>proyecto gasolineras authorauthorhttpwwwantoni...</td>\n",
       "      <td>1430</td>\n",
       "    </tr>\n",
       "  </tbody>\n",
       "</table>\n",
       "</div>"
      ],
      "text/plain": [
       "           language  category                          repo  \\\n",
       "0            Python  Gasoline           iggisv9t/benzin_gif   \n",
       "1  Jupyter Notebook  Gasoline         madsenmj/ml-gas-price   \n",
       "2            Python  Gasoline          tseale/charliehustle   \n",
       "3  Jupyter Notebook  Gasoline     abhinav5544/gasolineprice   \n",
       "4        JavaScript  Gasoline  abuenosvinos/gasolineras-www   \n",
       "\n",
       "                                     readme_contents  \\\n",
       "0  # benzin_gif\\nCreate animated gifs that looks ...   \n",
       "1  # Gas Price Prediction Model\\n\\nThis project u...   \n",
       "2  # charlie-hustle\\n\\nPython scripts for pulling...   \n",
       "3  # gasolineprice\\nIt is a project based on mach...   \n",
       "4  \\n# Proyecto Gasolineras\\n\\n[![Author][Author]...   \n",
       "\n",
       "                                         clean_tokes  \\\n",
       "0  [benzin_gif, create, animated, gifs, that, loo...   \n",
       "1  [gas, price, prediction, model, this, project,...   \n",
       "2  [charliehustle, python, scripts, for, pulling,...   \n",
       "3  [gasolineprice, it, is, a, project, based, on,...   \n",
       "4  [proyecto, gasolineras, authorauthorhttpwwwant...   \n",
       "\n",
       "                                       clean_stemmed  \\\n",
       "0  benzin_gif creat anim gif look like gasolin pu...   \n",
       "1  ga price predict model thi project use public ...   \n",
       "2  charliehustl python script pull mlb gameday da...   \n",
       "3  gasolinepric project base machin learn train m...   \n",
       "4  proyecto gasolinera authorauthorhttpwwwantonio...   \n",
       "\n",
       "                                    clean_lemmatized  word_count  \n",
       "0  benzin_gif create animated gifs look like gaso...          61  \n",
       "1  gas price prediction model project us public d...         564  \n",
       "2  charliehustle python script pulling mlb gameda...          11  \n",
       "3  gasolineprice project based machine learning t...          16  \n",
       "4  proyecto gasolineras authorauthorhttpwwwantoni...        1430  "
      ]
     },
     "execution_count": 20,
     "metadata": {},
     "output_type": "execute_result"
    }
   ],
   "source": [
    "# We're also going to create a DataFrame of the top 4 languages for use later\n",
    "\n",
    "top_4_lang = list(df.language.value_counts().head(4).index)\n",
    "top_4_lang_df = df[df.language.isin(top_4_lang)]\n",
    "top_4_lang_df.reset_index(drop=True, inplace=True)\n",
    "top_4_lang_df.head()"
   ]
  },
  {
   "cell_type": "markdown",
   "metadata": {},
   "source": [
    "## Explore our data"
   ]
  },
  {
   "cell_type": "code",
   "execution_count": 21,
   "metadata": {},
   "outputs": [
    {
     "data": {
      "text/plain": [
       "language\n",
       "JavaScript          539.807018\n",
       "Python              224.750000\n",
       "HTML                206.766667\n",
       "R                   204.785714\n",
       "Jupyter Notebook    140.985075\n",
       "MATLAB              130.923077\n",
       "C++                 112.631579\n",
       "Java                 97.363636\n",
       "CSS                  91.900000\n",
       "PowerShell           90.527778\n",
       "PHP                  70.857143\n",
       "C                    64.944444\n",
       "Name: word_count, dtype: float64"
      ]
     },
     "execution_count": 21,
     "metadata": {},
     "output_type": "execute_result"
    }
   ],
   "source": [
    "lang_wordcount = df.groupby('language').word_count.mean().sort_values(ascending=False)\n",
    "lang_wordcount"
   ]
  },
  {
   "cell_type": "code",
   "execution_count": 22,
   "metadata": {
    "scrolled": false
   },
   "outputs": [
    {
     "data": {
      "image/png": "[encoded data removed]",
      "text/plain": [
       "<Figure size 1008x648 with 1 Axes>"
      ]
     },
     "metadata": {},
     "output_type": "display_data"
    }
   ],
   "source": [
    "sns.set(rc={'figure.figsize':(14, 9)})\n",
    "ax = sns.barplot(x=lang_wordcount.values, \n",
    "                 y=lang_wordcount.index)\n",
    "ax.set(title='Average Wordcount of Languages', xlabel='Word Count', \n",
    "      ylabel='')\n",
    "plt.show()"
   ]
  },
  {
   "cell_type": "code",
   "execution_count": 23,
   "metadata": {},
   "outputs": [
    {
     "data": {
      "image/png": "[encoded data removed]",
      "text/plain": [
       "<Figure size 1008x576 with 1 Axes>"
      ]
     },
     "metadata": {},
     "output_type": "display_data"
    }
   ],
   "source": [
    "plt.figure(figsize=(14,8))\n",
    "df.language.value_counts().sort_values(ascending=True).tail(10).plot.barh(width=.8)\n",
    "plt.title('10 most popular languages used in the repos')\n",
    "plt.xlabel('Number of occurances')\n",
    "plt.show()"
   ]
  },
  {
   "cell_type": "code",
   "execution_count": 24,
   "metadata": {},
   "outputs": [
    {
     "data": {
      "image/png": "[encoded data removed]",
      "text/plain": [
       "<Figure size 1008x648 with 1 Axes>"
      ]
     },
     "metadata": {},
     "output_type": "display_data"
    }
   ],
   "source": [
    "# Does the length of the README vary by programming language?\n",
    "\n",
    "df.language.value_counts().head(10)\n",
    "df.groupby('language').word_count.mean().sort_values(ascending=False)\n",
    "df.word_count.hist()\n",
    "plt.title('What is the average length of a README file?')\n",
    "plt.ylabel('Frequency')\n",
    "plt.xlabel('Length')\n",
    "plt.show()"
   ]
  },
  {
   "cell_type": "code",
   "execution_count": 25,
   "metadata": {},
   "outputs": [
    {
     "data": {
      "image/png": "[encoded data removed]",
      "text/plain": [
       "<Figure size 1008x648 with 1 Axes>"
      ]
     },
     "metadata": {},
     "output_type": "display_data"
    }
   ],
   "source": [
    "# swarm plot for energy category and README word counts\n",
    "sns.swarmplot(x=df['category'], y=df[df.word_count < 500].word_count)\n",
    "plt.title('README Word Count Per Energy Category')\n",
    "plt.ylabel('Word Count')\n",
    "plt.xlabel('')\n",
    "plt.show()"
   ]
  },
  {
   "cell_type": "markdown",
   "metadata": {},
   "source": [
    "### Most READMEs are not very long, if not inadequately short"
   ]
  },
  {
   "cell_type": "code",
   "execution_count": 26,
   "metadata": {},
   "outputs": [
    {
     "data": {
      "text/plain": [
       "69"
      ]
     },
     "execution_count": 26,
     "metadata": {},
     "output_type": "execute_result"
    }
   ],
   "source": [
    "# Do different programming languages use a different number of unique words?\n",
    "\n",
    "# get top 10 popular languages\n",
    "top_language = list(df.language.value_counts().head(10).index)\n",
    "top_language\n",
    "df[df.language.isin(top_language)].language\n",
    "\n",
    "len(set(df.clean_lemmatized[0].split(' ')))"
   ]
  },
  {
   "cell_type": "code",
   "execution_count": 27,
   "metadata": {},
   "outputs": [
    {
     "data": {
      "text/plain": [
       "3527"
      ]
     },
     "execution_count": 27,
     "metadata": {},
     "output_type": "execute_result"
    }
   ],
   "source": [
    "len(set(df[df.language=='Python'].clean_lemmatized.str.cat(sep=' ').split(' ')))"
   ]
  },
  {
   "cell_type": "code",
   "execution_count": 28,
   "metadata": {},
   "outputs": [
    {
     "data": {
      "text/plain": [
       "1111"
      ]
     },
     "execution_count": 28,
     "metadata": {},
     "output_type": "execute_result"
    }
   ],
   "source": [
    "len(set(df[df.language=='Java'].clean_lemmatized.str.cat(sep=' ').split(' ')))"
   ]
  },
  {
   "cell_type": "code",
   "execution_count": 29,
   "metadata": {},
   "outputs": [
    {
     "data": {
      "text/plain": [
       "JavaScript          4076\n",
       "Python              3527\n",
       "Jupyter Notebook    2850\n",
       "HTML                1960\n",
       "PowerShell          1383\n",
       "R                   1263\n",
       "Java                1111\n",
       "C++                 1094\n",
       "C                    752\n",
       "PHP                  603\n",
       "dtype: int64"
      ]
     },
     "execution_count": 29,
     "metadata": {},
     "output_type": "execute_result"
    }
   ],
   "source": [
    "uniques = []\n",
    "for lang in top_language:\n",
    "    uniques.append(len(set(df[df.language==lang].clean_lemmatized\\\n",
    "                           .str.cat(sep=' ').split(' '))))\n",
    "    \n",
    "pd.Series(uniques, index=top_language).sort_values(ascending=False)"
   ]
  },
  {
   "cell_type": "code",
   "execution_count": 48,
   "metadata": {},
   "outputs": [],
   "source": [
    "ADDITIONAL_STOPWORDS = ['&#9;']\n",
    "\n",
    "def clean(text: str) -> list:\n",
    "    'A simple function to cleanup text data'\n",
    "    wnl = nltk.stem.WordNetLemmatizer()\n",
    "    stopwords = nltk.corpus.stopwords.words('english')\n",
    "    text = (text.encode('ascii', 'ignore')\n",
    "             .decode('utf-8', 'ignore')\n",
    "             .lower())\n",
    "    words = re.sub(r'[^\\w\\s]', '', text).split() # tokenization\n",
    "    return [wnl.lemmatize(word) for word in words if word not in stopwords]"
   ]
  },
  {
   "cell_type": "code",
   "execution_count": 31,
   "metadata": {},
   "outputs": [
    {
     "data": {
      "image/png": "[encoded data removed]",
      "text/plain": [
       "<Figure size 1296x648 with 1 Axes>"
      ]
     },
     "metadata": {},
     "output_type": "display_data"
    }
   ],
   "source": [
    "plt.figure(figsize=(18,9))\n",
    "sns.boxplot(y=top_4_lang_df[top_4_lang_df.word_count < 2000].word_count, x=top_4_lang_df.language)\n",
    "plt.title(\"READMEs length by 10 most popular programing languages\")\n",
    "plt.xlabel('Programming Language')\n",
    "plt.ylabel('README Length')\n",
    "plt.show()"
   ]
  },
  {
   "cell_type": "code",
   "execution_count": 73,
   "metadata": {},
   "outputs": [],
   "source": [
    "all_words = ' '.join(df.clean_lemmatized).split()\n",
    "\n",
    "jupyter_notebook_words = ' '.join(df[df.language == 'Jupyter Notebook'].clean_lemmatized).split()\n",
    "\n",
    "javascript_words = ' '.join(df[df.language == 'JavaScript'].clean_lemmatized).split()\n",
    "\n",
    "python_words = ' '.join(df[df.language == 'Python'].clean_lemmatized).split()\n",
    "\n",
    "powershell_words = ' '.join(df[df.language == 'PowerShell'].clean_lemmatized).split()\n",
    "\n",
    "all_freq = pd.Series(all_words).value_counts()\n",
    "\n",
    "jupyter_notebook_freq = pd.Series(jupyter_notebook_words).value_counts()\n",
    "\n",
    "javascript_words_freq = pd.Series(javascript_words).value_counts()\n",
    "\n",
    "python_words_freq = pd.Series(python_words).value_counts()\n",
    "\n",
    "powershell_words_freq = pd.Series(powershell_words).value_counts()\n",
    "\n",
    "raw_count = (\n",
    "    pd.concat([all_freq, jupyter_notebook_freq, javascript_words_freq, python_words_freq, powershell_words_freq], axis=1, sort=True)\n",
    "    .rename(columns={0: \"All\", 1: \"Jupyter_Notebook\", 2: \"Javascript\", 3: \"Python\", 4: \"Powershell\"})\n",
    "    .fillna(0)\n",
    "    .apply(lambda col: col.astype(int))\n",
    ")"
   ]
  },
  {
   "cell_type": "code",
   "execution_count": 74,
   "metadata": {
    "scrolled": true
   },
   "outputs": [
    {
     "data": {
      "text/html": [
       "<div>\n",
       "<style scoped>\n",
       "    .dataframe tbody tr th:only-of-type {\n",
       "        vertical-align: middle;\n",
       "    }\n",
       "\n",
       "    .dataframe tbody tr th {\n",
       "        vertical-align: top;\n",
       "    }\n",
       "\n",
       "    .dataframe thead th {\n",
       "        text-align: right;\n",
       "    }\n",
       "</style>\n",
       "<table border=\"1\" class=\"dataframe\">\n",
       "  <thead>\n",
       "    <tr style=\"text-align: right;\">\n",
       "      <th></th>\n",
       "      <th>&amp;#9;</th>\n",
       "      <th>0</th>\n",
       "      <th>00</th>\n",
       "      <th>000</th>\n",
       "      <th>00000</th>\n",
       "      <th>000000000e00</th>\n",
       "      <th>0001</th>\n",
       "      <th>00024</th>\n",
       "      <th>000522658</th>\n",
       "      <th>000703</th>\n",
       "      <th>...</th>\n",
       "      <th>zone</th>\n",
       "      <th>zoom</th>\n",
       "      <th>zosta</th>\n",
       "      <th>zostaje</th>\n",
       "      <th>zostanie</th>\n",
       "      <th>zq</th>\n",
       "      <th>zrobi</th>\n",
       "      <th>zucker</th>\n",
       "      <th>zwizku</th>\n",
       "      <th>zz</th>\n",
       "    </tr>\n",
       "  </thead>\n",
       "  <tbody>\n",
       "    <tr>\n",
       "      <th>All</th>\n",
       "      <td>510</td>\n",
       "      <td>38</td>\n",
       "      <td>6</td>\n",
       "      <td>2</td>\n",
       "      <td>1</td>\n",
       "      <td>3</td>\n",
       "      <td>1</td>\n",
       "      <td>1</td>\n",
       "      <td>2</td>\n",
       "      <td>4</td>\n",
       "      <td>...</td>\n",
       "      <td>7</td>\n",
       "      <td>1</td>\n",
       "      <td>1</td>\n",
       "      <td>1</td>\n",
       "      <td>1</td>\n",
       "      <td>1</td>\n",
       "      <td>1</td>\n",
       "      <td>1</td>\n",
       "      <td>1</td>\n",
       "      <td>1</td>\n",
       "    </tr>\n",
       "    <tr>\n",
       "      <th>Jupyter_Notebook</th>\n",
       "      <td>166</td>\n",
       "      <td>3</td>\n",
       "      <td>0</td>\n",
       "      <td>0</td>\n",
       "      <td>0</td>\n",
       "      <td>0</td>\n",
       "      <td>0</td>\n",
       "      <td>0</td>\n",
       "      <td>0</td>\n",
       "      <td>0</td>\n",
       "      <td>...</td>\n",
       "      <td>6</td>\n",
       "      <td>0</td>\n",
       "      <td>0</td>\n",
       "      <td>0</td>\n",
       "      <td>0</td>\n",
       "      <td>0</td>\n",
       "      <td>0</td>\n",
       "      <td>1</td>\n",
       "      <td>0</td>\n",
       "      <td>0</td>\n",
       "    </tr>\n",
       "    <tr>\n",
       "      <th>Javascript</th>\n",
       "      <td>79</td>\n",
       "      <td>11</td>\n",
       "      <td>5</td>\n",
       "      <td>1</td>\n",
       "      <td>0</td>\n",
       "      <td>0</td>\n",
       "      <td>0</td>\n",
       "      <td>1</td>\n",
       "      <td>2</td>\n",
       "      <td>4</td>\n",
       "      <td>...</td>\n",
       "      <td>0</td>\n",
       "      <td>0</td>\n",
       "      <td>0</td>\n",
       "      <td>0</td>\n",
       "      <td>0</td>\n",
       "      <td>0</td>\n",
       "      <td>0</td>\n",
       "      <td>0</td>\n",
       "      <td>0</td>\n",
       "      <td>0</td>\n",
       "    </tr>\n",
       "    <tr>\n",
       "      <th>Python</th>\n",
       "      <td>220</td>\n",
       "      <td>19</td>\n",
       "      <td>1</td>\n",
       "      <td>0</td>\n",
       "      <td>0</td>\n",
       "      <td>3</td>\n",
       "      <td>1</td>\n",
       "      <td>0</td>\n",
       "      <td>0</td>\n",
       "      <td>0</td>\n",
       "      <td>...</td>\n",
       "      <td>0</td>\n",
       "      <td>0</td>\n",
       "      <td>0</td>\n",
       "      <td>0</td>\n",
       "      <td>0</td>\n",
       "      <td>0</td>\n",
       "      <td>0</td>\n",
       "      <td>0</td>\n",
       "      <td>0</td>\n",
       "      <td>0</td>\n",
       "    </tr>\n",
       "    <tr>\n",
       "      <th>Powershell</th>\n",
       "      <td>20</td>\n",
       "      <td>3</td>\n",
       "      <td>0</td>\n",
       "      <td>0</td>\n",
       "      <td>0</td>\n",
       "      <td>0</td>\n",
       "      <td>0</td>\n",
       "      <td>0</td>\n",
       "      <td>0</td>\n",
       "      <td>0</td>\n",
       "      <td>...</td>\n",
       "      <td>0</td>\n",
       "      <td>0</td>\n",
       "      <td>0</td>\n",
       "      <td>0</td>\n",
       "      <td>0</td>\n",
       "      <td>1</td>\n",
       "      <td>0</td>\n",
       "      <td>0</td>\n",
       "      <td>0</td>\n",
       "      <td>1</td>\n",
       "    </tr>\n",
       "  </tbody>\n",
       "</table>\n",
       "<p>5 rows × 12081 columns</p>\n",
       "</div>"
      ],
      "text/plain": [
       "                  &#9;   0  00  000  00000  000000000e00  0001  00024  \\\n",
       "All                510  38   6    2      1             3     1      1   \n",
       "Jupyter_Notebook   166   3   0    0      0             0     0      0   \n",
       "Javascript          79  11   5    1      0             0     0      1   \n",
       "Python             220  19   1    0      0             3     1      0   \n",
       "Powershell          20   3   0    0      0             0     0      0   \n",
       "\n",
       "                  000522658  000703  ...  zone  zoom  zosta  zostaje  \\\n",
       "All                       2       4  ...     7     1      1        1   \n",
       "Jupyter_Notebook          0       0  ...     6     0      0        0   \n",
       "Javascript                2       4  ...     0     0      0        0   \n",
       "Python                    0       0  ...     0     0      0        0   \n",
       "Powershell                0       0  ...     0     0      0        0   \n",
       "\n",
       "                  zostanie  zq  zrobi  zucker  zwizku  zz  \n",
       "All                      1   1      1       1       1   1  \n",
       "Jupyter_Notebook         0   0      0       1       0   0  \n",
       "Javascript               0   0      0       0       0   0  \n",
       "Python                   0   0      0       0       0   0  \n",
       "Powershell               0   1      0       0       0   1  \n",
       "\n",
       "[5 rows x 12081 columns]"
      ]
     },
     "execution_count": 74,
     "metadata": {},
     "output_type": "execute_result"
    }
   ],
   "source": [
    "raw_count.T"
   ]
  },
  {
   "cell_type": "code",
   "execution_count": 75,
   "metadata": {
    "scrolled": true
   },
   "outputs": [
    {
     "data": {
      "text/html": [
       "<div>\n",
       "<style scoped>\n",
       "    .dataframe tbody tr th:only-of-type {\n",
       "        vertical-align: middle;\n",
       "    }\n",
       "\n",
       "    .dataframe tbody tr th {\n",
       "        vertical-align: top;\n",
       "    }\n",
       "\n",
       "    .dataframe thead th {\n",
       "        text-align: right;\n",
       "    }\n",
       "</style>\n",
       "<table border=\"1\" class=\"dataframe\">\n",
       "  <thead>\n",
       "    <tr style=\"text-align: right;\">\n",
       "      <th></th>\n",
       "      <th>All</th>\n",
       "      <th>Jupyter_Notebook</th>\n",
       "      <th>Javascript</th>\n",
       "      <th>Python</th>\n",
       "      <th>Powershell</th>\n",
       "    </tr>\n",
       "  </thead>\n",
       "  <tbody>\n",
       "    <tr>\n",
       "      <th>solar</th>\n",
       "      <td>418</td>\n",
       "      <td>153</td>\n",
       "      <td>28</td>\n",
       "      <td>103</td>\n",
       "      <td>0</td>\n",
       "    </tr>\n",
       "    <tr>\n",
       "      <th>project</th>\n",
       "      <td>432</td>\n",
       "      <td>61</td>\n",
       "      <td>259</td>\n",
       "      <td>24</td>\n",
       "      <td>6</td>\n",
       "    </tr>\n",
       "    <tr>\n",
       "      <th>powershell</th>\n",
       "      <td>432</td>\n",
       "      <td>0</td>\n",
       "      <td>14</td>\n",
       "      <td>0</td>\n",
       "      <td>88</td>\n",
       "    </tr>\n",
       "    <tr>\n",
       "      <th>build</th>\n",
       "      <td>438</td>\n",
       "      <td>9</td>\n",
       "      <td>377</td>\n",
       "      <td>8</td>\n",
       "      <td>1</td>\n",
       "    </tr>\n",
       "    <tr>\n",
       "      <th>use</th>\n",
       "      <td>490</td>\n",
       "      <td>26</td>\n",
       "      <td>318</td>\n",
       "      <td>54</td>\n",
       "      <td>10</td>\n",
       "    </tr>\n",
       "    <tr>\n",
       "      <th>run</th>\n",
       "      <td>499</td>\n",
       "      <td>21</td>\n",
       "      <td>343</td>\n",
       "      <td>72</td>\n",
       "      <td>27</td>\n",
       "    </tr>\n",
       "    <tr>\n",
       "      <th>&amp;#9;</th>\n",
       "      <td>510</td>\n",
       "      <td>166</td>\n",
       "      <td>79</td>\n",
       "      <td>220</td>\n",
       "      <td>20</td>\n",
       "    </tr>\n",
       "    <tr>\n",
       "      <th>data</th>\n",
       "      <td>590</td>\n",
       "      <td>238</td>\n",
       "      <td>58</td>\n",
       "      <td>144</td>\n",
       "      <td>1</td>\n",
       "    </tr>\n",
       "    <tr>\n",
       "      <th>file</th>\n",
       "      <td>622</td>\n",
       "      <td>54</td>\n",
       "      <td>354</td>\n",
       "      <td>132</td>\n",
       "      <td>28</td>\n",
       "    </tr>\n",
       "    <tr>\n",
       "      <th>jump</th>\n",
       "      <td>849</td>\n",
       "      <td>0</td>\n",
       "      <td>0</td>\n",
       "      <td>1</td>\n",
       "      <td>0</td>\n",
       "    </tr>\n",
       "  </tbody>\n",
       "</table>\n",
       "</div>"
      ],
      "text/plain": [
       "            All  Jupyter_Notebook  Javascript  Python  Powershell\n",
       "solar       418               153          28     103           0\n",
       "project     432                61         259      24           6\n",
       "powershell  432                 0          14       0          88\n",
       "build       438                 9         377       8           1\n",
       "use         490                26         318      54          10\n",
       "run         499                21         343      72          27\n",
       "&#9;        510               166          79     220          20\n",
       "data        590               238          58     144           1\n",
       "file        622                54         354     132          28\n",
       "jump        849                 0           0       1           0"
      ]
     },
     "execution_count": 75,
     "metadata": {},
     "output_type": "execute_result"
    }
   ],
   "source": [
    "raw_count.sort_values(by=\"All\").tail(10)"
   ]
  },
  {
   "cell_type": "code",
   "execution_count": 76,
   "metadata": {
    "scrolled": false
   },
   "outputs": [
    {
     "data": {
      "text/plain": [
       "Text(0.5, 1.0, '10 most common words')"
      ]
     },
     "execution_count": 76,
     "metadata": {},
     "output_type": "execute_result"
    },
    {
     "data": {
      "image/png": "[encoded data removed]",
      "text/plain": [
       "<Figure size 1008x648 with 1 Axes>"
      ]
     },
     "metadata": {},
     "output_type": "display_data"
    }
   ],
   "source": [
    "raw_count.sort_values(by='All')['All'].tail(10).plot.barh(width=.9)\n",
    "plt.title('10 most common words')"
   ]
  },
  {
   "cell_type": "code",
   "execution_count": 77,
   "metadata": {
    "scrolled": false
   },
   "outputs": [
    {
     "data": {
      "text/plain": [
       "Text(0.5, 1.0, '10 most common Jupyter Notebook words')"
      ]
     },
     "execution_count": 77,
     "metadata": {},
     "output_type": "execute_result"
    },
    {
     "data": {
      "image/png": "[encoded data removed]",
      "text/plain": [
       "<Figure size 1008x648 with 1 Axes>"
      ]
     },
     "metadata": {},
     "output_type": "display_data"
    }
   ],
   "source": [
    "raw_count.sort_values(by='Jupyter_Notebook').Jupyter_Notebook.tail(10).plot.barh(width=1, color='seagreen')\n",
    "plt.title('10 most common Jupyter Notebook words')"
   ]
  },
  {
   "cell_type": "code",
   "execution_count": 78,
   "metadata": {},
   "outputs": [
    {
     "data": {
      "text/plain": [
       "Text(0.5, 1.0, '10 most common Python words')"
      ]
     },
     "execution_count": 78,
     "metadata": {},
     "output_type": "execute_result"
    },
    {
     "data": {
      "image/png": "[encoded data removed]",
      "text/plain": [
       "<Figure size 1008x648 with 1 Axes>"
      ]
     },
     "metadata": {},
     "output_type": "display_data"
    }
   ],
   "source": [
    "raw_count.sort_values(by='Javascript').Javascript.tail(10).plot.barh(width=1, color='coral')\n",
    "plt.title('10 most common Python words')"
   ]
  },
  {
   "cell_type": "code",
   "execution_count": 79,
   "metadata": {},
   "outputs": [
    {
     "data": {
      "text/plain": [
       "Text(0.5, 1.0, '10 most common Python words')"
      ]
     },
     "execution_count": 79,
     "metadata": {},
     "output_type": "execute_result"
    },
    {
     "data": {
      "image/png": "[encoded data removed]",
      "text/plain": [
       "<Figure size 1008x648 with 1 Axes>"
      ]
     },
     "metadata": {},
     "output_type": "display_data"
    }
   ],
   "source": [
    "raw_count.sort_values(by='Python').Python.tail(10).plot.barh(width=1, color='dodgerblue')\n",
    "plt.title('10 most common Python words')"
   ]
  },
  {
   "cell_type": "code",
   "execution_count": 80,
   "metadata": {},
   "outputs": [
    {
     "data": {
      "text/plain": [
       "Text(0.5, 1.0, '10 most common Python words')"
      ]
     },
     "execution_count": 80,
     "metadata": {},
     "output_type": "execute_result"
    },
    {
     "data": {
      "image/png": "[encoded data removed]",
      "text/plain": [
       "<Figure size 1008x648 with 1 Axes>"
      ]
     },
     "metadata": {},
     "output_type": "display_data"
    }
   ],
   "source": [
    "raw_count.sort_values(by='Powershell').Powershell.tail(10).plot.barh(width=1, color='navajowhite')\n",
    "plt.title('10 most common Python words')"
   ]
  },
  {
   "cell_type": "markdown",
   "metadata": {},
   "source": [
    "### In isolatation, the top ten words with the highest frequency by language have some distiction.  Further work here might improve a model."
   ]
  },
  {
   "cell_type": "code",
   "execution_count": null,
   "metadata": {},
   "outputs": [],
   "source": [
    "# Let's make a WORD CLOUD for all the words in the top 4 language READMEs\n",
    "\n",
    "top_4_all_words = clean(' '.join(top_4_lang_df.readme_contents))\n",
    "\n",
    "def listToString(s):  \n",
    "    \n",
    "    # initialize an empty string \n",
    "    str1 = \" \" \n",
    "    \n",
    "    # return string   \n",
    "    return (str1.join(s)) \n",
    "        \n",
    "        \n",
    "# Driver code     \n",
    "top = top_4_all_words\n",
    "\n",
    "top_str = listToString(top)\n",
    "\n",
    "# get data directory (using getcwd() is needed to support running example in generated IPython notebook)\n",
    "d = path.dirname(__file__) if \"__file__\" in locals() else os.getcwd()\n",
    "\n",
    "# Read the whole text.\n",
    "text = top_str\n",
    "\n",
    "# read the mask / color image taken from\n",
    "top_coloring = np.array(Image.open(path.join(d, \"github.png\")))\n",
    "stopwords = set(STOPWORDS)\n",
    "stopwords.add(\"said\")\n",
    "\n",
    "wc = WordCloud(background_color=\"white\", max_words=2000, mask=top_coloring, stopwords=stopwords, max_font_size=40, random_state=42)\n",
    "\n",
    "# generate word cloud\n",
    "wc.generate(text)\n",
    "\n",
    "# create coloring from image\n",
    "image_colors = ImageColorGenerator(top_coloring)\n",
    "\n",
    "plt.figure(figsize=(22, 22))\n",
    "plt.imshow(wc, interpolation='bilinear')\n",
    "plt.axis(\"off\")\n",
    "plt.show()"
   ]
  },
  {
   "cell_type": "markdown",
   "metadata": {},
   "source": [
    "## Hypothesis Testing"
   ]
  },
  {
   "cell_type": "markdown",
   "metadata": {},
   "source": [
    "### Chi2 Test\n",
    "\n",
    "$H_0$: Using a programming language and being in a specific energy category are independent of each other.\n",
    "<br>\n",
    "$H_a$: Using a programming language and being in a specific energy category are dependent on each other."
   ]
  },
  {
   "cell_type": "code",
   "execution_count": null,
   "metadata": {},
   "outputs": [],
   "source": [
    "observed = pd.crosstab(df.category, df.language)\n",
    "observed"
   ]
  },
  {
   "cell_type": "code",
   "execution_count": null,
   "metadata": {},
   "outputs": [],
   "source": [
    "chi2, p, degf, expected = stats.chi2_contingency(observed)\n",
    "chi2, p, degf, expected \n",
    "print('Observed\\n')\n",
    "print(observed.values)\n",
    "print('---\\nExpected\\n')\n",
    "print(expected)\n",
    "print('---\\n')\n",
    "print(f'chi^2 = {chi2:.4f}')\n",
    "print(f'p     = {p:.4f}')\n",
    "print('alpha = 0.01')"
   ]
  },
  {
   "cell_type": "code",
   "execution_count": null,
   "metadata": {},
   "outputs": [],
   "source": [
    "print(f'''\n",
    "Because p ({p:.4f}) < alpha (.05),  reject the null hypothesis,\n",
    "which indicates that using a programming language and being in\n",
    "a specific energy category are dependent on each other. \n",
    "''')"
   ]
  },
  {
   "cell_type": "markdown",
   "metadata": {},
   "source": [
    "### T-Test\n",
    "\n",
    "$H_0$: There is no difference in README length between Python and Java.\n",
    "<br>\n",
    "$H_a$: There is a difference in README length between Python and Java."
   ]
  },
  {
   "cell_type": "code",
   "execution_count": null,
   "metadata": {},
   "outputs": [],
   "source": [
    "df[df.language == 'Python'].word_count.median()\n",
    "df[df.language == 'Java'].word_count.median()\n",
    "\n",
    "x1 = df[df.language == 'Python'].word_count\n",
    "x2 = df[df.language == 'Java'].word_count\n",
    "\n",
    "alpha = 0.05\n",
    "tstat, p = stats.ttest_ind(x1, x2)\n",
    "tstat, p \n",
    "print('tstat =', tstat)\n",
    "print('p =', p)"
   ]
  },
  {
   "cell_type": "code",
   "execution_count": null,
   "metadata": {},
   "outputs": [],
   "source": [
    "print(f'''\n",
    "Because p ({p:.4f}) > alpha (.05) , failed to reject the null\n",
    "hypothesis, which indicate that there is no significant difference\n",
    "in readme length between repostories using Python and Java. \n",
    "''')"
   ]
  },
  {
   "cell_type": "markdown",
   "metadata": {},
   "source": [
    "## Modeling our data"
   ]
  },
  {
   "cell_type": "code",
   "execution_count": null,
   "metadata": {},
   "outputs": [],
   "source": [
    "# We'll create a variable for each variable we'll be modeling\n",
    "\n",
    "documents = df[['repo','language', 'clean_lemmatized']]\n",
    "documents_top_4 = top_4_lang_df[['repo','language', 'clean_lemmatized']]"
   ]
  },
  {
   "cell_type": "markdown",
   "metadata": {},
   "source": [
    "### Baseline"
   ]
  },
  {
   "cell_type": "code",
   "execution_count": null,
   "metadata": {},
   "outputs": [],
   "source": [
    "# Let's set a baseline model first\n",
    "\n",
    "tfidf = TfidfVectorizer()\n",
    "X = tfidf.fit_transform(documents.clean_lemmatized)\n",
    "y = documents.language\n",
    "\n",
    "X_train, X_test, y_train, y_test = train_test_split(X, y, train_size=.7, stratify=y, random_state=42)\n",
    "y_train = pd.Series(('Jupyter Notebook,' * X_train.shape[0]).split(',')[:-1])\n",
    "\n",
    "train = pd.DataFrame(dict(actual=y_train))\n",
    "test = pd.DataFrame(dict(actual=y_test))\n",
    "\n",
    "# model = LogisticRegression().fit(X_train, y_train)\n",
    "model = DecisionTreeClassifier(max_depth=6, random_state=42).fit(X_train, y_train)\n",
    "# model = RandomForestClassifier(max_depth=6, min_samples_leaf=2, random_state=42).fit(X_train, y_train)\n",
    "# model = KNeighborsClassifier().fit(X_train, y_train)\n",
    "\n",
    "train['predicted'] = model.predict(X_train)\n",
    "test['predicted'] = model.predict(X_test)\n",
    "\n",
    "print(round(model.score(X_train, y_train), 4))\n",
    "print(round(model.score(X_test, y_test), 4))"
   ]
  },
  {
   "cell_type": "code",
   "execution_count": null,
   "metadata": {},
   "outputs": [],
   "source": [
    "tfidf = TfidfVectorizer()\n",
    "X = tfidf.fit_transform(documents_top_4.clean_lemmatized)\n",
    "y = documents_top_4.language\n",
    "\n",
    "X_train, X_test, y_train, y_test = train_test_split(X, y, train_size=.7, stratify=y, random_state=42)\n",
    "y_train = pd.Series(('Jupyter Notebook,' * X_train.shape[0]).split(',')[:-1])\n",
    "\n",
    "train = pd.DataFrame(dict(actual=y_train))\n",
    "test = pd.DataFrame(dict(actual=y_test))\n",
    "\n",
    "model = DecisionTreeClassifier(max_depth=6, random_state=42).fit(X_train, y_train)\n",
    "\n",
    "train['predicted'] = model.predict(X_train)\n",
    "test['predicted'] = model.predict(X_test)\n",
    "\n",
    "print(round(model.score(X_train, y_train), 4))\n",
    "print(round(model.score(X_test, y_test), 4))"
   ]
  },
  {
   "cell_type": "markdown",
   "metadata": {},
   "source": [
    "### As we'd expect it performs very poorly on the test data for both variables"
   ]
  },
  {
   "cell_type": "markdown",
   "metadata": {},
   "source": [
    "### All Words - TFIDF\n",
    "\n",
    "> To use these cells you can unhash whichever model you'd like to run, this works in all model cells\n",
    "<br>\n",
    "<br>\n",
    "> The best performing model per cell has been left unhashed"
   ]
  },
  {
   "cell_type": "code",
   "execution_count": null,
   "metadata": {},
   "outputs": [],
   "source": [
    "tfidf = TfidfVectorizer()\n",
    "X = tfidf.fit_transform(documents.clean_lemmatized)\n",
    "y = documents.language\n",
    "\n",
    "X_train, X_test, y_train, y_test = train_test_split(X, y, \n",
    "                        train_size=.8, stratify=y, random_state=42)\n",
    "\n",
    "train = pd.DataFrame(dict(actual=y_train))\n",
    "test = pd.DataFrame(dict(actual=y_test))\n",
    "\n",
    "# model = LogisticRegression().fit(X_train, y_train)\n",
    "# model = DecisionTreeClassifier(max_depth=12, random_state=42).fit(X_train, y_train)\n",
    "model = RandomForestClassifier(max_depth=12, min_samples_leaf=1, random_state=42).fit(X_train, y_train)\n",
    "# model = KNeighborsClassifier(n_neighbors=15).fit(X_train, y_train)\n",
    "\n",
    "train['predicted'] = model.predict(X_train)\n",
    "test['predicted'] = model.predict(X_test)\n",
    "\n",
    "print(round(model.score(X_train, y_train), 4))\n",
    "print(round(model.score(X_test, y_test), 4))"
   ]
  },
  {
   "cell_type": "markdown",
   "metadata": {},
   "source": [
    "### Top 4 - TFIDF"
   ]
  },
  {
   "cell_type": "code",
   "execution_count": null,
   "metadata": {},
   "outputs": [],
   "source": [
    "tfidf = TfidfVectorizer()\n",
    "X = tfidf.fit_transform(documents_top_4.clean_lemmatized)\n",
    "y = documents_top_4.language\n",
    "\n",
    "X_train, X_test, y_train, y_test = train_test_split(X, y, \n",
    "                        train_size=.8, stratify=y, random_state=42)\n",
    "\n",
    "train = pd.DataFrame(dict(actual=y_train))\n",
    "test = pd.DataFrame(dict(actual=y_test))\n",
    "\n",
    "# model = LogisticRegression().fit(X_train, y_train)\n",
    "# model = DecisionTreeClassifier(max_depth=12, random_state=42).fit(X_train, y_train)\n",
    "model = RandomForestClassifier(max_depth=12, min_samples_leaf=1, random_state=42).fit(X_train, y_train)\n",
    "# model = KNeighborsClassifier(n_neighbors=12).fit(X_train, y_train)\n",
    "\n",
    "\n",
    "train['predicted'] = model.predict(X_train)\n",
    "test['predicted'] = model.predict(X_test)\n",
    "\n",
    "print(round(model.score(X_train, y_train), 4))\n",
    "print(round(model.score(X_test, y_test), 4))"
   ]
  },
  {
   "cell_type": "markdown",
   "metadata": {},
   "source": [
    "### All - CountVector"
   ]
  },
  {
   "cell_type": "code",
   "execution_count": null,
   "metadata": {},
   "outputs": [],
   "source": [
    "cv = CountVectorizer()\n",
    "X = cv.fit_transform(documents.clean_lemmatized)\n",
    "y = documents.language\n",
    "\n",
    "X_train, X_test, y_train, y_test = train_test_split(X, y, \n",
    "                        train_size=.8, stratify=y, random_state=42)\n",
    "\n",
    "train = pd.DataFrame(dict(actual=y_train))\n",
    "test = pd.DataFrame(dict(actual=y_test))\n",
    "\n",
    "# model = LogisticRegression().fit(X_train, y_train)\n",
    "# model = DecisionTreeClassifier(max_depth=12, random_state=42).fit(X_train, y_train)\n",
    "model = RandomForestClassifier(max_depth=12, min_samples_leaf=1, random_state=42).fit(X_train, y_train)\n",
    "# model = KNeighborsClassifier(n_neighbors=12).fit(X_train, y_train)\n",
    "\n",
    "\n",
    "train['predicted'] = model.predict(X_train)\n",
    "test['predicted'] = model.predict(X_test)\n",
    "\n",
    "print(round(model.score(X_train, y_train), 4))\n",
    "print(round(model.score(X_test, y_test), 4))"
   ]
  },
  {
   "cell_type": "markdown",
   "metadata": {},
   "source": [
    "### Top 4 - CountVector"
   ]
  },
  {
   "cell_type": "code",
   "execution_count": null,
   "metadata": {},
   "outputs": [],
   "source": [
    "cv = CountVectorizer()\n",
    "X = cv.fit_transform(documents_top_4.clean_lemmatized)\n",
    "y = documents_top_4.language\n",
    "\n",
    "X_train, X_test, y_train, y_test = train_test_split(X, y, \n",
    "                        train_size=.8, stratify=y, random_state=42)\n",
    "\n",
    "train = pd.DataFrame(dict(actual=y_train))\n",
    "test = pd.DataFrame(dict(actual=y_test))\n",
    "\n",
    "# model = LogisticRegression().fit(X_train, y_train)\n",
    "# model = DecisionTreeClassifier(max_depth=12, random_state=42).fit(X_train, y_train)\n",
    "# model = RandomForestClassifier(max_depth=6, min_samples_leaf=2, random_state=42).fit(X_train, y_train)\n",
    "model = KNeighborsClassifier(n_neighbors=2).fit(X_train, y_train)\n",
    "\n",
    "\n",
    "train['predicted'] = model.predict(X_train)\n",
    "test['predicted'] = model.predict(X_test)\n",
    "\n",
    "print(round(model.score(X_train, y_train), 4))\n",
    "print(round(model.score(X_test, y_test), 4))"
   ]
  },
  {
   "cell_type": "markdown",
   "metadata": {},
   "source": [
    "### Let's try using some bigrams"
   ]
  },
  {
   "cell_type": "code",
   "execution_count": null,
   "metadata": {},
   "outputs": [],
   "source": [
    "tfidf = TfidfVectorizer(ngram_range=(2, 2))\n",
    "X = tfidf.fit_transform(documents.clean_lemmatized)\n",
    "y = documents.language\n",
    "\n",
    "X_train, X_test, y_train, y_test = train_test_split(X, y, \n",
    "                        train_size=.8, stratify=y, random_state=42)\n",
    "\n",
    "train = pd.DataFrame(dict(actual=y_train))\n",
    "test = pd.DataFrame(dict(actual=y_test))\n",
    "\n",
    "# model = LogisticRegression().fit(X_train, y_train)\n",
    "# model = DecisionTreeClassifier(max_depth=12, random_state=42).fit(X_train, y_train)\n",
    "model = RandomForestClassifier(max_depth=12, min_samples_leaf=2, random_state=42).fit(X_train, y_train)\n",
    "# model = KNeighborsClassifier().fit(X_train, y_train)\n",
    "\n",
    "train['predicted'] = model.predict(X_train)\n",
    "test['predicted'] = model.predict(X_test)\n",
    "\n",
    "print(round(model.score(X_train, y_train), 4))\n",
    "print(round(model.score(X_test, y_test), 4))"
   ]
  },
  {
   "cell_type": "code",
   "execution_count": null,
   "metadata": {},
   "outputs": [],
   "source": [
    "tfidf = TfidfVectorizer(ngram_range=(2, 2))\n",
    "X = tfidf.fit_transform(documents_top_4.clean_lemmatized)\n",
    "y = documents_top_4.language\n",
    "\n",
    "X_train, X_test, y_train, y_test = train_test_split(X, y, \n",
    "                        train_size=.8, stratify=y, random_state=42)\n",
    "\n",
    "train = pd.DataFrame(dict(actual=y_train))\n",
    "test = pd.DataFrame(dict(actual=y_test))\n",
    "\n",
    "# model = LogisticRegression().fit(X_train, y_train)\n",
    "# model = DecisionTreeClassifier(max_depth=6, random_state=42).fit(X_train, y_train)\n",
    "model = RandomForestClassifier(max_depth=12, min_samples_leaf=1, random_state=42).fit(X_train, y_train)\n",
    "# model = KNeighborsClassifier(n_neighbors=9).fit(X_train, y_train)\n",
    "\n",
    "\n",
    "train['predicted'] = model.predict(X_train)\n",
    "test['predicted'] = model.predict(X_test)\n",
    "\n",
    "print(round(model.score(X_train, y_train), 4))\n",
    "print(round(model.score(X_test, y_test), 4))"
   ]
  },
  {
   "cell_type": "code",
   "execution_count": null,
   "metadata": {},
   "outputs": [],
   "source": [
    "cv = CountVectorizer(ngram_range=(2, 2))\n",
    "X = cv.fit_transform(documents.clean_lemmatized)\n",
    "y = documents.language\n",
    "\n",
    "X_train, X_test, y_train, y_test = train_test_split(X, y, \n",
    "                        train_size=.8, stratify=y, random_state=42)\n",
    "\n",
    "train = pd.DataFrame(dict(actual=y_train))\n",
    "test = pd.DataFrame(dict(actual=y_test))\n",
    "\n",
    "model = LogisticRegression().fit(X_train, y_train)\n",
    "# model = DecisionTreeClassifier(max_depth=12, random_state=42).fit(X_train, y_train)\n",
    "# model = RandomForestClassifier(max_depth=12, min_samples_leaf=2, random_state=42).fit(X_train, y_train)\n",
    "# model = KNeighborsClassifier(n_neighbors=9).fit(X_train, y_train)\n",
    "\n",
    "\n",
    "train['predicted'] = model.predict(X_train)\n",
    "test['predicted'] = model.predict(X_test)\n",
    "\n",
    "print(round(model.score(X_train, y_train), 4))\n",
    "print(round(model.score(X_test, y_test), 4))"
   ]
  },
  {
   "cell_type": "code",
   "execution_count": null,
   "metadata": {},
   "outputs": [],
   "source": [
    "cv = CountVectorizer(ngram_range=(2, 2))\n",
    "X = cv.fit_transform(documents_top_4.clean_lemmatized)\n",
    "y = documents_top_4.language\n",
    "\n",
    "X_train, X_test, y_train, y_test = train_test_split(X, y, \n",
    "                        train_size=.8, stratify=y, random_state=42)\n",
    "\n",
    "train = pd.DataFrame(dict(actual=y_train))\n",
    "test = pd.DataFrame(dict(actual=y_test))\n",
    "\n",
    "model = LogisticRegression().fit(X_train, y_train)\n",
    "# model = DecisionTreeClassifier(max_depth=11, random_state=42).fit(X_train, y_train)\n",
    "# model = RandomForestClassifier(max_depth=15, min_samples_leaf=1, random_state=42).fit(X_train, y_train)\n",
    "# model = KNeighborsClassifier(n_neighbors=9).fit(X_train, y_train)\n",
    "\n",
    "\n",
    "train['predicted'] = model.predict(X_train)\n",
    "test['predicted'] = model.predict(X_test)\n",
    "\n",
    "print(round(model.score(X_train, y_train), 4))\n",
    "print(round(model.score(X_test, y_test), 4))"
   ]
  },
  {
   "cell_type": "markdown",
   "metadata": {},
   "source": [
    "## Executive Summary"
   ]
  },
  {
   "cell_type": "markdown",
   "metadata": {},
   "source": [
    "> Github READMEs can be good predictors of the programming languages of the repos. With NLP models language is important, so it isn't a surprise that the longer and more in-depth a README is, the better we can get at predicting the primary language.\n",
    "<br>\n",
    "<br>\n",
    "> Whenever possible, words that are unique to a particular programming language, including the name of that language, make for key identifiers of a language.\n",
    "<br>\n",
    "<br>\n",
    "> As with most data work, NLP modeling is no different, imbalances in your data affect everything, most importantly model performance. To improve our models, we'd want to ensure a better language distribution throughout the corpus, and gathering more observations generally speaking will also possitively impact model performace."
   ]
  }
 ],
 "metadata": {
  "kernelspec": {
   "display_name": "Python 3",
   "language": "python",
   "name": "python3"
  },
  "language_info": {
   "codemirror_mode": {
    "name": "ipython",
    "version": 3
   },
   "file_extension": ".py",
   "mimetype": "text/x-python",
   "name": "python",
   "nbconvert_exporter": "python",
   "pygments_lexer": "ipython3",
   "version": "3.7.4"
  }
 },
 "nbformat": 4,
 "nbformat_minor": 2
}
