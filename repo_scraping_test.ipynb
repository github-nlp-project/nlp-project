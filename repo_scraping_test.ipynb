{
 "cells": [
  {
   "cell_type": "code",
   "execution_count": 1,
   "metadata": {},
   "outputs": [],
   "source": [
    "import acquire, prepare, csv, json, os\n",
    "from env import github_token, github_username\n",
    "import matplotlib.pyplot as plt\n",
    "import pandas as pd\n",
    "import seaborn as sns\n",
    "from sklearn.feature_extraction.text import TfidfVectorizer, \\\n",
    "                                            CountVectorizer\n",
    "from sklearn.model_selection import train_test_split\n",
    "from sklearn.linear_model import LogisticRegression\n",
    "from sklearn.tree import DecisionTreeClassifier\n",
    "from sklearn.ensemble import RandomForestClassifier\n",
    "from sklearn.neighbors import KNeighborsClassifier\n",
    "from sklearn.metrics import classification_report, accuracy_score"
   ]
  },
  {
   "cell_type": "code",
   "execution_count": 2,
   "metadata": {},
   "outputs": [],
   "source": [
    "plt.rc('figure', figsize=(14,8))\n",
    "plt.rc('font', size=13)"
   ]
  },
  {
   "cell_type": "code",
   "execution_count": 3,
   "metadata": {},
   "outputs": [],
   "source": [
    "# acquire.acquire_repo_list('gasoline')\n",
    "# acquire.acquire_repo_list('solar energy')\n",
    "# acquire.acquire_repo_list('wind power')"
   ]
  },
  {
   "cell_type": "code",
   "execution_count": 4,
   "metadata": {},
   "outputs": [],
   "source": [
    "# df = acquire.scrape_github_data()"
   ]
  },
  {
   "cell_type": "code",
   "execution_count": 5,
   "metadata": {},
   "outputs": [],
   "source": [
    "# len(df)"
   ]
  },
  {
   "cell_type": "code",
   "execution_count": 6,
   "metadata": {},
   "outputs": [],
   "source": [
    "# df"
   ]
  },
  {
   "cell_type": "code",
   "execution_count": 7,
   "metadata": {},
   "outputs": [],
   "source": [
    "# full_list = []\n",
    "# for file in os.listdir():\n",
    "#     if 'repos.json' in file:\n",
    "#         full_list.append(file)\n",
    "# item_list = []\n",
    "# for item in full_list:\n",
    "#     lm = pd.read_json(item)\n",
    "#     item_list += (list(lm[0]))\n",
    "# REPOS = item_list\n",
    "# len(REPOS)"
   ]
  },
  {
   "cell_type": "code",
   "execution_count": 8,
   "metadata": {},
   "outputs": [],
   "source": [
    "# REPOS"
   ]
  },
  {
   "cell_type": "code",
   "execution_count": 9,
   "metadata": {},
   "outputs": [],
   "source": [
    "# frame = [acquire.process_repo(repo) for repo in REPOS]"
   ]
  },
  {
   "cell_type": "code",
   "execution_count": 10,
   "metadata": {},
   "outputs": [],
   "source": [
    "# len(frame)"
   ]
  },
  {
   "cell_type": "code",
   "execution_count": 11,
   "metadata": {},
   "outputs": [],
   "source": [
    "# frame"
   ]
  },
  {
   "cell_type": "code",
   "execution_count": 12,
   "metadata": {},
   "outputs": [],
   "source": [
    "# pd.DataFrame(frame).to_csv('new_repos_dict.csv', index=False)"
   ]
  },
  {
   "cell_type": "code",
   "execution_count": 13,
   "metadata": {},
   "outputs": [],
   "source": [
    "# pd.read_json('data.json')"
   ]
  },
  {
   "cell_type": "code",
   "execution_count": 14,
   "metadata": {},
   "outputs": [],
   "source": [
    "# url = 'https://github.com/search?o=desc&p=1&q=petroleum&s=stars&type=Repositories'\n",
    "# headers = {'User-Agent': 'manual search'} \n",
    "# response = get(url, headers=headers)\n",
    "# # print(response.status_code)\n",
    "# soup = BeautifulSoup(response.content, 'html.parser')"
   ]
  },
  {
   "cell_type": "code",
   "execution_count": 15,
   "metadata": {},
   "outputs": [],
   "source": [
    "# soup.find_all('a', class_='v-align-middle')[0].text"
   ]
  },
  {
   "cell_type": "code",
   "execution_count": 16,
   "metadata": {},
   "outputs": [],
   "source": [
    "# def get_repo_names(url):\n",
    "#     headers = {'User-Agent': 'manual search'} \n",
    "#     response = get(url, headers=headers)\n",
    "#     soup = BeautifulSoup(response.content, 'html.parser')\n",
    "#     repos = []\n",
    "#     for i in range(10):\n",
    "#         repos.append(soup.find_all('a', class_='v-align-middle')\\\n",
    "#                  [i].text)\n",
    "#         time.sleep(.8)\n",
    "#     return repos"
   ]
  },
  {
   "cell_type": "code",
   "execution_count": 17,
   "metadata": {},
   "outputs": [],
   "source": [
    "# url = 'https://github.com/search?o=desc&p=1&q=petroleum&s=stars&type=Repositories'\n",
    "# get_repo_names(url)"
   ]
  },
  {
   "cell_type": "code",
   "execution_count": 18,
   "metadata": {},
   "outputs": [],
   "source": [
    "# urls = [f'https://github.com/search?o=desc&p={i}\\\n",
    "# &q=petroleum+size%3A>100&s=stars&type=Repositories' \\\n",
    "# for i in range(1,11)]\n",
    "# urls[0]"
   ]
  },
  {
   "cell_type": "code",
   "execution_count": 19,
   "metadata": {},
   "outputs": [],
   "source": [
    "# if not os.path.isfile(f'{category}.json'):\n",
    "#     lol.to_csv('data.csv')\n",
    "# data = pd.read_csv('data.csv', header=None, index_col=0,\n",
    "#                   names=['number','repo'])"
   ]
  },
  {
   "cell_type": "code",
   "execution_count": 20,
   "metadata": {},
   "outputs": [],
   "source": [
    "# def acquire_repo_list(category):\n",
    "#     if (' ') in category:\n",
    "#         category = category.replace(' ','_')\n",
    "#         f_category = category.replace(' ','+')\n",
    "\n",
    "#     urls = [f'https://github.com/search?o=desc&p={i}\\\n",
    "#     &q={f_category}+size:>100&s=stars&type=Repositories'\\\n",
    "#     for i in range(1,11)]\n",
    "\n",
    "#     test = []\n",
    "#     for url in urls:\n",
    "#         test += get_repo_names(url)\n",
    "        \n",
    "#     if not os.path.isfile(f'{category}.json'):  \n",
    "#         json.dump(test, open(f\"{category}_repos.json\", \"w\"),\n",
    "#                   indent=1)\n",
    "    \n",
    "#     return test"
   ]
  },
  {
   "cell_type": "code",
   "execution_count": 21,
   "metadata": {},
   "outputs": [],
   "source": [
    "# solar = acquire_repo_list('solar energy')"
   ]
  },
  {
   "cell_type": "code",
   "execution_count": 22,
   "metadata": {},
   "outputs": [],
   "source": [
    "# len(solar)"
   ]
  },
  {
   "cell_type": "code",
   "execution_count": 23,
   "metadata": {},
   "outputs": [],
   "source": [
    "# lm = pd.read_json('solar_energy_repo.json')\n",
    "# list(lm[0])"
   ]
  },
  {
   "cell_type": "code",
   "execution_count": 24,
   "metadata": {},
   "outputs": [],
   "source": [
    "# gas = acquire_repo_list('natural gas')"
   ]
  },
  {
   "cell_type": "code",
   "execution_count": 25,
   "metadata": {},
   "outputs": [],
   "source": [
    "# len(gas)"
   ]
  },
  {
   "cell_type": "code",
   "execution_count": 26,
   "metadata": {},
   "outputs": [],
   "source": [
    "# full_list = []\n",
    "# for file in os.listdir():\n",
    "#     if 'repo.json' in file:\n",
    "#         full_list.append(file)\n",
    "# full_list"
   ]
  },
  {
   "cell_type": "code",
   "execution_count": 27,
   "metadata": {},
   "outputs": [],
   "source": [
    "# for i, item in enumerate(full_list):\n",
    "#     locals()['lm'+str(i)] = pd.read_json(item)\n",
    "# repo_list = []\n",
    "# for i in range(len(full_list)):\n",
    "#     repo_list.append(list('lm'+str(i))[0])\n",
    "# repo_list"
   ]
  },
  {
   "cell_type": "code",
   "execution_count": 28,
   "metadata": {},
   "outputs": [],
   "source": [
    "# item_list = []\n",
    "# for item in full_list:\n",
    "#     lm = pd.read_json(item)\n",
    "#     item_list += (list(lm[0]))"
   ]
  },
  {
   "cell_type": "code",
   "execution_count": 29,
   "metadata": {},
   "outputs": [],
   "source": [
    "# item_list"
   ]
  },
  {
   "cell_type": "code",
   "execution_count": 30,
   "metadata": {},
   "outputs": [],
   "source": [
    "# lm = pd.read_json('natural_gas_repo.json')\n",
    "# lm2 = pd.read_json('solar_energy_repo.json')\n",
    "# len(list(lm[0]) + list(lm2[0]))"
   ]
  },
  {
   "cell_type": "code",
   "execution_count": 31,
   "metadata": {},
   "outputs": [],
   "source": [
    "# test = []\n",
    "# for url in urls:\n",
    "#     test += get_repo_names(url)\n",
    "\n",
    "# len(test)"
   ]
  },
  {
   "cell_type": "code",
   "execution_count": 32,
   "metadata": {},
   "outputs": [],
   "source": [
    "# test"
   ]
  },
  {
   "cell_type": "code",
   "execution_count": 33,
   "metadata": {},
   "outputs": [],
   "source": [
    "# lol = pd.Series(test)\n",
    "# test[:6]"
   ]
  },
  {
   "cell_type": "code",
   "execution_count": 34,
   "metadata": {},
   "outputs": [],
   "source": [
    "# if not os.path.isfile('data.csv'):\n",
    "#     lol.to_csv('data.csv')\n",
    "# data = pd.read_csv('data.csv', header=None, index_col=0,\n",
    "#                   names=['number','repo'])"
   ]
  },
  {
   "cell_type": "code",
   "execution_count": 35,
   "metadata": {},
   "outputs": [],
   "source": [
    "# data_list = list(data.repo)"
   ]
  },
  {
   "cell_type": "code",
   "execution_count": 36,
   "metadata": {},
   "outputs": [],
   "source": [
    "# repo = 'gocodeup/codeup-setup-script'"
   ]
  },
  {
   "cell_type": "code",
   "execution_count": 37,
   "metadata": {},
   "outputs": [],
   "source": [
    "# acquire.scrape_github_data()"
   ]
  },
  {
   "cell_type": "code",
   "execution_count": 38,
   "metadata": {},
   "outputs": [],
   "source": [
    "# pd.read_json('solar_energy_repo.json')"
   ]
  },
  {
   "cell_type": "code",
   "execution_count": 39,
   "metadata": {},
   "outputs": [],
   "source": [
    "# rrrrrr"
   ]
  },
  {
   "cell_type": "code",
   "execution_count": 40,
   "metadata": {},
   "outputs": [],
   "source": [
    "# REPOS"
   ]
  },
  {
   "cell_type": "code",
   "execution_count": 41,
   "metadata": {},
   "outputs": [
    {
     "data": {
      "text/html": [
       "<div>\n",
       "<style scoped>\n",
       "    .dataframe tbody tr th:only-of-type {\n",
       "        vertical-align: middle;\n",
       "    }\n",
       "\n",
       "    .dataframe tbody tr th {\n",
       "        vertical-align: top;\n",
       "    }\n",
       "\n",
       "    .dataframe thead th {\n",
       "        text-align: right;\n",
       "    }\n",
       "</style>\n",
       "<table border=\"1\" class=\"dataframe\">\n",
       "  <thead>\n",
       "    <tr style=\"text-align: right;\">\n",
       "      <th></th>\n",
       "      <th>language</th>\n",
       "      <th>category</th>\n",
       "      <th>repo</th>\n",
       "      <th>readme_contents</th>\n",
       "    </tr>\n",
       "  </thead>\n",
       "  <tbody>\n",
       "    <tr>\n",
       "      <th>0</th>\n",
       "      <td>C</td>\n",
       "      <td>gasoline</td>\n",
       "      <td>N-BodyShop/gasoline</td>\n",
       "      <td>```\\n \\t  ▄████  ▄▄▄        ██████  ▒█████   █...</td>\n",
       "    </tr>\n",
       "    <tr>\n",
       "      <th>1</th>\n",
       "      <td>OCaml</td>\n",
       "      <td>gasoline</td>\n",
       "      <td>michipili/gasoline</td>\n",
       "      <td># Gasoline\\n\\nThe Gasoline project aims at imp...</td>\n",
       "    </tr>\n",
       "    <tr>\n",
       "      <th>2</th>\n",
       "      <td>TypeScript</td>\n",
       "      <td>gasoline</td>\n",
       "      <td>rvikmanis/gasoline</td>\n",
       "      <td># Gasoline\\n\\nConvenient state container for R...</td>\n",
       "    </tr>\n",
       "    <tr>\n",
       "      <th>3</th>\n",
       "      <td>Python</td>\n",
       "      <td>gasoline</td>\n",
       "      <td>iggisv9t/benzin_gif</td>\n",
       "      <td># benzin_gif\\nCreate animated gifs that looks ...</td>\n",
       "    </tr>\n",
       "    <tr>\n",
       "      <th>4</th>\n",
       "      <td>Go</td>\n",
       "      <td>gasoline</td>\n",
       "      <td>daneharrigan/gasoline</td>\n",
       "      <td># gasoline\\n\\n![Gasoline Dashboard](http://cl....</td>\n",
       "    </tr>\n",
       "  </tbody>\n",
       "</table>\n",
       "</div>"
      ],
      "text/plain": [
       "     language  category                   repo  \\\n",
       "0           C  gasoline    N-BodyShop/gasoline   \n",
       "1       OCaml  gasoline     michipili/gasoline   \n",
       "2  TypeScript  gasoline     rvikmanis/gasoline   \n",
       "3      Python  gasoline    iggisv9t/benzin_gif   \n",
       "4          Go  gasoline  daneharrigan/gasoline   \n",
       "\n",
       "                                     readme_contents  \n",
       "0  ```\\n \\t  ▄████  ▄▄▄        ██████  ▒█████   █...  \n",
       "1  # Gasoline\\n\\nThe Gasoline project aims at imp...  \n",
       "2  # Gasoline\\n\\nConvenient state container for R...  \n",
       "3  # benzin_gif\\nCreate animated gifs that looks ...  \n",
       "4  # gasoline\\n\\n![Gasoline Dashboard](http://cl....  "
      ]
     },
     "execution_count": 41,
     "metadata": {},
     "output_type": "execute_result"
    }
   ],
   "source": [
    "df = pd.read_csv('new_repos_dict.csv')\n",
    "\n",
    "df['category'] = 'unknown'\n",
    "\n",
    "df.loc[:200, 'category'] = 'gasoline'\n",
    "df.loc[200:400, 'category'] = 'wind_energy'\n",
    "df.loc[400:, 'category'] = 'solar_power'\n",
    "df = df[['language','category','repo','readme_contents']]\n",
    "df.head()"
   ]
  },
  {
   "cell_type": "code",
   "execution_count": 42,
   "metadata": {},
   "outputs": [
    {
     "data": {
      "text/html": [
       "<div>\n",
       "<style scoped>\n",
       "    .dataframe tbody tr th:only-of-type {\n",
       "        vertical-align: middle;\n",
       "    }\n",
       "\n",
       "    .dataframe tbody tr th {\n",
       "        vertical-align: top;\n",
       "    }\n",
       "\n",
       "    .dataframe thead th {\n",
       "        text-align: right;\n",
       "    }\n",
       "</style>\n",
       "<table border=\"1\" class=\"dataframe\">\n",
       "  <thead>\n",
       "    <tr style=\"text-align: right;\">\n",
       "      <th></th>\n",
       "      <th>language</th>\n",
       "      <th>category</th>\n",
       "      <th>repo</th>\n",
       "      <th>readme_contents</th>\n",
       "    </tr>\n",
       "  </thead>\n",
       "  <tbody>\n",
       "    <tr>\n",
       "      <th>33</th>\n",
       "      <td>NaN</td>\n",
       "      <td>gasoline</td>\n",
       "      <td>femoru/GasolineApp</td>\n",
       "      <td>NaN</td>\n",
       "    </tr>\n",
       "    <tr>\n",
       "      <th>368</th>\n",
       "      <td>Jupyter Notebook</td>\n",
       "      <td>wind_energy</td>\n",
       "      <td>zoeyzou/power-the-wind</td>\n",
       "      <td>NaN</td>\n",
       "    </tr>\n",
       "  </tbody>\n",
       "</table>\n",
       "</div>"
      ],
      "text/plain": [
       "             language     category                    repo readme_contents\n",
       "33                NaN     gasoline      femoru/GasolineApp             NaN\n",
       "368  Jupyter Notebook  wind_energy  zoeyzou/power-the-wind             NaN"
      ]
     },
     "execution_count": 42,
     "metadata": {},
     "output_type": "execute_result"
    }
   ],
   "source": [
    "df[df.readme_contents.isna()]"
   ]
  },
  {
   "cell_type": "code",
   "execution_count": 43,
   "metadata": {},
   "outputs": [
    {
     "data": {
      "text/plain": [
       "wind_energy    16\n",
       "solar_power    15\n",
       "gasoline       12\n",
       "Name: category, dtype: int64"
      ]
     },
     "execution_count": 43,
     "metadata": {},
     "output_type": "execute_result"
    }
   ],
   "source": [
    "df[df.language.isna()].category.value_counts()"
   ]
  },
  {
   "cell_type": "code",
   "execution_count": 44,
   "metadata": {},
   "outputs": [],
   "source": [
    "df = prepare.prep_repo_data(df)\n",
    "df.dropna(inplace=True)\n",
    "df = df.reset_index(drop=True)"
   ]
  },
  {
   "cell_type": "code",
   "execution_count": 45,
   "metadata": {},
   "outputs": [
    {
     "data": {
      "text/html": [
       "<div>\n",
       "<style scoped>\n",
       "    .dataframe tbody tr th:only-of-type {\n",
       "        vertical-align: middle;\n",
       "    }\n",
       "\n",
       "    .dataframe tbody tr th {\n",
       "        vertical-align: top;\n",
       "    }\n",
       "\n",
       "    .dataframe thead th {\n",
       "        text-align: right;\n",
       "    }\n",
       "</style>\n",
       "<table border=\"1\" class=\"dataframe\">\n",
       "  <thead>\n",
       "    <tr style=\"text-align: right;\">\n",
       "      <th></th>\n",
       "      <th>language</th>\n",
       "      <th>category</th>\n",
       "      <th>repo</th>\n",
       "      <th>readme_contents</th>\n",
       "      <th>clean_tokes</th>\n",
       "      <th>clean_stemmed</th>\n",
       "      <th>clean_lemmatized</th>\n",
       "    </tr>\n",
       "  </thead>\n",
       "  <tbody>\n",
       "    <tr>\n",
       "      <th>0</th>\n",
       "      <td>C</td>\n",
       "      <td>gasoline</td>\n",
       "      <td>N-BodyShop/gasoline</td>\n",
       "      <td>```\\n \\t  ▄████  ▄▄▄        ██████  ▒█████   █...</td>\n",
       "      <td>[&amp;#9;, &amp;#9;, &amp;#9;, &amp;#9;, &amp;#9;, &amp;#9;, &amp;#9;, &amp;#9...</td>\n",
       "      <td>&amp;#9; &amp;#9; &amp;#9; &amp;#9; &amp;#9; &amp;#9; &amp;#9; &amp;#9; &amp;#9; g...</td>\n",
       "      <td>&amp;#9; &amp;#9; &amp;#9; &amp;#9; &amp;#9; &amp;#9; &amp;#9; &amp;#9; &amp;#9; g...</td>\n",
       "    </tr>\n",
       "    <tr>\n",
       "      <th>1</th>\n",
       "      <td>OCaml</td>\n",
       "      <td>gasoline</td>\n",
       "      <td>michipili/gasoline</td>\n",
       "      <td># Gasoline\\n\\nThe Gasoline project aims at imp...</td>\n",
       "      <td>[gasoline, the, gasoline, project, aims, at, i...</td>\n",
       "      <td>gasolin gasolin project aim implement unixish ...</td>\n",
       "      <td>gasoline gasoline project aim implementing uni...</td>\n",
       "    </tr>\n",
       "    <tr>\n",
       "      <th>2</th>\n",
       "      <td>TypeScript</td>\n",
       "      <td>gasoline</td>\n",
       "      <td>rvikmanis/gasoline</td>\n",
       "      <td># Gasoline\\n\\nConvenient state container for R...</td>\n",
       "      <td>[gasoline, convenient, state, container, for, ...</td>\n",
       "      <td>gasolin conveni state contain react instal npm...</td>\n",
       "      <td>gasoline convenient state container react inst...</td>\n",
       "    </tr>\n",
       "    <tr>\n",
       "      <th>3</th>\n",
       "      <td>Python</td>\n",
       "      <td>gasoline</td>\n",
       "      <td>iggisv9t/benzin_gif</td>\n",
       "      <td># benzin_gif\\nCreate animated gifs that looks ...</td>\n",
       "      <td>[benzin_gif, create, animated, gifs, that, loo...</td>\n",
       "      <td>benzin_gif creat anim gif look like gasolin pu...</td>\n",
       "      <td>benzin_gif create animated gifs look like gaso...</td>\n",
       "    </tr>\n",
       "    <tr>\n",
       "      <th>4</th>\n",
       "      <td>Go</td>\n",
       "      <td>gasoline</td>\n",
       "      <td>daneharrigan/gasoline</td>\n",
       "      <td># gasoline\\n\\n![Gasoline Dashboard](http://cl....</td>\n",
       "      <td>[gasoline, gasoline, dashboardhttpcllyimage3l1...</td>\n",
       "      <td>gasolin gasolin dashboardhttpcllyimage3l190u3q...</td>\n",
       "      <td>gasoline gasoline dashboardhttpcllyimage3l190u...</td>\n",
       "    </tr>\n",
       "  </tbody>\n",
       "</table>\n",
       "</div>"
      ],
      "text/plain": [
       "     language  category                   repo  \\\n",
       "0           C  gasoline    N-BodyShop/gasoline   \n",
       "1       OCaml  gasoline     michipili/gasoline   \n",
       "2  TypeScript  gasoline     rvikmanis/gasoline   \n",
       "3      Python  gasoline    iggisv9t/benzin_gif   \n",
       "4          Go  gasoline  daneharrigan/gasoline   \n",
       "\n",
       "                                     readme_contents  \\\n",
       "0  ```\\n \\t  ▄████  ▄▄▄        ██████  ▒█████   █...   \n",
       "1  # Gasoline\\n\\nThe Gasoline project aims at imp...   \n",
       "2  # Gasoline\\n\\nConvenient state container for R...   \n",
       "3  # benzin_gif\\nCreate animated gifs that looks ...   \n",
       "4  # gasoline\\n\\n![Gasoline Dashboard](http://cl....   \n",
       "\n",
       "                                         clean_tokes  \\\n",
       "0  [&#9;, &#9;, &#9;, &#9;, &#9;, &#9;, &#9;, &#9...   \n",
       "1  [gasoline, the, gasoline, project, aims, at, i...   \n",
       "2  [gasoline, convenient, state, container, for, ...   \n",
       "3  [benzin_gif, create, animated, gifs, that, loo...   \n",
       "4  [gasoline, gasoline, dashboardhttpcllyimage3l1...   \n",
       "\n",
       "                                       clean_stemmed  \\\n",
       "0  &#9; &#9; &#9; &#9; &#9; &#9; &#9; &#9; &#9; g...   \n",
       "1  gasolin gasolin project aim implement unixish ...   \n",
       "2  gasolin conveni state contain react instal npm...   \n",
       "3  benzin_gif creat anim gif look like gasolin pu...   \n",
       "4  gasolin gasolin dashboardhttpcllyimage3l190u3q...   \n",
       "\n",
       "                                    clean_lemmatized  \n",
       "0  &#9; &#9; &#9; &#9; &#9; &#9; &#9; &#9; &#9; g...  \n",
       "1  gasoline gasoline project aim implementing uni...  \n",
       "2  gasoline convenient state container react inst...  \n",
       "3  benzin_gif create animated gifs look like gaso...  \n",
       "4  gasoline gasoline dashboardhttpcllyimage3l190u...  "
      ]
     },
     "execution_count": 45,
     "metadata": {},
     "output_type": "execute_result"
    }
   ],
   "source": [
    "df.head()"
   ]
  },
  {
   "cell_type": "code",
   "execution_count": 46,
   "metadata": {},
   "outputs": [
    {
     "data": {
      "text/plain": [
       "(410, 7)"
      ]
     },
     "execution_count": 46,
     "metadata": {},
     "output_type": "execute_result"
    }
   ],
   "source": [
    "df.shape"
   ]
  },
  {
   "cell_type": "code",
   "execution_count": 47,
   "metadata": {},
   "outputs": [
    {
     "data": {
      "text/plain": [
       "135    84881\n",
       "269    84881\n",
       "114    81494\n",
       "388    81123\n",
       "17     64273\n",
       "234    31806\n",
       "270    16389\n",
       "130    11005\n",
       "297    10445\n",
       "14      9942\n",
       "330     7553\n",
       "320     7272\n",
       "192     6802\n",
       "264     6776\n",
       "292     6537\n",
       "Name: clean_lemmatized, dtype: int64"
      ]
     },
     "execution_count": 47,
     "metadata": {},
     "output_type": "execute_result"
    }
   ],
   "source": [
    "df.clean_lemmatized.apply(len).nlargest(15)"
   ]
  },
  {
   "cell_type": "code",
   "execution_count": 48,
   "metadata": {},
   "outputs": [],
   "source": [
    "df = df[df.index!=135]\n",
    "df = df[df.index!=269]"
   ]
  },
  {
   "cell_type": "code",
   "execution_count": 49,
   "metadata": {},
   "outputs": [
    {
     "data": {
      "text/plain": [
       "(408, 7)"
      ]
     },
     "execution_count": 49,
     "metadata": {},
     "output_type": "execute_result"
    }
   ],
   "source": [
    "df.shape"
   ]
  },
  {
   "cell_type": "code",
   "execution_count": 50,
   "metadata": {},
   "outputs": [],
   "source": [
    "df['word_count'] = df.clean_lemmatized.str.split().apply(len)"
   ]
  },
  {
   "cell_type": "code",
   "execution_count": 51,
   "metadata": {},
   "outputs": [],
   "source": [
    "df = df.replace('Matlab','MATLAB')"
   ]
  },
  {
   "cell_type": "code",
   "execution_count": 52,
   "metadata": {},
   "outputs": [
    {
     "data": {
      "text/plain": [
       "(408, 8)"
      ]
     },
     "execution_count": 52,
     "metadata": {},
     "output_type": "execute_result"
    }
   ],
   "source": [
    "df.shape"
   ]
  },
  {
   "cell_type": "code",
   "execution_count": 53,
   "metadata": {},
   "outputs": [
    {
     "data": {
      "text/plain": [
       "Jupyter Notebook     67\n",
       "JavaScript           57\n",
       "Python               52\n",
       "PowerShell           36\n",
       "HTML                 30\n",
       "Java                 22\n",
       "C++                  19\n",
       "C                    18\n",
       "R                    14\n",
       "PHP                  14\n",
       "MATLAB               13\n",
       "CSS                  10\n",
       "C#                    9\n",
       "TypeScript            6\n",
       "Ruby                  5\n",
       "Arduino               3\n",
       "Swift                 3\n",
       "Processing            2\n",
       "Batchfile             2\n",
       "TeX                   2\n",
       "Objective-C           2\n",
       "Eagle                 2\n",
       "Go                    2\n",
       "Dart                  2\n",
       "Visual Basic          1\n",
       "Fortran               1\n",
       "Vue                   1\n",
       "Lua                   1\n",
       "Modelica              1\n",
       "M                     1\n",
       "Scala                 1\n",
       "Visual Basic .NET     1\n",
       "TSQL                  1\n",
       "CMake                 1\n",
       "PostScript            1\n",
       "OCaml                 1\n",
       "ActionScript          1\n",
       "Perl                  1\n",
       "Cuda                  1\n",
       "Makefile              1\n",
       "Name: language, dtype: int64"
      ]
     },
     "execution_count": 53,
     "metadata": {},
     "output_type": "execute_result"
    }
   ],
   "source": [
    "df.language.value_counts()"
   ]
  },
  {
   "cell_type": "code",
   "execution_count": 54,
   "metadata": {},
   "outputs": [],
   "source": [
    "low = df.language.value_counts() < 10"
   ]
  },
  {
   "cell_type": "code",
   "execution_count": 55,
   "metadata": {},
   "outputs": [],
   "source": [
    "low_lang = [low.index[i] for i, x in enumerate(low) if x]"
   ]
  },
  {
   "cell_type": "code",
   "execution_count": 56,
   "metadata": {},
   "outputs": [],
   "source": [
    "df = df[~df.language.isin(low_lang)]"
   ]
  },
  {
   "cell_type": "code",
   "execution_count": 57,
   "metadata": {},
   "outputs": [
    {
     "data": {
      "text/plain": [
       "Jupyter Notebook    67\n",
       "JavaScript          57\n",
       "Python              52\n",
       "PowerShell          36\n",
       "HTML                30\n",
       "Java                22\n",
       "C++                 19\n",
       "C                   18\n",
       "PHP                 14\n",
       "R                   14\n",
       "MATLAB              13\n",
       "CSS                 10\n",
       "Name: language, dtype: int64"
      ]
     },
     "execution_count": 57,
     "metadata": {},
     "output_type": "execute_result"
    }
   ],
   "source": [
    "df.language.value_counts()"
   ]
  },
  {
   "cell_type": "code",
   "execution_count": 58,
   "metadata": {},
   "outputs": [],
   "source": [
    "top_4_lang = list(df.language.value_counts().head(4).index)\n",
    "top_4_lang_df = df[df.language.isin(top_4_lang)]"
   ]
  },
  {
   "cell_type": "code",
   "execution_count": 59,
   "metadata": {},
   "outputs": [
    {
     "data": {
      "text/html": [
       "<div>\n",
       "<style scoped>\n",
       "    .dataframe tbody tr th:only-of-type {\n",
       "        vertical-align: middle;\n",
       "    }\n",
       "\n",
       "    .dataframe tbody tr th {\n",
       "        vertical-align: top;\n",
       "    }\n",
       "\n",
       "    .dataframe thead th {\n",
       "        text-align: right;\n",
       "    }\n",
       "</style>\n",
       "<table border=\"1\" class=\"dataframe\">\n",
       "  <thead>\n",
       "    <tr style=\"text-align: right;\">\n",
       "      <th></th>\n",
       "      <th>language</th>\n",
       "      <th>category</th>\n",
       "      <th>repo</th>\n",
       "      <th>readme_contents</th>\n",
       "      <th>clean_tokes</th>\n",
       "      <th>clean_stemmed</th>\n",
       "      <th>clean_lemmatized</th>\n",
       "      <th>word_count</th>\n",
       "    </tr>\n",
       "  </thead>\n",
       "  <tbody>\n",
       "    <tr>\n",
       "      <th>3</th>\n",
       "      <td>Python</td>\n",
       "      <td>gasoline</td>\n",
       "      <td>iggisv9t/benzin_gif</td>\n",
       "      <td># benzin_gif\\nCreate animated gifs that looks ...</td>\n",
       "      <td>[benzin_gif, create, animated, gifs, that, loo...</td>\n",
       "      <td>benzin_gif creat anim gif look like gasolin pu...</td>\n",
       "      <td>benzin_gif create animated gifs look like gaso...</td>\n",
       "      <td>61</td>\n",
       "    </tr>\n",
       "    <tr>\n",
       "      <th>7</th>\n",
       "      <td>Jupyter Notebook</td>\n",
       "      <td>gasoline</td>\n",
       "      <td>madsenmj/ml-gas-price</td>\n",
       "      <td># Gas Price Prediction Model\\n\\nThis project u...</td>\n",
       "      <td>[gas, price, prediction, model, this, project,...</td>\n",
       "      <td>ga price predict model thi project use public ...</td>\n",
       "      <td>gas price prediction model project us public d...</td>\n",
       "      <td>564</td>\n",
       "    </tr>\n",
       "    <tr>\n",
       "      <th>8</th>\n",
       "      <td>Python</td>\n",
       "      <td>gasoline</td>\n",
       "      <td>tseale/charliehustle</td>\n",
       "      <td># charlie-hustle\\n\\nPython scripts for pulling...</td>\n",
       "      <td>[charliehustle, python, scripts, for, pulling,...</td>\n",
       "      <td>charliehustl python script pull mlb gameday da...</td>\n",
       "      <td>charliehustle python script pulling mlb gameda...</td>\n",
       "      <td>11</td>\n",
       "    </tr>\n",
       "    <tr>\n",
       "      <th>13</th>\n",
       "      <td>Jupyter Notebook</td>\n",
       "      <td>gasoline</td>\n",
       "      <td>abhinav5544/gasolineprice</td>\n",
       "      <td># gasolineprice\\nIt is a project based on mach...</td>\n",
       "      <td>[gasolineprice, it, is, a, project, based, on,...</td>\n",
       "      <td>gasolinepric project base machin learn train m...</td>\n",
       "      <td>gasolineprice project based machine learning t...</td>\n",
       "      <td>16</td>\n",
       "    </tr>\n",
       "    <tr>\n",
       "      <th>14</th>\n",
       "      <td>JavaScript</td>\n",
       "      <td>gasoline</td>\n",
       "      <td>abuenosvinos/gasolineras-www</td>\n",
       "      <td>\\n# Proyecto Gasolineras\\n\\n[![Author][Author]...</td>\n",
       "      <td>[proyecto, gasolineras, authorauthorhttpwwwant...</td>\n",
       "      <td>proyecto gasolinera authorauthorhttpwwwantonio...</td>\n",
       "      <td>proyecto gasolineras authorauthorhttpwwwantoni...</td>\n",
       "      <td>1431</td>\n",
       "    </tr>\n",
       "    <tr>\n",
       "      <th>...</th>\n",
       "      <td>...</td>\n",
       "      <td>...</td>\n",
       "      <td>...</td>\n",
       "      <td>...</td>\n",
       "      <td>...</td>\n",
       "      <td>...</td>\n",
       "      <td>...</td>\n",
       "      <td>...</td>\n",
       "    </tr>\n",
       "    <tr>\n",
       "      <th>401</th>\n",
       "      <td>Python</td>\n",
       "      <td>solar_power</td>\n",
       "      <td>oganesManasian/solar</td>\n",
       "      <td># solar\\nOptimal energy management for solar-p...</td>\n",
       "      <td>[solar, optimal, energy, management, for, sola...</td>\n",
       "      <td>solar optim energi manag solarpow car set worl...</td>\n",
       "      <td>solar optimal energy management solarpowered c...</td>\n",
       "      <td>49</td>\n",
       "    </tr>\n",
       "    <tr>\n",
       "      <th>402</th>\n",
       "      <td>JavaScript</td>\n",
       "      <td>solar_power</td>\n",
       "      <td>rstrigma/solarapp</td>\n",
       "      <td># solarapp\\nChange the World with Solar Energy...</td>\n",
       "      <td>[solarapp, change, the, world, with, solar, en...</td>\n",
       "      <td>solarapp chang world solar energi two section ...</td>\n",
       "      <td>solarapp change world solar energy two section...</td>\n",
       "      <td>209</td>\n",
       "    </tr>\n",
       "    <tr>\n",
       "      <th>403</th>\n",
       "      <td>Python</td>\n",
       "      <td>solar_power</td>\n",
       "      <td>juusokorhonen/solartools</td>\n",
       "      <td># solartools\\nTools for solving solar energy p...</td>\n",
       "      <td>[solartools, tools, for, solving, solar, energ...</td>\n",
       "      <td>solartool tool solv solar energi problem insta...</td>\n",
       "      <td>solartools tool solving solar energy problem i...</td>\n",
       "      <td>528</td>\n",
       "    </tr>\n",
       "    <tr>\n",
       "      <th>405</th>\n",
       "      <td>JavaScript</td>\n",
       "      <td>solar_power</td>\n",
       "      <td>sukanyavenkataraman/enerhack</td>\n",
       "      <td># Enerhack\\n\\nCode for communicating between t...</td>\n",
       "      <td>[enerhack, code, for, communicating, between, ...</td>\n",
       "      <td>enerhack code commun energyan dahsboard</td>\n",
       "      <td>enerhack code communicating energyan dahsboard</td>\n",
       "      <td>5</td>\n",
       "    </tr>\n",
       "    <tr>\n",
       "      <th>406</th>\n",
       "      <td>Jupyter Notebook</td>\n",
       "      <td>solar_power</td>\n",
       "      <td>souvikb07/solar-energy-cost-calculator-models</td>\n",
       "      <td># solar-energy-cost-calculator-models\\n\\n### W...</td>\n",
       "      <td>[solarenergycostcalculatormodels, work, in, pr...</td>\n",
       "      <td>solarenergycostcalculatormodel work progress</td>\n",
       "      <td>solarenergycostcalculatormodels work progress</td>\n",
       "      <td>3</td>\n",
       "    </tr>\n",
       "  </tbody>\n",
       "</table>\n",
       "<p>212 rows × 8 columns</p>\n",
       "</div>"
      ],
      "text/plain": [
       "             language     category  \\\n",
       "3              Python     gasoline   \n",
       "7    Jupyter Notebook     gasoline   \n",
       "8              Python     gasoline   \n",
       "13   Jupyter Notebook     gasoline   \n",
       "14         JavaScript     gasoline   \n",
       "..                ...          ...   \n",
       "401            Python  solar_power   \n",
       "402        JavaScript  solar_power   \n",
       "403            Python  solar_power   \n",
       "405        JavaScript  solar_power   \n",
       "406  Jupyter Notebook  solar_power   \n",
       "\n",
       "                                              repo  \\\n",
       "3                              iggisv9t/benzin_gif   \n",
       "7                            madsenmj/ml-gas-price   \n",
       "8                             tseale/charliehustle   \n",
       "13                       abhinav5544/gasolineprice   \n",
       "14                    abuenosvinos/gasolineras-www   \n",
       "..                                             ...   \n",
       "401                           oganesManasian/solar   \n",
       "402                              rstrigma/solarapp   \n",
       "403                       juusokorhonen/solartools   \n",
       "405                   sukanyavenkataraman/enerhack   \n",
       "406  souvikb07/solar-energy-cost-calculator-models   \n",
       "\n",
       "                                       readme_contents  \\\n",
       "3    # benzin_gif\\nCreate animated gifs that looks ...   \n",
       "7    # Gas Price Prediction Model\\n\\nThis project u...   \n",
       "8    # charlie-hustle\\n\\nPython scripts for pulling...   \n",
       "13   # gasolineprice\\nIt is a project based on mach...   \n",
       "14   \\n# Proyecto Gasolineras\\n\\n[![Author][Author]...   \n",
       "..                                                 ...   \n",
       "401  # solar\\nOptimal energy management for solar-p...   \n",
       "402  # solarapp\\nChange the World with Solar Energy...   \n",
       "403  # solartools\\nTools for solving solar energy p...   \n",
       "405  # Enerhack\\n\\nCode for communicating between t...   \n",
       "406  # solar-energy-cost-calculator-models\\n\\n### W...   \n",
       "\n",
       "                                           clean_tokes  \\\n",
       "3    [benzin_gif, create, animated, gifs, that, loo...   \n",
       "7    [gas, price, prediction, model, this, project,...   \n",
       "8    [charliehustle, python, scripts, for, pulling,...   \n",
       "13   [gasolineprice, it, is, a, project, based, on,...   \n",
       "14   [proyecto, gasolineras, authorauthorhttpwwwant...   \n",
       "..                                                 ...   \n",
       "401  [solar, optimal, energy, management, for, sola...   \n",
       "402  [solarapp, change, the, world, with, solar, en...   \n",
       "403  [solartools, tools, for, solving, solar, energ...   \n",
       "405  [enerhack, code, for, communicating, between, ...   \n",
       "406  [solarenergycostcalculatormodels, work, in, pr...   \n",
       "\n",
       "                                         clean_stemmed  \\\n",
       "3    benzin_gif creat anim gif look like gasolin pu...   \n",
       "7    ga price predict model thi project use public ...   \n",
       "8    charliehustl python script pull mlb gameday da...   \n",
       "13   gasolinepric project base machin learn train m...   \n",
       "14   proyecto gasolinera authorauthorhttpwwwantonio...   \n",
       "..                                                 ...   \n",
       "401  solar optim energi manag solarpow car set worl...   \n",
       "402  solarapp chang world solar energi two section ...   \n",
       "403  solartool tool solv solar energi problem insta...   \n",
       "405            enerhack code commun energyan dahsboard   \n",
       "406       solarenergycostcalculatormodel work progress   \n",
       "\n",
       "                                      clean_lemmatized  word_count  \n",
       "3    benzin_gif create animated gifs look like gaso...          61  \n",
       "7    gas price prediction model project us public d...         564  \n",
       "8    charliehustle python script pulling mlb gameda...          11  \n",
       "13   gasolineprice project based machine learning t...          16  \n",
       "14   proyecto gasolineras authorauthorhttpwwwantoni...        1431  \n",
       "..                                                 ...         ...  \n",
       "401  solar optimal energy management solarpowered c...          49  \n",
       "402  solarapp change world solar energy two section...         209  \n",
       "403  solartools tool solving solar energy problem i...         528  \n",
       "405     enerhack code communicating energyan dahsboard           5  \n",
       "406      solarenergycostcalculatormodels work progress           3  \n",
       "\n",
       "[212 rows x 8 columns]"
      ]
     },
     "execution_count": 59,
     "metadata": {},
     "output_type": "execute_result"
    }
   ],
   "source": [
    "top_4_lang_df"
   ]
  },
  {
   "cell_type": "code",
   "execution_count": 60,
   "metadata": {},
   "outputs": [
    {
     "data": {
      "text/plain": [
       "language\n",
       "JavaScript          539.912281\n",
       "Python              224.826923\n",
       "HTML                206.800000\n",
       "R                   204.785714\n",
       "Jupyter Notebook    141.000000\n",
       "MATLAB              130.923077\n",
       "C++                 112.631579\n",
       "Java                 97.409091\n",
       "CSS                  91.900000\n",
       "PowerShell           90.527778\n",
       "PHP                  70.857143\n",
       "C                    64.944444\n",
       "Name: word_count, dtype: float64"
      ]
     },
     "execution_count": 60,
     "metadata": {},
     "output_type": "execute_result"
    }
   ],
   "source": [
    "lang_wordcount = df.groupby('language').word_count\\\n",
    "                        .mean().sort_values(ascending=False)\n",
    "lang_wordcount"
   ]
  },
  {
   "cell_type": "code",
   "execution_count": 61,
   "metadata": {},
   "outputs": [
    {
     "data": {
      "image/png": "[encoded data removed]",
      "text/plain": [
       "<Figure size 1008x576 with 1 Axes>"
      ]
     },
     "metadata": {
      "needs_background": "light"
     },
     "output_type": "display_data"
    }
   ],
   "source": [
    "ax = sns.barplot(x=lang_wordcount.values, \n",
    "                 y=lang_wordcount.index)\n",
    "ax.set(title='Average Wordcount of Languages', xlabel='Word Count', \n",
    "      ylabel='')\n",
    "plt.show()"
   ]
  },
  {
   "cell_type": "code",
   "execution_count": 62,
   "metadata": {
    "scrolled": false
   },
   "outputs": [
    {
     "data": {
      "text/html": [
       "<div>\n",
       "<style scoped>\n",
       "    .dataframe tbody tr th:only-of-type {\n",
       "        vertical-align: middle;\n",
       "    }\n",
       "\n",
       "    .dataframe tbody tr th {\n",
       "        vertical-align: top;\n",
       "    }\n",
       "\n",
       "    .dataframe thead th {\n",
       "        text-align: right;\n",
       "    }\n",
       "</style>\n",
       "<table border=\"1\" class=\"dataframe\">\n",
       "  <thead>\n",
       "    <tr style=\"text-align: right;\">\n",
       "      <th></th>\n",
       "      <th>repo</th>\n",
       "      <th>language</th>\n",
       "      <th>clean_lemmatized</th>\n",
       "    </tr>\n",
       "  </thead>\n",
       "  <tbody>\n",
       "    <tr>\n",
       "      <th>3</th>\n",
       "      <td>iggisv9t/benzin_gif</td>\n",
       "      <td>Python</td>\n",
       "      <td>benzin_gif create animated gifs look like gaso...</td>\n",
       "    </tr>\n",
       "    <tr>\n",
       "      <th>7</th>\n",
       "      <td>madsenmj/ml-gas-price</td>\n",
       "      <td>Jupyter Notebook</td>\n",
       "      <td>gas price prediction model project us public d...</td>\n",
       "    </tr>\n",
       "    <tr>\n",
       "      <th>8</th>\n",
       "      <td>tseale/charliehustle</td>\n",
       "      <td>Python</td>\n",
       "      <td>charliehustle python script pulling mlb gameda...</td>\n",
       "    </tr>\n",
       "    <tr>\n",
       "      <th>13</th>\n",
       "      <td>abhinav5544/gasolineprice</td>\n",
       "      <td>Jupyter Notebook</td>\n",
       "      <td>gasolineprice project based machine learning t...</td>\n",
       "    </tr>\n",
       "    <tr>\n",
       "      <th>14</th>\n",
       "      <td>abuenosvinos/gasolineras-www</td>\n",
       "      <td>JavaScript</td>\n",
       "      <td>proyecto gasolineras authorauthorhttpwwwantoni...</td>\n",
       "    </tr>\n",
       "    <tr>\n",
       "      <th>...</th>\n",
       "      <td>...</td>\n",
       "      <td>...</td>\n",
       "      <td>...</td>\n",
       "    </tr>\n",
       "    <tr>\n",
       "      <th>401</th>\n",
       "      <td>oganesManasian/solar</td>\n",
       "      <td>Python</td>\n",
       "      <td>solar optimal energy management solarpowered c...</td>\n",
       "    </tr>\n",
       "    <tr>\n",
       "      <th>402</th>\n",
       "      <td>rstrigma/solarapp</td>\n",
       "      <td>JavaScript</td>\n",
       "      <td>solarapp change world solar energy two section...</td>\n",
       "    </tr>\n",
       "    <tr>\n",
       "      <th>403</th>\n",
       "      <td>juusokorhonen/solartools</td>\n",
       "      <td>Python</td>\n",
       "      <td>solartools tool solving solar energy problem i...</td>\n",
       "    </tr>\n",
       "    <tr>\n",
       "      <th>405</th>\n",
       "      <td>sukanyavenkataraman/enerhack</td>\n",
       "      <td>JavaScript</td>\n",
       "      <td>enerhack code communicating energyan dahsboard</td>\n",
       "    </tr>\n",
       "    <tr>\n",
       "      <th>406</th>\n",
       "      <td>souvikb07/solar-energy-cost-calculator-models</td>\n",
       "      <td>Jupyter Notebook</td>\n",
       "      <td>solarenergycostcalculatormodels work progress</td>\n",
       "    </tr>\n",
       "  </tbody>\n",
       "</table>\n",
       "<p>212 rows × 3 columns</p>\n",
       "</div>"
      ],
      "text/plain": [
       "                                              repo          language  \\\n",
       "3                              iggisv9t/benzin_gif            Python   \n",
       "7                            madsenmj/ml-gas-price  Jupyter Notebook   \n",
       "8                             tseale/charliehustle            Python   \n",
       "13                       abhinav5544/gasolineprice  Jupyter Notebook   \n",
       "14                    abuenosvinos/gasolineras-www        JavaScript   \n",
       "..                                             ...               ...   \n",
       "401                           oganesManasian/solar            Python   \n",
       "402                              rstrigma/solarapp        JavaScript   \n",
       "403                       juusokorhonen/solartools            Python   \n",
       "405                   sukanyavenkataraman/enerhack        JavaScript   \n",
       "406  souvikb07/solar-energy-cost-calculator-models  Jupyter Notebook   \n",
       "\n",
       "                                      clean_lemmatized  \n",
       "3    benzin_gif create animated gifs look like gaso...  \n",
       "7    gas price prediction model project us public d...  \n",
       "8    charliehustle python script pulling mlb gameda...  \n",
       "13   gasolineprice project based machine learning t...  \n",
       "14   proyecto gasolineras authorauthorhttpwwwantoni...  \n",
       "..                                                 ...  \n",
       "401  solar optimal energy management solarpowered c...  \n",
       "402  solarapp change world solar energy two section...  \n",
       "403  solartools tool solving solar energy problem i...  \n",
       "405     enerhack code communicating energyan dahsboard  \n",
       "406      solarenergycostcalculatormodels work progress  \n",
       "\n",
       "[212 rows x 3 columns]"
      ]
     },
     "execution_count": 62,
     "metadata": {},
     "output_type": "execute_result"
    }
   ],
   "source": [
    "documents = df[['repo','language', 'clean_lemmatized']]\n",
    "documents_top_4 = top_4_lang_df[['repo','language', 'clean_lemmatized']]\n",
    "documents_top_4"
   ]
  },
  {
   "cell_type": "markdown",
   "metadata": {},
   "source": [
    "# Modeling"
   ]
  },
  {
   "cell_type": "markdown",
   "metadata": {},
   "source": [
    "## Baseline"
   ]
  },
  {
   "cell_type": "code",
   "execution_count": 448,
   "metadata": {},
   "outputs": [
    {
     "data": {
      "text/plain": [
       "Jupyter Notebook    67\n",
       "JavaScript          57\n",
       "Python              52\n",
       "PowerShell          36\n",
       "HTML                30\n",
       "Java                22\n",
       "C++                 19\n",
       "C                   18\n",
       "PHP                 14\n",
       "R                   14\n",
       "MATLAB              13\n",
       "CSS                 10\n",
       "Name: language, dtype: int64"
      ]
     },
     "execution_count": 448,
     "metadata": {},
     "output_type": "execute_result"
    }
   ],
   "source": [
    "documents.language.value_counts()"
   ]
  },
  {
   "cell_type": "code",
   "execution_count": 447,
   "metadata": {},
   "outputs": [
    {
     "name": "stdout",
     "output_type": "stream",
     "text": [
      "1.0\n",
      "0.1887\n"
     ]
    }
   ],
   "source": [
    "tfidf = TfidfVectorizer()\n",
    "X = tfidf.fit_transform(documents.clean_lemmatized)\n",
    "y = documents.language\n",
    "\n",
    "X_train, X_test, y_train, y_test = train_test_split(X, y, \n",
    "                        train_size=.7, stratify=y, random_state=42)\n",
    "y_train = pd.Series(('Jupyter Notebook,' * X_train.shape[0]).split(',')[:-1])\n",
    "\n",
    "train = pd.DataFrame(dict(actual=y_train))\n",
    "test = pd.DataFrame(dict(actual=y_test))\n",
    "\n",
    "# model = LogisticRegression().fit(X_train, y_train)\n",
    "# model = DecisionTreeClassifier(max_depth=6, random_state=42).fit(X_train, y_train)\n",
    "# model = RandomForestClassifier(max_depth=6, min_samples_leaf=2, random_state=42).fit(X_train, y_train)\n",
    "model = KNeighborsClassifier().fit(X_train, y_train)\n",
    "\n",
    "train['predicted'] = model.predict(X_train)\n",
    "test['predicted'] = model.predict(X_test)\n",
    "\n",
    "print(round(model.score(X_train, y_train), 4))\n",
    "print(round(model.score(X_test, y_test), 4))"
   ]
  },
  {
   "cell_type": "code",
   "execution_count": 446,
   "metadata": {},
   "outputs": [
    {
     "name": "stdout",
     "output_type": "stream",
     "text": [
      "1.0\n",
      "0.3125\n"
     ]
    }
   ],
   "source": [
    "tfidf = TfidfVectorizer()\n",
    "X = tfidf.fit_transform(documents_top_4.clean_lemmatized)\n",
    "y = documents_top_4.language\n",
    "\n",
    "X_train, X_test, y_train, y_test = train_test_split(X, y, \n",
    "                        train_size=.7, stratify=y, random_state=42)\n",
    "y_train = pd.Series(('Jupyter Notebook,' * X_train.shape[0]).split(',')[:-1])\n",
    "\n",
    "train = pd.DataFrame(dict(actual=y_train))\n",
    "test = pd.DataFrame(dict(actual=y_test))\n",
    "\n",
    "# model = LogisticRegression().fit(X_train, y_train)\n",
    "# model = DecisionTreeClassifier(max_depth=6, random_state=42).fit(X_train, y_train)\n",
    "# model = RandomForestClassifier(max_depth=6, min_samples_leaf=2, random_state=42).fit(X_train, y_train)\n",
    "model = KNeighborsClassifier().fit(X_train, y_train)\n",
    "\n",
    "train['predicted'] = model.predict(X_train)\n",
    "test['predicted'] = model.predict(X_test)\n",
    "\n",
    "print(round(model.score(X_train, y_train), 8))\n",
    "print(round(model.score(X_test, y_test), 8))"
   ]
  },
  {
   "cell_type": "markdown",
   "metadata": {},
   "source": [
    "# Real"
   ]
  },
  {
   "cell_type": "markdown",
   "metadata": {},
   "source": [
    "## All - TFIDF"
   ]
  },
  {
   "cell_type": "code",
   "execution_count": 464,
   "metadata": {},
   "outputs": [
    {
     "name": "stdout",
     "output_type": "stream",
     "text": [
      "0.7402\n",
      "0.493\n"
     ]
    }
   ],
   "source": [
    "tfidf = TfidfVectorizer()\n",
    "X = tfidf.fit_transform(documents.clean_lemmatized)\n",
    "y = documents.language\n",
    "\n",
    "X_train, X_test, y_train, y_test = train_test_split(X, y, \n",
    "                        train_size=.8, stratify=y, random_state=42)\n",
    "\n",
    "train = pd.DataFrame(dict(actual=y_train))\n",
    "test = pd.DataFrame(dict(actual=y_test))\n",
    "\n",
    "# model = LogisticRegression().fit(X_train, y_train)\n",
    "# model = DecisionTreeClassifier(max_depth=12, random_state=42).fit(X_train, y_train)\n",
    "model = RandomForestClassifier(max_depth=12, min_samples_leaf=1, random_state=42).fit(X_train, y_train)\n",
    "# model = KNeighborsClassifier(n_neighbors=15).fit(X_train, y_train)\n",
    "\n",
    "train['predicted'] = model.predict(X_train)\n",
    "test['predicted'] = model.predict(X_test)\n",
    "\n",
    "print(round(model.score(X_train, y_train), 4))\n",
    "print(round(model.score(X_test, y_test), 4))"
   ]
  },
  {
   "cell_type": "code",
   "execution_count": 469,
   "metadata": {},
   "outputs": [
    {
     "data": {
      "text/html": [
       "<div>\n",
       "<style scoped>\n",
       "    .dataframe tbody tr th:only-of-type {\n",
       "        vertical-align: middle;\n",
       "    }\n",
       "\n",
       "    .dataframe tbody tr th {\n",
       "        vertical-align: top;\n",
       "    }\n",
       "\n",
       "    .dataframe thead th {\n",
       "        text-align: right;\n",
       "    }\n",
       "</style>\n",
       "<table border=\"1\" class=\"dataframe\">\n",
       "  <thead>\n",
       "    <tr style=\"text-align: right;\">\n",
       "      <th></th>\n",
       "      <th>actual</th>\n",
       "      <th>predicted</th>\n",
       "    </tr>\n",
       "  </thead>\n",
       "  <tbody>\n",
       "    <tr>\n",
       "      <th>8</th>\n",
       "      <td>Python</td>\n",
       "      <td>Jupyter Notebook</td>\n",
       "    </tr>\n",
       "    <tr>\n",
       "      <th>216</th>\n",
       "      <td>PowerShell</td>\n",
       "      <td>PowerShell</td>\n",
       "    </tr>\n",
       "    <tr>\n",
       "      <th>315</th>\n",
       "      <td>Jupyter Notebook</td>\n",
       "      <td>Jupyter Notebook</td>\n",
       "    </tr>\n",
       "    <tr>\n",
       "      <th>360</th>\n",
       "      <td>Python</td>\n",
       "      <td>Jupyter Notebook</td>\n",
       "    </tr>\n",
       "    <tr>\n",
       "      <th>64</th>\n",
       "      <td>JavaScript</td>\n",
       "      <td>Jupyter Notebook</td>\n",
       "    </tr>\n",
       "  </tbody>\n",
       "</table>\n",
       "</div>"
      ],
      "text/plain": [
       "               actual         predicted\n",
       "8              Python  Jupyter Notebook\n",
       "216        PowerShell        PowerShell\n",
       "315  Jupyter Notebook  Jupyter Notebook\n",
       "360            Python  Jupyter Notebook\n",
       "64         JavaScript  Jupyter Notebook"
      ]
     },
     "execution_count": 469,
     "metadata": {},
     "output_type": "execute_result"
    }
   ],
   "source": [
    "test.head()"
   ]
  },
  {
   "cell_type": "markdown",
   "metadata": {},
   "source": [
    "## Top 4 - TFIDF"
   ]
  },
  {
   "cell_type": "code",
   "execution_count": 467,
   "metadata": {},
   "outputs": [
    {
     "name": "stdout",
     "output_type": "stream",
     "text": [
      "0.9231\n",
      "0.6047\n"
     ]
    }
   ],
   "source": [
    "tfidf = TfidfVectorizer()\n",
    "X = tfidf.fit_transform(documents_top_4.clean_lemmatized)\n",
    "y = documents_top_4.language\n",
    "\n",
    "X_train, X_test, y_train, y_test = train_test_split(X, y, \n",
    "                        train_size=.8, stratify=y, random_state=42)\n",
    "\n",
    "train = pd.DataFrame(dict(actual=y_train))\n",
    "test = pd.DataFrame(dict(actual=y_test))\n",
    "\n",
    "# model = LogisticRegression().fit(X_train, y_train)\n",
    "# model = DecisionTreeClassifier(max_depth=12, random_state=42).fit(X_train, y_train)\n",
    "model = RandomForestClassifier(max_depth=12, min_samples_leaf=1, random_state=42).fit(X_train, y_train)\n",
    "# model = KNeighborsClassifier(n_neighbors=12).fit(X_train, y_train)\n",
    "\n",
    "\n",
    "train['predicted'] = model.predict(X_train)\n",
    "test['predicted'] = model.predict(X_test)\n",
    "\n",
    "print(round(model.score(X_train, y_train), 4))\n",
    "print(round(model.score(X_test, y_test), 4))"
   ]
  },
  {
   "cell_type": "markdown",
   "metadata": {},
   "source": [
    "## All - CountVector"
   ]
  },
  {
   "cell_type": "code",
   "execution_count": 243,
   "metadata": {},
   "outputs": [
    {
     "name": "stdout",
     "output_type": "stream",
     "text": [
      "0.7082\n",
      "0.5211\n"
     ]
    }
   ],
   "source": [
    "cv = CountVectorizer()\n",
    "X = cv.fit_transform(documents.clean_lemmatized)\n",
    "y = documents.language\n",
    "\n",
    "X_train, X_test, y_train, y_test = train_test_split(X, y, \n",
    "                        train_size=.8, stratify=y, random_state=42)\n",
    "\n",
    "train = pd.DataFrame(dict(actual=y_train))\n",
    "test = pd.DataFrame(dict(actual=y_test))\n",
    "\n",
    "# model = LogisticRegression().fit(X_train, y_train)\n",
    "# model = DecisionTreeClassifier(max_depth=12, random_state=42).fit(X_train, y_train)\n",
    "model = RandomForestClassifier(max_depth=12, min_samples_leaf=1, random_state=42).fit(X_train, y_train)\n",
    "# model = KNeighborsClassifier(n_neighbors=12).fit(X_train, y_train)\n",
    "\n",
    "\n",
    "train['predicted'] = model.predict(X_train)\n",
    "test['predicted'] = model.predict(X_test)\n",
    "\n",
    "print(round(model.score(X_train, y_train), 4))\n",
    "print(round(model.score(X_test, y_test), 4))"
   ]
  },
  {
   "cell_type": "markdown",
   "metadata": {},
   "source": [
    "## Top 4 - CountVector"
   ]
  },
  {
   "cell_type": "code",
   "execution_count": 271,
   "metadata": {},
   "outputs": [
    {
     "name": "stdout",
     "output_type": "stream",
     "text": [
      "0.7692\n",
      "0.6047\n"
     ]
    }
   ],
   "source": [
    "cv = CountVectorizer()\n",
    "X = cv.fit_transform(documents_top_4.clean_lemmatized)\n",
    "y = documents_top_4.language\n",
    "\n",
    "X_train, X_test, y_train, y_test = train_test_split(X, y, \n",
    "                        train_size=.8, stratify=y, random_state=42)\n",
    "\n",
    "train = pd.DataFrame(dict(actual=y_train))\n",
    "test = pd.DataFrame(dict(actual=y_test))\n",
    "\n",
    "# model = LogisticRegression().fit(X_train, y_train)\n",
    "# model = DecisionTreeClassifier(max_depth=12, random_state=42).fit(X_train, y_train)\n",
    "# model = RandomForestClassifier(max_depth=6, min_samples_leaf=2, random_state=42).fit(X_train, y_train)\n",
    "model = KNeighborsClassifier(n_neighbors=2).fit(X_train, y_train)\n",
    "\n",
    "\n",
    "train['predicted'] = model.predict(X_train)\n",
    "test['predicted'] = model.predict(X_test)\n",
    "\n",
    "print(round(model.score(X_train, y_train), 4))\n",
    "print(round(model.score(X_test, y_test), 4))"
   ]
  },
  {
   "cell_type": "markdown",
   "metadata": {},
   "source": [
    "# Using bigrams"
   ]
  },
  {
   "cell_type": "code",
   "execution_count": 450,
   "metadata": {},
   "outputs": [
    {
     "name": "stdout",
     "output_type": "stream",
     "text": [
      "0.4377\n",
      "0.3521\n"
     ]
    }
   ],
   "source": [
    "tfidf = TfidfVectorizer(ngram_range=(2, 2))\n",
    "X = tfidf.fit_transform(documents.clean_lemmatized)\n",
    "y = documents.language\n",
    "\n",
    "X_train, X_test, y_train, y_test = train_test_split(X, y, \n",
    "                        train_size=.8, stratify=y, random_state=42)\n",
    "\n",
    "train = pd.DataFrame(dict(actual=y_train))\n",
    "test = pd.DataFrame(dict(actual=y_test))\n",
    "\n",
    "# model = LogisticRegression().fit(X_train, y_train)\n",
    "# model = DecisionTreeClassifier(max_depth=12, random_state=42).fit(X_train, y_train)\n",
    "model = RandomForestClassifier(max_depth=12, min_samples_leaf=2, random_state=42).fit(X_train, y_train)\n",
    "# model = KNeighborsClassifier().fit(X_train, y_train)\n",
    "\n",
    "train['predicted'] = model.predict(X_train)\n",
    "test['predicted'] = model.predict(X_test)\n",
    "\n",
    "print(round(model.score(X_train, y_train), 4))\n",
    "print(round(model.score(X_test, y_test), 4))"
   ]
  },
  {
   "cell_type": "code",
   "execution_count": 327,
   "metadata": {},
   "outputs": [
    {
     "name": "stdout",
     "output_type": "stream",
     "text": [
      "0.716\n",
      "0.4186\n"
     ]
    }
   ],
   "source": [
    "tfidf = TfidfVectorizer(ngram_range=(2, 2))\n",
    "X = tfidf.fit_transform(documents_top_4.clean_lemmatized)\n",
    "y = documents_top_4.language\n",
    "\n",
    "X_train, X_test, y_train, y_test = train_test_split(X, y, \n",
    "                        train_size=.8, stratify=y, random_state=42)\n",
    "\n",
    "train = pd.DataFrame(dict(actual=y_train))\n",
    "test = pd.DataFrame(dict(actual=y_test))\n",
    "\n",
    "# model = LogisticRegression().fit(X_train, y_train)\n",
    "# model = DecisionTreeClassifier(max_depth=6, random_state=42).fit(X_train, y_train)\n",
    "model = RandomForestClassifier(max_depth=12, min_samples_leaf=1, random_state=42).fit(X_train, y_train)\n",
    "# model = KNeighborsClassifier(n_neighbors=9).fit(X_train, y_train)\n",
    "\n",
    "\n",
    "train['predicted'] = model.predict(X_train)\n",
    "test['predicted'] = model.predict(X_test)\n",
    "\n",
    "print(round(model.score(X_train, y_train), 4))\n",
    "print(round(model.score(X_test, y_test), 4))"
   ]
  },
  {
   "cell_type": "code",
   "execution_count": 366,
   "metadata": {},
   "outputs": [
    {
     "name": "stdout",
     "output_type": "stream",
     "text": [
      "0.9359\n",
      "0.3944\n"
     ]
    }
   ],
   "source": [
    "cv = CountVectorizer(ngram_range=(2, 2))\n",
    "X = cv.fit_transform(documents.clean_lemmatized)\n",
    "y = documents.language\n",
    "\n",
    "X_train, X_test, y_train, y_test = train_test_split(X, y, \n",
    "                        train_size=.8, stratify=y, random_state=42)\n",
    "\n",
    "train = pd.DataFrame(dict(actual=y_train))\n",
    "test = pd.DataFrame(dict(actual=y_test))\n",
    "\n",
    "model = LogisticRegression().fit(X_train, y_train)\n",
    "# model = DecisionTreeClassifier(max_depth=12, random_state=42).fit(X_train, y_train)\n",
    "# model = RandomForestClassifier(max_depth=12, min_samples_leaf=2, random_state=42).fit(X_train, y_train)\n",
    "# model = KNeighborsClassifier(n_neighbors=9).fit(X_train, y_train)\n",
    "\n",
    "\n",
    "train['predicted'] = model.predict(X_train)\n",
    "test['predicted'] = model.predict(X_test)\n",
    "\n",
    "print(round(model.score(X_train, y_train), 4))\n",
    "print(round(model.score(X_test, y_test), 4))"
   ]
  },
  {
   "cell_type": "code",
   "execution_count": 417,
   "metadata": {},
   "outputs": [
    {
     "name": "stdout",
     "output_type": "stream",
     "text": [
      "0.9645\n",
      "0.4884\n"
     ]
    }
   ],
   "source": [
    "cv = CountVectorizer(ngram_range=(2, 2))\n",
    "X = cv.fit_transform(documents_top_4.clean_lemmatized)\n",
    "y = documents_top_4.language\n",
    "\n",
    "X_train, X_test, y_train, y_test = train_test_split(X, y, \n",
    "                        train_size=.8, stratify=y, random_state=42)\n",
    "\n",
    "train = pd.DataFrame(dict(actual=y_train))\n",
    "test = pd.DataFrame(dict(actual=y_test))\n",
    "\n",
    "model = LogisticRegression().fit(X_train, y_train)\n",
    "# model = DecisionTreeClassifier(max_depth=11, random_state=42).fit(X_train, y_train)\n",
    "# model = RandomForestClassifier(max_depth=15, min_samples_leaf=1, random_state=42).fit(X_train, y_train)\n",
    "# model = KNeighborsClassifier(n_neighbors=9).fit(X_train, y_train)\n",
    "\n",
    "\n",
    "train['predicted'] = model.predict(X_train)\n",
    "test['predicted'] = model.predict(X_test)\n",
    "\n",
    "print(round(model.score(X_train, y_train), 4))\n",
    "print(round(model.score(X_test, y_test), 4))"
   ]
  },
  {
   "cell_type": "code",
   "execution_count": null,
   "metadata": {},
   "outputs": [],
   "source": []
  },
  {
   "cell_type": "code",
   "execution_count": null,
   "metadata": {},
   "outputs": [],
   "source": []
  }
 ],
 "metadata": {
  "kernelspec": {
   "display_name": "Python 3",
   "language": "python",
   "name": "python3"
  },
  "language_info": {
   "codemirror_mode": {
    "name": "ipython",
    "version": 3
   },
   "file_extension": ".py",
   "mimetype": "text/x-python",
   "name": "python",
   "nbconvert_exporter": "python",
   "pygments_lexer": "ipython3",
   "version": "3.7.4"
  }
 },
 "nbformat": 4,
 "nbformat_minor": 2
}
