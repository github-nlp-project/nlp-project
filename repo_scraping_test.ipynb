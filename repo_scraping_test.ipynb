{
 "cells": [
  {
   "cell_type": "code",
   "execution_count": 1,
   "metadata": {},
   "outputs": [],
   "source": [
    "# from requests import get\n",
    "# from bs4 import BeautifulSoup\n",
    "# import os\n",
    "import cameron_acquire\n",
    "# import time\n",
    "# import pandas as pd\n",
    "from env import github_token, github_username\n",
    "import csv\n",
    "import json"
   ]
  },
  {
   "cell_type": "code",
   "execution_count": 2,
   "metadata": {
    "scrolled": true
   },
   "outputs": [],
   "source": [
    "# cameron_acquire.acquire_repo_list('solar energy')"
   ]
  },
  {
   "cell_type": "code",
   "execution_count": 3,
   "metadata": {},
   "outputs": [],
   "source": [
    "# cameron_acquire.acquire_repo_list('natural gas')"
   ]
  },
  {
   "cell_type": "code",
   "execution_count": null,
   "metadata": {},
   "outputs": [],
   "source": [
    "cameron_acquire.scrape_github_data()"
   ]
  },
  {
   "cell_type": "code",
   "execution_count": null,
   "metadata": {},
   "outputs": [],
   "source": [
    "# pd.read_json('data.json')"
   ]
  },
  {
   "cell_type": "code",
   "execution_count": null,
   "metadata": {},
   "outputs": [],
   "source": [
    "# url = 'https://github.com/search?o=desc&p=1&q=petroleum&s=stars&type=Repositories'\n",
    "# headers = {'User-Agent': 'manual search'} \n",
    "# response = get(url, headers=headers)\n",
    "# # print(response.status_code)\n",
    "# soup = BeautifulSoup(response.content, 'html.parser')"
   ]
  },
  {
   "cell_type": "code",
   "execution_count": null,
   "metadata": {},
   "outputs": [],
   "source": [
    "# rrr"
   ]
  },
  {
   "cell_type": "code",
   "execution_count": null,
   "metadata": {},
   "outputs": [],
   "source": [
    "# soup.find_all('a', class_='v-align-middle')[0].text"
   ]
  },
  {
   "cell_type": "code",
   "execution_count": null,
   "metadata": {},
   "outputs": [],
   "source": [
    "# def get_repo_names(url):\n",
    "#     headers = {'User-Agent': 'manual search'} \n",
    "#     response = get(url, headers=headers)\n",
    "#     soup = BeautifulSoup(response.content, 'html.parser')\n",
    "#     repos = []\n",
    "#     for i in range(10):\n",
    "#         repos.append(soup.find_all('a', class_='v-align-middle')\\\n",
    "#                  [i].text)\n",
    "#         time.sleep(.8)\n",
    "#     return repos"
   ]
  },
  {
   "cell_type": "code",
   "execution_count": null,
   "metadata": {},
   "outputs": [],
   "source": [
    "# url = 'https://github.com/search?o=desc&p=1&q=petroleum&s=stars&type=Repositories'\n",
    "# get_repo_names(url)"
   ]
  },
  {
   "cell_type": "code",
   "execution_count": null,
   "metadata": {},
   "outputs": [],
   "source": [
    "# urls = [f'https://github.com/search?o=desc&p={i}\\\n",
    "# &q=petroleum+size%3A>100&s=stars&type=Repositories' \\\n",
    "# for i in range(1,11)]\n",
    "# urls[0]"
   ]
  },
  {
   "cell_type": "code",
   "execution_count": null,
   "metadata": {},
   "outputs": [],
   "source": [
    "# category = 'solar energy'"
   ]
  },
  {
   "cell_type": "code",
   "execution_count": null,
   "metadata": {},
   "outputs": [],
   "source": [
    "# if not os.path.isfile(f'{category}.json'):\n",
    "#     lol.to_csv('data.csv')\n",
    "# data = pd.read_csv('data.csv', header=None, index_col=0,\n",
    "#                   names=['number','repo'])"
   ]
  },
  {
   "cell_type": "code",
   "execution_count": null,
   "metadata": {},
   "outputs": [],
   "source": [
    "# def acquire_repo_list(category):\n",
    "#     if (' ') in category:\n",
    "#         category = category.replace(' ','_')\n",
    "#         f_category = category.replace(' ','+')\n",
    "\n",
    "#     urls = [f'https://github.com/search?o=desc&p={i}\\\n",
    "#     &q={f_category}+size:>100&s=stars&type=Repositories'\\\n",
    "#     for i in range(1,11)]\n",
    "\n",
    "#     test = []\n",
    "#     for url in urls:\n",
    "#         test += get_repo_names(url)\n",
    "        \n",
    "#     if not os.path.isfile(f'{category}.json'):  \n",
    "#         json.dump(test, open(f\"{category}_repos.json\", \"w\"),\n",
    "#                   indent=1)\n",
    "    \n",
    "#     return test"
   ]
  },
  {
   "cell_type": "code",
   "execution_count": null,
   "metadata": {},
   "outputs": [],
   "source": [
    "# solar = acquire_repo_list('solar energy')"
   ]
  },
  {
   "cell_type": "code",
   "execution_count": null,
   "metadata": {},
   "outputs": [],
   "source": [
    "# len(solar)"
   ]
  },
  {
   "cell_type": "code",
   "execution_count": null,
   "metadata": {},
   "outputs": [],
   "source": [
    "# lm = pd.read_json('solar_energy_repo.json')\n",
    "# list(lm[0])"
   ]
  },
  {
   "cell_type": "code",
   "execution_count": null,
   "metadata": {},
   "outputs": [],
   "source": [
    "# gas = acquire_repo_list('natural gas')"
   ]
  },
  {
   "cell_type": "code",
   "execution_count": null,
   "metadata": {},
   "outputs": [],
   "source": [
    "# len(gas)"
   ]
  },
  {
   "cell_type": "code",
   "execution_count": null,
   "metadata": {},
   "outputs": [],
   "source": [
    "# full_list = []\n",
    "# for file in os.listdir():\n",
    "#     if 'repo.json' in file:\n",
    "#         full_list.append(file)\n",
    "# full_list"
   ]
  },
  {
   "cell_type": "code",
   "execution_count": null,
   "metadata": {},
   "outputs": [],
   "source": [
    "# for i, item in enumerate(full_list):\n",
    "#     locals()['lm'+str(i)] = pd.read_json(item)\n",
    "# repo_list = []\n",
    "# for i in range(len(full_list)):\n",
    "#     repo_list.append(list('lm'+str(i))[0])\n",
    "# repo_list"
   ]
  },
  {
   "cell_type": "code",
   "execution_count": null,
   "metadata": {},
   "outputs": [],
   "source": [
    "# item_list = []\n",
    "# for item in full_list:\n",
    "#     lm = pd.read_json(item)\n",
    "#     item_list += (list(lm[0]))"
   ]
  },
  {
   "cell_type": "code",
   "execution_count": null,
   "metadata": {},
   "outputs": [],
   "source": [
    "# item_list"
   ]
  },
  {
   "cell_type": "code",
   "execution_count": null,
   "metadata": {},
   "outputs": [],
   "source": [
    "# lm = pd.read_json('natural_gas_repo.json')\n",
    "# lm2 = pd.read_json('solar_energy_repo.json')\n",
    "# len(list(lm[0]) + list(lm2[0]))"
   ]
  },
  {
   "cell_type": "code",
   "execution_count": null,
   "metadata": {},
   "outputs": [],
   "source": [
    "# test = []\n",
    "# for url in urls:\n",
    "#     test += get_repo_names(url)\n",
    "\n",
    "# len(test)"
   ]
  },
  {
   "cell_type": "code",
   "execution_count": null,
   "metadata": {},
   "outputs": [],
   "source": [
    "# test"
   ]
  },
  {
   "cell_type": "code",
   "execution_count": null,
   "metadata": {},
   "outputs": [],
   "source": [
    "# lol = pd.Series(test)\n",
    "# test[:6]"
   ]
  },
  {
   "cell_type": "code",
   "execution_count": null,
   "metadata": {},
   "outputs": [],
   "source": [
    "# if not os.path.isfile('data.csv'):\n",
    "#     lol.to_csv('data.csv')\n",
    "# data = pd.read_csv('data.csv', header=None, index_col=0,\n",
    "#                   names=['number','repo'])"
   ]
  },
  {
   "cell_type": "code",
   "execution_count": null,
   "metadata": {},
   "outputs": [],
   "source": [
    "# data_list = list(data.repo)"
   ]
  },
  {
   "cell_type": "code",
   "execution_count": null,
   "metadata": {},
   "outputs": [],
   "source": [
    "# repo = 'gocodeup/codeup-setup-script'"
   ]
  },
  {
   "cell_type": "code",
   "execution_count": null,
   "metadata": {},
   "outputs": [],
   "source": [
    "# cameron_acquire.scrape_github_data()"
   ]
  },
  {
   "cell_type": "code",
   "execution_count": null,
   "metadata": {},
   "outputs": [],
   "source": [
    "# pd.read_json('solar_energy_repo.json')"
   ]
  },
  {
   "cell_type": "code",
   "execution_count": null,
   "metadata": {},
   "outputs": [],
   "source": []
  }
 ],
 "metadata": {
  "kernelspec": {
   "display_name": "Python 3",
   "language": "python",
   "name": "python3"
  },
  "language_info": {
   "codemirror_mode": {
    "name": "ipython",
    "version": 3
   },
   "file_extension": ".py",
   "mimetype": "text/x-python",
   "name": "python",
   "nbconvert_exporter": "python",
   "pygments_lexer": "ipython3",
   "version": "3.7.4"
  }
 },
 "nbformat": 4,
 "nbformat_minor": 2
}
