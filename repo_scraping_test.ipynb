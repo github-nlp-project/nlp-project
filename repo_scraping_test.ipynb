{
 "cells": [
  {
   "cell_type": "code",
   "execution_count": 1,
   "metadata": {},
   "outputs": [],
   "source": [
    "import acquire, prepare\n",
    "from env import github_token, github_username\n",
    "import csv\n",
    "import json\n",
    "# import os\n",
    "import pandas as pd"
   ]
  },
  {
   "cell_type": "code",
   "execution_count": null,
   "metadata": {},
   "outputs": [],
   "source": [
    "# acquire.acquire_repo_list('petroleum')\n",
    "# acquire.acquire_repo_list('solar energy')\n",
    "# acquire.acquire_repo_list('natural gas')"
   ]
  },
  {
   "cell_type": "code",
   "execution_count": null,
   "metadata": {},
   "outputs": [],
   "source": [
    "# df = acquire.scrape_github_data()"
   ]
  },
  {
   "cell_type": "code",
   "execution_count": null,
   "metadata": {},
   "outputs": [],
   "source": [
    "# len(df)"
   ]
  },
  {
   "cell_type": "code",
   "execution_count": null,
   "metadata": {},
   "outputs": [],
   "source": [
    "# full_list = []\n",
    "# for file in os.listdir():\n",
    "#     if 'repos.json' in file:\n",
    "#         full_list.append(file)\n",
    "# item_list = []\n",
    "# for item in full_list:\n",
    "#     lm = pd.read_json(item)\n",
    "#     item_list += (list(lm[0]))\n",
    "# REPOS = item_list\n",
    "# len(REPOS)"
   ]
  },
  {
   "cell_type": "code",
   "execution_count": null,
   "metadata": {},
   "outputs": [],
   "source": [
    "# REPOS"
   ]
  },
  {
   "cell_type": "code",
   "execution_count": null,
   "metadata": {},
   "outputs": [],
   "source": [
    "# frame = [acquire.process_repo(repo) for repo in REPOS]"
   ]
  },
  {
   "cell_type": "code",
   "execution_count": null,
   "metadata": {},
   "outputs": [],
   "source": [
    "# len(frame)"
   ]
  },
  {
   "cell_type": "code",
   "execution_count": null,
   "metadata": {},
   "outputs": [],
   "source": [
    "# frame"
   ]
  },
  {
   "cell_type": "code",
   "execution_count": null,
   "metadata": {},
   "outputs": [],
   "source": [
    "# pd.DataFrame(frame).to_csv('all_repos_dict.csv', index=False)"
   ]
  },
  {
   "cell_type": "code",
   "execution_count": null,
   "metadata": {},
   "outputs": [],
   "source": [
    "# pd.read_json('data.json')"
   ]
  },
  {
   "cell_type": "code",
   "execution_count": null,
   "metadata": {},
   "outputs": [],
   "source": [
    "# url = 'https://github.com/search?o=desc&p=1&q=petroleum&s=stars&type=Repositories'\n",
    "# headers = {'User-Agent': 'manual search'} \n",
    "# response = get(url, headers=headers)\n",
    "# # print(response.status_code)\n",
    "# soup = BeautifulSoup(response.content, 'html.parser')"
   ]
  },
  {
   "cell_type": "code",
   "execution_count": null,
   "metadata": {},
   "outputs": [],
   "source": [
    "# soup.find_all('a', class_='v-align-middle')[0].text"
   ]
  },
  {
   "cell_type": "code",
   "execution_count": null,
   "metadata": {},
   "outputs": [],
   "source": [
    "# def get_repo_names(url):\n",
    "#     headers = {'User-Agent': 'manual search'} \n",
    "#     response = get(url, headers=headers)\n",
    "#     soup = BeautifulSoup(response.content, 'html.parser')\n",
    "#     repos = []\n",
    "#     for i in range(10):\n",
    "#         repos.append(soup.find_all('a', class_='v-align-middle')\\\n",
    "#                  [i].text)\n",
    "#         time.sleep(.8)\n",
    "#     return repos"
   ]
  },
  {
   "cell_type": "code",
   "execution_count": null,
   "metadata": {},
   "outputs": [],
   "source": [
    "# url = 'https://github.com/search?o=desc&p=1&q=petroleum&s=stars&type=Repositories'\n",
    "# get_repo_names(url)"
   ]
  },
  {
   "cell_type": "code",
   "execution_count": null,
   "metadata": {},
   "outputs": [],
   "source": [
    "# urls = [f'https://github.com/search?o=desc&p={i}\\\n",
    "# &q=petroleum+size%3A>100&s=stars&type=Repositories' \\\n",
    "# for i in range(1,11)]\n",
    "# urls[0]"
   ]
  },
  {
   "cell_type": "code",
   "execution_count": null,
   "metadata": {},
   "outputs": [],
   "source": [
    "# if not os.path.isfile(f'{category}.json'):\n",
    "#     lol.to_csv('data.csv')\n",
    "# data = pd.read_csv('data.csv', header=None, index_col=0,\n",
    "#                   names=['number','repo'])"
   ]
  },
  {
   "cell_type": "code",
   "execution_count": null,
   "metadata": {},
   "outputs": [],
   "source": [
    "# def acquire_repo_list(category):\n",
    "#     if (' ') in category:\n",
    "#         category = category.replace(' ','_')\n",
    "#         f_category = category.replace(' ','+')\n",
    "\n",
    "#     urls = [f'https://github.com/search?o=desc&p={i}\\\n",
    "#     &q={f_category}+size:>100&s=stars&type=Repositories'\\\n",
    "#     for i in range(1,11)]\n",
    "\n",
    "#     test = []\n",
    "#     for url in urls:\n",
    "#         test += get_repo_names(url)\n",
    "        \n",
    "#     if not os.path.isfile(f'{category}.json'):  \n",
    "#         json.dump(test, open(f\"{category}_repos.json\", \"w\"),\n",
    "#                   indent=1)\n",
    "    \n",
    "#     return test"
   ]
  },
  {
   "cell_type": "code",
   "execution_count": null,
   "metadata": {},
   "outputs": [],
   "source": [
    "# solar = acquire_repo_list('solar energy')"
   ]
  },
  {
   "cell_type": "code",
   "execution_count": null,
   "metadata": {},
   "outputs": [],
   "source": [
    "# len(solar)"
   ]
  },
  {
   "cell_type": "code",
   "execution_count": null,
   "metadata": {},
   "outputs": [],
   "source": [
    "# lm = pd.read_json('solar_energy_repo.json')\n",
    "# list(lm[0])"
   ]
  },
  {
   "cell_type": "code",
   "execution_count": null,
   "metadata": {},
   "outputs": [],
   "source": [
    "# gas = acquire_repo_list('natural gas')"
   ]
  },
  {
   "cell_type": "code",
   "execution_count": null,
   "metadata": {},
   "outputs": [],
   "source": [
    "# len(gas)"
   ]
  },
  {
   "cell_type": "code",
   "execution_count": null,
   "metadata": {},
   "outputs": [],
   "source": [
    "# full_list = []\n",
    "# for file in os.listdir():\n",
    "#     if 'repo.json' in file:\n",
    "#         full_list.append(file)\n",
    "# full_list"
   ]
  },
  {
   "cell_type": "code",
   "execution_count": null,
   "metadata": {},
   "outputs": [],
   "source": [
    "# for i, item in enumerate(full_list):\n",
    "#     locals()['lm'+str(i)] = pd.read_json(item)\n",
    "# repo_list = []\n",
    "# for i in range(len(full_list)):\n",
    "#     repo_list.append(list('lm'+str(i))[0])\n",
    "# repo_list"
   ]
  },
  {
   "cell_type": "code",
   "execution_count": null,
   "metadata": {},
   "outputs": [],
   "source": [
    "# item_list = []\n",
    "# for item in full_list:\n",
    "#     lm = pd.read_json(item)\n",
    "#     item_list += (list(lm[0]))"
   ]
  },
  {
   "cell_type": "code",
   "execution_count": null,
   "metadata": {},
   "outputs": [],
   "source": [
    "# item_list"
   ]
  },
  {
   "cell_type": "code",
   "execution_count": null,
   "metadata": {},
   "outputs": [],
   "source": [
    "# lm = pd.read_json('natural_gas_repo.json')\n",
    "# lm2 = pd.read_json('solar_energy_repo.json')\n",
    "# len(list(lm[0]) + list(lm2[0]))"
   ]
  },
  {
   "cell_type": "code",
   "execution_count": null,
   "metadata": {},
   "outputs": [],
   "source": [
    "# test = []\n",
    "# for url in urls:\n",
    "#     test += get_repo_names(url)\n",
    "\n",
    "# len(test)"
   ]
  },
  {
   "cell_type": "code",
   "execution_count": null,
   "metadata": {},
   "outputs": [],
   "source": [
    "# test"
   ]
  },
  {
   "cell_type": "code",
   "execution_count": null,
   "metadata": {},
   "outputs": [],
   "source": [
    "# lol = pd.Series(test)\n",
    "# test[:6]"
   ]
  },
  {
   "cell_type": "code",
   "execution_count": null,
   "metadata": {},
   "outputs": [],
   "source": [
    "# if not os.path.isfile('data.csv'):\n",
    "#     lol.to_csv('data.csv')\n",
    "# data = pd.read_csv('data.csv', header=None, index_col=0,\n",
    "#                   names=['number','repo'])"
   ]
  },
  {
   "cell_type": "code",
   "execution_count": null,
   "metadata": {},
   "outputs": [],
   "source": [
    "# data_list = list(data.repo)"
   ]
  },
  {
   "cell_type": "code",
   "execution_count": null,
   "metadata": {},
   "outputs": [],
   "source": [
    "# repo = 'gocodeup/codeup-setup-script'"
   ]
  },
  {
   "cell_type": "code",
   "execution_count": null,
   "metadata": {},
   "outputs": [],
   "source": [
    "# acquire.scrape_github_data()"
   ]
  },
  {
   "cell_type": "code",
   "execution_count": null,
   "metadata": {},
   "outputs": [],
   "source": [
    "# pd.read_json('solar_energy_repo.json')"
   ]
  },
  {
   "cell_type": "code",
   "execution_count": 6,
   "metadata": {},
   "outputs": [
    {
     "data": {
      "text/html": [
       "<div>\n",
       "<style scoped>\n",
       "    .dataframe tbody tr th:only-of-type {\n",
       "        vertical-align: middle;\n",
       "    }\n",
       "\n",
       "    .dataframe tbody tr th {\n",
       "        vertical-align: top;\n",
       "    }\n",
       "\n",
       "    .dataframe thead th {\n",
       "        text-align: right;\n",
       "    }\n",
       "</style>\n",
       "<table border=\"1\" class=\"dataframe\">\n",
       "  <thead>\n",
       "    <tr style=\"text-align: right;\">\n",
       "      <th></th>\n",
       "      <th>language</th>\n",
       "      <th>category</th>\n",
       "      <th>repo</th>\n",
       "      <th>readme_contents</th>\n",
       "    </tr>\n",
       "  </thead>\n",
       "  <tbody>\n",
       "    <tr>\n",
       "      <th>0</th>\n",
       "      <td>Python</td>\n",
       "      <td>solar_energy</td>\n",
       "      <td>ColasGael/Machine-Learning-for-Solar-Energy-Pr...</td>\n",
       "      <td># Machine-Learning-for-Solar-Energy-Prediction...</td>\n",
       "    </tr>\n",
       "    <tr>\n",
       "      <th>1</th>\n",
       "      <td>Python</td>\n",
       "      <td>solar_energy</td>\n",
       "      <td>meltaxa/solariot</td>\n",
       "      <td># Solariot\\n\\nLeverage your IoT enabled Solar ...</td>\n",
       "    </tr>\n",
       "    <tr>\n",
       "      <th>2</th>\n",
       "      <td>Python</td>\n",
       "      <td>solar_energy</td>\n",
       "      <td>renewables-ninja/gsee</td>\n",
       "      <td>[![Master branch build status](https://img.shi...</td>\n",
       "    </tr>\n",
       "    <tr>\n",
       "      <th>3</th>\n",
       "      <td>C++</td>\n",
       "      <td>solar_energy</td>\n",
       "      <td>3KUdelta/Solar_WiFi_Weather_Station</td>\n",
       "      <td># Zambretti Forecaster on Solar WiFi Weather S...</td>\n",
       "    </tr>\n",
       "    <tr>\n",
       "      <th>4</th>\n",
       "      <td>R</td>\n",
       "      <td>solar_energy</td>\n",
       "      <td>ropensci/nasapower</td>\n",
       "      <td>\\n[![R build status](https://github.com/ropens...</td>\n",
       "    </tr>\n",
       "  </tbody>\n",
       "</table>\n",
       "</div>"
      ],
      "text/plain": [
       "  language      category                                               repo  \\\n",
       "0   Python  solar_energy  ColasGael/Machine-Learning-for-Solar-Energy-Pr...   \n",
       "1   Python  solar_energy                                   meltaxa/solariot   \n",
       "2   Python  solar_energy                              renewables-ninja/gsee   \n",
       "3      C++  solar_energy                3KUdelta/Solar_WiFi_Weather_Station   \n",
       "4        R  solar_energy                                 ropensci/nasapower   \n",
       "\n",
       "                                     readme_contents  \n",
       "0  # Machine-Learning-for-Solar-Energy-Prediction...  \n",
       "1  # Solariot\\n\\nLeverage your IoT enabled Solar ...  \n",
       "2  [![Master branch build status](https://img.shi...  \n",
       "3  # Zambretti Forecaster on Solar WiFi Weather S...  \n",
       "4  \\n[![R build status](https://github.com/ropens...  "
      ]
     },
     "execution_count": 6,
     "metadata": {},
     "output_type": "execute_result"
    }
   ],
   "source": [
    "df = pd.read_csv('all_repos_dict.csv')\n",
    "\n",
    "df['category'] = 'unknown'\n",
    "\n",
    "df.loc[:100, 'category'] = 'solar_energy'\n",
    "df.loc[100:200, 'category'] = 'petroleum'\n",
    "df.loc[200:, 'category'] = 'natural_gas'\n",
    "df = df[['language','category','repo','readme_contents']]\n",
    "df.head()"
   ]
  },
  {
   "cell_type": "code",
   "execution_count": null,
   "metadata": {},
   "outputs": [],
   "source": [
    "df[df.readme_contents.isna()]"
   ]
  },
  {
   "cell_type": "code",
   "execution_count": null,
   "metadata": {},
   "outputs": [],
   "source": [
    "df[df.language.isna()].category.value_counts()"
   ]
  },
  {
   "cell_type": "code",
   "execution_count": 8,
   "metadata": {},
   "outputs": [
    {
     "data": {
      "text/html": [
       "<div>\n",
       "<style scoped>\n",
       "    .dataframe tbody tr th:only-of-type {\n",
       "        vertical-align: middle;\n",
       "    }\n",
       "\n",
       "    .dataframe tbody tr th {\n",
       "        vertical-align: top;\n",
       "    }\n",
       "\n",
       "    .dataframe thead th {\n",
       "        text-align: right;\n",
       "    }\n",
       "</style>\n",
       "<table border=\"1\" class=\"dataframe\">\n",
       "  <thead>\n",
       "    <tr style=\"text-align: right;\">\n",
       "      <th></th>\n",
       "      <th>language</th>\n",
       "      <th>category</th>\n",
       "      <th>repo</th>\n",
       "      <th>readme_contents</th>\n",
       "      <th>clean_tokes</th>\n",
       "      <th>clean_stemmed</th>\n",
       "      <th>clean_lemmatized</th>\n",
       "    </tr>\n",
       "  </thead>\n",
       "  <tbody>\n",
       "    <tr>\n",
       "      <th>274</th>\n",
       "      <td>Python</td>\n",
       "      <td>natural_gas</td>\n",
       "      <td>ketanb56up/natural_gas_price</td>\n",
       "      <td># natural_gas_price</td>\n",
       "      <td>[natural_gas_price]</td>\n",
       "      <td>natural_gas_pric</td>\n",
       "      <td>natural_gas_price</td>\n",
       "    </tr>\n",
       "    <tr>\n",
       "      <th>105</th>\n",
       "      <td>Jupyter Notebook</td>\n",
       "      <td>petroleum</td>\n",
       "      <td>mycarta/Data-science-tools-petroleum-explorati...</td>\n",
       "      <td>## Data science tools for petroleum exploratio...</td>\n",
       "      <td>[data, science, tools, for, petroleum, explora...</td>\n",
       "      <td>data scienc tool petroleum explor product thi ...</td>\n",
       "      <td>data science tool petroleum exploration produc...</td>\n",
       "    </tr>\n",
       "    <tr>\n",
       "      <th>135</th>\n",
       "      <td>C++</td>\n",
       "      <td>petroleum</td>\n",
       "      <td>zentechnologygroup/libzen</td>\n",
       "      <td># libzen\\n---\\n\\nlibzen is a C++ library for p...</td>\n",
       "      <td>[libzen, libzen, is, a, c, library, for, petro...</td>\n",
       "      <td>libzen libzen c librari petroleumdomain unit m...</td>\n",
       "      <td>libzen libzen c library petroleumdomain unit m...</td>\n",
       "    </tr>\n",
       "    <tr>\n",
       "      <th>246</th>\n",
       "      <td>HTML</td>\n",
       "      <td>natural_gas</td>\n",
       "      <td>huntervox/GasNatural</td>\n",
       "      <td>GasNaturalFeno\\n</td>\n",
       "      <td>[gasnaturalfeno]</td>\n",
       "      <td>gasnaturalfeno</td>\n",
       "      <td>gasnaturalfeno</td>\n",
       "    </tr>\n",
       "    <tr>\n",
       "      <th>113</th>\n",
       "      <td>TSQL</td>\n",
       "      <td>petroleum</td>\n",
       "      <td>ontop/npd-benchmark</td>\n",
       "      <td>npd-benchmark (v1.10.0)\\n====================\\...</td>\n",
       "      <td>[npdbenchmark, v1100, official, documentation,...</td>\n",
       "      <td>npdbenchmark v1100 offici document httpontopgi...</td>\n",
       "      <td>npdbenchmark v1100 official documentation http...</td>\n",
       "    </tr>\n",
       "    <tr>\n",
       "      <th>272</th>\n",
       "      <td>Java</td>\n",
       "      <td>natural_gas</td>\n",
       "      <td>MatchlessBrother/JiangSuNaturalGas</td>\n",
       "      <td># JiangSuNaturalGas\\n</td>\n",
       "      <td>[jiangsunaturalgas]</td>\n",
       "      <td>jiangsunaturalga</td>\n",
       "      <td>jiangsunaturalgas</td>\n",
       "    </tr>\n",
       "    <tr>\n",
       "      <th>153</th>\n",
       "      <td>PHP</td>\n",
       "      <td>petroleum</td>\n",
       "      <td>ParthKhanna07/HackFest2k19</td>\n",
       "      <td># PetroBYTES\\n ![LOGO](https://driller.000webh...</td>\n",
       "      <td>[petrobytes, logohttpsdriller000webhostappcomc...</td>\n",
       "      <td>petrobyt logohttpsdriller000webhostappcomclien...</td>\n",
       "      <td>petrobytes logohttpsdriller000webhostappcomcli...</td>\n",
       "    </tr>\n",
       "    <tr>\n",
       "      <th>174</th>\n",
       "      <td>JavaScript</td>\n",
       "      <td>petroleum</td>\n",
       "      <td>bcgov/mem-mmti</td>\n",
       "      <td># mem-mmti (nrs)\\nmem-mmti is a project of the...</td>\n",
       "      <td>[memmmti, nrs, memmmti, is, a, project, of, th...</td>\n",
       "      <td>memmmti nr memmmti project ministri energi min...</td>\n",
       "      <td>memmmti nrs memmmti project ministry energy mi...</td>\n",
       "    </tr>\n",
       "    <tr>\n",
       "      <th>223</th>\n",
       "      <td>Matlab</td>\n",
       "      <td>natural_gas</td>\n",
       "      <td>saeid-h/Natural-Gas-Price-Prediction</td>\n",
       "      <td># Natural Gas Price Prediction\\n\\nNGPF_GUI.m i...</td>\n",
       "      <td>[natural, gas, price, prediction, ngpf_guim, i...</td>\n",
       "      <td>natur ga price predict ngpf_guim best start po...</td>\n",
       "      <td>natural gas price prediction ngpf_guim best st...</td>\n",
       "    </tr>\n",
       "    <tr>\n",
       "      <th>167</th>\n",
       "      <td>TeX</td>\n",
       "      <td>petroleum</td>\n",
       "      <td>hellopteromyini/Cutting-edge-technology-RNN-in...</td>\n",
       "      <td># Cutting-edge-technology-RNN-introduction\\n\\n...</td>\n",
       "      <td>[cuttingedgetechnologyrnnintroduction, this, i...</td>\n",
       "      <td>cuttingedgetechnologyrnnintroduct thi conclus ...</td>\n",
       "      <td>cuttingedgetechnologyrnnintroduction conclusio...</td>\n",
       "    </tr>\n",
       "  </tbody>\n",
       "</table>\n",
       "</div>"
      ],
      "text/plain": [
       "             language     category  \\\n",
       "274            Python  natural_gas   \n",
       "105  Jupyter Notebook    petroleum   \n",
       "135               C++    petroleum   \n",
       "246              HTML  natural_gas   \n",
       "113              TSQL    petroleum   \n",
       "272              Java  natural_gas   \n",
       "153               PHP    petroleum   \n",
       "174        JavaScript    petroleum   \n",
       "223            Matlab  natural_gas   \n",
       "167               TeX    petroleum   \n",
       "\n",
       "                                                  repo  \\\n",
       "274                       ketanb56up/natural_gas_price   \n",
       "105  mycarta/Data-science-tools-petroleum-explorati...   \n",
       "135                          zentechnologygroup/libzen   \n",
       "246                               huntervox/GasNatural   \n",
       "113                                ontop/npd-benchmark   \n",
       "272                 MatchlessBrother/JiangSuNaturalGas   \n",
       "153                         ParthKhanna07/HackFest2k19   \n",
       "174                                     bcgov/mem-mmti   \n",
       "223               saeid-h/Natural-Gas-Price-Prediction   \n",
       "167  hellopteromyini/Cutting-edge-technology-RNN-in...   \n",
       "\n",
       "                                       readme_contents  \\\n",
       "274                                # natural_gas_price   \n",
       "105  ## Data science tools for petroleum exploratio...   \n",
       "135  # libzen\\n---\\n\\nlibzen is a C++ library for p...   \n",
       "246                                   GasNaturalFeno\\n   \n",
       "113  npd-benchmark (v1.10.0)\\n====================\\...   \n",
       "272                              # JiangSuNaturalGas\\n   \n",
       "153  # PetroBYTES\\n ![LOGO](https://driller.000webh...   \n",
       "174  # mem-mmti (nrs)\\nmem-mmti is a project of the...   \n",
       "223  # Natural Gas Price Prediction\\n\\nNGPF_GUI.m i...   \n",
       "167  # Cutting-edge-technology-RNN-introduction\\n\\n...   \n",
       "\n",
       "                                           clean_tokes  \\\n",
       "274                                [natural_gas_price]   \n",
       "105  [data, science, tools, for, petroleum, explora...   \n",
       "135  [libzen, libzen, is, a, c, library, for, petro...   \n",
       "246                                   [gasnaturalfeno]   \n",
       "113  [npdbenchmark, v1100, official, documentation,...   \n",
       "272                                [jiangsunaturalgas]   \n",
       "153  [petrobytes, logohttpsdriller000webhostappcomc...   \n",
       "174  [memmmti, nrs, memmmti, is, a, project, of, th...   \n",
       "223  [natural, gas, price, prediction, ngpf_guim, i...   \n",
       "167  [cuttingedgetechnologyrnnintroduction, this, i...   \n",
       "\n",
       "                                         clean_stemmed  \\\n",
       "274                                   natural_gas_pric   \n",
       "105  data scienc tool petroleum explor product thi ...   \n",
       "135  libzen libzen c librari petroleumdomain unit m...   \n",
       "246                                     gasnaturalfeno   \n",
       "113  npdbenchmark v1100 offici document httpontopgi...   \n",
       "272                                   jiangsunaturalga   \n",
       "153  petrobyt logohttpsdriller000webhostappcomclien...   \n",
       "174  memmmti nr memmmti project ministri energi min...   \n",
       "223  natur ga price predict ngpf_guim best start po...   \n",
       "167  cuttingedgetechnologyrnnintroduct thi conclus ...   \n",
       "\n",
       "                                      clean_lemmatized  \n",
       "274                                  natural_gas_price  \n",
       "105  data science tool petroleum exploration produc...  \n",
       "135  libzen libzen c library petroleumdomain unit m...  \n",
       "246                                     gasnaturalfeno  \n",
       "113  npdbenchmark v1100 official documentation http...  \n",
       "272                                  jiangsunaturalgas  \n",
       "153  petrobytes logohttpsdriller000webhostappcomcli...  \n",
       "174  memmmti nrs memmmti project ministry energy mi...  \n",
       "223  natural gas price prediction ngpf_guim best st...  \n",
       "167  cuttingedgetechnologyrnnintroduction conclusio...  "
      ]
     },
     "execution_count": 8,
     "metadata": {},
     "output_type": "execute_result"
    }
   ],
   "source": [
    "df = prepare.prep_repo_data(df)\n",
    "df.sample(10)"
   ]
  },
  {
   "cell_type": "code",
   "execution_count": 12,
   "metadata": {},
   "outputs": [],
   "source": [
    "df.isna().sum()\n",
    "df.dropna(inplace=True)"
   ]
  },
  {
   "cell_type": "code",
   "execution_count": 18,
   "metadata": {},
   "outputs": [
    {
     "data": {
      "text/html": [
       "<div>\n",
       "<style scoped>\n",
       "    .dataframe tbody tr th:only-of-type {\n",
       "        vertical-align: middle;\n",
       "    }\n",
       "\n",
       "    .dataframe tbody tr th {\n",
       "        vertical-align: top;\n",
       "    }\n",
       "\n",
       "    .dataframe thead th {\n",
       "        text-align: right;\n",
       "    }\n",
       "</style>\n",
       "<table border=\"1\" class=\"dataframe\">\n",
       "  <thead>\n",
       "    <tr style=\"text-align: right;\">\n",
       "      <th></th>\n",
       "      <th>language</th>\n",
       "      <th>category</th>\n",
       "      <th>repo</th>\n",
       "      <th>readme_contents</th>\n",
       "      <th>clean_tokes</th>\n",
       "      <th>clean_stemmed</th>\n",
       "      <th>clean_lemmatized</th>\n",
       "    </tr>\n",
       "  </thead>\n",
       "  <tbody>\n",
       "    <tr>\n",
       "      <th>count</th>\n",
       "      <td>214</td>\n",
       "      <td>214</td>\n",
       "      <td>214</td>\n",
       "      <td>214</td>\n",
       "      <td>214</td>\n",
       "      <td>214</td>\n",
       "      <td>214</td>\n",
       "    </tr>\n",
       "    <tr>\n",
       "      <th>unique</th>\n",
       "      <td>28</td>\n",
       "      <td>3</td>\n",
       "      <td>212</td>\n",
       "      <td>211</td>\n",
       "      <td>211</td>\n",
       "      <td>211</td>\n",
       "      <td>211</td>\n",
       "    </tr>\n",
       "    <tr>\n",
       "      <th>top</th>\n",
       "      <td>Python</td>\n",
       "      <td>solar_energy</td>\n",
       "      <td>lakhanimanan111/DataAnalysis_SemanticWeb</td>\n",
       "      <td># DataAnalysis_SemanticWeb\\nThe aim of this pr...</td>\n",
       "      <td>[dataanalysis_semanticweb, the, aim, of, this,...</td>\n",
       "      <td>solmat solar mesonet analysi track energi __so...</td>\n",
       "      <td>dataanalysis_semanticweb aim project find effi...</td>\n",
       "    </tr>\n",
       "    <tr>\n",
       "      <th>freq</th>\n",
       "      <td>42</td>\n",
       "      <td>85</td>\n",
       "      <td>2</td>\n",
       "      <td>2</td>\n",
       "      <td>2</td>\n",
       "      <td>2</td>\n",
       "      <td>2</td>\n",
       "    </tr>\n",
       "  </tbody>\n",
       "</table>\n",
       "</div>"
      ],
      "text/plain": [
       "       language      category                                      repo  \\\n",
       "count       214           214                                       214   \n",
       "unique       28             3                                       212   \n",
       "top      Python  solar_energy  lakhanimanan111/DataAnalysis_SemanticWeb   \n",
       "freq         42            85                                         2   \n",
       "\n",
       "                                          readme_contents  \\\n",
       "count                                                 214   \n",
       "unique                                                211   \n",
       "top     # DataAnalysis_SemanticWeb\\nThe aim of this pr...   \n",
       "freq                                                    2   \n",
       "\n",
       "                                              clean_tokes  \\\n",
       "count                                                 214   \n",
       "unique                                                211   \n",
       "top     [dataanalysis_semanticweb, the, aim, of, this,...   \n",
       "freq                                                    2   \n",
       "\n",
       "                                            clean_stemmed  \\\n",
       "count                                                 214   \n",
       "unique                                                211   \n",
       "top     solmat solar mesonet analysi track energi __so...   \n",
       "freq                                                    2   \n",
       "\n",
       "                                         clean_lemmatized  \n",
       "count                                                 214  \n",
       "unique                                                211  \n",
       "top     dataanalysis_semanticweb aim project find effi...  \n",
       "freq                                                    2  "
      ]
     },
     "execution_count": 18,
     "metadata": {},
     "output_type": "execute_result"
    }
   ],
   "source": [
    "df.describe()"
   ]
  },
  {
   "cell_type": "code",
   "execution_count": null,
   "metadata": {},
   "outputs": [],
   "source": []
  }
 ],
 "metadata": {
  "kernelspec": {
   "display_name": "Python 3",
   "language": "python",
   "name": "python3"
  },
  "language_info": {
   "codemirror_mode": {
    "name": "ipython",
    "version": 3
   },
   "file_extension": ".py",
   "mimetype": "text/x-python",
   "name": "python",
   "nbconvert_exporter": "python",
   "pygments_lexer": "ipython3",
   "version": "3.7.4"
  }
 },
 "nbformat": 4,
 "nbformat_minor": 2
}
