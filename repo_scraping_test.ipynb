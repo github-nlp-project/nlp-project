{
 "cells": [
  {
   "cell_type": "code",
   "execution_count": 3,
   "metadata": {},
   "outputs": [],
   "source": [
    "from requests import get\n",
    "from bs4 import BeautifulSoup\n",
    "import os\n",
    "import acquire\n",
    "\n",
    "import pandas as pd\n",
    "from env import github_token, github_username"
   ]
  },
  {
   "cell_type": "code",
   "execution_count": 5,
   "metadata": {},
   "outputs": [
    {
     "data": {
      "text/html": [
       "<div>\n",
       "<style scoped>\n",
       "    .dataframe tbody tr th:only-of-type {\n",
       "        vertical-align: middle;\n",
       "    }\n",
       "\n",
       "    .dataframe tbody tr th {\n",
       "        vertical-align: top;\n",
       "    }\n",
       "\n",
       "    .dataframe thead th {\n",
       "        text-align: right;\n",
       "    }\n",
       "</style>\n",
       "<table border=\"1\" class=\"dataframe\">\n",
       "  <thead>\n",
       "    <tr style=\"text-align: right;\">\n",
       "      <th></th>\n",
       "      <th>repo</th>\n",
       "      <th>language</th>\n",
       "      <th>readme_contents</th>\n",
       "    </tr>\n",
       "  </thead>\n",
       "  <tbody>\n",
       "    <tr>\n",
       "      <th>0</th>\n",
       "      <td>gocodeup/codeup-setup-script</td>\n",
       "      <td>Shell</td>\n",
       "      <td># Codeup Setup Script\\n\\nSetup script for Code...</td>\n",
       "    </tr>\n",
       "    <tr>\n",
       "      <th>1</th>\n",
       "      <td>gocodeup/movies-application</td>\n",
       "      <td>JavaScript</td>\n",
       "      <td># Movies Application\\n\\nFor this project, we w...</td>\n",
       "    </tr>\n",
       "    <tr>\n",
       "      <th>2</th>\n",
       "      <td>torvalds/linux</td>\n",
       "      <td>C</td>\n",
       "      <td>Linux kernel\\n============\\n\\nThere are severa...</td>\n",
       "    </tr>\n",
       "  </tbody>\n",
       "</table>\n",
       "</div>"
      ],
      "text/plain": [
       "                           repo    language  \\\n",
       "0  gocodeup/codeup-setup-script       Shell   \n",
       "1   gocodeup/movies-application  JavaScript   \n",
       "2                torvalds/linux           C   \n",
       "\n",
       "                                     readme_contents  \n",
       "0  # Codeup Setup Script\\n\\nSetup script for Code...  \n",
       "1  # Movies Application\\n\\nFor this project, we w...  \n",
       "2  Linux kernel\\n============\\n\\nThere are severa...  "
      ]
     },
     "execution_count": 5,
     "metadata": {},
     "output_type": "execute_result"
    }
   ],
   "source": [
    "pd.read_json('data.json')"
   ]
  },
  {
   "cell_type": "code",
   "execution_count": 6,
   "metadata": {},
   "outputs": [],
   "source": [
    "url = 'https://github.com/search?o=desc&p=1&q=petroleum&s=stars&type=Repositories'\n",
    "headers = {'User-Agent': 'manual search'} \n",
    "response = get(url, headers=headers)\n",
    "soup = BeautifulSoup(response.content, 'html.parser')"
   ]
  },
  {
   "cell_type": "code",
   "execution_count": 22,
   "metadata": {},
   "outputs": [],
   "source": [
    "# soup.text"
   ]
  },
  {
   "cell_type": "code",
   "execution_count": 35,
   "metadata": {},
   "outputs": [],
   "source": [
    "def get_repo_names(url):\n",
    "    headers = {'User-Agent': 'manual search'} \n",
    "    response = get(url, headers=headers)\n",
    "    soup = BeautifulSoup(response.content, 'html.parser')\n",
    "    repos = [soup.find_all('a', class_='v-align-middle')[i].text\\\n",
    "     for i in range(10)]\n",
    "    return repos"
   ]
  },
  {
   "cell_type": "code",
   "execution_count": 37,
   "metadata": {},
   "outputs": [],
   "source": [
    "# [soup.find_all('a', class_='v-align-middle')[i].text\\\n",
    "#  for i in range(10)]"
   ]
  },
  {
   "cell_type": "code",
   "execution_count": 43,
   "metadata": {},
   "outputs": [],
   "source": [
    "# urls = ['https://github.com/search?o=desc&p='+str(i)\\\n",
    "#     +'&q=petroleum&s=stars&type=Repositories' for i in range(1,11)]\n",
    "# urls"
   ]
  },
  {
   "cell_type": "code",
   "execution_count": 61,
   "metadata": {},
   "outputs": [],
   "source": [
    "# test = []\n",
    "# urls = ['https://github.com/search?o=desc&p=1&q=petroleum&s=stars&type=Repositories',\n",
    "#  'https://github.com/search?o=desc&p=2&q=petroleum&s=stars&type=Repositories',\n",
    "#  'https://github.com/search?o=desc&p=3&q=petroleum&s=stars&type=Repositories',\n",
    "#  'https://github.com/search?o=desc&p=4&q=petroleum&s=stars&type=Repositories',\n",
    "#  'https://github.com/search?o=desc&p=5&q=petroleum&s=stars&type=Repositories',\n",
    "#  'https://github.com/search?o=desc&p=6&q=petroleum&s=stars&type=Repositories',\n",
    "#  ]\n",
    "# for url in urls:\n",
    "#     test.append(get_repo_names(url))\n",
    "# test"
   ]
  },
  {
   "cell_type": "code",
   "execution_count": 55,
   "metadata": {},
   "outputs": [
    {
     "data": {
      "text/plain": [
       "['https://github.com/search?o=desc&p=1&q=petroleum&s=stars&type=Repositories',\n",
       " 'https://github.com/search?o=desc&p=2&q=petroleum&s=stars&type=Repositories',\n",
       " 'https://github.com/search?o=desc&p=3&q=petroleum&s=stars&type=Repositories',\n",
       " 'https://github.com/search?o=desc&p=4&q=petroleum&s=stars&type=Repositories',\n",
       " 'https://github.com/search?o=desc&p=5&q=petroleum&s=stars&type=Repositories',\n",
       " 'https://github.com/search?o=desc&p=6&q=petroleum&s=stars&type=Repositories']"
      ]
     },
     "execution_count": 55,
     "metadata": {},
     "output_type": "execute_result"
    }
   ],
   "source": [
    "urls = ['https://github.com/search?o=desc&p='+str(i)\\\n",
    "    +'&q=petroleum&s=stars&type=Repositories' for i in range(1,7)]\n",
    "urls"
   ]
  },
  {
   "cell_type": "code",
   "execution_count": 56,
   "metadata": {},
   "outputs": [
    {
     "data": {
      "text/plain": [
       "6"
      ]
     },
     "execution_count": 56,
     "metadata": {},
     "output_type": "execute_result"
    }
   ],
   "source": [
    "len(urls)"
   ]
  },
  {
   "cell_type": "code",
   "execution_count": 59,
   "metadata": {},
   "outputs": [
    {
     "data": {
      "text/plain": [
       "tuple"
      ]
     },
     "execution_count": 59,
     "metadata": {},
     "output_type": "execute_result"
    }
   ],
   "source": [
    "test = ()\n",
    "type(test)"
   ]
  },
  {
   "cell_type": "code",
   "execution_count": 62,
   "metadata": {},
   "outputs": [
    {
     "data": {
      "text/plain": [
       "[['kinverarity1/lasio',\n",
       "  'agile-geoscience/welly',\n",
       "  'akashlevy/Deep-Learn-Oil',\n",
       "  'Flaxbeard/ImmersivePetroleum',\n",
       "  'mutolisp/kh_pplines',\n",
       "  'mycarta/Data-science-tools-petroleum-exploration-and-production',\n",
       "  'GeostatisticsLessons/GeostatisticsLessonsNotebooks',\n",
       "  'f0nzie/rNodal',\n",
       "  'ICHEC/ExSeisDat',\n",
       "  'unifloc/unifloc_vba'],\n",
       " ['Petroware/NpdIo',\n",
       "  'f0nzie/rNodal.oilwells',\n",
       "  'WaltXon/pytroleum',\n",
       "  'AnneEstoppey/EasyDataTools',\n",
       "  'ontop/npd-benchmark',\n",
       "  'mwentzWW/petrolpy',\n",
       "  'f0nzie/evolution_data_science_petroleum_engineering',\n",
       "  'f0nzie/vlp-bottomhole-algorithm',\n",
       "  'drceph/petroleumgenerator',\n",
       "  'fluidgeo/fluidgeo-simulator'],\n",
       " ['petrocode/blackoilmsv',\n",
       "  'vehagn/tpg4155',\n",
       "  'aegis4048/Petroleum_Engineering',\n",
       "  'vishal-anand-1/Reservoir-recovery-prediction',\n",
       "  'ivarref/bp-diagrams',\n",
       "  'abhishekdbihani/synthetic_well-log_polynomial_regression',\n",
       "  'RaminMoghadasi/compsim',\n",
       "  'stephenjjohnson/PE_functions',\n",
       "  'SumedhaSingh/Petroleum-Price-Prediction-Model',\n",
       "  'samcot/Python-OpenServer'],\n",
       " ['danielbarr3ra/Petroleum_Enginering_Codes',\n",
       "  'manjunath5496/Petroleum-Engineering-Books',\n",
       "  'm2b/API11_1VCF',\n",
       "  'equinor/OpenServer',\n",
       "  'einar90/tpg4162',\n",
       "  'zentechnologygroup/libzen',\n",
       "  'kmcken/PetroThermo',\n",
       "  'rufuspollock/shell-oil-spills-niger-delta',\n",
       "  'oilmap/oilmap',\n",
       "  'swati1024/torrents'],\n",
       " ['einar90/tpg4162',\n",
       "  'zentechnologygroup/libzen',\n",
       "  'kmcken/PetroThermo',\n",
       "  'rufuspollock/shell-oil-spills-niger-delta',\n",
       "  'oilmap/oilmap',\n",
       "  'swati1024/torrents',\n",
       "  'f0nzie/data_science_ptech',\n",
       "  'simulkade/peteng',\n",
       "  'stackyism/hpcl_support',\n",
       "  'Eshichi/Petroleum'],\n",
       " ['salmansust/MachineLearning-TSF-PetroleumProduction',\n",
       "  'ecate/petroleum',\n",
       "  'jcamiloangarita/petrodc',\n",
       "  'gagetyrussell/petroleum_engineering',\n",
       "  'xinyuyao22/Petroleum_consumed',\n",
       "  'swethababurao/BritishPetroleum',\n",
       "  'navjotwarade/National-Petroleum',\n",
       "  'southernstatespetroleum/Southern-States-Petroleum',\n",
       "  'theone9807/Forecasting-Price-Petroleum-Products',\n",
       "  'pally-dspet/Petroleum-MachineLearning']]"
      ]
     },
     "execution_count": 62,
     "metadata": {},
     "output_type": "execute_result"
    }
   ],
   "source": [
    "test = []\n",
    "for i, url in enumerate(urls):\n",
    "    test.append(get_repo_names(url))\n",
    "test"
   ]
  },
  {
   "cell_type": "code",
   "execution_count": 64,
   "metadata": {},
   "outputs": [],
   "source": [
    "test2 = test.copy()"
   ]
  },
  {
   "cell_type": "code",
   "execution_count": 63,
   "metadata": {},
   "outputs": [
    {
     "data": {
      "text/plain": [
       "['kinverarity1/lasio',\n",
       " 'agile-geoscience/welly',\n",
       " 'akashlevy/Deep-Learn-Oil',\n",
       " 'Flaxbeard/ImmersivePetroleum',\n",
       " 'mutolisp/kh_pplines',\n",
       " 'mycarta/Data-science-tools-petroleum-exploration-and-production',\n",
       " 'GeostatisticsLessons/GeostatisticsLessonsNotebooks',\n",
       " 'f0nzie/rNodal',\n",
       " 'ICHEC/ExSeisDat',\n",
       " 'unifloc/unifloc_vba']"
      ]
     },
     "execution_count": 63,
     "metadata": {},
     "output_type": "execute_result"
    }
   ],
   "source": [
    "test[0]"
   ]
  },
  {
   "cell_type": "code",
   "execution_count": 66,
   "metadata": {},
   "outputs": [
    {
     "data": {
      "text/plain": [
       "['kinverarity1/lasio',\n",
       " 'agile-geoscience/welly',\n",
       " 'akashlevy/Deep-Learn-Oil',\n",
       " 'Flaxbeard/ImmersivePetroleum',\n",
       " 'mutolisp/kh_pplines',\n",
       " 'mycarta/Data-science-tools-petroleum-exploration-and-production',\n",
       " 'GeostatisticsLessons/GeostatisticsLessonsNotebooks',\n",
       " 'f0nzie/rNodal',\n",
       " 'ICHEC/ExSeisDat',\n",
       " 'unifloc/unifloc_vba']"
      ]
     },
     "execution_count": 66,
     "metadata": {},
     "output_type": "execute_result"
    }
   ],
   "source": [
    "test2[0]"
   ]
  },
  {
   "cell_type": "code",
   "execution_count": 72,
   "metadata": {},
   "outputs": [
    {
     "data": {
      "text/plain": [
       "['kinverarity1/lasio',\n",
       " 'agile-geoscience/welly',\n",
       " 'akashlevy/Deep-Learn-Oil',\n",
       " 'Flaxbeard/ImmersivePetroleum',\n",
       " 'mutolisp/kh_pplines',\n",
       " 'mycarta/Data-science-tools-petroleum-exploration-and-production',\n",
       " 'GeostatisticsLessons/GeostatisticsLessonsNotebooks',\n",
       " 'f0nzie/rNodal',\n",
       " 'ICHEC/ExSeisDat',\n",
       " 'unifloc/unifloc_vba']"
      ]
     },
     "execution_count": 72,
     "metadata": {},
     "output_type": "execute_result"
    }
   ],
   "source": [
    "test2[0]"
   ]
  },
  {
   "cell_type": "code",
   "execution_count": 73,
   "metadata": {},
   "outputs": [],
   "source": [
    "lm = []\n",
    "lm = lm.append(test2[0])\n",
    "lm"
   ]
  },
  {
   "cell_type": "code",
   "execution_count": 74,
   "metadata": {},
   "outputs": [
    {
     "data": {
      "text/plain": [
       "NoneType"
      ]
     },
     "execution_count": 74,
     "metadata": {},
     "output_type": "execute_result"
    }
   ],
   "source": [
    "type(lm)"
   ]
  },
  {
   "cell_type": "code",
   "execution_count": null,
   "metadata": {},
   "outputs": [],
   "source": []
  }
 ],
 "metadata": {
  "kernelspec": {
   "display_name": "Python 3",
   "language": "python",
   "name": "python3"
  },
  "language_info": {
   "codemirror_mode": {
    "name": "ipython",
    "version": 3
   },
   "file_extension": ".py",
   "mimetype": "text/x-python",
   "name": "python",
   "nbconvert_exporter": "python",
   "pygments_lexer": "ipython3",
   "version": "3.7.4"
  }
 },
 "nbformat": 4,
 "nbformat_minor": 2
}
