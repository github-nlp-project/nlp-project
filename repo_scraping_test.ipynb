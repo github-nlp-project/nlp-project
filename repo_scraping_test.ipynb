{
 "cells": [
  {
   "cell_type": "code",
   "execution_count": 226,
   "metadata": {},
   "outputs": [],
   "source": [
    "import acquire, prepare\n",
    "from env import github_token, github_username\n",
    "import csv\n",
    "import json\n",
    "import matplotlib.pyplot as plt\n",
    "import pandas as pd\n",
    "import seaborn as sns\n",
    "\n",
    "from sklearn.feature_extraction.text import TfidfVectorizer\n",
    "from sklearn.model_selection import train_test_split\n",
    "from sklearn.linear_model import LogisticRegression\n",
    "from sklearn.tree import DecisionTreeClassifier\n",
    "from sklearn.ensemble import RandomForestClassifier\n",
    "from sklearn.neighbors import KNeighborsClassifier\n",
    "from sklearn.metrics import classification_report, accuracy_score"
   ]
  },
  {
   "cell_type": "code",
   "execution_count": 83,
   "metadata": {},
   "outputs": [],
   "source": [
    "plt.rc('figure', figsize=(14,8))\n",
    "plt.rc('font', size=13)"
   ]
  },
  {
   "cell_type": "code",
   "execution_count": 2,
   "metadata": {},
   "outputs": [],
   "source": [
    "# acquire.acquire_repo_list('petroleum')\n",
    "# acquire.acquire_repo_list('solar energy')\n",
    "# acquire.acquire_repo_list('natural gas')"
   ]
  },
  {
   "cell_type": "code",
   "execution_count": 3,
   "metadata": {},
   "outputs": [],
   "source": [
    "# df = acquire.scrape_github_data()"
   ]
  },
  {
   "cell_type": "code",
   "execution_count": 4,
   "metadata": {},
   "outputs": [],
   "source": [
    "# len(df)"
   ]
  },
  {
   "cell_type": "code",
   "execution_count": 5,
   "metadata": {},
   "outputs": [],
   "source": [
    "# full_list = []\n",
    "# for file in os.listdir():\n",
    "#     if 'repos.json' in file:\n",
    "#         full_list.append(file)\n",
    "# item_list = []\n",
    "# for item in full_list:\n",
    "#     lm = pd.read_json(item)\n",
    "#     item_list += (list(lm[0]))\n",
    "# REPOS = item_list\n",
    "# len(REPOS)"
   ]
  },
  {
   "cell_type": "code",
   "execution_count": 6,
   "metadata": {},
   "outputs": [],
   "source": [
    "# REPOS"
   ]
  },
  {
   "cell_type": "code",
   "execution_count": 7,
   "metadata": {},
   "outputs": [],
   "source": [
    "# frame = [acquire.process_repo(repo) for repo in REPOS]"
   ]
  },
  {
   "cell_type": "code",
   "execution_count": 8,
   "metadata": {},
   "outputs": [],
   "source": [
    "# len(frame)"
   ]
  },
  {
   "cell_type": "code",
   "execution_count": 9,
   "metadata": {},
   "outputs": [],
   "source": [
    "# frame"
   ]
  },
  {
   "cell_type": "code",
   "execution_count": 10,
   "metadata": {},
   "outputs": [],
   "source": [
    "# pd.DataFrame(frame).to_csv('all_repos_dict.csv', index=False)"
   ]
  },
  {
   "cell_type": "code",
   "execution_count": 11,
   "metadata": {},
   "outputs": [],
   "source": [
    "# pd.read_json('data.json')"
   ]
  },
  {
   "cell_type": "code",
   "execution_count": 12,
   "metadata": {},
   "outputs": [],
   "source": [
    "# url = 'https://github.com/search?o=desc&p=1&q=petroleum&s=stars&type=Repositories'\n",
    "# headers = {'User-Agent': 'manual search'} \n",
    "# response = get(url, headers=headers)\n",
    "# # print(response.status_code)\n",
    "# soup = BeautifulSoup(response.content, 'html.parser')"
   ]
  },
  {
   "cell_type": "code",
   "execution_count": 13,
   "metadata": {},
   "outputs": [],
   "source": [
    "# soup.find_all('a', class_='v-align-middle')[0].text"
   ]
  },
  {
   "cell_type": "code",
   "execution_count": 14,
   "metadata": {},
   "outputs": [],
   "source": [
    "# def get_repo_names(url):\n",
    "#     headers = {'User-Agent': 'manual search'} \n",
    "#     response = get(url, headers=headers)\n",
    "#     soup = BeautifulSoup(response.content, 'html.parser')\n",
    "#     repos = []\n",
    "#     for i in range(10):\n",
    "#         repos.append(soup.find_all('a', class_='v-align-middle')\\\n",
    "#                  [i].text)\n",
    "#         time.sleep(.8)\n",
    "#     return repos"
   ]
  },
  {
   "cell_type": "code",
   "execution_count": 15,
   "metadata": {},
   "outputs": [],
   "source": [
    "# url = 'https://github.com/search?o=desc&p=1&q=petroleum&s=stars&type=Repositories'\n",
    "# get_repo_names(url)"
   ]
  },
  {
   "cell_type": "code",
   "execution_count": 16,
   "metadata": {},
   "outputs": [],
   "source": [
    "# urls = [f'https://github.com/search?o=desc&p={i}\\\n",
    "# &q=petroleum+size%3A>100&s=stars&type=Repositories' \\\n",
    "# for i in range(1,11)]\n",
    "# urls[0]"
   ]
  },
  {
   "cell_type": "code",
   "execution_count": 17,
   "metadata": {},
   "outputs": [],
   "source": [
    "# if not os.path.isfile(f'{category}.json'):\n",
    "#     lol.to_csv('data.csv')\n",
    "# data = pd.read_csv('data.csv', header=None, index_col=0,\n",
    "#                   names=['number','repo'])"
   ]
  },
  {
   "cell_type": "code",
   "execution_count": 18,
   "metadata": {},
   "outputs": [],
   "source": [
    "# def acquire_repo_list(category):\n",
    "#     if (' ') in category:\n",
    "#         category = category.replace(' ','_')\n",
    "#         f_category = category.replace(' ','+')\n",
    "\n",
    "#     urls = [f'https://github.com/search?o=desc&p={i}\\\n",
    "#     &q={f_category}+size:>100&s=stars&type=Repositories'\\\n",
    "#     for i in range(1,11)]\n",
    "\n",
    "#     test = []\n",
    "#     for url in urls:\n",
    "#         test += get_repo_names(url)\n",
    "        \n",
    "#     if not os.path.isfile(f'{category}.json'):  \n",
    "#         json.dump(test, open(f\"{category}_repos.json\", \"w\"),\n",
    "#                   indent=1)\n",
    "    \n",
    "#     return test"
   ]
  },
  {
   "cell_type": "code",
   "execution_count": 19,
   "metadata": {},
   "outputs": [],
   "source": [
    "# solar = acquire_repo_list('solar energy')"
   ]
  },
  {
   "cell_type": "code",
   "execution_count": 20,
   "metadata": {},
   "outputs": [],
   "source": [
    "# len(solar)"
   ]
  },
  {
   "cell_type": "code",
   "execution_count": 21,
   "metadata": {},
   "outputs": [],
   "source": [
    "# lm = pd.read_json('solar_energy_repo.json')\n",
    "# list(lm[0])"
   ]
  },
  {
   "cell_type": "code",
   "execution_count": 22,
   "metadata": {},
   "outputs": [],
   "source": [
    "# gas = acquire_repo_list('natural gas')"
   ]
  },
  {
   "cell_type": "code",
   "execution_count": 23,
   "metadata": {},
   "outputs": [],
   "source": [
    "# len(gas)"
   ]
  },
  {
   "cell_type": "code",
   "execution_count": 24,
   "metadata": {},
   "outputs": [],
   "source": [
    "# full_list = []\n",
    "# for file in os.listdir():\n",
    "#     if 'repo.json' in file:\n",
    "#         full_list.append(file)\n",
    "# full_list"
   ]
  },
  {
   "cell_type": "code",
   "execution_count": 25,
   "metadata": {},
   "outputs": [],
   "source": [
    "# for i, item in enumerate(full_list):\n",
    "#     locals()['lm'+str(i)] = pd.read_json(item)\n",
    "# repo_list = []\n",
    "# for i in range(len(full_list)):\n",
    "#     repo_list.append(list('lm'+str(i))[0])\n",
    "# repo_list"
   ]
  },
  {
   "cell_type": "code",
   "execution_count": 26,
   "metadata": {},
   "outputs": [],
   "source": [
    "# item_list = []\n",
    "# for item in full_list:\n",
    "#     lm = pd.read_json(item)\n",
    "#     item_list += (list(lm[0]))"
   ]
  },
  {
   "cell_type": "code",
   "execution_count": 27,
   "metadata": {},
   "outputs": [],
   "source": [
    "# item_list"
   ]
  },
  {
   "cell_type": "code",
   "execution_count": 28,
   "metadata": {},
   "outputs": [],
   "source": [
    "# lm = pd.read_json('natural_gas_repo.json')\n",
    "# lm2 = pd.read_json('solar_energy_repo.json')\n",
    "# len(list(lm[0]) + list(lm2[0]))"
   ]
  },
  {
   "cell_type": "code",
   "execution_count": 29,
   "metadata": {},
   "outputs": [],
   "source": [
    "# test = []\n",
    "# for url in urls:\n",
    "#     test += get_repo_names(url)\n",
    "\n",
    "# len(test)"
   ]
  },
  {
   "cell_type": "code",
   "execution_count": 30,
   "metadata": {},
   "outputs": [],
   "source": [
    "# test"
   ]
  },
  {
   "cell_type": "code",
   "execution_count": 31,
   "metadata": {},
   "outputs": [],
   "source": [
    "# lol = pd.Series(test)\n",
    "# test[:6]"
   ]
  },
  {
   "cell_type": "code",
   "execution_count": 32,
   "metadata": {},
   "outputs": [],
   "source": [
    "# if not os.path.isfile('data.csv'):\n",
    "#     lol.to_csv('data.csv')\n",
    "# data = pd.read_csv('data.csv', header=None, index_col=0,\n",
    "#                   names=['number','repo'])"
   ]
  },
  {
   "cell_type": "code",
   "execution_count": 33,
   "metadata": {},
   "outputs": [],
   "source": [
    "# data_list = list(data.repo)"
   ]
  },
  {
   "cell_type": "code",
   "execution_count": 34,
   "metadata": {},
   "outputs": [],
   "source": [
    "# repo = 'gocodeup/codeup-setup-script'"
   ]
  },
  {
   "cell_type": "code",
   "execution_count": 35,
   "metadata": {},
   "outputs": [],
   "source": [
    "# acquire.scrape_github_data()"
   ]
  },
  {
   "cell_type": "code",
   "execution_count": 36,
   "metadata": {},
   "outputs": [],
   "source": [
    "# pd.read_json('solar_energy_repo.json')"
   ]
  },
  {
   "cell_type": "code",
   "execution_count": 37,
   "metadata": {},
   "outputs": [
    {
     "data": {
      "text/html": [
       "<div>\n",
       "<style scoped>\n",
       "    .dataframe tbody tr th:only-of-type {\n",
       "        vertical-align: middle;\n",
       "    }\n",
       "\n",
       "    .dataframe tbody tr th {\n",
       "        vertical-align: top;\n",
       "    }\n",
       "\n",
       "    .dataframe thead th {\n",
       "        text-align: right;\n",
       "    }\n",
       "</style>\n",
       "<table border=\"1\" class=\"dataframe\">\n",
       "  <thead>\n",
       "    <tr style=\"text-align: right;\">\n",
       "      <th></th>\n",
       "      <th>language</th>\n",
       "      <th>category</th>\n",
       "      <th>repo</th>\n",
       "      <th>readme_contents</th>\n",
       "    </tr>\n",
       "  </thead>\n",
       "  <tbody>\n",
       "    <tr>\n",
       "      <th>0</th>\n",
       "      <td>Python</td>\n",
       "      <td>solar_energy</td>\n",
       "      <td>ColasGael/Machine-Learning-for-Solar-Energy-Pr...</td>\n",
       "      <td># Machine-Learning-for-Solar-Energy-Prediction...</td>\n",
       "    </tr>\n",
       "    <tr>\n",
       "      <th>1</th>\n",
       "      <td>Python</td>\n",
       "      <td>solar_energy</td>\n",
       "      <td>meltaxa/solariot</td>\n",
       "      <td># Solariot\\n\\nLeverage your IoT enabled Solar ...</td>\n",
       "    </tr>\n",
       "    <tr>\n",
       "      <th>2</th>\n",
       "      <td>Python</td>\n",
       "      <td>solar_energy</td>\n",
       "      <td>renewables-ninja/gsee</td>\n",
       "      <td>[![Master branch build status](https://img.shi...</td>\n",
       "    </tr>\n",
       "    <tr>\n",
       "      <th>3</th>\n",
       "      <td>C++</td>\n",
       "      <td>solar_energy</td>\n",
       "      <td>3KUdelta/Solar_WiFi_Weather_Station</td>\n",
       "      <td># Zambretti Forecaster on Solar WiFi Weather S...</td>\n",
       "    </tr>\n",
       "    <tr>\n",
       "      <th>4</th>\n",
       "      <td>R</td>\n",
       "      <td>solar_energy</td>\n",
       "      <td>ropensci/nasapower</td>\n",
       "      <td>\\n[![R build status](https://github.com/ropens...</td>\n",
       "    </tr>\n",
       "  </tbody>\n",
       "</table>\n",
       "</div>"
      ],
      "text/plain": [
       "  language      category                                               repo  \\\n",
       "0   Python  solar_energy  ColasGael/Machine-Learning-for-Solar-Energy-Pr...   \n",
       "1   Python  solar_energy                                   meltaxa/solariot   \n",
       "2   Python  solar_energy                              renewables-ninja/gsee   \n",
       "3      C++  solar_energy                3KUdelta/Solar_WiFi_Weather_Station   \n",
       "4        R  solar_energy                                 ropensci/nasapower   \n",
       "\n",
       "                                     readme_contents  \n",
       "0  # Machine-Learning-for-Solar-Energy-Prediction...  \n",
       "1  # Solariot\\n\\nLeverage your IoT enabled Solar ...  \n",
       "2  [![Master branch build status](https://img.shi...  \n",
       "3  # Zambretti Forecaster on Solar WiFi Weather S...  \n",
       "4  \\n[![R build status](https://github.com/ropens...  "
      ]
     },
     "execution_count": 37,
     "metadata": {},
     "output_type": "execute_result"
    }
   ],
   "source": [
    "df = pd.read_csv('all_repos_dict.csv')\n",
    "\n",
    "df['category'] = 'unknown'\n",
    "\n",
    "df.loc[:100, 'category'] = 'solar_energy'\n",
    "df.loc[100:200, 'category'] = 'petroleum'\n",
    "df.loc[200:, 'category'] = 'natural_gas'\n",
    "df = df[['language','category','repo','readme_contents']]\n",
    "df.head()"
   ]
  },
  {
   "cell_type": "code",
   "execution_count": 38,
   "metadata": {},
   "outputs": [
    {
     "data": {
      "text/html": [
       "<div>\n",
       "<style scoped>\n",
       "    .dataframe tbody tr th:only-of-type {\n",
       "        vertical-align: middle;\n",
       "    }\n",
       "\n",
       "    .dataframe tbody tr th {\n",
       "        vertical-align: top;\n",
       "    }\n",
       "\n",
       "    .dataframe thead th {\n",
       "        text-align: right;\n",
       "    }\n",
       "</style>\n",
       "<table border=\"1\" class=\"dataframe\">\n",
       "  <thead>\n",
       "    <tr style=\"text-align: right;\">\n",
       "      <th></th>\n",
       "      <th>language</th>\n",
       "      <th>category</th>\n",
       "      <th>repo</th>\n",
       "      <th>readme_contents</th>\n",
       "    </tr>\n",
       "  </thead>\n",
       "  <tbody>\n",
       "    <tr>\n",
       "      <th>66</th>\n",
       "      <td>R</td>\n",
       "      <td>solar_energy</td>\n",
       "      <td>rockclimber112358/solar-energy-forecasting</td>\n",
       "      <td>NaN</td>\n",
       "    </tr>\n",
       "    <tr>\n",
       "      <th>182</th>\n",
       "      <td>Java</td>\n",
       "      <td>petroleum</td>\n",
       "      <td>Rakesh2017/PetroleumDriver</td>\n",
       "      <td>NaN</td>\n",
       "    </tr>\n",
       "    <tr>\n",
       "      <th>254</th>\n",
       "      <td>Python</td>\n",
       "      <td>natural_gas</td>\n",
       "      <td>guitar1999/gas_logging</td>\n",
       "      <td>NaN</td>\n",
       "    </tr>\n",
       "  </tbody>\n",
       "</table>\n",
       "</div>"
      ],
      "text/plain": [
       "    language      category                                        repo  \\\n",
       "66         R  solar_energy  rockclimber112358/solar-energy-forecasting   \n",
       "182     Java     petroleum                  Rakesh2017/PetroleumDriver   \n",
       "254   Python   natural_gas                      guitar1999/gas_logging   \n",
       "\n",
       "    readme_contents  \n",
       "66              NaN  \n",
       "182             NaN  \n",
       "254             NaN  "
      ]
     },
     "execution_count": 38,
     "metadata": {},
     "output_type": "execute_result"
    }
   ],
   "source": [
    "df[df.readme_contents.isna()]"
   ]
  },
  {
   "cell_type": "code",
   "execution_count": 39,
   "metadata": {},
   "outputs": [
    {
     "data": {
      "text/plain": [
       "natural_gas     12\n",
       "petroleum        9\n",
       "solar_energy     7\n",
       "Name: category, dtype: int64"
      ]
     },
     "execution_count": 39,
     "metadata": {},
     "output_type": "execute_result"
    }
   ],
   "source": [
    "df[df.language.isna()].category.value_counts()"
   ]
  },
  {
   "cell_type": "code",
   "execution_count": 40,
   "metadata": {},
   "outputs": [],
   "source": [
    "df = prepare.prep_repo_data(df)\n",
    "df.dropna(inplace=True)\n",
    "df = df.reset_index(drop=True)"
   ]
  },
  {
   "cell_type": "code",
   "execution_count": 41,
   "metadata": {},
   "outputs": [],
   "source": [
    "df = df[df.index!=15]"
   ]
  },
  {
   "cell_type": "code",
   "execution_count": 42,
   "metadata": {},
   "outputs": [
    {
     "data": {
      "text/plain": [
       "16    16389\n",
       "47    10445\n",
       "72     7272\n",
       "95     7017\n",
       "8      6776\n",
       "Name: clean_lemmatized, dtype: int64"
      ]
     },
     "execution_count": 42,
     "metadata": {},
     "output_type": "execute_result"
    }
   ],
   "source": [
    "df.clean_lemmatized.apply(len).nlargest(5)"
   ]
  },
  {
   "cell_type": "code",
   "execution_count": 43,
   "metadata": {},
   "outputs": [
    {
     "data": {
      "text/plain": [
       "(213, 7)"
      ]
     },
     "execution_count": 43,
     "metadata": {},
     "output_type": "execute_result"
    }
   ],
   "source": [
    "df.shape"
   ]
  },
  {
   "cell_type": "code",
   "execution_count": 44,
   "metadata": {},
   "outputs": [],
   "source": [
    "df['word_count'] = df.clean_lemmatized.str.split().apply(len)"
   ]
  },
  {
   "cell_type": "code",
   "execution_count": 241,
   "metadata": {},
   "outputs": [],
   "source": [
    "df = df.replace('Matlab','MATLAB')"
   ]
  },
  {
   "cell_type": "code",
   "execution_count": 270,
   "metadata": {},
   "outputs": [],
   "source": [
    "low = df.language.value_counts() < 5"
   ]
  },
  {
   "cell_type": "code",
   "execution_count": 267,
   "metadata": {},
   "outputs": [],
   "source": [
    "low_lang = [low.index[i] for i, x in enumerate(low) if x]"
   ]
  },
  {
   "cell_type": "code",
   "execution_count": 271,
   "metadata": {},
   "outputs": [],
   "source": [
    "df = df[~df.language.isin(low_lang)]"
   ]
  },
  {
   "cell_type": "code",
   "execution_count": 289,
   "metadata": {},
   "outputs": [],
   "source": [
    "# top_lang = list(df.language.value_counts().head(10).index)\n",
    "# top_lang_df = df[df.language.isin(top_lang)]\n",
    "top_4_lang = list(df.language.value_counts().head(4).index)\n",
    "top_4_lang_df = df[df.language.isin(top_4_lang)]"
   ]
  },
  {
   "cell_type": "code",
   "execution_count": 290,
   "metadata": {},
   "outputs": [
    {
     "data": {
      "text/html": [
       "<div>\n",
       "<style scoped>\n",
       "    .dataframe tbody tr th:only-of-type {\n",
       "        vertical-align: middle;\n",
       "    }\n",
       "\n",
       "    .dataframe tbody tr th {\n",
       "        vertical-align: top;\n",
       "    }\n",
       "\n",
       "    .dataframe thead th {\n",
       "        text-align: right;\n",
       "    }\n",
       "</style>\n",
       "<table border=\"1\" class=\"dataframe\">\n",
       "  <thead>\n",
       "    <tr style=\"text-align: right;\">\n",
       "      <th></th>\n",
       "      <th>language</th>\n",
       "      <th>category</th>\n",
       "      <th>repo</th>\n",
       "      <th>readme_contents</th>\n",
       "      <th>clean_tokes</th>\n",
       "      <th>clean_stemmed</th>\n",
       "      <th>clean_lemmatized</th>\n",
       "      <th>word_count</th>\n",
       "    </tr>\n",
       "  </thead>\n",
       "  <tbody>\n",
       "    <tr>\n",
       "      <th>0</th>\n",
       "      <td>Python</td>\n",
       "      <td>solar_energy</td>\n",
       "      <td>ColasGael/Machine-Learning-for-Solar-Energy-Pr...</td>\n",
       "      <td># Machine-Learning-for-Solar-Energy-Prediction...</td>\n",
       "      <td>[machinelearningforsolarenergyprediction, by, ...</td>\n",
       "      <td>machinelearningforsolarenergypredict adel kuzm...</td>\n",
       "      <td>machinelearningforsolarenergyprediction adele ...</td>\n",
       "      <td>123</td>\n",
       "    </tr>\n",
       "    <tr>\n",
       "      <th>1</th>\n",
       "      <td>Python</td>\n",
       "      <td>solar_energy</td>\n",
       "      <td>meltaxa/solariot</td>\n",
       "      <td># Solariot\\n\\nLeverage your IoT enabled Solar ...</td>\n",
       "      <td>[solariot, leverage, your, iot, enabled, solar...</td>\n",
       "      <td>solariot leverag iot enabl solar pv invert str...</td>\n",
       "      <td>solariot leverage iot enabled solar pv inverte...</td>\n",
       "      <td>410</td>\n",
       "    </tr>\n",
       "    <tr>\n",
       "      <th>2</th>\n",
       "      <td>Python</td>\n",
       "      <td>solar_energy</td>\n",
       "      <td>renewables-ninja/gsee</td>\n",
       "      <td>[![Master branch build status](https://img.shi...</td>\n",
       "      <td>[master, branch, build, statushttpsimgshieldsi...</td>\n",
       "      <td>master branch build statushttpsimgshieldsioazu...</td>\n",
       "      <td>master branch build statushttpsimgshieldsioazu...</td>\n",
       "      <td>127</td>\n",
       "    </tr>\n",
       "    <tr>\n",
       "      <th>8</th>\n",
       "      <td>Python</td>\n",
       "      <td>solar_energy</td>\n",
       "      <td>sibyjackgrove/SolarPV-DER-simulation-utility</td>\n",
       "      <td>**Status:** Expect regular updates and bug fix...</td>\n",
       "      <td>[status, expect, regular, updates, and, bug, f...</td>\n",
       "      <td>statu expect regular updat bug fix util simul ...</td>\n",
       "      <td>status expect regular update bug fix utility s...</td>\n",
       "      <td>596</td>\n",
       "    </tr>\n",
       "    <tr>\n",
       "      <th>9</th>\n",
       "      <td>Python</td>\n",
       "      <td>solar_energy</td>\n",
       "      <td>zygmuntz/kaggle-solar</td>\n",
       "      <td>kaggle-solar\\n============\\n\\nSee [http://fast...</td>\n",
       "      <td>[kagglesolar, see, httpfastmlcompredictingsola...</td>\n",
       "      <td>kagglesolar see httpfastmlcompredictingsolaren...</td>\n",
       "      <td>kagglesolar see httpfastmlcompredictingsolaren...</td>\n",
       "      <td>21</td>\n",
       "    </tr>\n",
       "    <tr>\n",
       "      <th>...</th>\n",
       "      <td>...</td>\n",
       "      <td>...</td>\n",
       "      <td>...</td>\n",
       "      <td>...</td>\n",
       "      <td>...</td>\n",
       "      <td>...</td>\n",
       "      <td>...</td>\n",
       "      <td>...</td>\n",
       "    </tr>\n",
       "    <tr>\n",
       "      <th>204</th>\n",
       "      <td>JavaScript</td>\n",
       "      <td>natural_gas</td>\n",
       "      <td>mariorodeghiero/datopian</td>\n",
       "      <td>&lt;div align=\"center\"&gt;\\n\\n&lt;p&gt;Check online &lt;a hre...</td>\n",
       "      <td>[div, aligncenter, pcheck, online, a, hrefhttp...</td>\n",
       "      <td>div aligncent pcheck onlin hrefhttpsmariorodeg...</td>\n",
       "      <td>div aligncenter pcheck online hrefhttpsmarioro...</td>\n",
       "      <td>99</td>\n",
       "    </tr>\n",
       "    <tr>\n",
       "      <th>206</th>\n",
       "      <td>Jupyter Notebook</td>\n",
       "      <td>natural_gas</td>\n",
       "      <td>jamesbews/ENSF-519</td>\n",
       "      <td># ENSF-519\\nENSF 519 Natural Gas Pricing Machi...</td>\n",
       "      <td>[ensf519, ensf, 519, natural, gas, pricing, ma...</td>\n",
       "      <td>ensf519 ensf 519 natur ga price machin learn</td>\n",
       "      <td>ensf519 ensf 519 natural gas pricing machine l...</td>\n",
       "      <td>8</td>\n",
       "    </tr>\n",
       "    <tr>\n",
       "      <th>207</th>\n",
       "      <td>Jupyter Notebook</td>\n",
       "      <td>natural_gas</td>\n",
       "      <td>caoxiaole/Natural-gas-consumption-in-American-...</td>\n",
       "      <td># Natural-gas-consumption-in-American-families...</td>\n",
       "      <td>[naturalgasconsumptioninamericanfamilies, usin...</td>\n",
       "      <td>naturalgasconsumptioninamericanfamili use pyth...</td>\n",
       "      <td>naturalgasconsumptioninamericanfamilies using ...</td>\n",
       "      <td>18</td>\n",
       "    </tr>\n",
       "    <tr>\n",
       "      <th>210</th>\n",
       "      <td>Python</td>\n",
       "      <td>natural_gas</td>\n",
       "      <td>fernandessfae/Evolucao-da-producao-de-gas-natu...</td>\n",
       "      <td># Projeto DataScience - Evolução da produção d...</td>\n",
       "      <td>[projeto, datascience, evoluo, da, produo, de,...</td>\n",
       "      <td>projeto datasci evoluo da produo de gs natur p...</td>\n",
       "      <td>projeto datascience evoluo da produo de g natu...</td>\n",
       "      <td>272</td>\n",
       "    </tr>\n",
       "    <tr>\n",
       "      <th>213</th>\n",
       "      <td>JavaScript</td>\n",
       "      <td>natural_gas</td>\n",
       "      <td>leytzher/oil-price</td>\n",
       "      <td># oil-price\\nGet latest oil (WTI and Brent) an...</td>\n",
       "      <td>[oilprice, get, latest, oil, wti, and, brent, ...</td>\n",
       "      <td>oilpric get latest oil wti brent natur ga price</td>\n",
       "      <td>oilprice get latest oil wti brent natural gas ...</td>\n",
       "      <td>9</td>\n",
       "    </tr>\n",
       "  </tbody>\n",
       "</table>\n",
       "<p>118 rows × 8 columns</p>\n",
       "</div>"
      ],
      "text/plain": [
       "             language      category  \\\n",
       "0              Python  solar_energy   \n",
       "1              Python  solar_energy   \n",
       "2              Python  solar_energy   \n",
       "8              Python  solar_energy   \n",
       "9              Python  solar_energy   \n",
       "..                ...           ...   \n",
       "204        JavaScript   natural_gas   \n",
       "206  Jupyter Notebook   natural_gas   \n",
       "207  Jupyter Notebook   natural_gas   \n",
       "210            Python   natural_gas   \n",
       "213        JavaScript   natural_gas   \n",
       "\n",
       "                                                  repo  \\\n",
       "0    ColasGael/Machine-Learning-for-Solar-Energy-Pr...   \n",
       "1                                     meltaxa/solariot   \n",
       "2                                renewables-ninja/gsee   \n",
       "8         sibyjackgrove/SolarPV-DER-simulation-utility   \n",
       "9                                zygmuntz/kaggle-solar   \n",
       "..                                                 ...   \n",
       "204                           mariorodeghiero/datopian   \n",
       "206                                 jamesbews/ENSF-519   \n",
       "207  caoxiaole/Natural-gas-consumption-in-American-...   \n",
       "210  fernandessfae/Evolucao-da-producao-de-gas-natu...   \n",
       "213                                 leytzher/oil-price   \n",
       "\n",
       "                                       readme_contents  \\\n",
       "0    # Machine-Learning-for-Solar-Energy-Prediction...   \n",
       "1    # Solariot\\n\\nLeverage your IoT enabled Solar ...   \n",
       "2    [![Master branch build status](https://img.shi...   \n",
       "8    **Status:** Expect regular updates and bug fix...   \n",
       "9    kaggle-solar\\n============\\n\\nSee [http://fast...   \n",
       "..                                                 ...   \n",
       "204  <div align=\"center\">\\n\\n<p>Check online <a hre...   \n",
       "206  # ENSF-519\\nENSF 519 Natural Gas Pricing Machi...   \n",
       "207  # Natural-gas-consumption-in-American-families...   \n",
       "210  # Projeto DataScience - Evolução da produção d...   \n",
       "213  # oil-price\\nGet latest oil (WTI and Brent) an...   \n",
       "\n",
       "                                           clean_tokes  \\\n",
       "0    [machinelearningforsolarenergyprediction, by, ...   \n",
       "1    [solariot, leverage, your, iot, enabled, solar...   \n",
       "2    [master, branch, build, statushttpsimgshieldsi...   \n",
       "8    [status, expect, regular, updates, and, bug, f...   \n",
       "9    [kagglesolar, see, httpfastmlcompredictingsola...   \n",
       "..                                                 ...   \n",
       "204  [div, aligncenter, pcheck, online, a, hrefhttp...   \n",
       "206  [ensf519, ensf, 519, natural, gas, pricing, ma...   \n",
       "207  [naturalgasconsumptioninamericanfamilies, usin...   \n",
       "210  [projeto, datascience, evoluo, da, produo, de,...   \n",
       "213  [oilprice, get, latest, oil, wti, and, brent, ...   \n",
       "\n",
       "                                         clean_stemmed  \\\n",
       "0    machinelearningforsolarenergypredict adel kuzm...   \n",
       "1    solariot leverag iot enabl solar pv invert str...   \n",
       "2    master branch build statushttpsimgshieldsioazu...   \n",
       "8    statu expect regular updat bug fix util simul ...   \n",
       "9    kagglesolar see httpfastmlcompredictingsolaren...   \n",
       "..                                                 ...   \n",
       "204  div aligncent pcheck onlin hrefhttpsmariorodeg...   \n",
       "206       ensf519 ensf 519 natur ga price machin learn   \n",
       "207  naturalgasconsumptioninamericanfamili use pyth...   \n",
       "210  projeto datasci evoluo da produo de gs natur p...   \n",
       "213    oilpric get latest oil wti brent natur ga price   \n",
       "\n",
       "                                      clean_lemmatized  word_count  \n",
       "0    machinelearningforsolarenergyprediction adele ...         123  \n",
       "1    solariot leverage iot enabled solar pv inverte...         410  \n",
       "2    master branch build statushttpsimgshieldsioazu...         127  \n",
       "8    status expect regular update bug fix utility s...         596  \n",
       "9    kagglesolar see httpfastmlcompredictingsolaren...          21  \n",
       "..                                                 ...         ...  \n",
       "204  div aligncenter pcheck online hrefhttpsmarioro...          99  \n",
       "206  ensf519 ensf 519 natural gas pricing machine l...           8  \n",
       "207  naturalgasconsumptioninamericanfamilies using ...          18  \n",
       "210  projeto datascience evoluo da produo de g natu...         272  \n",
       "213  oilprice get latest oil wti brent natural gas ...           9  \n",
       "\n",
       "[118 rows x 8 columns]"
      ]
     },
     "execution_count": 290,
     "metadata": {},
     "output_type": "execute_result"
    }
   ],
   "source": [
    "top_4_lang_df"
   ]
  },
  {
   "cell_type": "code",
   "execution_count": 272,
   "metadata": {},
   "outputs": [
    {
     "data": {
      "text/plain": [
       "language\n",
       "Python              266.214286\n",
       "C++                 236.923077\n",
       "HTML                192.357143\n",
       "MATLAB              176.750000\n",
       "C                   174.285714\n",
       "Jupyter Notebook    155.108108\n",
       "JavaScript          128.000000\n",
       "R                   112.750000\n",
       "CSS                  99.000000\n",
       "Java                 97.812500\n",
       "PHP                  89.375000\n",
       "Name: word_count, dtype: float64"
      ]
     },
     "execution_count": 272,
     "metadata": {},
     "output_type": "execute_result"
    }
   ],
   "source": [
    "top_lang_wordcount = df.groupby('language').word_count\\\n",
    "                        .mean().sort_values(ascending=False)\n",
    "top_lang_wordcount"
   ]
  },
  {
   "cell_type": "code",
   "execution_count": 273,
   "metadata": {},
   "outputs": [
    {
     "data": {
      "image/png": "[encoded data removed]",
      "text/plain": [
       "<Figure size 1008x576 with 1 Axes>"
      ]
     },
     "metadata": {
      "needs_background": "light"
     },
     "output_type": "display_data"
    }
   ],
   "source": [
    "ax = sns.barplot(x=top_lang_wordcount.values, \n",
    "                 y=top_lang_wordcount.index)\n",
    "ax.set(title='Wordcount of Top 10 Languages', xlabel='Word Count', \n",
    "      ylabel='')\n",
    "plt.show()"
   ]
  },
  {
   "cell_type": "code",
   "execution_count": 274,
   "metadata": {},
   "outputs": [
    {
     "data": {
      "text/html": [
       "<div>\n",
       "<style scoped>\n",
       "    .dataframe tbody tr th:only-of-type {\n",
       "        vertical-align: middle;\n",
       "    }\n",
       "\n",
       "    .dataframe tbody tr th {\n",
       "        vertical-align: top;\n",
       "    }\n",
       "\n",
       "    .dataframe thead th {\n",
       "        text-align: right;\n",
       "    }\n",
       "</style>\n",
       "<table border=\"1\" class=\"dataframe\">\n",
       "  <thead>\n",
       "    <tr style=\"text-align: right;\">\n",
       "      <th></th>\n",
       "      <th>language</th>\n",
       "      <th>category</th>\n",
       "      <th>repo</th>\n",
       "      <th>readme_contents</th>\n",
       "      <th>clean_tokes</th>\n",
       "      <th>clean_stemmed</th>\n",
       "      <th>clean_lemmatized</th>\n",
       "      <th>word_count</th>\n",
       "    </tr>\n",
       "  </thead>\n",
       "  <tbody>\n",
       "    <tr>\n",
       "      <th>0</th>\n",
       "      <td>Python</td>\n",
       "      <td>solar_energy</td>\n",
       "      <td>ColasGael/Machine-Learning-for-Solar-Energy-Pr...</td>\n",
       "      <td># Machine-Learning-for-Solar-Energy-Prediction...</td>\n",
       "      <td>[machinelearningforsolarenergyprediction, by, ...</td>\n",
       "      <td>machinelearningforsolarenergypredict adel kuzm...</td>\n",
       "      <td>machinelearningforsolarenergyprediction adele ...</td>\n",
       "      <td>123</td>\n",
       "    </tr>\n",
       "    <tr>\n",
       "      <th>1</th>\n",
       "      <td>Python</td>\n",
       "      <td>solar_energy</td>\n",
       "      <td>meltaxa/solariot</td>\n",
       "      <td># Solariot\\n\\nLeverage your IoT enabled Solar ...</td>\n",
       "      <td>[solariot, leverage, your, iot, enabled, solar...</td>\n",
       "      <td>solariot leverag iot enabl solar pv invert str...</td>\n",
       "      <td>solariot leverage iot enabled solar pv inverte...</td>\n",
       "      <td>410</td>\n",
       "    </tr>\n",
       "    <tr>\n",
       "      <th>2</th>\n",
       "      <td>Python</td>\n",
       "      <td>solar_energy</td>\n",
       "      <td>renewables-ninja/gsee</td>\n",
       "      <td>[![Master branch build status](https://img.shi...</td>\n",
       "      <td>[master, branch, build, statushttpsimgshieldsi...</td>\n",
       "      <td>master branch build statushttpsimgshieldsioazu...</td>\n",
       "      <td>master branch build statushttpsimgshieldsioazu...</td>\n",
       "      <td>127</td>\n",
       "    </tr>\n",
       "    <tr>\n",
       "      <th>3</th>\n",
       "      <td>C++</td>\n",
       "      <td>solar_energy</td>\n",
       "      <td>3KUdelta/Solar_WiFi_Weather_Station</td>\n",
       "      <td># Zambretti Forecaster on Solar WiFi Weather S...</td>\n",
       "      <td>[zambretti, forecaster, on, solar, wifi, weath...</td>\n",
       "      <td>zambretti forecast solar wifi weather station ...</td>\n",
       "      <td>zambretti forecaster solar wifi weather statio...</td>\n",
       "      <td>224</td>\n",
       "    </tr>\n",
       "    <tr>\n",
       "      <th>4</th>\n",
       "      <td>R</td>\n",
       "      <td>solar_energy</td>\n",
       "      <td>ropensci/nasapower</td>\n",
       "      <td>\\n[![R build status](https://github.com/ropens...</td>\n",
       "      <td>[r, build, statushttpsgithubcomropenscinasapow...</td>\n",
       "      <td>r build statushttpsgithubcomropenscinasapowerw...</td>\n",
       "      <td>r build statushttpsgithubcomropenscinasapowerw...</td>\n",
       "      <td>402</td>\n",
       "    </tr>\n",
       "    <tr>\n",
       "      <th>...</th>\n",
       "      <td>...</td>\n",
       "      <td>...</td>\n",
       "      <td>...</td>\n",
       "      <td>...</td>\n",
       "      <td>...</td>\n",
       "      <td>...</td>\n",
       "      <td>...</td>\n",
       "      <td>...</td>\n",
       "    </tr>\n",
       "    <tr>\n",
       "      <th>209</th>\n",
       "      <td>C++</td>\n",
       "      <td>natural_gas</td>\n",
       "      <td>reyhancaba/Natural-Gas-Detector-Circuit-Using-...</td>\n",
       "      <td># Natural-Gas-Detector-Circuit-Using-An-Arduin...</td>\n",
       "      <td>[naturalgasdetectorcircuitusinganarduinouno, b...</td>\n",
       "      <td>naturalgasdetectorcircuitusinganarduinouno bu ...</td>\n",
       "      <td>naturalgasdetectorcircuitusinganarduinouno bu ...</td>\n",
       "      <td>62</td>\n",
       "    </tr>\n",
       "    <tr>\n",
       "      <th>210</th>\n",
       "      <td>Python</td>\n",
       "      <td>natural_gas</td>\n",
       "      <td>fernandessfae/Evolucao-da-producao-de-gas-natu...</td>\n",
       "      <td># Projeto DataScience - Evolução da produção d...</td>\n",
       "      <td>[projeto, datascience, evoluo, da, produo, de,...</td>\n",
       "      <td>projeto datasci evoluo da produo de gs natur p...</td>\n",
       "      <td>projeto datascience evoluo da produo de g natu...</td>\n",
       "      <td>272</td>\n",
       "    </tr>\n",
       "    <tr>\n",
       "      <th>211</th>\n",
       "      <td>MATLAB</td>\n",
       "      <td>natural_gas</td>\n",
       "      <td>chaiitanyasangani88/OperationalFlowRateVariation</td>\n",
       "      <td># OperationalFlowCaseStudy\\nA detailed study a...</td>\n",
       "      <td>[operationalflowcasestudy, a, detailed, study,...</td>\n",
       "      <td>operationalflowcasestudi detail studi oper flo...</td>\n",
       "      <td>operationalflowcasestudy detailed study operat...</td>\n",
       "      <td>109</td>\n",
       "    </tr>\n",
       "    <tr>\n",
       "      <th>212</th>\n",
       "      <td>R</td>\n",
       "      <td>natural_gas</td>\n",
       "      <td>jaburney/naturalgastransition</td>\n",
       "      <td>## Coal-to-Natural Gas Transition Impacts Anal...</td>\n",
       "      <td>[coaltonatural, gas, transition, impacts, anal...</td>\n",
       "      <td>coaltonatur ga transit impact analysi thi repo...</td>\n",
       "      <td>coaltonatural gas transition impact analysis r...</td>\n",
       "      <td>224</td>\n",
       "    </tr>\n",
       "    <tr>\n",
       "      <th>213</th>\n",
       "      <td>JavaScript</td>\n",
       "      <td>natural_gas</td>\n",
       "      <td>leytzher/oil-price</td>\n",
       "      <td># oil-price\\nGet latest oil (WTI and Brent) an...</td>\n",
       "      <td>[oilprice, get, latest, oil, wti, and, brent, ...</td>\n",
       "      <td>oilpric get latest oil wti brent natur ga price</td>\n",
       "      <td>oilprice get latest oil wti brent natural gas ...</td>\n",
       "      <td>9</td>\n",
       "    </tr>\n",
       "  </tbody>\n",
       "</table>\n",
       "<p>179 rows × 8 columns</p>\n",
       "</div>"
      ],
      "text/plain": [
       "       language      category  \\\n",
       "0        Python  solar_energy   \n",
       "1        Python  solar_energy   \n",
       "2        Python  solar_energy   \n",
       "3           C++  solar_energy   \n",
       "4             R  solar_energy   \n",
       "..          ...           ...   \n",
       "209         C++   natural_gas   \n",
       "210      Python   natural_gas   \n",
       "211      MATLAB   natural_gas   \n",
       "212           R   natural_gas   \n",
       "213  JavaScript   natural_gas   \n",
       "\n",
       "                                                  repo  \\\n",
       "0    ColasGael/Machine-Learning-for-Solar-Energy-Pr...   \n",
       "1                                     meltaxa/solariot   \n",
       "2                                renewables-ninja/gsee   \n",
       "3                  3KUdelta/Solar_WiFi_Weather_Station   \n",
       "4                                   ropensci/nasapower   \n",
       "..                                                 ...   \n",
       "209  reyhancaba/Natural-Gas-Detector-Circuit-Using-...   \n",
       "210  fernandessfae/Evolucao-da-producao-de-gas-natu...   \n",
       "211   chaiitanyasangani88/OperationalFlowRateVariation   \n",
       "212                      jaburney/naturalgastransition   \n",
       "213                                 leytzher/oil-price   \n",
       "\n",
       "                                       readme_contents  \\\n",
       "0    # Machine-Learning-for-Solar-Energy-Prediction...   \n",
       "1    # Solariot\\n\\nLeverage your IoT enabled Solar ...   \n",
       "2    [![Master branch build status](https://img.shi...   \n",
       "3    # Zambretti Forecaster on Solar WiFi Weather S...   \n",
       "4    \\n[![R build status](https://github.com/ropens...   \n",
       "..                                                 ...   \n",
       "209  # Natural-Gas-Detector-Circuit-Using-An-Arduin...   \n",
       "210  # Projeto DataScience - Evolução da produção d...   \n",
       "211  # OperationalFlowCaseStudy\\nA detailed study a...   \n",
       "212  ## Coal-to-Natural Gas Transition Impacts Anal...   \n",
       "213  # oil-price\\nGet latest oil (WTI and Brent) an...   \n",
       "\n",
       "                                           clean_tokes  \\\n",
       "0    [machinelearningforsolarenergyprediction, by, ...   \n",
       "1    [solariot, leverage, your, iot, enabled, solar...   \n",
       "2    [master, branch, build, statushttpsimgshieldsi...   \n",
       "3    [zambretti, forecaster, on, solar, wifi, weath...   \n",
       "4    [r, build, statushttpsgithubcomropenscinasapow...   \n",
       "..                                                 ...   \n",
       "209  [naturalgasdetectorcircuitusinganarduinouno, b...   \n",
       "210  [projeto, datascience, evoluo, da, produo, de,...   \n",
       "211  [operationalflowcasestudy, a, detailed, study,...   \n",
       "212  [coaltonatural, gas, transition, impacts, anal...   \n",
       "213  [oilprice, get, latest, oil, wti, and, brent, ...   \n",
       "\n",
       "                                         clean_stemmed  \\\n",
       "0    machinelearningforsolarenergypredict adel kuzm...   \n",
       "1    solariot leverag iot enabl solar pv invert str...   \n",
       "2    master branch build statushttpsimgshieldsioazu...   \n",
       "3    zambretti forecast solar wifi weather station ...   \n",
       "4    r build statushttpsgithubcomropenscinasapowerw...   \n",
       "..                                                 ...   \n",
       "209  naturalgasdetectorcircuitusinganarduinouno bu ...   \n",
       "210  projeto datasci evoluo da produo de gs natur p...   \n",
       "211  operationalflowcasestudi detail studi oper flo...   \n",
       "212  coaltonatur ga transit impact analysi thi repo...   \n",
       "213    oilpric get latest oil wti brent natur ga price   \n",
       "\n",
       "                                      clean_lemmatized  word_count  \n",
       "0    machinelearningforsolarenergyprediction adele ...         123  \n",
       "1    solariot leverage iot enabled solar pv inverte...         410  \n",
       "2    master branch build statushttpsimgshieldsioazu...         127  \n",
       "3    zambretti forecaster solar wifi weather statio...         224  \n",
       "4    r build statushttpsgithubcomropenscinasapowerw...         402  \n",
       "..                                                 ...         ...  \n",
       "209  naturalgasdetectorcircuitusinganarduinouno bu ...          62  \n",
       "210  projeto datascience evoluo da produo de g natu...         272  \n",
       "211  operationalflowcasestudy detailed study operat...         109  \n",
       "212  coaltonatural gas transition impact analysis r...         224  \n",
       "213  oilprice get latest oil wti brent natural gas ...           9  \n",
       "\n",
       "[179 rows x 8 columns]"
      ]
     },
     "execution_count": 274,
     "metadata": {},
     "output_type": "execute_result"
    }
   ],
   "source": [
    "top_lang_df"
   ]
  },
  {
   "cell_type": "code",
   "execution_count": 291,
   "metadata": {},
   "outputs": [
    {
     "data": {
      "text/html": [
       "<div>\n",
       "<style scoped>\n",
       "    .dataframe tbody tr th:only-of-type {\n",
       "        vertical-align: middle;\n",
       "    }\n",
       "\n",
       "    .dataframe tbody tr th {\n",
       "        vertical-align: top;\n",
       "    }\n",
       "\n",
       "    .dataframe thead th {\n",
       "        text-align: right;\n",
       "    }\n",
       "</style>\n",
       "<table border=\"1\" class=\"dataframe\">\n",
       "  <thead>\n",
       "    <tr style=\"text-align: right;\">\n",
       "      <th></th>\n",
       "      <th>repo</th>\n",
       "      <th>language</th>\n",
       "      <th>clean_lemmatized</th>\n",
       "    </tr>\n",
       "  </thead>\n",
       "  <tbody>\n",
       "    <tr>\n",
       "      <th>0</th>\n",
       "      <td>ColasGael/Machine-Learning-for-Solar-Energy-Pr...</td>\n",
       "      <td>Python</td>\n",
       "      <td>machinelearningforsolarenergyprediction adele ...</td>\n",
       "    </tr>\n",
       "    <tr>\n",
       "      <th>1</th>\n",
       "      <td>meltaxa/solariot</td>\n",
       "      <td>Python</td>\n",
       "      <td>solariot leverage iot enabled solar pv inverte...</td>\n",
       "    </tr>\n",
       "    <tr>\n",
       "      <th>2</th>\n",
       "      <td>renewables-ninja/gsee</td>\n",
       "      <td>Python</td>\n",
       "      <td>master branch build statushttpsimgshieldsioazu...</td>\n",
       "    </tr>\n",
       "    <tr>\n",
       "      <th>8</th>\n",
       "      <td>sibyjackgrove/SolarPV-DER-simulation-utility</td>\n",
       "      <td>Python</td>\n",
       "      <td>status expect regular update bug fix utility s...</td>\n",
       "    </tr>\n",
       "    <tr>\n",
       "      <th>9</th>\n",
       "      <td>zygmuntz/kaggle-solar</td>\n",
       "      <td>Python</td>\n",
       "      <td>kagglesolar see httpfastmlcompredictingsolaren...</td>\n",
       "    </tr>\n",
       "    <tr>\n",
       "      <th>...</th>\n",
       "      <td>...</td>\n",
       "      <td>...</td>\n",
       "      <td>...</td>\n",
       "    </tr>\n",
       "    <tr>\n",
       "      <th>204</th>\n",
       "      <td>mariorodeghiero/datopian</td>\n",
       "      <td>JavaScript</td>\n",
       "      <td>div aligncenter pcheck online hrefhttpsmarioro...</td>\n",
       "    </tr>\n",
       "    <tr>\n",
       "      <th>206</th>\n",
       "      <td>jamesbews/ENSF-519</td>\n",
       "      <td>Jupyter Notebook</td>\n",
       "      <td>ensf519 ensf 519 natural gas pricing machine l...</td>\n",
       "    </tr>\n",
       "    <tr>\n",
       "      <th>207</th>\n",
       "      <td>caoxiaole/Natural-gas-consumption-in-American-...</td>\n",
       "      <td>Jupyter Notebook</td>\n",
       "      <td>naturalgasconsumptioninamericanfamilies using ...</td>\n",
       "    </tr>\n",
       "    <tr>\n",
       "      <th>210</th>\n",
       "      <td>fernandessfae/Evolucao-da-producao-de-gas-natu...</td>\n",
       "      <td>Python</td>\n",
       "      <td>projeto datascience evoluo da produo de g natu...</td>\n",
       "    </tr>\n",
       "    <tr>\n",
       "      <th>213</th>\n",
       "      <td>leytzher/oil-price</td>\n",
       "      <td>JavaScript</td>\n",
       "      <td>oilprice get latest oil wti brent natural gas ...</td>\n",
       "    </tr>\n",
       "  </tbody>\n",
       "</table>\n",
       "<p>118 rows × 3 columns</p>\n",
       "</div>"
      ],
      "text/plain": [
       "                                                  repo          language  \\\n",
       "0    ColasGael/Machine-Learning-for-Solar-Energy-Pr...            Python   \n",
       "1                                     meltaxa/solariot            Python   \n",
       "2                                renewables-ninja/gsee            Python   \n",
       "8         sibyjackgrove/SolarPV-DER-simulation-utility            Python   \n",
       "9                                zygmuntz/kaggle-solar            Python   \n",
       "..                                                 ...               ...   \n",
       "204                           mariorodeghiero/datopian        JavaScript   \n",
       "206                                 jamesbews/ENSF-519  Jupyter Notebook   \n",
       "207  caoxiaole/Natural-gas-consumption-in-American-...  Jupyter Notebook   \n",
       "210  fernandessfae/Evolucao-da-producao-de-gas-natu...            Python   \n",
       "213                                 leytzher/oil-price        JavaScript   \n",
       "\n",
       "                                      clean_lemmatized  \n",
       "0    machinelearningforsolarenergyprediction adele ...  \n",
       "1    solariot leverage iot enabled solar pv inverte...  \n",
       "2    master branch build statushttpsimgshieldsioazu...  \n",
       "8    status expect regular update bug fix utility s...  \n",
       "9    kagglesolar see httpfastmlcompredictingsolaren...  \n",
       "..                                                 ...  \n",
       "204  div aligncenter pcheck online hrefhttpsmarioro...  \n",
       "206  ensf519 ensf 519 natural gas pricing machine l...  \n",
       "207  naturalgasconsumptioninamericanfamilies using ...  \n",
       "210  projeto datascience evoluo da produo de g natu...  \n",
       "213  oilprice get latest oil wti brent natural gas ...  \n",
       "\n",
       "[118 rows x 3 columns]"
      ]
     },
     "execution_count": 291,
     "metadata": {},
     "output_type": "execute_result"
    }
   ],
   "source": [
    "documents = df[['repo','language', 'clean_lemmatized']]\n",
    "documents_top = top_lang_df[['repo','language', 'clean_lemmatized']]\n",
    "documents_top_4 = top_4_lang_df[['repo','language', 'clean_lemmatized']]\n",
    "documents_top_4"
   ]
  },
  {
   "cell_type": "markdown",
   "metadata": {},
   "source": [
    "## All"
   ]
  },
  {
   "cell_type": "code",
   "execution_count": 410,
   "metadata": {},
   "outputs": [],
   "source": [
    "tfidf = TfidfVectorizer()\n",
    "X = tfidf.fit_transform(documents.clean_lemmatized)\n",
    "y = documents.language\n",
    "\n",
    "X_train, X_test, y_train, y_test = train_test_split(X, y, \n",
    "                        random_state=42, stratify=y, train_size=.7)\n",
    "\n",
    "train = pd.DataFrame(dict(actual=y_train))\n",
    "test = pd.DataFrame(dict(actual=y_test))\n",
    "\n",
    "# lm = LogisticRegression().fit(X_train, y_train)\n",
    "# model = DecisionTreeClassifier(max_depth=6, random_state=42)\\\n",
    "#                             .fit(X_train, y_train)\n",
    "# model = RandomForestClassifier(random_state=42, min_samples_leaf=2,\n",
    "#                             max_depth=6).fit(X_train, y_train)\n",
    "model = KNeighborsClassifier().fit(X_train, y_train)\n",
    "\n",
    "train['predicted'] = model.predict(X_train)\n",
    "test['predicted'] = model.predict(X_test)"
   ]
  },
  {
   "cell_type": "code",
   "execution_count": 411,
   "metadata": {},
   "outputs": [
    {
     "name": "stdout",
     "output_type": "stream",
     "text": [
      "                  precision    recall  f1-score   support\n",
      "\n",
      "               C       0.31      0.80      0.44         5\n",
      "             C++       0.67      0.44      0.53         9\n",
      "             CSS       0.71      0.71      0.71         7\n",
      "            HTML       0.27      0.30      0.29        10\n",
      "            Java       1.00      0.55      0.71        11\n",
      "      JavaScript       0.73      0.69      0.71        16\n",
      "Jupyter Notebook       0.65      0.85      0.73        26\n",
      "          MATLAB       0.00      0.00      0.00         8\n",
      "             PHP       0.00      0.00      0.00         6\n",
      "          Python       0.60      0.83      0.70        29\n",
      "               R       1.00      0.17      0.29         6\n",
      "\n",
      "        accuracy                           0.60       133\n",
      "       macro avg       0.54      0.48      0.46       133\n",
      "    weighted avg       0.59      0.60      0.56       133\n",
      "\n"
     ]
    },
    {
     "name": "stderr",
     "output_type": "stream",
     "text": [
      "/usr/local/anaconda3/lib/python3.7/site-packages/sklearn/metrics/_classification.py:1272: UndefinedMetricWarning: Precision and F-score are ill-defined and being set to 0.0 in labels with no predicted samples. Use `zero_division` parameter to control this behavior.\n",
      "  _warn_prf(average, modifier, msg_start, len(result))\n"
     ]
    }
   ],
   "source": [
    "print(classification_report(train.actual, train.predicted))"
   ]
  },
  {
   "cell_type": "code",
   "execution_count": 412,
   "metadata": {},
   "outputs": [
    {
     "name": "stdout",
     "output_type": "stream",
     "text": [
      "                  precision    recall  f1-score   support\n",
      "\n",
      "               C       0.00      0.00      0.00         2\n",
      "             C++       0.20      0.25      0.22         4\n",
      "             CSS       0.00      0.00      0.00         3\n",
      "            HTML       0.00      0.00      0.00         4\n",
      "            Java       0.33      0.20      0.25         5\n",
      "      JavaScript       0.29      0.29      0.29         7\n",
      "Jupyter Notebook       0.25      0.27      0.26        11\n",
      "          MATLAB       0.00      0.00      0.00         4\n",
      "             PHP       0.00      0.00      0.00         2\n",
      "          Python       0.25      0.38      0.30        13\n",
      "               R       0.00      0.00      0.00         2\n",
      "\n",
      "        accuracy                           0.21        57\n",
      "       macro avg       0.12      0.13      0.12        57\n",
      "    weighted avg       0.18      0.21      0.19        57\n",
      "\n"
     ]
    }
   ],
   "source": [
    "print(classification_report(test.actual, test.predicted))"
   ]
  },
  {
   "cell_type": "markdown",
   "metadata": {},
   "source": [
    "## Top 4"
   ]
  },
  {
   "cell_type": "code",
   "execution_count": 407,
   "metadata": {},
   "outputs": [],
   "source": [
    "tfidf = TfidfVectorizer()\n",
    "X = tfidf.fit_transform(documents_top_4.clean_lemmatized)\n",
    "y = documents_top_4.language\n",
    "\n",
    "X_train, X_test, y_train, y_test = train_test_split(X, y, \n",
    "                        stratify=y, train_size=.7, random_state=42)\n",
    "\n",
    "train = pd.DataFrame(dict(actual=y_train))\n",
    "test = pd.DataFrame(dict(actual=y_test))\n",
    "\n",
    "# model = LogisticRegression().fit(X_train, y_train)\n",
    "# model = DecisionTreeClassifier(max_depth=6, random_state=42)\\\n",
    "#                             .fit(X_train, y_train)\n",
    "# model = RandomForestClassifier(random_state=42,min_samples_leaf=2,\n",
    "#                             max_depth=6).fit(X_train, y_train)\n",
    "model = KNeighborsClassifier().fit(X_train, y_train)\n",
    "\n",
    "\n",
    "train['predicted'] = model.predict(X_train)\n",
    "test['predicted'] = model.predict(X_test)"
   ]
  },
  {
   "cell_type": "code",
   "execution_count": 408,
   "metadata": {},
   "outputs": [
    {
     "name": "stdout",
     "output_type": "stream",
     "text": [
      "                  precision    recall  f1-score   support\n",
      "\n",
      "            Java       0.86      0.55      0.67        11\n",
      "      JavaScript       0.77      0.62      0.69        16\n",
      "Jupyter Notebook       0.57      0.81      0.67        26\n",
      "          Python       0.80      0.69      0.74        29\n",
      "\n",
      "        accuracy                           0.70        82\n",
      "       macro avg       0.75      0.67      0.69        82\n",
      "    weighted avg       0.73      0.70      0.70        82\n",
      "\n"
     ]
    }
   ],
   "source": [
    "print(classification_report(train.actual, train.predicted))"
   ]
  },
  {
   "cell_type": "code",
   "execution_count": 409,
   "metadata": {},
   "outputs": [
    {
     "name": "stdout",
     "output_type": "stream",
     "text": [
      "                  precision    recall  f1-score   support\n",
      "\n",
      "            Java       1.00      0.40      0.57         5\n",
      "      JavaScript       1.00      0.71      0.83         7\n",
      "Jupyter Notebook       0.56      0.82      0.67        11\n",
      "          Python       0.62      0.62      0.62        13\n",
      "\n",
      "        accuracy                           0.67        36\n",
      "       macro avg       0.79      0.64      0.67        36\n",
      "    weighted avg       0.73      0.67      0.67        36\n",
      "\n"
     ]
    }
   ],
   "source": [
    "print(classification_report(test.actual, test.predicted))"
   ]
  },
  {
   "cell_type": "code",
   "execution_count": null,
   "metadata": {},
   "outputs": [],
   "source": []
  },
  {
   "cell_type": "code",
   "execution_count": null,
   "metadata": {},
   "outputs": [],
   "source": []
  }
 ],
 "metadata": {
  "kernelspec": {
   "display_name": "Python 3",
   "language": "python",
   "name": "python3"
  },
  "language_info": {
   "codemirror_mode": {
    "name": "ipython",
    "version": 3
   },
   "file_extension": ".py",
   "mimetype": "text/x-python",
   "name": "python",
   "nbconvert_exporter": "python",
   "pygments_lexer": "ipython3",
   "version": "3.7.4"
  }
 },
 "nbformat": 4,
 "nbformat_minor": 2
}
