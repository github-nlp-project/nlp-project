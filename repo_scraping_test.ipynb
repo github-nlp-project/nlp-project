{
 "cells": [
  {
   "cell_type": "code",
   "execution_count": 1,
   "metadata": {},
   "outputs": [],
   "source": [
    "from requests import get\n",
    "from bs4 import BeautifulSoup\n",
    "import os\n",
    "import acquire\n",
    "import time\n",
    "import pandas as pd\n",
    "from env import github_token, github_username"
   ]
  },
  {
   "cell_type": "code",
   "execution_count": 2,
   "metadata": {},
   "outputs": [],
   "source": [
    "# pd.read_json('data.json')"
   ]
  },
  {
   "cell_type": "code",
   "execution_count": 3,
   "metadata": {},
   "outputs": [],
   "source": [
    "url = 'https://github.com/search?o=desc&p=1&q=petroleum&s=stars&type=Repositories'\n",
    "headers = {'User-Agent': 'manual search'} \n",
    "response = get(url, headers=headers)\n",
    "# print(response.status_code)\n",
    "soup = BeautifulSoup(response.content, 'html.parser')"
   ]
  },
  {
   "cell_type": "code",
   "execution_count": 4,
   "metadata": {},
   "outputs": [],
   "source": [
    "# rrr"
   ]
  },
  {
   "cell_type": "code",
   "execution_count": 5,
   "metadata": {},
   "outputs": [
    {
     "data": {
      "text/plain": [
       "'kinverarity1/lasio'"
      ]
     },
     "execution_count": 5,
     "metadata": {},
     "output_type": "execute_result"
    }
   ],
   "source": [
    "soup.find_all('a', class_='v-align-middle')[0].text"
   ]
  },
  {
   "cell_type": "code",
   "execution_count": 6,
   "metadata": {},
   "outputs": [],
   "source": [
    "def get_repo_names(url):\n",
    "    headers = {'User-Agent': 'manual search'} \n",
    "    response = get(url, headers=headers)\n",
    "    soup = BeautifulSoup(response.content, 'html.parser')\n",
    "    repos = []\n",
    "    for i in range(10):\n",
    "        repos.append(soup.find_all('a', class_='v-align-middle')\\\n",
    "                 [i].text)\n",
    "        time.sleep(1)\n",
    "    return repos"
   ]
  },
  {
   "cell_type": "code",
   "execution_count": 7,
   "metadata": {},
   "outputs": [],
   "source": [
    "# def get_repo_names(url):\n",
    "#     lm = pd.DataFrame()\n",
    "#     headers = {'User-Agent': 'manual search'} \n",
    "#     response = get(url, headers=headers)\n",
    "#     soup = BeautifulSoup(response.content, 'html.parser')\n",
    "#     for i in range(10):\n",
    "#         lm = lm.append([soup.find_all('a', class_='v-align-middle')\\\n",
    "#                        [i].text])\n",
    "#     return lm"
   ]
  },
  {
   "cell_type": "code",
   "execution_count": 8,
   "metadata": {},
   "outputs": [],
   "source": [
    "# url = 'https://github.com/search?o=desc&p=1&q=petroleum&s=stars&type=Repositories'\n",
    "# get_repo_names(url)"
   ]
  },
  {
   "cell_type": "code",
   "execution_count": 9,
   "metadata": {},
   "outputs": [
    {
     "data": {
      "text/plain": [
       "['https://github.com/search?o=desc&p=1&q=petroleum&s=stars&type=Repositories',\n",
       " 'https://github.com/search?o=desc&p=2&q=petroleum&s=stars&type=Repositories',\n",
       " 'https://github.com/search?o=desc&p=3&q=petroleum&s=stars&type=Repositories',\n",
       " 'https://github.com/search?o=desc&p=4&q=petroleum&s=stars&type=Repositories',\n",
       " 'https://github.com/search?o=desc&p=5&q=petroleum&s=stars&type=Repositories',\n",
       " 'https://github.com/search?o=desc&p=6&q=petroleum&s=stars&type=Repositories',\n",
       " 'https://github.com/search?o=desc&p=7&q=petroleum&s=stars&type=Repositories',\n",
       " 'https://github.com/search?o=desc&p=8&q=petroleum&s=stars&type=Repositories',\n",
       " 'https://github.com/search?o=desc&p=9&q=petroleum&s=stars&type=Repositories',\n",
       " 'https://github.com/search?o=desc&p=10&q=petroleum&s=stars&type=Repositories']"
      ]
     },
     "execution_count": 9,
     "metadata": {},
     "output_type": "execute_result"
    }
   ],
   "source": [
    "urls = [f'https://github.com/search?o=desc&p={i}\\\n",
    "&q=petroleum&s=stars&type=Repositories' for i in range(1,11)]\n",
    "urls"
   ]
  },
  {
   "cell_type": "code",
   "execution_count": 10,
   "metadata": {},
   "outputs": [],
   "source": [
    "# test = []\n",
    "# for url in urls:\n",
    "#     try:\n",
    "#         test += get_repo_names(url)\n",
    "#     except IndexError:\n",
    "#         break"
   ]
  },
  {
   "cell_type": "code",
   "execution_count": 11,
   "metadata": {},
   "outputs": [],
   "source": [
    "# len(test)"
   ]
  },
  {
   "cell_type": "code",
   "execution_count": 12,
   "metadata": {},
   "outputs": [
    {
     "data": {
      "text/plain": [
       "['Ahmed-Alhosany/OPA',\n",
       " 'lakhanimanan111/DataAnalysis_SemanticWeb',\n",
       " 'automaticweatherstation/Blog',\n",
       " 'bcgov/mem-mmti',\n",
       " 'lastqxw/petroleum',\n",
       " 'jmarcelogimenez/petroSym',\n",
       " 'VFedyaev/RedPetroleum',\n",
       " 'RancaUpasAbisKardel/PVT',\n",
       " 'GitAsura/petroleum',\n",
       " 'UmarGCPM/Petroleum']"
      ]
     },
     "execution_count": 12,
     "metadata": {},
     "output_type": "execute_result"
    }
   ],
   "source": [
    "get_repo_names(urls[9])"
   ]
  },
  {
   "cell_type": "code",
   "execution_count": 13,
   "metadata": {},
   "outputs": [],
   "source": [
    "# full = get_repo_names(urls[0])\n",
    "# full += get_repo_names(urls[1])\n",
    "# full += get_repo_names(urls[2])\n",
    "# full += get_repo_names(urls[3])\n",
    "# full += get_repo_names(urls[4])\n",
    "# full += get_repo_names(urls[5])\n",
    "# full += get_repo_names(urls[6])\n",
    "# full += get_repo_names(urls[7])\n",
    "# full += get_repo_names(urls[8])\n",
    "# full += get_repo_names(urls[9])"
   ]
  },
  {
   "cell_type": "code",
   "execution_count": 14,
   "metadata": {},
   "outputs": [],
   "source": [
    "# test = []\n",
    "# [test.append(get_repo_names(urls[i])) for i in range(3,6)]"
   ]
  },
  {
   "cell_type": "code",
   "execution_count": 15,
   "metadata": {},
   "outputs": [],
   "source": [
    "# test = []\n",
    "# for i, url in enumerate(urls):\n",
    "#     try:\n",
    "#         test += get_repo_names(url)\n",
    "#     except IndexError:\n",
    "#         break\n",
    "# test"
   ]
  },
  {
   "cell_type": "code",
   "execution_count": 16,
   "metadata": {},
   "outputs": [],
   "source": [
    "test = []\n",
    "for i, url in enumerate(urls):\n",
    "    test += get_repo_names(url)"
   ]
  },
  {
   "cell_type": "code",
   "execution_count": 17,
   "metadata": {},
   "outputs": [
    {
     "data": {
      "text/plain": [
       "100"
      ]
     },
     "execution_count": 17,
     "metadata": {},
     "output_type": "execute_result"
    }
   ],
   "source": [
    "len(test)"
   ]
  },
  {
   "cell_type": "code",
   "execution_count": 18,
   "metadata": {},
   "outputs": [
    {
     "data": {
      "text/plain": [
       "['kinverarity1/lasio',\n",
       " 'agile-geoscience/welly',\n",
       " 'akashlevy/Deep-Learn-Oil',\n",
       " 'Flaxbeard/ImmersivePetroleum',\n",
       " 'mutolisp/kh_pplines',\n",
       " 'mycarta/Data-science-tools-petroleum-exploration-and-production',\n",
       " 'GeostatisticsLessons/GeostatisticsLessonsNotebooks',\n",
       " 'f0nzie/rNodal',\n",
       " 'ICHEC/ExSeisDat',\n",
       " 'unifloc/unifloc_vba',\n",
       " 'Petroware/NpdIo',\n",
       " 'f0nzie/rNodal.oilwells',\n",
       " 'WaltXon/pytroleum',\n",
       " 'AnneEstoppey/EasyDataTools',\n",
       " 'ontop/npd-benchmark',\n",
       " 'mwentzWW/petrolpy',\n",
       " 'f0nzie/evolution_data_science_petroleum_engineering',\n",
       " 'f0nzie/vlp-bottomhole-algorithm',\n",
       " 'drceph/petroleumgenerator',\n",
       " 'fluidgeo/fluidgeo-simulator',\n",
       " 'petrocode/blackoilmsv',\n",
       " 'vehagn/tpg4155',\n",
       " 'aegis4048/Petroleum_Engineering',\n",
       " 'vishal-anand-1/Reservoir-recovery-prediction',\n",
       " 'ivarref/bp-diagrams',\n",
       " 'abhishekdbihani/synthetic_well-log_polynomial_regression',\n",
       " 'RaminMoghadasi/compsim',\n",
       " 'stephenjjohnson/PE_functions',\n",
       " 'SumedhaSingh/Petroleum-Price-Prediction-Model',\n",
       " 'samcot/Python-OpenServer',\n",
       " 'pedrolinhares/Turtle-Flow-Simulator',\n",
       " 'jordann124/esx_petroleum',\n",
       " 'ovalles/PyPetroleum',\n",
       " 'Ekeopara-Praise/Petroleum-Engineering',\n",
       " 'duwalanise/reactriot2017-fillmeup',\n",
       " 'danielbarr3ra/Petroleum_Enginering_Codes',\n",
       " 'ishita159/petroleum_review_system',\n",
       " 'manjunath5496/Petroleum-Engineering-Books',\n",
       " 'm2b/API11_1VCF',\n",
       " 'equinor/OpenServer',\n",
       " 'einar90/tpg4162',\n",
       " 'zentechnologygroup/libzen',\n",
       " 'kmcken/PetroThermo',\n",
       " 'rufuspollock/shell-oil-spills-niger-delta',\n",
       " 'oilmap/oilmap',\n",
       " 'swati1024/torrents',\n",
       " 'f0nzie/data_science_ptech',\n",
       " 'simulkade/peteng',\n",
       " 'stackyism/hpcl_support',\n",
       " 'Eshichi/Petroleum',\n",
       " 'salmansust/MachineLearning-TSF-PetroleumProduction',\n",
       " 'ecate/petroleum',\n",
       " 'jcamiloangarita/petrodc',\n",
       " 'gagetyrussell/petroleum_engineering',\n",
       " 'xinyuyao22/Petroleum_consumed',\n",
       " 'swethababurao/BritishPetroleum',\n",
       " 'navjotwarade/National-Petroleum',\n",
       " 'southernstatespetroleum/Southern-States-Petroleum',\n",
       " 'paip/dark-petroleum-atom-syntax',\n",
       " 'theone9807/Forecasting-Price-Petroleum-Products',\n",
       " 'pally-dspet/Petroleum-MachineLearning',\n",
       " 'rezaGIS/OpenPetroleumMVC',\n",
       " 'shwrthy/Petroleum-Engineering-Rock-Mechanics',\n",
       " 'almersawi/IPR',\n",
       " 'liuyibox/ML-aided-Petroleum-Production-Predictor',\n",
       " 'ParthKhanna07/HackFest2k19',\n",
       " 'SEPC/Journal-of-Petroleum-Science-Research',\n",
       " 'hackettma/CIRES-PETRO',\n",
       " 'lasma/epsg',\n",
       " 'kylesarre/Reverse-Auction',\n",
       " 'anandvaibhav/FormulaDeck',\n",
       " 'Bingohong/PE-DataMining',\n",
       " 'kylesarre/Reverse-Auction',\n",
       " 'rashidwadani/Decline_Curve_Analysis_Tool',\n",
       " 'MosGeo/BPSMAutoToolbox',\n",
       " 'doneria-anjali/genome',\n",
       " 'huiyi-outsourcing/diagram',\n",
       " 'AhGhazey/DirectionalWellPlanning',\n",
       " 'reallysaurabh/Optimization-Problems',\n",
       " 'dummybigjj/sis',\n",
       " 'EndangeredF1sh/upccrawler',\n",
       " 'EdwaRen/Black-Gold',\n",
       " 'ssicard/well-mapping',\n",
       " 'hellopteromyini/Cutting-edge-technology-RNN-introduction',\n",
       " 'lehoangha/tomo2d_HeriotWatt',\n",
       " 'softlandia/glasio',\n",
       " 'AmDeep/Advanced-Process-Control-Project',\n",
       " 'stchoukeu/transport',\n",
       " 'cjayidoko/AAPG_Hackaton',\n",
       " 'CLIRIK/Grinding-Mill',\n",
       " 'Ahmed-Alhosany/OPA',\n",
       " 'lakhanimanan111/DataAnalysis_SemanticWeb',\n",
       " 'automaticweatherstation/Blog',\n",
       " 'bcgov/mem-mmti',\n",
       " 'lastqxw/petroleum',\n",
       " 'jmarcelogimenez/petroSym',\n",
       " 'VFedyaev/RedPetroleum',\n",
       " 'RancaUpasAbisKardel/PVT',\n",
       " 'GitAsura/petroleum',\n",
       " 'yousuf190/Petroleum']"
      ]
     },
     "execution_count": 18,
     "metadata": {},
     "output_type": "execute_result"
    }
   ],
   "source": [
    "test"
   ]
  },
  {
   "cell_type": "code",
   "execution_count": null,
   "metadata": {},
   "outputs": [],
   "source": []
  }
 ],
 "metadata": {
  "kernelspec": {
   "display_name": "Python 3",
   "language": "python",
   "name": "python3"
  },
  "language_info": {
   "codemirror_mode": {
    "name": "ipython",
    "version": 3
   },
   "file_extension": ".py",
   "mimetype": "text/x-python",
   "name": "python",
   "nbconvert_exporter": "python",
   "pygments_lexer": "ipython3",
   "version": "3.7.4"
  }
 },
 "nbformat": 4,
 "nbformat_minor": 2
}
